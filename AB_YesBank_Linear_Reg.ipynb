{
  "nbformat": 4,
  "nbformat_minor": 0,
  "metadata": {
    "colab": {
      "private_outputs": true,
      "provenance": [],
      "collapsed_sections": [
        "HhfV-JJviCcP",
        "Y3lxredqlCYt",
        "3RnN4peoiCZX",
        "x71ZqKXriCWQ",
        "7hBIi_osiCS2",
        "JlHwYmJAmNHm",
        "35m5QtbWiB9F",
        "H0kj-8xxnORC",
        "dauF4eBmngu3",
        "bKJF3rekwFvQ",
        "GF8Ens_Soomf",
        "0wOQAZs5pc--",
        "K5QZ13OEpz2H",
        "lQ7QKXXCp7Bj",
        "448CDAPjqfQr",
        "t6dVpIINYklI",
        "ijmpgYnKYklI",
        "-JiQyfWJYklI",
        "EM7whBJCYoAo",
        "fge-S5ZAYoAp",
        "85gYPyotYoAp",
        "RoGjAbkUYoAp",
        "4Of9eVA-YrdM",
        "iky9q4vBYrdO",
        "F6T5p64dYrdO",
        "y-Ehk30pYrdP",
        "bamQiAODYuh1",
        "QHF8YVU7Yuh3",
        "GwzvFGzlYuh3",
        "OH-pJp9IphqM",
        "bbFf2-_FphqN",
        "_ouA3fa0phqN",
        "Seke61FWphqN",
        "PIIx-8_IphqN",
        "BZR9WyysphqO",
        "YJ55k-q6phqO",
        "OVtJsKN_phqQ",
        "U2RJ9gkRphqQ",
        "n3dbpmDWp1ck",
        "VfCC591jGiD4",
        "OB4l2ZhMeS1U",
        "ArJBuiUVfxKd",
        "dJ2tPlVmpsJ0",
        "JWYfwnehpsJ1",
        "Fze-IPXLpx6K",
        "7AN1z2sKpx6M",
        "cBFFvTBNJzUa",
        "gCX9965dhzqZ"
      ],
      "include_colab_link": true
    },
    "kernelspec": {
      "name": "python3",
      "display_name": "Python 3"
    },
    "language_info": {
      "name": "python"
    }
  },
  "cells": [
    {
      "cell_type": "markdown",
      "metadata": {
        "id": "view-in-github",
        "colab_type": "text"
      },
      "source": [
        "<a href=\"https://colab.research.google.com/github/HamzahSiddiquipvt/YesBank-ClosingPrice-HamzaSiddiqui/blob/main/AB_YesBank_Linear_Reg.ipynb\" target=\"_parent\"><img src=\"https://colab.research.google.com/assets/colab-badge.svg\" alt=\"Open In Colab\"/></a>"
      ]
    },
    {
      "cell_type": "markdown",
      "source": [
        "![download.png](data:image/png;base64,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)"
      ],
      "metadata": {
        "id": "21wERuB7jAv-"
      }
    },
    {
      "cell_type": "markdown",
      "source": [
        "# **Project Name**    - YES Bank Closing Price Prediction\n",
        "\n"
      ],
      "metadata": {
        "id": "vncDsAP0Gaoa"
      }
    },
    {
      "cell_type": "markdown",
      "source": [
        "##### **Project Type**    - Regression\n",
        "##### **Contribution**    - Individual\n",
        "##### **Team Member 1 - Hamza Siddiqui**\n"
      ],
      "metadata": {
        "id": "beRrZCGUAJYm"
      }
    },
    {
      "cell_type": "markdown",
      "source": [
        "# **Project Summary -**"
      ],
      "metadata": {
        "id": "FJNUwmbgGyua"
      }
    },
    {
      "cell_type": "markdown",
      "source": [
        "Yes Bank is a banking company that was founded in 2004 that offers a wide\n",
        "range of differentiated products for its corporate and retail customers through\n",
        "retail banking and asset management services.\n",
        "\n",
        "It is also a publically traded company. That provides an opportunity for anyone to invest in Yes bank and become a shareholder. But at the same time, it means that the valuation of the company is now in the hands of investors and speculators as share prices are often heavily impacted by public opinion.\n",
        "\n",
        "I have used yes bank stock price data set. This dataset contains 5\n",
        "different features that can be used for predicting close price prediction\n",
        "using machine learning. I have aimed to build the most efficient machine learning regression model for closing price prediction."
      ],
      "metadata": {
        "id": "F6v_1wHtG2nS"
      }
    },
    {
      "cell_type": "markdown",
      "source": [
        "# **GitHub Link -**"
      ],
      "metadata": {
        "id": "w6K7xa23Elo4"
      }
    },
    {
      "cell_type": "code",
      "source": [],
      "metadata": {
        "id": "oq1I_3lN78fG"
      },
      "execution_count": null,
      "outputs": []
    },
    {
      "cell_type": "markdown",
      "source": [
        "https://github.com/HamzahSiddiquipvt/YesBank-ClosingPrice-HamzaSiddiqui.git"
      ],
      "metadata": {
        "id": "h1o69JH3Eqqn"
      }
    },
    {
      "cell_type": "markdown",
      "source": [
        "# **Problem Statement**\n"
      ],
      "metadata": {
        "id": "yQaldy8SH6Dl"
      }
    },
    {
      "cell_type": "markdown",
      "source": [
        "A well-known bank in the Indian financial industry,Yes Bank, has been in the headlines since 2018. Due to the fraud case involving its founder, Rana Kapoor, it was intriguing to observe how it has affected the company's stock prices and whether Time series models or other prediction models could adequately account for such circumstances. Since the bank's foundation, this dataset has included closing, starting, highest, and lowest stock values for each month.My key goal is to predict the stock's monthly closing price given the other independent values."
      ],
      "metadata": {
        "id": "DpeJGUA3kjGy"
      }
    },
    {
      "cell_type": "markdown",
      "source": [
        "# **General Guidelines** : -"
      ],
      "metadata": {
        "id": "mDgbUHAGgjLW"
      }
    },
    {
      "cell_type": "markdown",
      "source": [
        "1.   Well-structured, formatted, and commented code is required.\n",
        "2.   Exception Handling, Production Grade Code & Deployment Ready Code will be a plus. Those students will be awarded some additional credits.\n",
        "     \n",
        "     The additional credits will have advantages over other students during Star Student selection.\n",
        "       \n",
        "             [ Note: - Deployment Ready Code is defined as, the whole .ipynb notebook should be executable in one go\n",
        "                       without a single error logged. ]\n",
        "\n",
        "3.   Each and every logic should have proper comments.\n",
        "4. You may add as many number of charts you want. Make Sure for each and every chart the following format should be answered.\n",
        "        \n",
        "\n",
        "```\n",
        "# Chart visualization code\n",
        "```\n",
        "            \n",
        "\n",
        "*   Why did you pick the specific chart?\n",
        "*   What is/are the insight(s) found from the chart?\n",
        "* Will the gained insights help creating a positive business impact?\n",
        "Are there any insights that lead to negative growth? Justify with specific reason.\n",
        "\n",
        "5. You have to create at least 15 logical & meaningful charts having important insights.\n",
        "\n",
        "\n",
        "[ Hints : - Do the Vizualization in  a structured way while following \"UBM\" Rule.\n",
        "\n",
        "U - Univariate Analysis,\n",
        "\n",
        "B - Bivariate Analysis (Numerical - Categorical, Numerical - Numerical, Categorical - Categorical)\n",
        "\n",
        "M - Multivariate Analysis\n",
        " ]\n",
        "\n",
        "\n",
        "\n",
        "\n",
        "\n",
        "6. You may add more ml algorithms for model creation. Make sure for each and every algorithm, the following format should be answered.\n",
        "\n",
        "\n",
        "*   Explain the ML Model used and it's performance using Evaluation metric Score Chart.\n",
        "\n",
        "\n",
        "*   Cross- Validation & Hyperparameter Tuning\n",
        "\n",
        "*   Have you seen any improvement? Note down the improvement with updates Evaluation metric Score Chart.\n",
        "\n",
        "*   Explain each evaluation metric's indication towards business and the business impact pf the ML model used.\n",
        "\n",
        "\n",
        "\n",
        "\n",
        "\n",
        "\n",
        "\n",
        "\n",
        "\n",
        "\n",
        "\n",
        "\n",
        "\n",
        "\n",
        "\n",
        "\n",
        "\n",
        "\n"
      ],
      "metadata": {
        "id": "ZrxVaUj-hHfC"
      }
    },
    {
      "cell_type": "markdown",
      "source": [
        "# ***Let's Begin !***"
      ],
      "metadata": {
        "id": "O_i_v8NEhb9l"
      }
    },
    {
      "cell_type": "markdown",
      "source": [
        "## ***1. Know Your Data***\n",
        "\n",
        "\n",
        "\n"
      ],
      "metadata": {
        "id": "HhfV-JJviCcP"
      }
    },
    {
      "cell_type": "markdown",
      "source": [
        "### Import Libraries"
      ],
      "metadata": {
        "id": "Y3lxredqlCYt"
      }
    },
    {
      "cell_type": "code",
      "source": [
        "# Import Libraries\n",
        "\n",
        "import numpy as np\n",
        "import pandas as pd\n",
        "\n",
        "import matplotlib.pyplot as plt\n",
        "import seaborn as sns\n",
        "\n",
        "from datetime import datetime\n",
        "\n",
        "from sklearn.preprocessing import MinMaxScaler,StandardScaler\n",
        "from sklearn.model_selection import train_test_split\n",
        "from sklearn.linear_model import LinearRegression\n",
        "from sklearn.metrics import (r2_score,mean_squared_error,mean_absolute_percentage_error, mean_absolute_error)\n",
        "\n",
        "\n",
        "import warnings\n",
        "warnings.filterwarnings('ignore')\n"
      ],
      "metadata": {
        "id": "M8Vqi-pPk-HR"
      },
      "execution_count": null,
      "outputs": []
    },
    {
      "cell_type": "markdown",
      "source": [
        "### Dataset Loading"
      ],
      "metadata": {
        "id": "3RnN4peoiCZX"
      }
    },
    {
      "cell_type": "code",
      "source": [
        "# Load Dataset\n",
        "\n",
        "# mount drive to load dataset\n",
        "from google.colab import drive\n",
        "drive.mount('/content/drive')"
      ],
      "metadata": {
        "id": "4CkvbW_SlZ_R"
      },
      "execution_count": null,
      "outputs": []
    },
    {
      "cell_type": "markdown",
      "source": [
        "### Dataset First View"
      ],
      "metadata": {
        "id": "x71ZqKXriCWQ"
      }
    },
    {
      "cell_type": "code",
      "source": [
        "# Dataset First Look\n",
        "try:\n",
        "  df_Master = pd.read_csv(\"/content/drive/MyDrive/data_YesBank_StockPrices.csv\")\n",
        "  df_Master.head()                                                                #Shows first 5 rows\n",
        "except:\n",
        "  print(\"Error loading dataset\")\n",
        "# We can see from the dataframe, all the columns we have contain numerical data. There is no categorical data present.                                                                           # displays first five instances of the dataframe."
      ],
      "metadata": {
        "id": "LWNFOSvLl09H"
      },
      "execution_count": null,
      "outputs": []
    },
    {
      "cell_type": "markdown",
      "source": [
        "### Dataset Rows & Columns count"
      ],
      "metadata": {
        "id": "7hBIi_osiCS2"
      }
    },
    {
      "cell_type": "code",
      "source": [
        "# Dataset Rows & Columns count\n",
        "\n",
        "print('\\n', f'The number of rows dataset is : {df_Master.shape[0] }')\n",
        "print('\\n', f'The number of columns of the dataset is : {df_Master.shape[1] }')\n",
        "print('\\n', f'The dimension of the dataset is : {df_Master.shape }')\n",
        "                                                                           #To get number of rows and columns in the dataset"
      ],
      "metadata": {
        "id": "Kllu7SJgmLij"
      },
      "execution_count": null,
      "outputs": []
    },
    {
      "cell_type": "markdown",
      "source": [
        "### Dataset Information"
      ],
      "metadata": {
        "id": "JlHwYmJAmNHm"
      }
    },
    {
      "cell_type": "code",
      "source": [
        "# Dataset Info\n",
        "df_Master.info()\n"
      ],
      "metadata": {
        "id": "e9hRXRi6meOf"
      },
      "execution_count": null,
      "outputs": []
    },
    {
      "cell_type": "markdown",
      "source": [
        "Null Values"
      ],
      "metadata": {
        "id": "Yk1QQZGYv0QG"
      }
    },
    {
      "cell_type": "code",
      "source": [
        "df_Master.isna().sum()                                                          #No null values found"
      ],
      "metadata": {
        "id": "2x3iFFaXv44G"
      },
      "execution_count": null,
      "outputs": []
    },
    {
      "cell_type": "markdown",
      "source": [
        "#### Duplicate Values"
      ],
      "metadata": {
        "id": "35m5QtbWiB9F"
      }
    },
    {
      "cell_type": "code",
      "source": [
        "# Dataset Duplicate Value Count\n",
        "\n",
        "dups = df_Master.pivot_table(index = ['Open','High','Low','Close'], aggfunc ='size')\n",
        "print(dups)                                                                     #No duplicates found"
      ],
      "metadata": {
        "id": "1sLdpKYkmox0"
      },
      "execution_count": null,
      "outputs": []
    },
    {
      "cell_type": "markdown",
      "source": [
        "### What did you know about your dataset?"
      ],
      "metadata": {
        "id": "H0kj-8xxnORC"
      }
    },
    {
      "cell_type": "markdown",
      "source": [
        "After loading the data, I observed the\n",
        "dataset by checking a few of the first and last rows. There are 185 rows and 5\n",
        "features columns in our dataset.\n",
        "\n",
        "Lets understand the features present in our dataset.\n",
        "\n",
        "• Date: It denotes date of investment done (in our case we have\n",
        "month and year).\n",
        "\n",
        "• Open: Open means the price at which a stock started trading\n",
        "when the opening bell rang.\n",
        "\n",
        "• High: High refer to the maximum prices in a given time\n",
        "period.\n",
        "\n",
        "• Low: Low refer to the minimum prices in a given time\n",
        "period.\n",
        "\n",
        "• Close: Close refers to the price of an individual stock at the\n",
        "end of the considered time period.\n",
        "Exploratory Data Analysis:-\n",
        "\n",
        "Also,\n",
        "\n",
        "The Given Date in data is of Month-year format (mmm-yy) and has to be  converted to\n",
        "proper date of YYYY-MM-DD and given date column has dtype as object\n",
        "converting it into date time format.\n",
        "\n",
        "Null values Treatment:\n",
        "Our dataset does not contain null values which tend to affect\n",
        "our accuracy. If we had null values, we could drop them or\n",
        "imput them with mean or median depending on the situation.\n"
      ],
      "metadata": {
        "id": "gfoNAAC-nUe_"
      }
    },
    {
      "cell_type": "markdown",
      "source": [
        "## ***2. Understanding Your Variables***"
      ],
      "metadata": {
        "id": "nA9Y7ga8ng1Z"
      }
    },
    {
      "cell_type": "code",
      "source": [
        "# Dataset Columns....\n",
        "#Displaying all columns in the dataset\n",
        "df_Master.columns\n"
      ],
      "metadata": {
        "id": "j7xfkqrt5Ag5"
      },
      "execution_count": null,
      "outputs": []
    },
    {
      "cell_type": "code",
      "source": [
        "# Dataset Describe\n",
        "\n",
        "df_Master.describe()"
      ],
      "metadata": {
        "id": "DnOaZdaE5Q5t"
      },
      "execution_count": null,
      "outputs": []
    },
    {
      "cell_type": "markdown",
      "source": [
        "## 3. ***Data Wrangling***"
      ],
      "metadata": {
        "id": "dauF4eBmngu3"
      }
    },
    {
      "cell_type": "markdown",
      "source": [
        "### Data Wrangling Code"
      ],
      "metadata": {
        "id": "bKJF3rekwFvQ"
      }
    },
    {
      "cell_type": "code",
      "source": [
        "df_Master['Date']\n",
        "\n",
        "# converting the format of date\n",
        "from datetime import datetime\n",
        "df_Master['Date'] = pd.to_datetime(df_Master['Date'].apply(lambda x: datetime.strptime(x, '%b-%y')))     # this converts date to a yyyy-mm-dd\n",
        "\n",
        "df_Master.set_index('Date', inplace=True)                                                                # setting Date column as index.\n"
      ],
      "metadata": {
        "id": "wk-9a2fpoLcV"
      },
      "execution_count": null,
      "outputs": []
    },
    {
      "cell_type": "markdown",
      "source": [
        "## ***4. Data Vizualization, Storytelling & Experimenting with charts : Understand the relationships between variables***"
      ],
      "metadata": {
        "id": "GF8Ens_Soomf"
      }
    },
    {
      "cell_type": "markdown",
      "source": [],
      "metadata": {
        "id": "70Me1yNcYl1p"
      }
    },
    {
      "cell_type": "markdown",
      "source": [
        "#### Chart (1 - 4): Checking for outliers using Box Plot"
      ],
      "metadata": {
        "id": "0wOQAZs5pc--"
      }
    },
    {
      "cell_type": "code",
      "source": [
        "x = 0                                                                            #to keep track of chart number\n",
        "colorscheme=['aqua','powderblue','teal','lightslategrey','white']\n",
        "for column in df_Master.columns:\n",
        "  plt.figure(figsize=(3,3))\n",
        "  sns.boxplot(df_Master[column], color = colorscheme[x])\n",
        "  plt.xlabel(column)\n",
        "  x=x+1\n",
        "  plt.title(\"Box Plot : \" + str(x) , fontsize =8)\n",
        "  plt.show()\n",
        "  print()\n"
      ],
      "metadata": {
        "id": "hVuK1v4CBbuK"
      },
      "execution_count": null,
      "outputs": []
    },
    {
      "cell_type": "markdown",
      "source": [
        "##### 1. Why did you pick the specific chart?"
      ],
      "metadata": {
        "id": "K5QZ13OEpz2H"
      }
    },
    {
      "cell_type": "markdown",
      "source": [
        "I picked box plots to check all features for presence of outliers.Boxplots are a standardized way of displaying the distribution of data based on a five number summary (“minimum”, first quartile (Q1), median, third quartile (Q3), and “maximum”). This type of plot is used to easily detect outliers."
      ],
      "metadata": {
        "id": "XESiWehPqBRc"
      }
    },
    {
      "cell_type": "markdown",
      "source": [
        "##### 2. What is/are the insight(s) found from the chart?"
      ],
      "metadata": {
        "id": "lQ7QKXXCp7Bj"
      }
    },
    {
      "cell_type": "markdown",
      "source": [
        "As we can see there are some outliers present in our data. We will need to deal with these before proceeding to modelling."
      ],
      "metadata": {
        "id": "C_j1G7yiqdRP"
      }
    },
    {
      "cell_type": "markdown",
      "source": [
        "##### 3. Will the gained insights help creating a positive business impact?\n",
        "Are there any insights that lead to negative growth? Justify with specific reason."
      ],
      "metadata": {
        "id": "448CDAPjqfQr"
      }
    },
    {
      "cell_type": "markdown",
      "source": [
        "The above insight will help us deal with outliers appropriately. Presence of outliers affects the accuracy of a linear regression."
      ],
      "metadata": {
        "id": "3cspy4FjqxJW"
      }
    },
    {
      "cell_type": "markdown",
      "source": [
        "**Chart (5-9) :Univariate Analysis**"
      ],
      "metadata": {
        "id": "KSlN3yHqYklG"
      }
    },
    {
      "cell_type": "code",
      "source": [
        "x = 5                                                                           #Keeps track of chart number\n",
        "colorscheme=['maroon','orange','green','brown','white']\n",
        "\n",
        "for col in df_Master.columns:\n",
        "  if str(col) != \"Date\":\n",
        "    plt.figure(figsize=(4,3))\n",
        "    sns.distplot(df_Master[str(col)], color = colorscheme[x-5])                 #Using index of the colorscheme\n",
        "    x=x+1\n",
        "    plt.title(\"Chart: \" + str(x) +\" -  \"+ str(col) + ' Value Data Distribution')\n",
        "    plt.xlabel(str(col) +' Price')\n",
        "    plt.axvline(df_Master[str(col)].mean(), color='maroon', linestyle='dashed', linewidth=1)  #Plotting mean value\n",
        "    plt.axvline(df_Master[str(col)].median(), color='black', linestyle='dashed', linewidth=1) #Plotting median value\n",
        "    plt.show()\n",
        "    print()\n",
        "\n",
        "x=9\n",
        "plt.plot(df_Master['Close'])\n",
        "plt.title(\"Chart: \" + str(x) +\" - Closing value over time\")\n",
        "plt.xlabel('Closing Price')\n",
        "plt.show()\n"
      ],
      "metadata": {
        "id": "R4YgtaqtYklH"
      },
      "execution_count": null,
      "outputs": []
    },
    {
      "cell_type": "markdown",
      "source": [
        "##### 1. Why did you pick the specific chart?"
      ],
      "metadata": {
        "id": "t6dVpIINYklI"
      }
    },
    {
      "cell_type": "markdown",
      "source": [
        "It is often used to illustrate the major features of the distribution of the data in a convenient form. It is also useful when dealing with large data sets (greater than 100 observations). It can help detect any unusual observations (outliers) or any gaps in the data."
      ],
      "metadata": {
        "id": "5aaW0BYyYklI"
      }
    },
    {
      "cell_type": "markdown",
      "source": [
        "##### 2. What is/are the insight(s) found from the chart?"
      ],
      "metadata": {
        "id": "ijmpgYnKYklI"
      }
    },
    {
      "cell_type": "markdown",
      "source": [
        "We can clearly see that *these distributions are positively skewed*. The mean and median are at significant distance from each other."
      ],
      "metadata": {
        "id": "PSx9atu2YklI"
      }
    },
    {
      "cell_type": "markdown",
      "source": [
        "##### 3. Will the gained insights help creating a positive business impact?\n",
        "Are there any insights that lead to negative growth? Justify with specific reason."
      ],
      "metadata": {
        "id": "-JiQyfWJYklI"
      }
    },
    {
      "cell_type": "markdown",
      "source": [
        "From the gained insight we understand the we need to transform them into something close to a Normal Distribution as our models give optimal results that way."
      ],
      "metadata": {
        "id": "BcBbebzrYklV"
      }
    },
    {
      "cell_type": "markdown",
      "source": [
        "#### Chart (9-11) Bivariate Analysis"
      ],
      "metadata": {
        "id": "EM7whBJCYoAo"
      }
    },
    {
      "cell_type": "code",
      "source": [
        "colorscheme=['blue','purple','teal','lightslategrey','white']\n",
        "x=9                                                                             #Keeps track of chart number\n",
        "for col in df_Master.columns[:-1]:\n",
        "  if(str(col)!= \"Date\"):\n",
        "    fig = plt.figure(figsize=(7,5))\n",
        "    ax = fig.gca()\n",
        "    plt.scatter(df_Master[str(col)], df_Master['Close'],color = colorscheme[x-9]) #Plotting each feature vs closing value to check for linearity\n",
        "    x=x+1\n",
        "    plt.title(\"Chart: \" + str(x))\n",
        "    plt.xlabel(str(col))\n",
        "    plt.ylabel('Close')\n",
        "    ax.set_title(f'{str(col)} vs Close')\n",
        "\n",
        "\n",
        "    z = np.polyfit(df_Master[col], df_Master['Close'], 1)                       #Numpy polyfit() is a function that is used to fit the data within a polynomial function.\n",
        "    y_hat = np.poly1d(z)(df_Master[col])\n",
        "\n",
        "    plt.plot(df_Master[col], y_hat, \"red\", lw=1)\n",
        "\n"
      ],
      "metadata": {
        "id": "t6GMdE67YoAp"
      },
      "execution_count": null,
      "outputs": []
    },
    {
      "cell_type": "markdown",
      "source": [
        "##### 1. Why did you pick the specific chart?"
      ],
      "metadata": {
        "id": "fge-S5ZAYoAp"
      }
    },
    {
      "cell_type": "markdown",
      "source": [
        "A scatter plot uses dots to represent values for two different numeric variables. Scatter plots are used to observe relationships between variables.Hence scatter plot was the best choice to establish a relationship between the independent and dependent variables."
      ],
      "metadata": {
        "id": "5dBItgRVYoAp"
      }
    },
    {
      "cell_type": "markdown",
      "source": [
        "##### 2. What is/are the insight(s) found from the chart?"
      ],
      "metadata": {
        "id": "85gYPyotYoAp"
      }
    },
    {
      "cell_type": "markdown",
      "source": [
        "All independent variables share a linear relationship with the dependent variable 'Close'. We also understand the presence of outliers from the graph"
      ],
      "metadata": {
        "id": "4jstXR6OYoAp"
      }
    },
    {
      "cell_type": "markdown",
      "source": [
        "##### 3. Will the gained insights help creating a positive business impact?\n",
        "Are there any insights that lead to negative growth? Justify with specific reason."
      ],
      "metadata": {
        "id": "RoGjAbkUYoAp"
      }
    },
    {
      "cell_type": "markdown",
      "source": [
        "We can infer that 'Close' value is directly dependent on the opening,highest and lowest values."
      ],
      "metadata": {
        "id": "zfJ8IqMcYoAp"
      }
    },
    {
      "cell_type": "markdown",
      "source": [
        "#### Chart 12: Multivariate Analysis"
      ],
      "metadata": {
        "id": "4Of9eVA-YrdM"
      }
    },
    {
      "cell_type": "code",
      "source": [
        "plt.title('Correlation Heatmap')\n",
        "cor = sns.heatmap(df_Master.corr(),annot=True)                       #Heat map to check for correlation between all features of the dataset\n",
        "\n"
      ],
      "metadata": {
        "id": "irlUoxc8YrdO"
      },
      "execution_count": null,
      "outputs": []
    },
    {
      "cell_type": "markdown",
      "source": [
        "##### 1. Why did you pick the specific chart?"
      ],
      "metadata": {
        "id": "iky9q4vBYrdO"
      }
    },
    {
      "cell_type": "markdown",
      "source": [
        "A correlation heatmap is a graphical tool that displays the correlation between multiple variables as a color-coded matrix."
      ],
      "metadata": {
        "id": "aJRCwT6DYrdO"
      }
    },
    {
      "cell_type": "markdown",
      "source": [
        "##### 2. What is/are the insight(s) found from the chart?"
      ],
      "metadata": {
        "id": "F6T5p64dYrdO"
      }
    },
    {
      "cell_type": "markdown",
      "source": [
        "From the above heatmap we understand that the independent variables are highly correlated."
      ],
      "metadata": {
        "id": "Xx8WAJvtYrdO"
      }
    },
    {
      "cell_type": "markdown",
      "source": [
        "##### 3. Will the gained insights help creating a positive business impact?\n",
        "Are there any insights that lead to negative growth? Justify with specific reason."
      ],
      "metadata": {
        "id": "y-Ehk30pYrdP"
      }
    },
    {
      "cell_type": "markdown",
      "source": [
        "The insight gained here will help us deal with multicollinearity. Multicollinearity does not effect the model performance but effects the model predictability."
      ],
      "metadata": {
        "id": "jLNxxz7MYrdP"
      }
    },
    {
      "cell_type": "markdown",
      "source": [
        "#### Chart 13 - 16 (Log Transformation)"
      ],
      "metadata": {
        "id": "bamQiAODYuh1"
      }
    },
    {
      "cell_type": "code",
      "source": [
        "# Using log transformation on these features using np.log().\n",
        "colorscheme=['blue','purple','teal','lightslategrey','white']\n",
        "x=13\n",
        "for col in df_Master.columns:\n",
        "  plt.figure(figsize=(5,3))\n",
        "  sns.distplot(np.log10(df_Master[col]), color= colorscheme[x-13])              #Applying log10 on each column\n",
        "  x=x+1\n",
        "  plt.title(\"Chart \" + str(x)  )\n",
        "  plt.xlabel(col, fontsize=13)\n",
        "  plt.ylabel('count')\n",
        "\n",
        "  print()\n",
        "\n",
        "  # Plotting the mean and the median.\n",
        "  plt.axvline(np.log10(df_Master[col]).mean(),color='red',linewidth=2)          #Plotting mean\n",
        "  plt.axvline(np.log10(df_Master[col]).median(),color='yellow',linewidth=1.5)   #Plotting median\n",
        "  plt.show()"
      ],
      "metadata": {
        "id": "TIJwrbroYuh3"
      },
      "execution_count": null,
      "outputs": []
    },
    {
      "cell_type": "markdown",
      "source": [
        "##### 1. Why did you pick the specific chart?"
      ],
      "metadata": {
        "id": "QHF8YVU7Yuh3"
      }
    },
    {
      "cell_type": "markdown",
      "source": [
        "A histogram is useful when the data is numerical. We wanted to see the shape of the data's distribution and determine whether the output of a process is distributed approximately normally."
      ],
      "metadata": {
        "id": "dcxuIMRPYuh3"
      }
    },
    {
      "cell_type": "markdown",
      "source": [
        "##### 2. What is/are the insight(s) found from the chart?"
      ],
      "metadata": {
        "id": "GwzvFGzlYuh3"
      }
    },
    {
      "cell_type": "markdown",
      "source": [
        "From univariate distribution we realised that our data was positively skewed.\n",
        "So we do a log transform on it and plot it as seen in the right chart. This makes it approximate normal distribution and is optimal for our model’s performance. Now our mean and median are nearly equal."
      ],
      "metadata": {
        "id": "uyqkiB8YYuh3"
      }
    },
    {
      "cell_type": "markdown",
      "source": [
        "#### Chart 16-19 (Checking for outliers with log transformed data)"
      ],
      "metadata": {
        "id": "OH-pJp9IphqM"
      }
    },
    {
      "cell_type": "code",
      "source": [
        "x = 16\n",
        "for col in df_Master.columns:\n",
        "  plt.figure(figsize=(3,3))\n",
        "  sns.boxplot(np.log10(df_Master[col]), color ='salmon')                                      #Converting column values to their log values\n",
        "  plt.title(\"Chart :\"+str(x))\n",
        "  x=x+1\n",
        "  plt.xlabel(col, fontsize=8)\n",
        "  plt.show()\n",
        "\n",
        "\n",
        "\n"
      ],
      "metadata": {
        "id": "kuRf4wtuphqN"
      },
      "execution_count": null,
      "outputs": []
    },
    {
      "cell_type": "markdown",
      "source": [
        "##### 1. Why did you pick the specific chart?"
      ],
      "metadata": {
        "id": "bbFf2-_FphqN"
      }
    },
    {
      "cell_type": "markdown",
      "source": [
        "I picked box plots to check all features for presence of outliers.Boxplots are a standardized way of displaying the distribution of data based on a five number summary (“minimum”, first quartile (Q1), median, third quartile (Q3), and “maximum”). This type of plot is used to easily detect outliers."
      ],
      "metadata": {
        "id": "loh7H2nzphqN"
      }
    },
    {
      "cell_type": "markdown",
      "source": [
        "##### 2. What is/are the insight(s) found from the chart?"
      ],
      "metadata": {
        "id": "_ouA3fa0phqN"
      }
    },
    {
      "cell_type": "markdown",
      "source": [
        "The above plots show that on log transformation , the outliers have been completely eliminated."
      ],
      "metadata": {
        "id": "VECbqPI7phqN"
      }
    },
    {
      "cell_type": "markdown",
      "source": [
        "##### 3. Will the gained insights help creating a positive business impact?\n",
        "Are there any insights that lead to negative growth? Justify with specific reason."
      ],
      "metadata": {
        "id": "Seke61FWphqN"
      }
    },
    {
      "cell_type": "markdown",
      "source": [
        "Removal of outliers completely in a small data set may affect our prediction negatively. Hence, we shall not apply the log transformation."
      ],
      "metadata": {
        "id": "DW4_bGpfphqN"
      }
    },
    {
      "cell_type": "markdown",
      "source": [
        "#### Dealing with multicollinearity"
      ],
      "metadata": {
        "id": "PIIx-8_IphqN"
      }
    },
    {
      "cell_type": "code",
      "source": [
        "# Using VIF(Variation Inflation Factor) to see the correlation between independent variables\n",
        "\n",
        "from statsmodels.stats.outliers_influence import variance_inflation_factor\n",
        "\n",
        "vif_data = pd.DataFrame()\n",
        "vif_data[\"feature\"] = df_Master.columns[:-1]                                      #Excluding the dependent column\n",
        "\n",
        "# calculating VIF for each feature\n",
        "vif_data[\"VIF\"] = [variance_inflation_factor(df_Master.values, i)\n",
        "                          for i in range(len(df_Master.columns[:-1]))]\n",
        "\n",
        "print(vif_data)"
      ],
      "metadata": {
        "id": "lqAIGUfyphqO"
      },
      "execution_count": null,
      "outputs": []
    },
    {
      "cell_type": "markdown",
      "source": [
        "#### Feature Engineering"
      ],
      "metadata": {
        "id": "BZR9WyysphqO"
      }
    },
    {
      "cell_type": "code",
      "source": [
        "#Since the features are highly correlated and the VIF is quite high for all of them, We can treat them as a single feature and use their mean to reach to our desired conclusion.\n",
        "\n",
        "# Creating a new feature which would be the mean of all the independent features\n",
        "df_Master['featuredColumn'] = df_Master[['Open', 'High', 'Low']].mean(axis=1).round(4)\n",
        "df_Master.head()\n"
      ],
      "metadata": {
        "id": "TdPTWpAVphqO"
      },
      "execution_count": null,
      "outputs": []
    },
    {
      "cell_type": "markdown",
      "source": [
        "#### Chart 20: FeaturedColumn vs Closing Value"
      ],
      "metadata": {
        "id": "YJ55k-q6phqO"
      }
    },
    {
      "cell_type": "code",
      "source": [
        "fig = plt.figure(figsize=(10,5))\n",
        "ax = fig.gca()\n",
        "plt.scatter(df_Master['featuredColumn'], df_Master['Close'])\n",
        "plt.xlabel('featuredColumn')\n",
        "plt.ylabel('Closing Value')\n",
        "plt.title('featuredColumn vs Close')\n",
        "z = np.polyfit(df_Master['featuredColumn'], df_Master['Close'], 1)\n",
        "y_hat = np.poly1d(z)(df_Master['featuredColumn'])                                 #Plotting fit line\n",
        "plt.plot(df_Master['featuredColumn'], y_hat, \"green\", lw=1)\n",
        "plt.show()"
      ],
      "metadata": {
        "id": "B2aS4O1ophqO"
      },
      "execution_count": null,
      "outputs": []
    },
    {
      "cell_type": "markdown",
      "source": [
        "##### 2. What is/are the insight(s) found from the chart?"
      ],
      "metadata": {
        "id": "OVtJsKN_phqQ"
      }
    },
    {
      "cell_type": "markdown",
      "source": [
        "The dependent variable 'Close' follows a linear relationship with the new feature engineered column which is an aggregate of all the independent columns"
      ],
      "metadata": {
        "id": "ngGi97qjphqQ"
      }
    },
    {
      "cell_type": "markdown",
      "source": [
        "#### Train Test Split"
      ],
      "metadata": {
        "id": "U2RJ9gkRphqQ"
      }
    },
    {
      "cell_type": "code",
      "source": [
        "#Using 80% for training and 20% for testing\n",
        "\n",
        "y = y = df_Master['Close'].values\n",
        "x = df_Master.dropna().drop(['Close','Open','High','Low'], axis=1)              #Considering only the aggregate of the independent columns\n",
        "\n",
        "x_train, x_test, y_train, y_test = train_test_split(x, y, test_size = 0.2, random_state = 42)\n"
      ],
      "metadata": {
        "id": "GM7a4YP4phqQ"
      },
      "execution_count": null,
      "outputs": []
    },
    {
      "cell_type": "markdown",
      "source": [
        "#### Scaling the data"
      ],
      "metadata": {
        "id": "n3dbpmDWp1ck"
      }
    },
    {
      "cell_type": "code",
      "source": [
        "from sklearn.preprocessing import StandardScaler\n",
        "scaler = StandardScaler()\n",
        "x_train = scaler.fit_transform(x_train)\n",
        "x_test = scaler.transform(x_test)\n",
        "\n",
        "\n",
        "#Since there is only one feature we are dealing with, this may be skipped"
      ],
      "metadata": {
        "id": "bwevp1tKp1ck"
      },
      "execution_count": null,
      "outputs": []
    },
    {
      "cell_type": "markdown",
      "source": [
        "## ***5. ML Model Implementation***"
      ],
      "metadata": {
        "id": "VfCC591jGiD4"
      }
    },
    {
      "cell_type": "markdown",
      "source": [
        "### ML Model 1: Linear Regression"
      ],
      "metadata": {
        "id": "OB4l2ZhMeS1U"
      }
    },
    {
      "cell_type": "code",
      "source": [
        "model_lr = LinearRegression()\n",
        "model_lr.fit(x_train, y_train)                                                   #Training our model\n",
        "\n",
        "LinearRegression()\n",
        "\n",
        "# make predictions\n",
        "lr_y_pred = model_lr.predict(x_test)"
      ],
      "metadata": {
        "id": "7ebyywQieS1U"
      },
      "execution_count": null,
      "outputs": []
    },
    {
      "cell_type": "markdown",
      "source": [
        "#### 1. Explain the ML Model used and it's performance using Evaluation metric Score Chart."
      ],
      "metadata": {
        "id": "ArJBuiUVfxKd"
      }
    },
    {
      "cell_type": "code",
      "source": [
        "# Visualizing evaluation Metric Score chart\n",
        "print(\"***********************************************************************************************\")\n",
        "\n",
        "regr_mae = round(mean_absolute_error(y_test, lr_y_pred),5)\n",
        "print(\"The Mean Absolute Error of our Model is {}\".format(regr_mae))\n",
        "\n",
        "\n",
        "regr_mse  = round(mean_squared_error(y_test,lr_y_pred),5)\n",
        "print(\"Mean squared Error :\" , regr_mse)\n",
        "\n",
        "regr_rmse = round(np.sqrt(regr_mse),5)\n",
        "print(\"The Root Mean Absolute Error of our Model is {}\".format(regr_rmse))\n",
        "\n",
        "regr_r2 = round(r2_score(y_test, lr_y_pred),5)\n",
        "print(\"The R2 of our model is {}\".format(regr_r2))\n",
        "\n",
        "\n",
        "regr_adj_r2 = round(1-(1-r2_score(y_test,lr_y_pred))*((x_test.shape[0]-1)/(x_test.shape[0]-x_test.shape[1]-1)),5)\n",
        "print(f\"Adjusted R2 score : {regr_adj_r2}\")\n",
        "\n",
        "regr_mape = round(mean_absolute_percentage_error(lr_y_pred, y_test),5)\n",
        "print('mean absolute percentage error: {}\\n\\n\\n'.format(regr_mape))\n",
        "\n",
        "print(\"***********************************************************************************************\")\n",
        "\n",
        "\n",
        "#Plotting predicted values vs the actual test data\n",
        "\n",
        "plt.figure(figsize=(12,7))\n",
        "plt.plot(lr_y_pred, color = \"blue\")\n",
        "plt.plot(np.array(y_test) ,color = \"red\")\n",
        "plt.legend([\"Predicted\",\"Actual\"])\n",
        "plt.xlabel('Test Data')\n",
        "plt.ylabel(\"Price\")\n",
        "plt.title(\"Actual vs Predicted Closing price Linear regression\")\n",
        "plt.show()"
      ],
      "metadata": {
        "id": "rqD5ZohzfxKe"
      },
      "execution_count": null,
      "outputs": []
    },
    {
      "cell_type": "markdown",
      "source": [
        "###ML Model 2: Lasso Regression with Grid Search CV"
      ],
      "metadata": {
        "id": "dJ2tPlVmpsJ0"
      }
    },
    {
      "cell_type": "code",
      "source": [
        "# Initializing the model with some base values.\n",
        "from sklearn.linear_model import Lasso\n",
        "\n",
        "lasso  = Lasso(alpha=0.001 , max_iter= 3000)\n",
        "\n",
        "# Fitting the model on our training data.\n",
        "lasso.fit(x_train, y_train)\n",
        "\n",
        "# Printing the intercept and coefficients.\n",
        "lasso.intercept_\n",
        "lasso.coef_\n",
        "\n",
        "# Cross validation. optimizing our model by finding the best value of our hyperparameter.\n",
        "from sklearn.model_selection import GridSearchCV\n",
        "\n",
        "lasso_param_grid = {'alpha': [1e-15,1e-13,1e-10,1e-8,1e-5,1e-4,1e-3,0.005,0.006,0.007,0.01,0.015,0.02,1e-1,1,5,10,20,30,40,45,50]}  # list of parameters.\n",
        "\n",
        "lasso_regressor = GridSearchCV(lasso, lasso_param_grid, scoring='neg_mean_squared_error', cv=5)\n",
        "\n",
        "lasso_regressor.fit(x_train, y_train)\n",
        "\n",
        "GridSearchCV(cv=5, estimator=Lasso(alpha=0.0001, max_iter=5000),\n",
        "             param_grid={'alpha': [1e-15, 1e-13, 1e-10, 1e-08, 1e-05, 0.0001,\n",
        "                                   0.001, 0.005, 0.006, 0.007, 0.01, 0.015,\n",
        "                                   0.02, 0.1, 1, 5, 10, 20, 30, 40, 45, 50]},\n",
        "             scoring='neg_mean_squared_error')\n",
        "\n",
        "# getting the best parameter\n",
        "lasso_regressor.best_params_          # after several iterations and trials, we get this value as best parameter value.\n",
        "\n",
        "{'alpha': 1e-05}\n",
        "\n",
        "# getting the best score\n",
        "print(lasso_regressor.best_score_)\n",
        "\n",
        "# Predicting on the test dataset.\n",
        "y_pred_lasso = lasso_regressor.predict(x_test)\n",
        "print(y_pred_lasso)"
      ],
      "metadata": {
        "id": "UdoYC0rXabaZ"
      },
      "execution_count": null,
      "outputs": []
    },
    {
      "cell_type": "markdown",
      "source": [
        "#### 1. Explain the ML Model used and it's performance using Evaluation metric Score Chart."
      ],
      "metadata": {
        "id": "JWYfwnehpsJ1"
      }
    },
    {
      "cell_type": "code",
      "source": [
        "print(\"***********************************************************************************************\")\n",
        "\n",
        "lasso_mae_score = round(mean_absolute_error(y_test, y_pred_lasso),5)\n",
        "print(\"The Mean Absolute Error of our Model is {}\".format(lasso_mae_score))\n",
        "\n",
        "lasso_mse_score  = round(mean_squared_error(y_test,y_pred_lasso),5)\n",
        "print(\"Mean squared Error :\" , lasso_mse_score)\n",
        "\n",
        "lasso_rmse_score = round(np.sqrt(lasso_mse_score),5)\n",
        "print(\"The Root Mean Absolute Error of our Model is {}\".format(lasso_rmse_score))\n",
        "\n",
        "lasso_r2score = round(r2_score(y_test, y_pred_lasso),5)\n",
        "print(\"The R2 of our model is {}\".format(lasso_r2score))\n",
        "\n",
        "\n",
        "lasso_adj_r2 = round(1-(1-r2_score(y_test,y_pred_lasso))*((x_test.shape[0]-1)/(x_test.shape[0]-x_test.shape[1]-1)),5)\n",
        "\n",
        "lasso_mape = round(mean_absolute_percentage_error(y_pred_lasso, y_test),5)\n",
        "print('mean absolute percentage error: {}\\n\\n\\n'.format(lasso_mape))\n",
        "print(\"***********************************************************************************************\")\n",
        "\n",
        "\n",
        "\n",
        "#Plotting predicted values vs the actual test data\n",
        "\n",
        "plt.figure(figsize=(12,7))\n",
        "plt.plot(y_pred_lasso, color = \"blue\")\n",
        "plt.plot(np.array(y_test) ,color = \"red\")\n",
        "plt.legend([\"Predicted\",\"Actual\"])\n",
        "plt.xlabel('Test Data')\n",
        "plt.ylabel(\"Price\")\n",
        "plt.title(\"Actual vs Predicted Closing price Lasso regression\")\n",
        "plt.show()\n",
        "\n"
      ],
      "metadata": {
        "id": "yEl-hgQWpsJ1"
      },
      "execution_count": null,
      "outputs": []
    },
    {
      "cell_type": "markdown",
      "source": [
        "###ML Model 3: Ridge Regression with Grid search CV"
      ],
      "metadata": {
        "id": "Fze-IPXLpx6K"
      }
    },
    {
      "cell_type": "code",
      "source": [
        "from sklearn.linear_model import Ridge\n",
        "ridge = Ridge()         # iitializing the model\n",
        "\n",
        "# initiating the parameter grid for alpha (regularization strength).\n",
        "ridge_param_grid = {'alpha': [1e-15,1e-10,1e-8,1e-5,1e-4,1e-3,1e-2,0.3,0.7,1,1.2,1.33,1.365,1.37,1.375,1.4,1.5,1.6,1.8,2.5,5,10,20,30,40,45,50,55,60,100]}\n",
        "\n",
        "# cross validation.\n",
        "ridge_regressor = GridSearchCV(ridge, ridge_param_grid, scoring='neg_mean_squared_error', cv=5)\n",
        "ridge_regressor.fit(x_train,y_train)\n",
        "\n",
        "GridSearchCV(cv=3, estimator=Ridge(),\n",
        "             param_grid={'alpha': [1e-15, 1e-10, 1e-08, 1e-05, 0.0001, 0.001,\n",
        "                                   0.01, 0.3, 0.7, 1, 1.2, 1.33, 1.365, 1.37,\n",
        "                                   1.375, 1.4, 1.5, 1.6, 1.8, 2.5, 5, 10, 20,\n",
        "                                   30, 40, 45, 50, 55, 60, 100]},\n",
        "             scoring='neg_mean_squared_error')\n",
        "\n",
        "# finding the best parameter value (for alpha)\n",
        "ridge_regressor.best_params_\n",
        "\n",
        "{'alpha': 0.01}\n",
        "\n",
        "# getting the best score for optimal value of alpha.\n",
        "ridge_regressor.best_score_\n",
        "\n",
        "# predicting on the test dataset now.\n",
        "y_pred_ridge = ridge_regressor.predict(x_test)\n",
        "\n"
      ],
      "metadata": {
        "id": "FFrSXAtrpx6M"
      },
      "execution_count": null,
      "outputs": []
    },
    {
      "cell_type": "markdown",
      "source": [
        "####Explain the ML Model used and it's performance using Evaluation metric Score Chart."
      ],
      "metadata": {
        "id": "7AN1z2sKpx6M"
      }
    },
    {
      "cell_type": "code",
      "source": [
        "# Visualizing evaluation Metric Score chart\n",
        "# evaluating performance.\n",
        "print(\"***********************************************************************************************\")\n",
        "\n",
        "MAE_ridge = round(mean_absolute_error(y_test,y_pred_ridge),5)\n",
        "print(f\"Mean Absolute Error : {MAE_ridge}\")\n",
        "\n",
        "MSE_ridge  = round(mean_squared_error(y_test,y_pred_ridge),5)\n",
        "print(\"Mean squared Error :\" , MSE_ridge)\n",
        "\n",
        "RMSE_ridge = round(np.sqrt(MSE_ridge),5)\n",
        "print(\"Root Mean squared Error :\" ,RMSE_ridge)\n",
        "\n",
        "R2_ridge = round(r2_score(y_test,y_pred_ridge),5)\n",
        "print(\"R2 score :\" ,R2_ridge)\n",
        "\n",
        "Adjusted_R2_ridge = round(1-(1-r2_score(y_test, y_pred_ridge))*((x_test.shape[0]-1)/(x_test.shape[0]-x_test.shape[1]-1)),5)\n",
        "\n",
        "MAPE_ridge = round(mean_absolute_percentage_error(y_pred_ridge, y_test),5)\n",
        "print('mean absolute percentage error: {}\\n\\n\\n'.format(MAPE_ridge))\n",
        "print(\"***********************************************************************************************\")\n",
        "\n",
        "\n",
        "#Plotting predicted values vs the actual test data\n",
        "\n",
        "plt.figure(figsize=(12,7))\n",
        "plt.plot(y_pred_ridge, color = \"purple\")\n",
        "plt.plot(np.array(y_test) ,color = \"red\")\n",
        "plt.legend([\"Predicted\",\"Actual\"])\n",
        "plt.xlabel('Test Data')\n",
        "plt.ylabel(\"Price\")\n",
        "plt.title(\"Actual vs Predicted Closing price Ridge Regression\")\n",
        "plt.show()"
      ],
      "metadata": {
        "id": "xIY4lxxGpx6M"
      },
      "execution_count": null,
      "outputs": []
    },
    {
      "cell_type": "markdown",
      "source": [
        "### Model 4: Elastic net Regression"
      ],
      "metadata": {
        "id": "U9wRCP4Af_ly"
      }
    },
    {
      "cell_type": "code",
      "source": [
        "# importing and initializing Elastic-Net Regression.\n",
        "from sklearn.linear_model import ElasticNet\n",
        "elasticnet_model = ElasticNet(alpha=0.001, l1_ratio=0.5)\n",
        "\n",
        "# initializing parameter grid.\n",
        "elastic_net_param_grid = {'alpha': [1e-15,1e-13,1e-10,1e-8,1e-5,1e-4,1e-3,0.001,0.01,0.02,0.03,0.04,1,5,10,20,40,50,60,100],\n",
        "                          'l1_ratio':[0.1,0.2,0.3,0.4,0.5,0.6,0.7,0.8,0.9]}\n",
        "\n",
        "# cross-validation.\n",
        "elasticnet_regressor = GridSearchCV(elasticnet_model, elastic_net_param_grid, scoring='neg_mean_squared_error',cv=5)\n",
        "elasticnet_regressor.fit(x_train, y_train)\n",
        "\n",
        "# finding the best parameter\n",
        "elasticnet_regressor.best_params_\n",
        "pred_y_elNet = elasticnet_regressor.predict(x_test)\n"
      ],
      "metadata": {
        "id": "dmRDxXfpgKAf"
      },
      "execution_count": null,
      "outputs": []
    },
    {
      "cell_type": "markdown",
      "source": [
        "####Explain the ML Model used and it's performance using Evaluation metric Score Chart."
      ],
      "metadata": {
        "id": "6nUafxV1grrz"
      }
    },
    {
      "cell_type": "code",
      "source": [
        "# evaluate predictions\n",
        "print(\"***********************************************************************************************\")\n",
        "\n",
        "MAE_en = round(mean_absolute_error(y_test,pred_y_elNet),5)\n",
        "print(f\"Mean Absolute Error : {MAE_en}\")\n",
        "\n",
        "MSE_en= round(mean_squared_error(y_test,pred_y_elNet),5)\n",
        "print(\"Mean squared Error :\" , MSE_en)\n",
        "\n",
        "RMSE_en = round(np.sqrt(MSE_en),5)\n",
        "print(\"Root Mean squared Error :\" ,RMSE_en)\n",
        "\n",
        "R2_en = round(r2_score(y_test,pred_y_elNet),5)\n",
        "print(\"R2 score :\" ,R2_en)\n",
        "\n",
        "Adjusted_R2_en = round(1-(1-r2_score(y_test, pred_y_elNet))*((x_test.shape[0]-1)/(x_test.shape[0]-x_test.shape[1]-1)),5)\n",
        "print(\"Adjusted R2 score: \", Adjusted_R2_en)\n",
        "\n",
        "MAPE_en = round(mean_absolute_percentage_error(pred_y_elNet, y_test),5)\n",
        "print('mean absolute percentage error: {}\\n\\n\\n'.format(MAPE_en))\n",
        "\n",
        "print(\"***********************************************************************************************\")\n"
      ],
      "metadata": {
        "id": "nYWBW7qegwc7"
      },
      "execution_count": null,
      "outputs": []
    },
    {
      "cell_type": "markdown",
      "source": [
        "### Which ML model did you choose from the above created models as your final prediction model and why?"
      ],
      "metadata": {
        "id": "cBFFvTBNJzUa"
      }
    },
    {
      "cell_type": "code",
      "source": [
        "# create dataframe with evaluation metrics\n",
        "model_report = pd.DataFrame(data={'model':['Linear Regression','Ridge Regression','Lasso Regression','elastic net regression'], 'mae':[regr_mae,MAE_ridge,lasso_mae_score,MAE_en], 'mse':[regr_mse,MSE_ridge,lasso_mse_score,MSE_en],'rmse':[regr_rmse,RMSE_ridge,lasso_rmse_score,RMSE_en],'r2_score':[regr_r2,R2_ridge,lasso_r2score,R2_en],'Adj_r2':[regr_adj_r2,Adjusted_R2_ridge,lasso_adj_r2,Adjusted_R2_en],'MAPE':[regr_mape,MAPE_ridge,lasso_mape,MAPE_en]})\n",
        "model_report\n"
      ],
      "metadata": {
        "id": "UImvMI9PfVEc"
      },
      "execution_count": null,
      "outputs": []
    },
    {
      "cell_type": "markdown",
      "source": [
        "**Comparing Values**"
      ],
      "metadata": {
        "id": "tF8J7jShhu7I"
      }
    },
    {
      "cell_type": "code",
      "source": [
        "actual_pred_df = pd.DataFrame(y_test,pred_y_elNet).reset_index().rename(columns = {'index':'Actual values',0:'Elastic Net Predicted values'})\n",
        "actual_pred_df.head(10)"
      ],
      "metadata": {
        "id": "Q51IFmU56o72"
      },
      "execution_count": null,
      "outputs": []
    },
    {
      "cell_type": "markdown",
      "source": [
        "**Plotting results of all models**"
      ],
      "metadata": {
        "id": "E4myHujeE-FG"
      }
    },
    {
      "cell_type": "code",
      "source": [
        "# Plotting the predicted values of all the models against the true values.\n",
        "plt.figure(figsize=(16,8))\n",
        "plt.plot(y_test, linewidth=1,color='black')\n",
        "plt.plot(lr_y_pred)\n",
        "plt.plot(y_pred_lasso)\n",
        "plt.plot(y_pred_ridge)\n",
        "plt.plot(pred_y_elNet)\n",
        "plt.legend(['linear','lasso','ridge','elastic_net'])\n",
        "plt.title('Actual vs Predicted Closing Price values by various Algorithms', weight = 'bold',fontsize=16)\n",
        "plt.show()\n"
      ],
      "metadata": {
        "id": "mqg5rVvUFFC8"
      },
      "execution_count": null,
      "outputs": []
    },
    {
      "cell_type": "code",
      "source": [
        "#Homoscedasticity is an assumption in linear regression algorithm.\n",
        "# Homoscedasticity means that the model should perform well on all the datapoints.\n",
        "\n",
        "# Plotting the residuals(errors) against actual test data.\n",
        "residuals = y_test - pred_y_elNet\n",
        "\n",
        "plt.figure(figsize =(12,1))\n",
        "plt.scatter(y_test,residuals,c='red')\n",
        "plt.title('Actual Test data vs Residuals (Elastic Net)')\n",
        "\n",
        "\n",
        "z = np.polyfit(y_test, residuals, 1)                       #Numpy polyfit() is a function that is used to fit the data within a polynomial function.\n",
        "y_hat = np.poly1d(z)(y_test)\n",
        "plt.plot(y_test, y_hat, \"blue\", lw=1)\n",
        "\n",
        "plt.show()"
      ],
      "metadata": {
        "id": "nmid5u5EdMoC"
      },
      "execution_count": null,
      "outputs": []
    },
    {
      "cell_type": "markdown",
      "source": [
        "# **Conclusion**"
      ],
      "metadata": {
        "id": "gCX9965dhzqZ"
      }
    },
    {
      "cell_type": "markdown",
      "source": [
        "1) Closing stock market value for YES Bank depends on the opening value as well as the highest and lowest values through the day, Given the linear relation between dependent value 'Close' and independent values 'Open','High' and 'Low'.\n",
        "\n",
        "2) The dataset provided was small, hence it is difficicult to conclude if the outliers were 'true outliers'.\n",
        "\n",
        "Presence of outliers alos points towards the real world scenario where stock market prices can spike or fall overnight due to social, natural or economical factors\n",
        "\n",
        "3) There is very high collinearity between the independent values. Multicollinearity was handled using feature engineering.\n",
        "\n",
        "4) On fitting various models like linear regression, Lasso, Ridge and Elastic net , an accuracy of 97.5% was achieved.\n",
        "\n",
        "5) On further modelling variations like Log transformation, introducing lags or random forest regressor, xgboost regressor and support vector regressor, there is scope to increase the accuracy.\n",
        "\n",
        "But, it might also result in overfitting.\n",
        "\n",
        "6)  Using data visualization on our target variable, we can clearly see the impact of 2018 fraud\n",
        "case involving Rana Kapoor as the stock prices decline dramatically during that period.\n",
        "\n",
        "\n",
        "7) This model is quite accurate on this test data. But, its real world applicability can only be decided based on its performance on larger data sets.\n"
      ],
      "metadata": {
        "id": "Fjb1IsQkh3yE"
      }
    },
    {
      "cell_type": "markdown",
      "source": [
        "![DrRWJw3X4AAmoDu.jpg](data:image/jpeg;base64,/9j/4AAQSkZJRgABAQAAAQABAAD/2wBDAAUDBAQEAwUEBAQFBQUGBwwIBwcHBw8LCwkMEQ8SEhEPERETFhwXExQaFRERGCEYGh0dHx8fExciJCIeJBweHx7/2wBDAQUFBQcGBw4ICA4eFBEUHh4eHh4eHh4eHh4eHh4eHh4eHh4eHh4eHh4eHh4eHh4eHh4eHh4eHh4eHh4eHh4eHh7/wgARCAK1BLADASIAAhEBAxEB/8QAHAAAAQUBAQEAAAAAAAAAAAAAAAECAwQFBgcI/8QAGQEBAQEBAQEAAAAAAAAAAAAAAAECAwQF/9oADAMBAAIQAxAAAAHxgAAAAAAAAAAAAAAAAAAAAAAAAAAAAAAAAAAAAAAAAVAAAAAAAAAAAAAAAABRAAFQAAAAUEFBBQQVAAAAAAAAAAAAAAAAAAAAABRAUQAAAFBBQQAAAAAAAAAAAAAAAAAAAAAABRAUQFEUFXRM1HsAQFEUBUAEFAJYgARTcyNbHVsro0YghY0MhR8YgoiiiAABZrahm20VaQIiqlhY29DBNYY5lwogPGoTXqlooxywiiAogKI8UnrLcpPYACSljWnTnCSO4BBHaOfsZ6UavSYud3c7dys7oJfq9fNETQ2AIKICiAoACAogKICggogKCiErBpeoj5YHKjREUHmtmv1sdq+R0fOUghriogKICiKAKIW6gCAoiliGWEQEFAAQFEBZGSkKTsIxUBUUtdxwdla8EsYhKJFKmqsMPotZrzhtiuyEjUlgcwUJiItMagQRkAAAABXNlIgeNdNItIBAQAAWSNy697W5WaqVnJcKWGNQooyr36c1jF6hYpLfMkVEJoZzYwdPNHrMNVFQTobnP706c9Ut1LzAEVzAsRsJbUMaVPrYd6alzL9GyxX0c9GAIACvboLnI5EQFC1X0ijBI4hUB7L9BXsQSeFAFQAlsFPpcHqjNxOu5xqigMoKCCoA9oPO1m+JOn5gmrqlygCAA5EAAFB4xLdYaKha7DlOgaiwN/nSFFRkQBRAVzXG1YtuXlNnI6Re/wA2tybWBG9jGhTt1moEVGF6Pm7C92lrzxYGuGWkjRoAAAAGpmSTWjmTwzbEDXIBRFAsxrGt+rPVJYEQkS7TWNyXES7k9fneRiXKdklikXCoAACiAogCooKSLGiiNFBAUQcggASxOBBBZoZBjXIIAOmjnWsk6LAoM9NHSmayXwAgCSxXEKY4RquWIyQN3Tqw2zZPU85LXoar5cY6OxHKHVRnMnSrGHNt1bc/s/PZNNznXMQEfcNNPNGgAAAAt/PsEr31mmQyRsuRoWq4gIAAAACoFla6LLr4bjtuXpMAESRiAqAL6V5r1RDl9fhOnPa+RqMW8ncdXLosskIqAqKaEtR83r5u5zxRVFuHbMG3z9PNVuoq655S26GsLGxqOV1soiIiiAu1jPXWyHwzSAXApcKYqjTRrTVc0M+5SRjjd1MLolq8t3HEr0fL9nyqVJHMSWu9iqjmogAAoKgaOc5oIqBYruW7DCjaOS+z0bStnfMI59xE7T6fFYnaWOPXzy33kscDH6Gi+dSd4qclN1c/O8o7p47ecsb6JjSaKRnN0zLMTWSXlOO9H4/q4lr2ezzAhYSRqWIGgAAAAAKigCAAAAAAAAACggoICgGkZ0mq+XDbNDYAAAABo0mKpdoiXZ8sHaNWadKCOS80kZrtZS2KpM6sIqSxJpXcVuelopLczS1rSsq2qyIabLM8c1EAAAAABQv0NFa1ixNnbsbXwlVqLrkiucrL1AOxp85oHT8O+MtQNCeuCCAAKJZhQkjUW4zWZnpjMcmuTCxANW5AsV2k6JLun3nLfIbXXT8OmLq3ZudgkmXCIeWsSRLIiRIY4Wo4p4oaj22wq4kYjkARpV5vqKV15Ln9fyXu4MB3Tm0kYIAAAAAAAAAAAAAAA6T1o5jitPJF0KP0oec8t9R1j48NLNF082SXXy0ilRqprIKCAAAAoEiSEABvXcKfl7KMUsHTyk8Fi5ja9owQAABZSKaK2s2fq1JbqviNahBRWfO0adzCCohfgK4AssKg5gS2KarLFbqTTXJeua9jdmzvj0liuZYnNuUAAAAAFBLEATXc3Qahg6bnFQhJkfGtksYL0eZLDLn9Nl+s89P1lteTqkxJiNHNVEc2miLAgo1roxSNpIxkJZ1cbdqPL06xntkhgjUHSMXPbC8o9x8g9WMB7T1+OaEAAEAAAFHjEewAAAAAUnZL6RwfrupZ8/Hunhwv018xbR9YJ4upx/F9HzouzkdQtTN18pui25UZswPYRgMj2OLSqLC1jyIBJnOtNZ0jLCU3NcjRUVBUQAF18i9NVurxOilr2uR6uXlr1Fus1ALmeCSeaqK5tkrGCIAAAAokjNEkpauRNwqis9tPlux6OcraGfviIFwoAg9BoKPRyKxFRFVqksaILJG4agoFuEiVNCXsfQsjpfF3SSQxprmkgrVgapTEc2EVGiRqwRjYCRGqWNnCsNdBhRx0kaxzLWxwrduVpc9eT4j0Dzj05yEVPZ4wFRqqggqjRZSGxAhLEqAKCDkEAOpxPReCz19/7fwr3XXI+Zvoz5XMhU1zJ9eg4o55oDr2e5bEKb5z7pLpTr7OMIKIgqE7oRSSEQRUJ4RAVFC7TuzUUFiFY0VbhqraKpdpjdrEcb02VRmljVLFASfRrVc9klrpeStVLAAABbNbQKkb4yRggioo8mrTTmqliAqDm3yOusYKlhUhkjmiS26az22quuQihO1EI1QHjQX0PhPaOW9XoMvd8nWrT0KMsaPbDVR0IPUhbLHTGOYNaRhGEJfqaVtWe5n8u9eCWvvmkC1Lha6xi1Y6m9Q8ls8/6MUkF7+e1tXuVx3noddytzFYr2N8oXkQICAKCzKS15oViRUTp8ffwJun0GAlxoUE0CluT4U3s89ejm6jdvFvNqoXLtbIcs8TWrO+rYGsc1PSvMfYfH0BQE28hYx6DHtskDfQ/PR+pDLz9FVmjm3Na5TN8JLdANXLRw1JYxAABQfa2prmkFRqyssmqzwiCggoIq6C5wokjZ+0OBBBRA2XwKZIKE0CjmqqtexTUQlx6KUCxa4q0S4FQHo9qtRURQfHXeqc91Pj9Fq3Wn5VIpYoRogrh0CiEcT2UyN7ahr2YKhRSF3+cgrpKePLNdRhSV4owDKWuVLY8q1R65zMTcz++M0lj6cuv5Peucu9fA7jg7I1R3XgjVRFkjsELXos8A0c0RFVNWWmistsv1YEwtvEF1ctrR93PJNXLRFAW5n9C4D3VfA+q5v1Q5rh/YPH09D4X1jyI9/5fo/Aj2Dk+M9iXy7puHU9ff47KaXR9F5svvfA6vj6Mu5xnXc53P8Aq1nkHp3mXtNz5dj+qeWHo/nvrnMnSaOJzy9h4330ScICnqvCdPnTfIey+d+zs/O9jQ2K1MSxyKesr5I07PjvYvIz0/U0vBF9ZzPNvY0849x+c/YCrw+ACAHRTTXSLrtbxo9GwuCAcwF7biFPWLvjUxp43rfkgIqAAKAqzwWSrcp7kevbOZpeD03NfI1JmjWtVs1AAAgaMpsJCPihp2zV6cRddlPs0Ez1t0VozSSxsjmntjRWUL1HSvSuRdc5VW7kdM1qlup24itfYrLNUnt1ZiiWUSurQmGoIrdpcdu9hCdLzehnpDDLX1yeRCq0EAAVyjEUEcjzR9z+f+pXC9Kt8GnX+X7HopT8m67kT2jxv2Dxod7N4z7Ivk3Xcr6aV3eTWz1fyP13ydfWfJvVvJEhUvS0fYfJPTLOK6PoPJU9a4PqNc57ofJfSJdyLzXAs9e57gQmtkhD6p5J6xNSeZ+j+Q2eqTveeRdLz/siZcHlqHuHh/tfih7J457H45KnsPj3sdnkHrvlHrJ5DNq050ygLz67Szrhgeh+Qh655nD7CeKD2id5xvrJUi8ssHrnjnsvjIACCykUs9hrNa9iL6DwXd4ve3uG1/F6Osmxbkl9lZMrC1lLCQKSRRVdJquXj6bGZhYvR09flIt56t/JPOpvcQ+X0BOZ7DFVu3z3Pci2LeemJUdFvnFDMm808jYr9c89U2cjryjUXWGigApakoAgAAC7GPcJc+aCUVpY5zZBiWolhRwjSVhqeueJ3Sh7L4xbKnsPj+9NMx+r5TPX6O+bXR74L9L/ADPIKjHHr3j74xfZfGXj/cvB5jvdvzvOX1TzrLuL7Tw/HSs51/NFl2cFD3vwtk6W/dfnzRlqWp8p09r4/hLl5dxw9amKiA71Pyp56D5/Nqr1s3m8EL7T4ncs7jV4PHX2bxR7E9i8lc6bq+v+Sxss9H83Wz1bjM+otYBOul44PQJfOtQ7qfzikW6r7BU908Jed9t+cZR615I5oOn6Gb5aZ9ayeBERQRHb2DPNdJDzrOe+86fyK7m+zTeYdDx12Dsixi6DMykW+axOX9GNnNqHXEiRy6katSx74pRjo0iXq+QnmvQq/Fyc+npr+PvcOw+tfZpzEaQxWV2z8DqMXpjGLtbrzhR7LlbtTTXPhkYjSWNEAFEBUAUVwbWN2M6LyfacpjpnzwTdfP1PI26ksYIiiA7ZxXy9HHjdBOnLI5uuYoISRoKiggoIqA6SKdZoFiGoCAAAAqAu7gyS7eFLC0IqXAAOWRgxUuSx6+e1uxlzQoiolyoipcrOiV2jmaBRarUHNkGpJGqAIAAKok8CqrREUQAAskV6WHtORu47v56zW3xEC5FR46S1Vmq4qWDp2Ed2mmb6Jv8AJ9z5O+Pz/UcwcbX18f18JbudJqRuYiKD1YK1FQUFe8hEFvbnLWsdOqn53S49NJa78Wzaq9dbzGJ6PyOs83X16+pzsWvBvFNdB9ZbumxyPMvVdYRlusjEcliKil8jldKW3hOk6vmWtxpo46c2pJGIAiCgiooo1RWqgqpaWslmsIqTohM0ibu4mesehQ6vWebr+lebSNBblFPUTy1zZ1iS1VEVFSwy9CtJFRAAUJBk62ZqtB6r57Zl6eZbWo1UZFfYK0sKqxZUSNABUUVBAAAAVzXLrTpbx6uZjsV9eUAsABbtIiRjVUBLAAHNC7WZOt/O6rm8drcW5yt5pLDr6nSej+e+kePtS5zq8PF80x+w5j186STwdOYiiPs1rK1GyRoKBLNUAEB1mq6XQ1Of1efXadTt8ek/Z8b0Es2ZfwLK9S3CVM3Wo9Mw2K+1Ft/Q3ObldG5y2pt53K1euNPDum5nI9usCtUQAWWKzLI/qW8vTytTXzOnBH6GlrPMMsQIjn/RR8+Rejbp4rd9dwjziL2vy4xVT1c836XR7s8tby3o68BY9X5uOB665gt9HwnvHD3HnjPVcBOKuZvrp5BbqfQ54DY9FrL5keweRI9/VdYeXUfTbZ5MKB3HF+7nkWN65xJv8V2vQnktT0LpjxFNzEJeg7LNOCg928QOxxfXMk8cTq+TJXPrqlz1Wgeb1PUvM0hvdhbPPYfaPOlxdPR9k59vn2P0WbfHyhPSPOLLcdmArIqAAAAAAAD2TnX3MrvPN6Ied6TS5a8/1O1W4zN1a+NVsK5mLlc320PWeew9TU7Y5521o3OZH1DufTgmdbV6c+dTSi1KJsWzmzdWXKsbl7nvEdvLjWZeknzqInTOqyyNuYYpoKr1ra6zU63D6PLTwpfOdZs5qdn2zy9T1rGy87XeytysySPeCSOda6orLpobEvU4qXeXpp53Rc/vl28N6tvHP4G/go/2PyH1JPItChdPU/H/AFbyo1e04fujzM6f1A8K9Nm6U8c9e8f9PPIYQLvRcz0Oe3T+Xegefa4r7B4/6+eQeveQevnkPuHiHsJ46CHsXknrPkJ7V4p9CcgeVex0ZDylksQ/0bzb0k47G2Mc9LxNvMOTmqynofl/qnCmMvsucU+Q9d8mOq5jqOTM2raqtJ1fKehsx8H3XGZ61Ry65MX2Coeb+mQ3V5TuOL6jh7fIY3N7eL2Dx72Hx+wABFBAAAAAABZNC8un6XxHfeTrI6VvDpDIrkbl38nTLrzsVZlmrMr7YvJX9KJLjLd2Xiq3bV7OUtdMysQ2VkyV2EzcyHTrNUW3YbKstmSdKBdp1FBZi1ioyRqxOfLrMs2dn2W+SvRdufR9Ll3+G9/PtZ2NZeVrQ7nMYnSc36uKKhcIqLZa6rkd6dMG9nox0/OMYarcwq7UQToO6847Gb85u0bdx6d5d7HyS8123P8ATGrxlb0g8M9lpCedekeZQGvg+y0jyXoOk5I6nz7suNF9f8i9JPNPX/IPVZfLvXuI6WdPOa8kV5+veQeledWey+Ma3ph4yvrFY4CnPWG+jec6xPg+18Wajc/mTPtVLB6VYw+cKNX2Ska/lff+cnbchB6meKnb8kVen525nXsXj3ot/Hfx/a7zy3r5u/8AN/ZqpxfZ5tU5nvfNu2l8+YqV7B5B6R59I1vV8u3ABcCSMEAAAFQOwucppS971mJueLtOirz20RslLH0cu6SrZzt29aoX8yR7JMkrXjSpZY8hitxSJOsyjJomW1ZKYytJFrTqlmhbrXc6vy9W1zm3zO+U8uY/pylijdk6zXulTjvU+E7c+bY5vp42us4nY5b9Ijrt8/aCF9Szm8W7S9XnmkJtTOARZIwAURHIIACoCiAKinW7eArerXryNce1WuYgIKijm26oiCiKigKgTwX5rRw72dNoBrlZsU7Kur7LprnBUuQtVhzLVVAQFSVCMVAAFEBRAUQFkiBz4lHtS2tVAQu05iFqoK5igigdTy3TTXSefdThTeXbratxXpWKytCa4gFBBQSeF0vtHQ8f2Hj6WnxJy6FZmLbax42XUTHy6pcilxmeenbymc1KmdFY0Rk65kSuZUVZ9ZIYkra1I6nFbPAtUClDppU4ZrIBGJobWb1vL14NynrThocR23nHXjm61Tsuk4yDrMXOtqlZyM3T52zzHfkxBOvOxIQkKoqCyOWHXyeijFrWatIAgAAAADhoOGgqAAAKjiSLexRYtLPVskYk0IBYriyRhCAWLq5V+XYpsyZpEDWHNR40lCE9BzzkljARVGioAKIKCAAqSkSqgj2KTRCFqqIAAAFus+MSWINZuY9bF7N3M9KuVu4DTZYi8VRX1GPYKWI17j0vxX2Dy7s4+jwfDptcjCnolTqOB2dXt04zPxfSl4noMTVs83p411q28hIbmPcL76M0TI2NYoEhsqUrFC6ZAyLcuVo61lik+LcerGI90U0u90/NegcPVydp9ScZuX0dKzkt7Rz6oMXA6Z0adbP65rwKnXgCFjhoK5jpegaxuPTkoN6eZWqCIoiKOGpKwaKgAAAAAABPAp6/5Z6X5oVUTojnF9J4ozmPkLdLv3HnBZrgm7pHIz9ly5Xr63YL5wnc8OJLFqJr9FjequnkfP8AZcQ5wSa3ay8C/vsHj6uQi9Hd28vmrtPNs0M7q81rEX0nlmeffq9iebJu4QKikrZYRiooIqAAAAAAKolypYNSrczygqIWWRCzRAt6CSeaq+yeKer8512VpyeTt43jexeZennz49vbCJJbKWnFdlf3ub0Pm7atKGnjVOzVhy1ZMp9bRl3SGsudU9NSqQ5mjK0jbljlUiitQVHYZNWx2nCS8unRZdtuZmb11c6XmdPKueQg2sr1coshW9eYipcAAqACoo98tybzGvEvR9llryiPZcmnmb5Bm9Xz1Z7ZY5EAAABVGioCop6x5p6P5udH0W95+YPr3n3Wnlejqcob8FvVOq8c9v8AED3/AM36/wAZLvV8N3J3vm9m5NNdwXrlnjtiBEueyeIeunC4JGfS/kfU+OzfR995t7Py9HC8VPi9vN7d5Fa7Bmp1XKZhiet+KeiG75poUp09V8U9Y81vPMAFBBXMsELZYgFALlUYKgtqqpPLdlzvKWOHWURUQVVGKBJNWWaPUvLPQed9Elin8faph9BWa5aj22pp5qnoXNGdYsV0sX8qWNJabpYsTczrajq0m0uhiNsvxVZhpHCOdCzR4OZY5rpXRTMla5NOaq3LuZjduzU3nK/maSZ64rpOa6cafHTV/XxRFTfMAAAAAc1x0c2TfbwRETqLfIpNMjVLhdHOls7vNs2JvjaNiuiAMgAt6jKsbVRB7Zj07zf0jzc9h856LFIZuSuB6v5D7ScPg42qeoeM/Qfz4eveQ+veQidzw3clSnY5dX+weOeyJ47HYrh675F66eSoqHrHk3rPkxN7V4h61NeVwbeJc6vd2uCOixtnDMnvPO/RFz8WbnZv0/gO84O88sUFSWVaivYCKiKAaWegNHNFVFNV8WzjrhUdXJ1hBC5knqqomlnE4kxT7Xiew5a9TsVbPj7Mq36y1dnNllmwLNEgpFTS1Nn2tLLWNynYxFow6FDaBK6WWlrOuZYUar0RaWSeGJHx2pYWXs1U0MhsdHkVSa1d/wA/NcvQK/GwHU8FYye/MQf15NbaqgAAAAAqA8aKCCKIAqKPksbM1VirUwjC5QAAAABUUt2Ju9a5TmrVKRvonE1LfVGeVDMnTcqp7FicfmTp0fLuW8+r5AA3MNTUylBOx45QHSkHW8k8aiKdXybkB7Jl9KteTtTseOEN+jnAvU8sGjnCL0+FVVBdJJurdy7CzUJ4GUFluYgAc2chRZiCZl9aT5Kiq23GkArkjkZOWKIigCHVct0GNesWOaxPJ29BZ5hqL3lbjMSzv6nB29NWthLq6lnn+hTqk5lsaD8VJrViznEjkkmqF2mmsKxRUljC/DVujX1kJ4GoLGRWI+rNVbI6LM6c6A6LeJIxLlRAc1UAAAAAAAAAAAAHIp1FeZ065ebt4rMaOS4QUAFGjmgqB0nXeX3GpYYYYsQtSwAQVAcNUUQEVHCJoUALymeKgrmKFitMNZbqD2IDtrEtLLQuUwHW0pJcrkZIwQVAc1TWuYlvHWgySPXMQLFmgUBAdpZgDmA4aDkLTT4ZaioCsIOkWJ81eWxAJVq/Vu41s8t3PQ8OmPD2MkeT43tVHc8ig9Ywt54BOoy9TM6nDvWQO6ukYVWoyzau8/pcumw2GbntGyKsaW65IxWLHYiVAlisajG0QPrWKQuq9n3kMBt6HpyrI5usAAAAAAAAACgAIKCAAqBJPVVbdipqrUsOWdMPVyetc2SYXazfnsUkV5HTc173Xlc87159tnfTgU7PjQ1dXoDz3f0emOHy+l648aO64g6N3qfnJHi72eYfX8r7KeZ5PS755UnqnlhpZvr3kJqafe8iUC8hxmpl+1Hip6R5saFrO9FXzdmnRHXfQqiZWY3qDzXVueinJO0K81z/ADfacZYwURFLZURUFQAUURLlYbo1IprRzkA1crurMiCatOuZCF5W2MjHXc+zL6/0GD0fi7c1l9JxMrH8dJ6c7+Vjwaxrx5kmmlax9nGpEv38a4ql1WF1509PN160ZGnLoWal7G7tKR8SZ2hXtrINZVixWNidX1HViHUkfDpyzPEm0z+95rOuSjuVPR5GjkuUAAAAAABzXROuhdz25xkke+SAIAAqA58Sl9+aTS72AWddp8BJLEglyvsfjn0KfPR6VKvmC9NzJ7Z49f8AeU5DyO5kndtp3Dh7lXo19I8V9V8qT13x76H4I81f6PyJT9H829JPKVToT0rxT2Hyc9V8h9q8ll9T8e9jxK81PSaqcB6/5L7CsfmdP2NPEfTvMvTTiNHO9CKfmenmB2fJa6u9C8q9cPGHejrHJ5XqXKN87Q3cG81lhBQerXOjDUytAnytvGNnFlCuAju44fXaoWJXNZsO7hSNUW4S0aeN+ndFh7nj7N5frmS+MZvt2N0nj1f1jN6485uddLZxnR6+lz6Zdm9T49cXH2aPfjhbNNnXNiSrNjVh9VYuPpTLcs502dSV1rMvjij3CCahrKsifvMvbZnR8u+JkdBg899tm3mcu3I5vV1PT5OORU7+dAEAAAAAHNU21xDPRzA1zB9kpo9gAAAKICiKCq5WJYroe0+LexnmU1Fjc+ckjPVep5PiqdTyntvi51HpHm9w6TM86jlVzH2e0eS+r+NFyq1hc978F9HF67579RPMehkimvSuA73xyb9d8v8AU/N0WhJAln1DgPQG/GOr525eXZydFWs8v9D4m4YWb6L50TuhVY/YvHfYU8tdQQ6upj2Ju5hWazIBY+XQ0OfqxKlq7rjjTMZrFmsipbdRBUAFQH9LzDlkja+Umt0TZtY9jHb1LouQ6vyLdunexpaGjWXKq6tWzLL1dKsFqHO4sPo+T1ulRnr+jjUhfV64mfVvyskv5ks0sJFl9UlnqrFYtnMk3i/gXs7WR8S6z1NzktbHTp8t93h26OxRveX1ZGP1/O9/N5uzSzfZ5QC5AUQVAAAAAAcjyz1vJ3ZrIjkZYgCAAAAAKICiAvu/g/VkiIGb3vAgYrkNzvPL9otW+ReUxHg/QfOvr/mqF5T4mrmFL0fy6+Zj2Ke5+KXKJ655Do5svvnEZ0mO603wa5ZPp3jmpYlWvZs7D2fwro2uT5y1UZ9o53znpEg0r8S8R7J41spt17DFr8t1PLCKjxWWqpswssc/RnT1Yt8XNC4clyAgVFHpp1SoF0qNuU1FRyPWGVXRSQy+jd5476j5um7LQfw3paPOWGr2XrctFvNbnVYrUs/bXxaseyUFz+3NWRJvEr6obc2K/OrtWvDZdmzuim6EenQjKaidfOoiiOR5JrU9vl1m14NLh2XYobnOpyfT+c7zm4vWc76/PTRzdZVU0Fos081EHKMAAAWaGdesoX256cnHMy4iWRLmNXOI0cggAAAAAKOdtwtY6KjOjTWVagiogoJepTTUjNAnXIUv64V7kDigigiops5FmqIAWrWUs05t2lcoKhIMVZNrDkWAEZFRR/Tcx0jXNX8+wl+O3fXl5LlhMPSzkQRFARQEBUAciKTw2qo9YgNPMFmhVAVJCM0KKNBS92HGLjfrJ5vrefp1xxsk31+fhZ9m3nYLt52KefU3NaLNZvFqCM1lRCRZIVteMszULJYrl3R80S6VWuAgtyiihOzTzu5sRaHDs+6aPHclxajOX5fv8v6uXXcs+Hpza1UsXpua6JrU43qcOWi6zGlMC5ABXxqaC5xLLcz7dbvO7eIWN3P7Gb88q6GewgFgAAAKgajsuduOOaNlJbVJI3NUtVXxiqgPmr6zWW7SyQGqyIoIqKOS7VI0VRqiEjorpSALdRUJ72W4YioCoDr9FytSSIdsYilxKoCIqA7am8NJ4WUUWxB7BABUALVV5PWliLTGRqWK8iNaBIwVXsUEcgOVjYlYwFdGtPagioIKI4aOaAAskcioyaEQBAAJoVNShafNya5pcOt6dm1x2uo+niRcvr+c9sZMSp6uICWKqWiqALNArVu1lW82kBrAAAACgPYEixOOo6Pg+rm+SozQMiKWAqCAAAKrQc5gvQYsaRITw2QABIxRXxC7GOCopYSBLtIRRUC0xYHu2pvAR8dwKggAKt1pUVsixoqIAGnW0tjPfDyt3BuGipeago1QN+lczcejV57pObZFau+MsT3LEjkRBQR7JBGq0UQFkiUEFBzdBYq+jnNE0E1xE1UlsQ2ny0eoreh4vnFqt6XnXj1f0rz/AHirIw3mes9gAothilzMtVRABw+UqvS7mptGzy7Lprs8OibDWYkOdPkWZPBbfP8As4l2lpbVa1uujHhctVLC1yeAFUWMBkABUU11hYUBUEVAknqqqtkQZLG82M67AuaoMoAAAKgKICiKIoC6GfMsiSRFYERbFdVsVgQVJV0H50c1Jq4YkkQtygAKgWFrgSRqqIoiChrTpVx2nx9TP1iEUuH35csYCj9XHSb1coRkAsmfXcs1fUyyxYe2azhUuEAAAAAUsrG3UoNMjRZEWS0UXa0+dZnUw9Jz0/ZyNnlrxz0ng93tnvOP7bN8+vJ6HoXJernkI5vTmKiioqq1FRBUUsdHz/Zc+9GDfdx61tqxp88x3WMykdLUxMnmtjzj1Zqxqnp4ksaJJJX0prQyun5fHWrt4nR26HGdBhJEqG+KCogAAArmuGjgaOQR7XmnFp2p15FFa5uRXWMEAAAUEAAAFRS6kljPbKbLFrmggyAC6mXdKSKgs8CD2ooIAAACiACqloraVG4ucCo51ust3PYkALZLC9i26k0KE0FhX1bVUEVEAAVAnhQHDQVAAAAAUsjV1bE1gP6x3PpzWntUJY5cvWxap0jZqtchxkk67yf0K5dwvtHm2531jgu/4azOf7HKmvMsr0Di/Vxojk6c3XKVmWsGkudNPoTR3vM7vn627kknLUyw2cxlxXUzNu8/ZyfG6eX7OSAu+bzT1pvlrlzEOkxqzZSeuXFt1P1Z08ui9O8+YpGtSWqjkuEUcJOnbtcXD1nLJoXJ80yXNDqa+A2bFb1Nzkz7PPtZaKjmKkgErWoUc1kABUB1mqLNEiiIqICgiiADhoqAAAAABcpzjY3NF1IZ2o202jbEDmd/GjYrQEfbouVC/GUwECQIy5XI0VAAAc8jRUAAAAUUR9/YzvK6hNHjulDDWzq1WpZm5swZOzqM6DIm566iLMsY0vO9Dzm84Xc8N0vXHrNS7J5d+J9dv8Jt6VW5zqeesHgPU+M6Th00Kvr4LGkgt+bU5daupqbPLdHRitcwWr+FedzpGwrDEHA9J5x6M5sjz18mS17EvTc3s4mOuhjXa+sXMvWyKFks3lR9F86cekcPSRenyIKvPuiLL04ROtQEndY9lczCv5wqTxJEgIgAtmu5dzCnrqiAyTQzLpN0GcvZzzXN6+MFGXpI1YgCaeoo1TQXO04N+XnqskdyX6DhqKIgqKAoigIKgKBoWsd6smgQuUlRAFEFBFRTqsq05eecgbdCog9rbCV0c0ACSxUARQEmjEH3Zauu+9joNSnz3t2M2tm12VF1maHWl1rO0I5orar72NQxur5kOJdwe2GaGVd68vctHN1fn94M7erNeSTek+f9MdRDzPTzeNz3oGTued6PT7us811GlFzsEWnYxqpNacjUljhIXRSJlz8x0mTxckHr5TQyM3lqqh0JhxZ6dRzsEqPrTRaw50aI4mkWoAijVWTpeY60myehy87fgyUbliNW57Hmo2NRstQyRk1o0nYvos3w2TLLc1SzWsFQRxPBNNVJ5q7Xs0eP04277GsRb13XLETpKOeuXY0XLTXZxEjkp7M2zF2H57QOsw59GM7p5+nz+Qb0GXvz3KGvVz6ss2o7yq1t1M98BNp154hvNuMxukme+MnR890+fLWkj6+Eu07az1GTLZZazR1WzWQt1BJYVBAcIW4ViLd6XP0tTY59MddCjz3EldllqjLU0KldvTFvquc9B5duZyekw8bj2a+yxco2MXC9DC+zN5vo+a9HE1crf1j2LZyt7welaWpnc9Vo7TLnnOe67mO0s6jNiGzudhTlmaMe5BFIiSMgpKUmEV+B6HjfViNC135OidWlniaWXKTmgqaSZxPYWgklhKtiqKACKiotispav4zproeec0aamdcpZqyL0WHarTerbp0JdPJpIzsLjXqjqAyAWaUCwywBYscMgx6NDRzWzrBPVS8dOKoN68Onz+PRcpS09+aZIS8rjar51ty1I501ek5irjpZoz0+nC1HAXFsqtzu3HAaxanz7k1t4SwWWnV1z0uZr4dcQc+8ohUsRzQu0wEVAVUsLA2aEHNEuaWLvZ6T3a7uHXTkhgxZMd+F1xZbVZ0zJCw1hblKSrvYcJvce2lLW1eXSVlullzujBLrGrgbPPamPVkj9HA6Xmu1zfU9/E6Dw920rCcelOvd4/ThORdD9PybXr3hnY8unrEmfZ8m5khUkRjB6NiEgmhrNp7kOnAch0vP+vnWliTpyewARQBAWxXmG2afRNYc1nLVEu0mZBEGu1c+WAVLlFQFVqmvltVZnbK1gNdFI5ogAAqSEYAqLOtdXxodbyXWl3iO3onbeX9Vyp0XJdfeMOi7EPTM1IjLodE8q5Wd1phavQ0jhjXzTqOM7PjDp7Xdx8+/k/XUduzhNu1Y3y56/HlpZl0dQz3dBxTclnusaTneQ7bibnpH00zuhUezWEAAFEHNF6bmdzPbPp2kSum7j3Fvfq6vLtktakuzgaWZc5jBOvIQEQCwVFJOh5za59Nm7T0+HazSkq4sc8d3Uq4XQ42pyiSxerznofnnrHO9trZlrxd5GtOW3+I+r+Tdt89TE+h4lcxyetdD5T6X4+2itebjuQbNZEsskQOkaR4mv5/0zg4L4/ZzhRTWEdKLAPYiKKEjGq7axFW9BHaWiioyqAm5lRJNoipcAqjR6DXIFlawK1QRJYxAAngUQVBZ4FVW6eYidbyTzR7nzNx2NrhFOrvcW07TmLeXN9O/jS47GbldI5/seQF7nEwLaVWAem8dmNPWef5S9j09ln8usm0cVZ6cNvCrtTspuKU7itzes11uryCZtXkvQvPdY1X45LZbBNZCjmg5qlqo5Anhmmmy6WPLfrV9VduXWw+HWtPWvFHC0cbtzWSK5vnBDeoogKIrgTZztvn00dDn9Hj11VbNjTJlilo4uvNvPDVek5z0+dvs3jfu3K7diObx90gtZi+f+e6eF7/OCr0xNOxix+i+bbeNeuWKep4ez3j4FYynVMvzzrjouZyr/bOVWs1uuWFiGxJY3ysZYjG2GILDKCSTpVNrhGoqIIqAAKIo7Qp9fN5GV6RwGbnIqb5oALYrzHX8bs4itAQUARQVOgwAa4ERUAABQSVgvQ4WtkTpGST3nBr4kyKjLrdBLNZEAZABZYra1p4Gi2qmumU17DRsUNtrnEu00XSq116HH3MxnKBAAAAAAVFLetQ1s9dLL0Kedcvs42hrHWZTXceteJ9PWaULmdeLrFYqSMAedBLj6U9HG7MUfZY64t2anzXr/NakupGRZtfOSPWcbN1M308LfvHlHrXn1efA/h1f5/1nivWYjHJ7fNLt5/Y1zWL0V/nvjXdNQX0PqvI/VPJ0vthyY0+O5XnPRixVtTdcuSJCJ0brLNK6xZR1jO6NWxZstQasnH04cXQ09c5MToOU6cbFWVdYroCFiO4ucAgqKT9hxMk3o0o45BFTWUAFVqioAgqAKgKgTRoGxLQnx6cxjm6849tyqrrzihGrSykAoIIICO67keqnXFztvJSEVLzABbFcVWqiKrQUQHSwival8oqrDdjgoDEBAAAABRHllZZKZnpPXmguGSQSFrdyLvLtUzXxdObUVNcwFFsy3puDUwH43czjalk6TIu8uurlzXcXn7jG3GtSuW5vn6fZcb0xg167fT5/S+38Hscr7dyvmUMuxn67ekwVGazLsYUievbVDR8fogqay4vEM67ltrPASbfXHO6/QW8sXiey4vrmxNTl1lqzsrRt5sWda9HRkz0xiszWN+/z3VcPTSy+k5bUkxY7HfyVrVaeyooJb38vupvy0C4FQAAVWuWVupCuajmsioo7Sz+mmuVJ75mM38GmioyoONGhcozbUVLhb1G82lSauggMgAqAAArmC61GNkggUAAAAABKRCggAtms4GyMVARFQAAAAFFLc0dqaKvQ83ndUE3zmbfSW7Lsxce3K0rlLryEVNYV7Lkt2tLWx1nfW0ozOjr2823VtZWN7VnE3IzquzRkq69EXqeGu810maip6PMCODR0sGat28R1gxWoujnTy+xWcHV8Po131beLTh0JdMXUtvsz6mvxFcPTvUvVybBMbyx0Eo5WvjoWZ2Y0j3xWP0ak8VyOaE0lpEMOhl6kbJYbNXu/M7MtEC5AAABwS69QJukBrmgA6QJruLYZ6t4QLmKELySUKkgBUQEVQVAEQAAAAAAAAAAAAAAAALoFR4DWAEwE9UGmAMgAAAAEoElkM718MJuogb5LdCa6J4cu3M0g6cRA1hd0JbNEOXaNwJq3wxuSiC5u6DL7YZq8uFZ1AO/NoG+aTBJ1fLBnpZohrLQLmSUJe66APH6LuuHITBEihWf5SHWY9YPVybqBpnxhI+MLGXAWFQNLOCI0As9GGNUsMNyOENZcBL//xAA5EAACAQMCBQIEBQUAAwACAwEBAgMABBEFEgYQEyAhMDEHFCIyFRYjNTYkMzRAQSU3QiZQF0RFgP/aAAgBAQABBQL/AP5AbG3npUMUpYYagBg8oNnUjto8yY6nMUeyOF3X/rKoh5j320R2jFHFRLukEVsWcYbvKkUgy1xGEPOMZpkIHYPeJIybhVVqt7cMsqqH/wBxcbjto47NNjhlfwKs4o2h/wBFIy6kYPokDb3CjbsIW7selpcix8ocU/3erAyAEotwzgpziAyemz3EUfzjDB7bbzOYJRNMd0vcoyZT9I8EsT2WyF2l0+72uMdinBsZQJZ+n8vMFxpbxigqm5MeBsbDowH+oKZcBfBK4ahWe2GQxSdSyZ5poXh9IUyr0+2M4HogZo/b3QLvdmR7p/fsQZLQutPGRR7FX6PWxzHmtpx3oCzWsDNdOX+euFCz1jsFbm7MdkLbJLiKOGKkGWdcc9MKq1wqz306sjdgJFdV9pOagfYVYqwYgWJ3pfOxkrp0fft2nHasWTKhjbmFzyLE8jIen3LbyR2l/auiYOPRUZo0PeQ7j69vJ0pZLaCK3AojtRipedmYnJpRWOVqP09NWKXU9WtCb6cYkpF3E++fHJI3euhKKaJ1X0d301jxB4keUvH3io8jSzeXBHJR+nKMHlEu95o4I5biEwS1H5kKRvJzhKCQ3G8Vb4BGDBytHVZo7aKOe7l61x6QmxbzSrJFQIyffsFZKoezBpFEMbkk7fo5L798Yy2FzKNrX8ht7C7/AF9MuTuHciljSKWfpy2z38O619RQWpoJFHO0i6snzyS1HZKLeTyfQs43MEiMtlWmW/zNxoljb28+ssZ3bOaiwiSD6udlqs1rDY6ne3l1xNdoy+mpjNsvTEJ71TMcZCyfNSfMTMHkTbtb3z9DNu5YNWn+Td/5mqNm7pG2usuH/wBdMFuYQlT2Ci7jtjVXW9dDC5UksDDy3t6HDv7tc3kYvuJbcQakbx2hmupJYu+1/uyReYtsUkks8jX5m6B9S28RxO3VlUC8m/u0CeV2221PoCtLUvp1zFJFpVaJ9U5urWzGpXTtdMcmvOJQA/OBWeWdotF09/PMj0QcUD5bvV8CkjHTkXZJyto9wcYYe8nvnBkERkuOo8vrbR34PohiB2A0g6km36pV2tyaTcl5NHcR9kce6J4tsdYrBraa2mgrGuHQqapPZSm74kXqXXyjUtoTXyTUlia+Qo2FfIV+HtQsGr5ZY6uvtNRyyRksSeQ99g6h9CJ9pSSJK3/ryNufmzkj0UYrRcms1pl41lcfi0Gb24+Ym5B2Hbo9obGxuLW/uHmtriJa0dVfUrmxne5lRo27rZQY7uPak9ku7UEhjn5AEmK1cwzpskqJAROgUdQ7JG3vRUis0TnsWX+smZuu/wB/pp90UW6+vxL87pltDNbmoraFuHwCeUf3SnPpXAQHsh+72qby9AGrL5ddFtwl9b9mmW/UsWtC0a2FCwr8PprAivk6Sx8x2mK+RJr5OvlaWzoWwFCEUIRTRCuiKENNEBV3F9N3lQe1Dh+oRKfJ/wBsGs+jHr1/Gqa5eNZ32qXN1DWk+NR1S5dtU4gw17QQ7OyCQxPLK01J/RRXcLwTctL/AM+e8dZdUxLBFbxpcXn6Tu7OOUZ2vNIrL2g/VI2X7Ng2UB5kREpsbrgjbyHg2sjPe5llvNI825FQfxWP+yi7iR5wcUfQJJ7RWecDlRNIs2i6KQq0EY1DZyPVtp4qCLaghFdAV0q6dGIGugtCEUIhQQVsrbW2itbaxWKxQFMlTpWoxeGGD/8ApBG5B9CM/wBFyspFiup5FefUJUllpn/oeajNGlJUySvI000ktY5ab4vbq9frz3EkzNOWqWQyNbpvM6FD6yn9CJNzNGoa+YxNI5ZixPYDivm7jfw7OnUl0e+WW/8A6HQ6tzhm9y30d0GN7jHI20tdCTYq5BGD2iUbGbNW1tJJUGn1Hp4qC0ACQqKWMVtrFYrFYrFY5n0TUoq+TxdJhv8A9FZQ9aQwKIPAgk8v6qxMyyxSxrzstvSuRtm5g8onMbu25uWKtn2VK5lNWlr1pLiDp0Rj07aTYsMm0Ocvqec8x5plI5gkFb67Ad2dvQFY5j3nbOp2z/rq22lBZpI9i1DbzTVIjRtQrTrBpKtrMAJCBQiFBKC1j0j2EdpphVxD1F1K1Kg8h7lcf6qgk2XDGp3EbrtcVaWk93PFwXftHrGh3+ljnZS9KSaRBAJXAPpopc8tOcLV/IJYkQs55I5VSSxYFT3oualAxWmp/W3kYNTzrb3iN11uVBHoY5A1uOUuZ1DOznmnhrmQSHkgyPShba7VFGvTkiZJT4IkbqByOSHazN9NX7tBFdTvOlaTZmU20ARUWgKA9PNZoms8ltQE+WQhhgnkeSDJdGq/gcxXKbHpfBLZH+nFG8sm2z4VtNR1G81CWhXCFvFHpFXMMdxBqVsbO/ocz6YGaGUHKNsGSbKh8c1AxGdruct2lCEqP2+UuHoIQ9iQt3ZyhX1V1a7hlMZUbreYAScngw867H9AINh5Rsgit4LWKHoabPE6lTQPqD3aXButs00393uNzHJBdXAlWwt+vNZQCONFoChQ9I8yaJpD5vvBtTi4usCc0eattLzSk38nTs9RAJ9P/wCSPS4Gto1fUbqW9vOS1wrfRXulcuNQBxJQqKzdkFhIr3MfSbHLA2MMHmoywjUsijpKcPIctyjfazsWoDJMbAVnx3umbIqRXD9sk8vzspXUoxJpe3c93EOnyEhEXPdTHPoKM0MUwG3lYXNjNDJplrNHKCr+iozR7d7bycmiPp7RWiW2BGvhRWPTPPPNMYDxyxq1upmJ6ho0TWeS7YkvZmc33qIyhXOT3haIrRLKa44Is+DtOjj1Xg22aGRGjetK1K60y4Xjd9mh6xf63xDxLN8xrtCrk/TI7xRXUolqJlArd9LnJ5jwY5PqmO2vepF2tyiX9SYr0UOHaUkUAfQ6x+XuZUePh5toz9dw+dCD7GEzY5KuaMeIiPTtCFWNyGkP1cpY4Lu309Gs57+QTXfaATR5r4o+hnxyhClZPuqxiMs9hFtVR49Q8mrdWeS0ozTDFE0aNMaLVZbWa6jaQ3lm+y9Pn0cePSgSWSCYYbghg3DnLjRFTiPno6fgHDpOeaXUyLJK8jHltNNDKq9sQy05yw95Tl+Ujbu2F9scjZY+hpUwinexuN9+/StT2R7iHlHQf3H2H37njxJKuyStx7ASKLE92Ki+x/u5Pz2+CMdiY2NjbyB8E55cO2o6cKYqJVEU23HqmtooJkm0IpoSgjxtc+TWaLCnNGgxFTM1TTPi88nlDA8tDSn2T2skJPLb4PuW8d0CBqlxv5aVEtxY3YxPwJq0dtLV7cw2dvrF4dQ1KtO069v2ttJ0/Qxruqz6rd9gqCKL5WVdrxqpjutot+1SRROfRHu2BXg04xyxyt4hIZ4lUNzS9ulVmLHsR9qsc+kZELStvk7crt7lC9E+DyAGwnlHH9Mn0w3P381bAJyOy3QyS6bFsgRaDAQTsrL2DsPM0TRoUn3uWmluMCFfsIbLAgZpuWambbTPkXTEGds85v6LTd7GtIf5lZRtkrfUnk9rrtEf2tIwWRtx5RXc8MMzFmq21vVbZLy+u71gM1trSrq6gN6qNHWD2CoJodlxIZZdxwZGKRKHEmBSfdx3YWdi3PHaOafdKn0ean5QYIk++zbabqRXjPobTgEjsuECP6KnFN5PZo9i+pahrenyaXf899Mcnm8cax3EakfahY4Jz2DzR7eH7bfJCKWsnBo9g5mjyNNRNE1mlkw30gSlVQt9MMYkq8ky+aPJqkOaP01NlhJ78tXO+wFcPZ+cuTm47VRmojBqY1mic9lgbWKGZt8vOy6vW1Gf9KJyjSTl1giMrTxKlofQjbaJDuaP7/iV9/NLddrjDY5wAE8TWUVnpFWyjdIJFq1R53nP1dqjJddp7bOAzzXUKJZV/wATFH3lbe/aKaL9PlIhWPgyziurrs0u9l0+91a+m1G97TyFMNizfpgtle1KPnsQZbSIRHbxil5nuNHkeRo4rxXiiBTCskVvqSb6bl45IqNNTtTeaaiPMkdOOWn3cfRtoLeKZntikgKvWOyEnLHcaPb/AEyJiv8AkELy1cQPCtabcQwC4a2KcrWRUM8sRt+cBQTcY6TaWJbweFNPTUtX4y0uLTdQrgzS7W/dihueKdKl1a/aXhHTzDdcJXp4n0RtJm6kRHD2n6XdRfM8KW5tYeF9aOr2E2m3/Dx0BIOJm0VIrx+EhbhiKhu5ohw7cJeatxRYrp+sVwTottqKazafI6pVlplknCERG/TeHbaOBjoKHUeHLG9tmBB5cGWVne2ExjFlQ4bt/wAq1BG0z8ZafYaYOGrO1vL2ebhGzMFzwlqD8R6G2lXDLtZeHku+H5I+G9MZdT4TlPEWgwW9nay2klxw0+iNa9bgutdbTGu+XDltDd61xJaQ2uu6ToMl/dXC8KaQ66nwlLXEVtoKWgpjnlw5p2mXUTX3CNsbWPhfW21jT5tMvu8UYyOVmu65tFwi1F9wT6pTlu40eRNE1I9b630HovWc1mjyzzkpqGKmH6Yqb3k5jzRDLyhTeyCPpcxSjw4wewVNb71YEcrBz+H3xm+WrNZ9C3j6k09vDqfClymybhgfh3DOr/8Ak+Casv8AxvASffx/ePBpfKUm9+HnImoJXhm+IIVnZlVPiF/Zc5PK2laC4+IEazQVdynQuFviDbqZ1yTxl/R6HwTYrd63dXp1Hi66tJw/Dd5NZcQccWotte5cB3XQ1ziWz+V1nSbA3WtLqYPGWt2nyWq8G25uOIOMrn5nX0cpTsWNao3znA1w/UmS8ax4DJJ5cFMbnQ6+H/8Ag9nB/wDI+Kv5dwoYRf6nbS2d73wyNFL8QsSL6Ekm6OtGTde2/stRfeZMSSjB7jTGs05qR/DHPLPLFAkVuoNRNE8zTUPLny9wNlOfLc195W3coGCMpjVI4t6GPEXJWxTHPK1XbV+3VioU2Gon6aBxROfSFWH+Zw5k1eRSDUOMmFho3Akq3Nq8Ei3XHbC1sY/v+ILFXm+9ACbAZ+H1xHtbQ+G57+E23B1rST8HrXxDwIy7MfiGcQrGWWsHlbf+S4B4es/ntY48u/mNai/8rwHwxbfNa7xreibW/hyQ0unxcLm+e44YYp+UFuONdQtNRvoYzLK1rgWErQXfHaKW4OWISR30q6t8QLdWl4CQW9rK7SSaDod3qztpvCthRl4LFa+1o/BFan/6/PL4fA/LOCK+H3+EykVcqFPLg/8AkfF46XE8l5JDqkPEemalFNwvZXsV/Z3Njcc9C4bn1CFrbg+0rr8GLXxBC/Ln37dhyRjkPJ0WAIIWFK1K1bs1nlms1nlmiaY074qWWnnp7ny11QuvPzfn5ura5BpjUbMW84zzJp6xmttSjcZY6f0IZNiyuvT7YjmpPEHImpX3egKI7BQrhi9a2119MDfEDi28+c13hq7+S1q70z/894yufmdfj+/4iY3Mclassf8A8eW6ie++Idw8Zq1jknn+Iw2ooBr4jf2VkIr/ALJ9Kze/w9uB81wfarYT3MrT3Hw+uQt/wjZCw1W5la4uvh3OI9S1KOfTNYJ88tO/zTcRpUVSH8S4B1E/hfA9RH8U4DbFjwK6gVr0jaZwdy1iBrbgCtTbbwBy+HzH5a5lM0vw882l1M+dRYtJy4O/kfG8m7XuVrcTW02qyLrPBe08rOMS3fxCuHiFW8Tzz/EYbIOyIbpHUgxthmOeUX9y2nwqXPmG5qOYGg9bq3VurNZomi1PJU9ztqS9FS3qmpLpsvOTXUJrqU7UJK6uDBe1YKk51H9Oi1W6xOJ4o47ctWabxS+Q/uRmp46PrW0/RaWTqN247tMRHvNX0awHDFaToGmXHDFcH6Hp1/pUlqokyVaa7iXRycmtMu4Z9GldpJI/v+JP38rL/wBdRsySXkFrxZpw4P1fclvYcLpx5L8xZWmMXEEfE2gDhHWMn6WndXpzk6BdfJ6xxq8dhpAjJTT52sNS4qkitNChFWUssF5cRabxRbScH6ur2/Bt8a1aCC21AHHPgKRZq47uhLq2044CuAL7j+VUmz50mW14h4fk4P1YPb6HZ6KNb1A6nwXWqfwAqNpGK+HuPlK4E1GKz1DU+FNQ+a1rS7zTTy4P/kfGn8l0DQrbVtPl4O1VWtODb5m4n1CxttJiKkEUjFHu4bXizTPyfq+6O2sOF047m+Y07ljlCQsruS/MVBLhEmApr7zZakBUF6r0soNB631urdTvU9wFFzqIAub4vRmc0WrPIUTXkqKY5oMRWl3Zik1G5V7sTZWyDOlwZyhbNf8AyR9RG2m81ipB4lTB7BUixo0q7W9RRRXFEchWxuSsVM17dyw0t1crBWlXU8BtAop/u3Nt5bm21g0zM3Pc22o5Hjb8S1FqmBDbiag2GmneO4fUdQdexmZqjk2pOweWzR5o2RxaRNtMr5ZdS1FRPdXM/apKnYTF00jifK0xJNWknSeTVdQqSR5GydtAsYkQ1KfrDMvOLUL+JJ55p25AkEkkqSCupaiomvbycAZqL+7ONoqN3jY6nqJDEkksRVshkmu9O2S3ELwyd3sm48oTh+s8b2+pkVbXgehICAfDy4qW4GNRujlmJ5Y5Y8c1bA5xyMjPO7TRTspguZAvzErDNJjDe/8AwCitMKmTyUp1xzX3nkAdzuIGa2P6OKFWNr1quLOJw4INQJvmvI/6c92mPEkyGIytZwND27vQLZq2j6jE49K0ONOt8mw7QM0wweSPiOM9ZLlU+Y7QgpvuzitisT7+pHTe/bCoNSLg2sjRT3u573WpUkn7VGTKNp555W8xja0uMqkuVlNXbYWZixqPzJNtKVn04ZNtQyqQpoPROTSikid1eGRROmCyeHjplrbW00VY102oDFBiin3Vc90afpSrhatdg0zrWccl6yvcVDIYpBcyCj3CogGkvumyeqkbMAxSicn0VZloyMR2x4FMctUYBS6RUKbQjEhu0O23kMKp5rTf6CsVJcYcLHNfXMNxdXJVpexfJQotO+9uUKBqxl2960dN6xwjbNFirpanh2y0KLsRzx2qpaumeyImuoajOVHsKQ1DLJFpttfSFtRh6dyFp/ukTBxQUUqgsIYwMANKUZtpJVHFMDnsjmKLLO0iirK7ESfOWkZkYu/+piseApII5QpJtmjkjf01T9N1294rJCosszEEGpdkansFShR6w97xBhI1+SYYPcn0B857l8EtHQ97e3+YkI8yQtBat0fljSRuw4cPlB4kTNXUFXylXC0exBk+Ch7EbaA+DzibAEimojQPJaT9ngBluNTcPeH2x5lGR7UDSfdGoavk81HpiZW1hSmjjqaGBquLMUylT25rPPFEeqMGjjbyjQtTBq/+RGny7e9aA+dV4/C/jHZxLotjY6BUeKmCqeaZFpcjx2xI8sgRo7g+DwCFGsav+61cOH5xjczRkR0aijeWSRHjf0x7+Hnt8PUnt/oQgF9DTdO4w19EzaVyt/7XDq5uwPD+10avF3IAMygBua0mXpxhvRUeVcik80vvirbU5oIJdUndT5LUfY+zilHm0gLGG3AGABNMiC61ICpL6Vj8zLSXTgyMslHvQZLAbtlTDzSrmimBzKkVDaXUwlhlhNQ2d3MJYpYm5KpY/I3u3hzYtSah+prtssNCWQkWN8R0nV9FiRNS4+X/AM1Fa3MwmtriGodu9sda8luGSo/oVIpJWksbyMckkdaVZp3ls7uJezgm2afX9ZR/xpgwr4d/vmr/ALqljeuJY5IjyjB3yW97JGI23VwRbNPr2uo51kqy0K2GtoxUNpdTCa2uIecdndy1JFLEajzmwBWVLeeZZrW5hHKKLqJMmxvTBIrhpwst1o5a56caw3Wj9SRdEOfwyOtLs1to/wDkzVO1Sg1dW56hiIJWsUqljZ2r9S6tpLd3yTisdyLkCGkgpocGJTSL3PRpxUa5NkmKJwL28CC6vHkKhnb5WXDKw5DxTcwOyL7oIY4rWOeJ2vwnVxVlGd+oRqRIjIxqH+7xBZacs1xxjfbtH4hj1eX8F07QjPxnqBfR9dh1xtcsTp2p0OJrGxg/OOr77C5t+I9OOQbmyn1I3V7pXDNHjLVt2qcTSalpnD/77rtvp1re3HGV/nTuL3lk4x0mPTbuuLP4nT6bb6hoFzxWttUHGWpK/EVnZapooGa4Y0Y6reX/ABLb6bVrxlqCycR6XZ3mmcl+luFNfl1K+1Di+7t7/Xtcm1cfDr98u207h15OMtVLaRrlvrp1ywOm6nScS2FhbfnHV99rLacU6f5in4U1+bUr6/4svINR4g1mfVuRf9MVYabp+h6dLxleM9vxnd5nfqTaBq2m6bYzcZamzaNxDHq8nEWn/hmq6RgLrNrYQXtzxjeA2HGM5k4z0qC0arduiJ9pf08Dp8P/ANxrfqD5RhSQtgR0I6AwJDipmp/NFRhoAVngzXQp4at7cYGY6kmRg/ygZmgqbaaWBzUdqTQsvpNkaWyqO020IRQjpkoLigKxWKI5NRrHkirdPMRwLqbEd1M0jopY6baKAYVxc2iGp7LFPEVpuY+3nF99zmTT7aMzSXydOSrPeNLWO4a51390NQ/3fiRMRDWnEjUPiTK3VrR2K6t8RABrfLBr4etImr6thdV4Tum/B5pHmlqH7dE/eviLOzapy4mPV4Mriv8AiVa/OYeB+XBx3cMxnBVvw3gPl8Pn69pIpV6Y5r4d/vet/vVfDr9811je65cRGJ9Lcx6l8R0A1flg18PuoNc11Qms/Dv991g414qTFy4Sthda/wAcXTXGu9mKsxILv4hwl9T0mI4+IFxsdzuNajmX4eet/wDPDq5aJfGOYFNUxqQ+aC0R9LRCnhWmi8260IgQ1mhWWwUkWIr5JaW2FdAV0aEVCPFGPxtoisUBWOS+C3uwp6A8f9xUYAHUxV7LldpZtPtAEtwMhRi5Hh1zUkIJuoVEfaKAKiK7eMxXTu09nIxqwuXt9DtNUvJLrXTnVaiX9T4kf36sP874kf59aV+6fEX970TSJdUd4tD0ONuM7ha4W4hvNV1LWP3fQ/q4C5RjcND8a1x//IOXEP8AB64r/iVcU/wzlwZ/Ham1H8O4T/OAr84Ck4zKVK2+Tl8O/wB71v8Aeq+HX75PaOdYm/uWH+b8SP3PRtPm1O+uZOHuHieM7gVwzxFfapqnEP758O/33XCRrYlxCeXw/wAfj2uwKdUIBLe6KXaLStI0Kzbi9YqTjLUZJfiEcX1i5STj9Q983K6/9cerb24ksre0T5fQUFR+2OWOTGpzT8krFYop4aLzswbc0aZRWyliox+enXToJRQU3tRHKFN0hAzKgC0aajXtSjJIpmIDzebiQmraUI8FzGyQt9W7xcN4zR9784TtgXdNr/6Zqw/zbm8SKfNC8kFrHdMj3UzTz1YrG1fEj+/Wn/5/xHBOoAYrTB/5T4ifvXw3x0+IS8iGvh1YyLWsfu/AFxHJHf6bLZXJ8GuHf33j/wDkHLiH+D1xV/Eq4p/ho2mm9+DP47WjAa1wbIrI/KPaQ4w9fD1sa7xDGY9cr4dfvl7Lim8Gx/zfiR+5/Dbb81qG/wCejxv4FtXMvEP758P3A1niFSuuc+GLj5TWeLIOhJtOZv7nDm38d+IfU/GwM1wxYPf6x8RmK32mzN858Q2Kasxyauv/AFwK2Gj7elopiFhf/wDkbHR02wJ7czUhqU+WGVpaHMrmmWo/FZpi1bnr66RaxWKxT0/J/bNac39TPPGJb8Brdjii1AAxn7pjUfKRPpuCVcnPKCUo1nPuqI5WYeAKl8VqLfVUaFzLE8Y5J92vfuGazROeeazyiuAq8b6jZahLVmypd6hf2WpcQcRQoV0W2/8AJcfzRXE2gaw+lSSS8N6oPkeFLKrHidH1zUpEl1G1nltriLW9G1iFtF4bZtZj4bttP0WaO31bjC8tr7WKX31vUbKbhWtV1TTLjQYPkJm4k1GwuOHSwwa4X1GztdGaNwNI1G40y8muuGdcr8E4aFXr8LWdn1RsY5NaRevp2oX68N642uWGjWlpwXfWun6rqEok1Fjk2jBLrjfULTUL7Q9Rk0vULscL62yWPCtgbPiiJtZ1maOfVdIvX0/UL9eGtcbW7DRbS0hTcJV2vZS9E6PxFDDarY8LyV8jwlaU8gW5TVdF12yi0fhqNtR1y0tbXjTUbXUZtPYJfcb3trf3vK41KybgmBXZzGUWWN4zyA8d8Fz0rawuTaT2ODGntyNGpT5kosNu7yrUnP8A54oigKK1/wBAocjTvTtRPhQTUzU1aYR8xceJ7g40+Rq311fG8gs5aoxUYyVgBXWbfpyY52LENbSfTM9IauGxV226SrdgjOA0HNnZj6nCn7ta7LzTI3W20XiH/D9dBuN2vy8B5wBi80paN7ci2MZ6PMUVI/0VYrROSnu3v2RDaTzycc+G/wDMO2ysbiV5paEDbvsgb374vv0s5gSlo01MalNS+7E0PcUjeFahQ88xRFY5lvMjUWotRNKTU5zI7UkjI3Xcl53ZTkgms0oykEUfQmxm2Sh4HETCrWISV+H1PZ7RbR4ePwkr+Yzhb+4o8onKGWTcO3Hp8MMqappdx0tZ190Qa8ymz7laj799im+5vievzjdoz1ZHDuYU1CDo2vIIOjUjfTzRcgrgevbAMeX/AFiMd/Dp23mnTPI+o2b2kw9+n1JZ/Mx5ADb2r76FJuhT2U0XqSUVJdimuAaZqxuKrWKUUtCo/JPhhQ5Y5Gm92qSi1Fq3UPa48E+2azSH6JPuq1GY8qLE/W9v4onxrRZ5NP8AFL9t0BtiX62OF93u59iudx5IcQvk9oq3tZJUnXY/qZ795xW36OSeDKQTyglaFnYseyzmjihglNza3U/PPjtVsUzZ/wBAeKUfTTshi7f/AOvyjdkKTDc8plhuQolscPHZp9Te9bu/h2aojkSvsDXAIlnHTuJ3z822baUS6fZOohSVa3is0D5VqEGxpYQiK3nNA8jRo0faX3c0zVvoP4mbJ3+C3kGs0TmhVirNF/8A53SKVFU0mFuITI0duyMpwkp3UMKLiWi+xJnLNzB7FUmmUjlbOqwTgB/9PSNKutUlkQxyLs+Xb39O1hMtXEjyKexfdlNBSatOEdWnTV+Hb/TLfnj0o13N2Z9BWwOxDhp2Dy2y/Lx3n6UPPFIMsRjkEXDrtOjybLi1b6Lld8c0sitLdMtdTqVKwMmnXIRr6YwxrduKgv8AylyN7TBmgYkaGWatXkk+dQ0rUGrdWaZsU7ed3iU09N7kUfY8scmoUK0u4a3nKQdKSYyMzbQh3vGgJeHw64qUqomufMfmriTcT3irJM2t9Hsh/wBWD+78PCxv77/N3GjyFMMcotvTm8SdqSyIvXlx2RqXcqHfgO0WXWde1i7vr57q4khqNd7fLkSXEHTlZTnkBkzRhD2KdrdiLupxtPq2v1T3kI+b1COOOWhT42xHDuc8umxWX3t22y6a+6EGr6zSdL6wlt6+YlC8ic8h7/NmrJmkktkqWdY47iaOaDdQbFCSupSyVIcl63U7U7UTmhUho0ByNGloVpkDXEyXcLyzxmKS4JxGGFWSEmfAq8lFXEjMYo/NzLgejDIhsbiRPlO/FbaI9X4cA/iF9/mVpei6jqQbgzVQt/YXenzE5qCKWeSz4Z1iSO64R1cVcQS281SaZcppel8O6nqEep8MX9haafZz390mm3r30XB2quuo8MapaR8tPwsunRi61DhjS7uxuG4U1otNE8U+paXeafPo/C2oltVsDYzzxlr0aDqF6H4N1QLqFhd2Eq+9nDcaje2+mX1xejgzVSuqaPf6adN0291GT8mars1TSr7TW5x7dre/p45WxCzi5j2Xbh+4VuBe5BCCtGb9BOV9D1BqNg0T7TWKCE0LZjXyk1RadMTY2iwhF8MKdMjb430GrdQeg2TO+TmiawGqRfqUeGFHlimWiKVaxVvLJGiZozO4hAeQxCvqjqZy5mty1SW+03EgUE59a3tJZqlhaPssrY3Mj2+I2o+p8OG/r77/ADeFNK/FNS4l4hl6yX16kmiXacS6ZcRPBPo+o3GmXd7rWqXbWWqahaS8ViLVOHK0S1gvOEdc4hvL2d7y7ePgb+R8UaoujvJc37VoPEF3aX3Hdilpq1LIVjtbme2k4Evru7qXVtUVyzPLr/yti8er31+yNeXNxoGlJcarr+v6jdTRahfRSaDqcfEFtqVrJY33AX8h4s1X8KlN9el+EtRfV7fiDU/wkPeXnV4ZvG13TZUMcnbg0fB9CEribHUlQLHMoWdsb+5PvlYHlpDDpxUakFXEO+msQQ+is7jSjGy24pUxWKjpDRoe0i4UjDZrdWckZxKfPuGrd4JpWwtYrFAeWGa20q1tpU8+1Z8W2Q8X1NcRuJgMUzDbqVwAGOT6IqFNzJHE1H3FKss2nXjT/KHkK0kM0zSZsJEph347fhv+5Xv+ZwTFInDp4b1uvy1rdcJaPqthrXF6BOI6tNC1a6X8qa1V3ZXFhwHSymL4b8uBv5HxUTLxJCgaN/DfEUfpc/hx90py49/iTKaViphu5nmY7OD0jkVa0GZrfWfiJGqazwF/IOLCX16vh/8Av2vFn1vyllwKoXXNV8ap2qfokOX5xBdjeD2ThBDPs+XmfqS8x5ogju0GTeIuTUaPtLCZIWj2W5TBxWaBpWoNRaifEi1JS+UPvvxW7NDOGNA0aB8mv+ecLz9qs0WQ7EjXcMReTGowhxUrhjNV9ciNZpDI3pCtIXcbZh0ORtW6FyZV0c8hVrcS250Wd3pBNM10NsvcwUrzx4+G/wC5X3+bwtJJ+TvzBrNDX9ZJk13WFEss17daFZ2mj6LfcU6vcM+ram9b5ZPh3Uv/AK25cDfyPic7eJWu41uGOT8RP7BGOfw4+5/vX3+JP+ZUP9y4XrcByO5NaRGZdV+IzA6twD/IeJj/AOc2AJ8Pf3vWXb5u4uGW2+HbF9Z1b915f870bYpOT2MD07mUywGCjzU4MxDc4l3tImBXDh8x+1NTUGq43tD5SzamNNSmgaJoNW6jUwoEYY5Z+W6jWfPL/i+afwY1yNprApvFWGC07daMHzHJhkmG0z4o3Aq6udqXUxlf1LK5a2d9QzGeSSMlPIzHmK4dIWS9mU2khy3du7P/AJ+G/wC5X3+ZwLqSW17xJo02l3Y8H9W6kRD1r+NtR4FrS9PutRudejgg4NqX/wBbcuBv5HxX/I88viH4hcjHL4cfc/3r7/En/M5cEXcM9rrGm3OmXdcF6U0T6/ffiOq8A/yHib9/3tXw/U/jXELyfjDEmvhx+76t+68o13ExGiCO7ND3PvzmuepH1Yfwl3Xd27Ed6gO2WeTqrXD33x+wrFEVig7KJpHNO2Kd6L0r0po8s0TT+Vkiwuac5oHwcisnl4pF3M6YEbCm8mD3n+mmomgxFdQ1uq4n21Ff4D31fOZe7l3LyT3kxj/RWsVY3fytW10YafGfRSCRobe3kmXh/Vjot1M/UmrSuK7u2hOvcPEy8WpDHI5eTQdbutJebXNGkrUeKZWt4dYaPQKbWieHOWh3/wCGajqt38/qHLiHWzq6c+HNaOjk+SK4j1k6xLyR2RrLi1zAvEOhQnXOIb3VBWg6j+F6hqVz87f1oOqHS7rUJ/mb2uHdWOj3d3L17rlE+2r1vrmOYe4e59+SLuBGFEjCPtAp5Iz26Af1Y2+kPXWFdTJ3CnmUU0qsZyAHloyCupUDlmS0YCW0k25pj9O+nbIRPqkj8n7nI2E+KNRffK+VUeM0sm2jITRPInFE0Pa6XKj3NKcF2LNzzn/StIHnkTTmIuY3glPp6VKyXOqWZt7S9gaCfBqHFOQW7Ot+jJ9y+7DB9Ae7DArB28seOQXwRg+nDb72ktLhOSykVK+88tnjmY9vKNN1MMGzfZVyyM1Iv0SLhv8Ar/dX/O3RTiWafpJd6ptEepOaj1Lw+pri41Imob1y0t9hDdZrrCjJWgL1bu/vGneDVDbss++Zp/q6mazUZomn+/PYff8A6Pt5ms09N7Rnww8KgzJ4b/WFWB6Vg5AN3M1wx9OwMdrBDK89tfiUXLYBEjBWOT2Z5D0yc8gSUZWXkSSOVjgregdb0gcVC/kyXEUB7WfxyHvLKp5KxFE5rPONk6crbm7VGSVFGo1BrTfpn1GX9Mo0ktlpkXy9xowNTaTdqZLaaMpG1HJ55rh2Ui5nV4JreB7iWaRoZFkNLJUZpWxTE8vfnH7SfdW76eWa96aiab2U0DVzkUcn/Y0so8Xys/V1JIY5D6i3NwqySPIfUHk9Nc1aoslSoCvbF/cuXLHsifak77hQGTc+GiVdrDDY+ntiQvJfMxmz49aGPfUiBRyHIAVIqAA4rceVk39RZ/Sfk/mKttPhir25MRUiK1PFFieOLMscdPEKFuxq0ieKa4a0uyL23sUdizA4pWqJqXljNRDNdIgHk3vzNGgac0TWaFQqWLLRTyV/1wTW98RjcbiLpm0gWYPZDp1pdp83cI9gs1/p8S27810HWGH5f1mk4f1ar/Tb2xEOm301pzfTr1LK2gluZ/y/rNfgGsiprK4gHL8A1mvwDWa/Btbq802+s6jL0+jay8H5f1mrmxvbbn8hefI1Y6fe31fl/Wa/L+s1+X9ZojBs9OvryLlbouY7W4v7qVXifBoH+nsdM1C9ocKa0RdaDq1sCMVY6bfXqT6JqwaXRdWexbQdXVfWsyA1ztPOxhSVVgtenNHBFTFTyRA8U2N6kqYJHM2n/ZjxqDvGJLx1VtU2n8UGJdQBp7wmjc116E1CSgSaaENU0Ww8rb3BILewPiEVdDAVN1SoFU0vnmTRrNE03O1oonWWJnaaMrTf7EZxV3IkhslzDaEbq087NDsWiWWwnWaN/flxXqd5pun/AJp1uvzVrNanq9/qScGat8jfcWaT+GajXDGlHVNS4s1JL264T2PxBxTrup2OtDirWgdK4pjvG4v0ZdLu0+/jTVL3TR+adbr8063V1q19qT2P+bxpq9/p17+adbrTeMLnqcX6Papa03/ravhz4gPFGt1+adbr8063THJ4CnW20XjXSVt56R8L8O/Otaz+75+nh/RLW2sdT4uunJ17WCdE4j1YzaxcJfahwRIYeHzxDq0kM/EmrxxHiTWpQRzFSR7U7oIwxPusbN28NQJNam1fOqQvbXPKN9nO2/u6b/bX2vo8i92qtw3UlXyzjHMCov7m0VFFXTAF1HUicrT72rxyj+lZnysB+iZ80U+n25HkxrNMazQqG1uJR/YAcfN2UjmO9PVpx60QJJRgT6Oat7iSCpbqWRa0m6WIw6YVnlhS0s+fH/7bzFaY6cQ6A1tMtzqLrw3w/EwA4TMI1/jj+R0V21xV+twan3/Ej25KcHT/APO+I/7jQODaEv8ADr/r/wDravh3/jt78+EBnhfhK8jvrDVrGXTr6vhz+86z+78L2I1DWePdRM+ocuGOn1F+V38H/wAXoe7RJb3SnMt9EIbjkzk8wMlhjlZrvWVGaX/ts6rC3vyHmtAONMjZy18Wa4KHPZbf3dN/tr7OuRqNkHqSwdWlikjch8cj9sUZLQQnEUdMPEtSpRXyQFAPLNK2KLE0h5KRiTFE0TyY0xrNGowTTQSfL62BssNnzB6EsV5HF0zDmriLb6gq1l2QyfTaH39XcaSR0PPiTR7rV7D8marUfBupitd0ubS3rSLuayv3g03q6rey6hfVwh/I+OP5HitI0691W448vYQiffxZot3q6/kvVa/Jeq1rOm3GlXVh/nfEf9xrStGv9Rl4surfT9IghedzbyH4fz20sNfDgbofyZqtfkzVau+E9StbUDxwiMcMwzywyajHHxNw/Xw5/edZ/d/hsmb3VpDLqdRpuFjP8mVkVRwPE0/D/wCTNVocGarnVOG7lYrfSi0uuKE1HsxXtR5WH+XbxyJeufrRdyOm2PkpwbS9ktltpUMt2jfNXDIV5iL+nsbbJ0/+2OWzdT21T2SEvYJUunrRsFpbAUlqAVhAAQCpTUlOM1IKLEkcs1nkDQNCmNMaJrNN4VzWazVvaxrYTmDZr4DLAvmxij6EqRsgSrxMQn1LMxBLkhov9PjmWWLTmurwD5m4CzzF464Y0xtUv/zDa/j3E+ltpeo1wh/I+INS0S31Ua3oEQ1Di28liYlmT7+P5Jkr5u8r528qWSSVrH/N4o1w6XcjjKQHiK8u7nh4kk6EM3LJMOANVbba/Dr+x85d08l4IRcXcouQYTwmxbhquGNVbStR410oW9x8Of3jWf3f4bP/AFmqoY9TqIE1K2eXBxI4Z+dvKW8u863cStVgJHfXf3Hmqk0Vao8beUL9OR5nblAy7bhk29sGWiLZc+SoqRQBaiP5G8+s6efoWhUNbqnUdRlFNGKMXnpiilbfMi+JsVIab2bmlYzQI5ZoUKY0azSqojkClCeQq4bdoksbvpmoft8C4Nlt+VmCvH08Vqf9g/6CihG1H0hRxR2beXH/AO2/fFMfFRo8kl86cM8PZ82TLxPw7IjRycIfyPjj+Sbzjkn3/EFtpJrBxVj/AJvxI/ca4F1NY5+JNMbS9T0I4uWnmPw/kLM3w7U/LXFjLEJp90Vr4bWnHX4TIPC8BIa72Vw63VsuFLCXTeJuIrdoNV4QvBZa7x5YNbatSsQGYty4O88MYOKnmaU2twYTcStNJzt5jDFDcvU2BKFSRD6eTyX7pgMZrqj5LT7kR1pbZijPgGoK6bFrgHftJo0aamYVu+q6P6Mxpvd6Y0TWahHiWMRCMZrdWazit1E02RRausNpnGeYdiqTS9NZWkRFq3ZOjGVMRT6b9crcL+l6wqAHrXryJbH1+LtPvNQ0/wDLmt1+XNbrUNLv7BODLCK3g1m/l1K/rRL+TTdR420+OaPhD+R8cfyPmn38bade6gPy3rdHh7WymoaZfWAsf834j/uVIxVpgvE/DMcjwvux8OR5bg1NttBoOswzXvD2rNOvD2uLWoSiaThDH5YtumqSIoCSPNomkTQamnE0hk1utE1az1jTtT4S1GBzo+qg23DeszFhg8EI0nDzcPayY/y3rdPw9rKJzx4qJG6MtxNKTkM8+7nijz2nBGOZHZvO1fYr4rQp8pGfCmg5FRu3UnxIYPto05yXrq7S93UrZpiBUrUxpBukcbXjk2lZsyRlUiuBsl31urO0kkrctRPcg8xrUK0q1GKtlqT7b+QVd7Ah7BR9EVESrPc3DofXXiLWVX8x61X5j1qr/VL+/SfVL+ez5RYB/FL6O0tbia1uLy6nvJ6UZJijhrpxPH+Y9ar8x61X5j1qr/Ub6/CMUe/v7u/flp+oXlg08rzTfiF5+Hr7pf31vHHrWuu03EOso/5j1qicm11G9tbcDNRKpPD0qi+0+eTSrO7lM9xysdd1WzX82azV7xFqk6H30/VL+wT8e1zD8Qa2tPxDrDryx4nPKC7kjU33iRy55weVmIMnL6ehcAjlB0zV1sEnYr4DOW5aNLsntpd0aOK31HLmW5uDHeAr0+rTyjDSU9zipZQaLUWqVqY0TSNtLtuYA0GxH1f02kY1mh7sscMG6BlvWQjtFQrUS1EtKKhXyngTt9N1cKbp7GSe4uYjDNzhtpXhW1lkioDJYYPanvHaiTTvlZIlP+gOR5dNd7+/bZ/35j+orEc4IzJJckdHsgiQq3g8oZ5IjLfTyAnPYKzUblJNU1J70di/drUKwisDY4Vzsk2Y8mIgf9kZOj6SxlloucSOXNQ7BFIArd9qxStNvU2R3Ap7jz18Ga6MjpfOsDTVLcGmm+lpfoaZTRlozU8maJ7AfBoUeQ8GaaOWJ5EVJZWfujXJgjqNMUgoVbrRNalP04SxeX67NZQ6vz0ad0bVVeGNlIpPul/udsf3K5GmKxGmN71isVitvp2MTCO9jAXkG+qVQB2wttknh3vHEsSGkKgQTGJJpd8XYkzij5PYQvS7VGWKdorWXJjppMiIJNBe3TQtd4M5RKb39OI7VJye9RmrcLTe/IM0MjTsatr5kprsNXzdfM5pbgASXPl5iaR/0Xb9DdW41n0PGyQYb0VFQLmoUpRUSZqGHNH6RI2BrFzvfPkzzGnYsedjdxW1pbXsHymQxKA0Y+4Guu/T+Zfp5qxjEtz1LYE+9sqtPdxxKkuM+jFKnS/Tkog45SNnkKn8dmTWx2iVSzSLsfuHjuLE0oJ5qw6dQHEsqqq9t1P1+Y97hrSWWSXfMwy/rwgGpF2x1Am+pgA1RsFQ+9MMCnO48smsmg5BLmt3mgxFFifTycMcnuj9xEDGB5hjqGPzAowq5e3irwods1qt100dix9BWxQkpGB9K2k6UwltQ1aam65AtLtLhdsh9KJtrE/RUdpLIjqVbkzZ7dPbdVkvTpjk9wEdP9/bEyBeWfFCmGD2Cv8Ap9BQSYdPmeORSp547x4ry3JWK8yhA5j/AEB3IpZ3Qq3eH+mFcmFKSOokNQQ0AFEjZq5k2jUpS8naQNnbEcH0RWeWhr1LiX5stcFup6inBuVM6TDEiIWpkKjmlGo2KPeSoU9IekTntslDUB5ki6KnvsAIrRbqYU/9TY8hWc94Ga9u3PYtNE6jlGoPPpHG2sebHTEmjmsQs50eYLLE8Z5J9zfSOeKtjtuJCjLzHmscgKijyYY6hSo1qCKkGBLJTvitRl2rI25qhgMgmj2c93I9mfVtZHSS+vbroSMWPPHpBiOVs/TaR93pQ/dkMOcUW5QhKEbGS3Rkc5btt1Uxzr9NKM9uktsksXKPfyvvPZg87X69OjheR8GDTOajNOu3uQ4J8n0LHHzBEh5xtjn1BUK5ijtCbiGIRQyy/wDkrfDR6pZb6miaNuROewNhVcpL1uyMgNJt24qJM1FFUCVElQRUMAE5qU7akatUn3Nyt89OYilrxR5Y+kijQo99tbdW1vIOjD2AkUZpDR5x/fHb/pXEXTPrCpoVWKNV6UiDp84WCMzJjnaFjFH+in9yT5hVV/DdqSbUeQtHQPjs0+o5Gt3u/wCo7E+5nXfyjdkZb4iprvrR84/cnfW36KiTJKRdH0gpryDvfHYATUULObOzCiKMB3/t3ni60STfaSrlb+0DVcQGM+nAMypp8b29xpYhgjiqCOooqhirwoH1U30iY5Oo3ARHYseSuygsTUI3HTrSG4e5Ch6jkCW0hRLM+/oQT7Enl6g7hWOSHa0E220mkDW3rmRisTqIZXDDmfHZGhdslGYk/wCjpU0cDSPG1Ws0MRkKl+Rtx0W9/RWnUi2q2HUa43t6UH3SMCs4xJyCMaW2c0LXFLGgqJatB4ziZfqTV4jFd8OzV71cJV3b7hc25Wj247YV+vTrMTi6frusFQW+KRaJxSqWOMCWr6UIt1KZJO3TozLcwhVv7j76sbctBMt1O0gIb1xUFqZbeS3Kpyz62AhZRjv1IAT84n2ljk+mKkOLfmgy7nYrc2XCV1XC8ol3uVBXv3np8s+iiM1JlXG6um5qO2YmO3QVhVrPhsmo0JMcdF+mj3yitKl6tvxBadSKxkMNxayCRHFSJV1BmrqHBPMUoHSPLFImTBF5SS3a3EULCOMClpjio0JPtyuHArWJqPNaxyspmgltb6Vri5laWSlmlVfmJ62s4KMPSx2irWQrYXBUabzPqsBIzrthbvvJBLL68MfVphirjzyFRR5qZdj9jHIqU5PKFtr/AGp/pCMmrSGUUtmQ/RQDaKCKBIfp3ktbR7mW3FCECmO2rqUmpTluHGzbugZdb08xPoV7SsGDCp0q5gyLlNj83PiliTGz6oY6jSraEmlAUCi9RR0KxUrVcttrUJTJcc7Cykuj8rZ4vLF4I+4osug6EIi9/gXuO9RWMcrJYCdXht4OQqxkgSwfoC0oAmrC1+Zmv7VIU7BXj0DJ4d93+nbqGDLjnHsjtr7a0jPHsqD77GTpWJ8w8k+9x4x/rgZqC0Z6htlVW2ijRbFGcLRuwahkyijL25211aLVL7XNNXDL0oq7hEkV1C9tcaTfbkVtwlWpl8ah/c5IQOSrSK1Rx1FCTVtbAVmv+KGakjC8gKdqk+ka1d5r3LRkLCm9kiyk7fJ6cfc3rfLAZq8QI3Yl4IJiy2+p3ozdrbOYp12vzFCo7SysLTULe0NrWkCFav02nlms8rUYuNCEPUu5Ij2L7kVij/o49KN9gYk8rNUd5o1ihzzRtp6jdPP088mo7a4kWSKSI8gpKbDsgjV6ddr9gGSykDvAqG2ZqihRaipsBJZPJepZKdjSLkxRAD2pWNRbqzUh+i69m8Vw82LuP2Za1CyWdWtZLWrG+AIYMsyZGoWmS1vKAUYclUkxReIoM1BZmgiRLlpCq4qOPNBQOXtROachReTHF84aQLgu4Ko22ut4vszWmRSW0jxp7agf1aiGXmUIlbjXUffvNPGzQag6yXPLHJBXEMbTLPaNFp3I9wmkA0pz1D2Rfe0ZIaPCHsCk0wweUX9zA21jlb2xerhVWTk2APUtQoqdvmo6gI3zDbD3kK1neQyQtQ8mHbVz4pXIpiWPYhw80gYdyLmoIRXtW7zCfquHASRjW6j9VGI1DH4f6UUE1FFXtT1LJ9MpLLI25tKfZfW5yKZaubdZF1eylgk0y/NKwYSR7hNbZW5ttqiDzFDVtZsxgtVjDnFJCzERgBIvPL2o+aZgombNatdBaY5O/ssbxIYOlY1d3sLWo81K7yclODu8djzMy8kXc0q7RitlvHaTXl1p8t7dTXT0iMacEHswaxUbvEeyP77eLC6jsCdkb7RIctyFZPKMAxW8e+ViI7WQ7pOWTj1P+N6ZsRLHqeyOLlk89n6R9BxyCk0kBqOLFKMU/sD9SN4uJPp3ZrBpUXZJtWojiiDI0UfJjTeaufAZzysf8u29hTL4IqeFZF1DSHRra4eCopVcMuRNDSWZY29gBQVUH1OUiAoCsUKxR5O2KY1ql4IkmcyPSrkf9Kkcum3OM4L9kOC6xjb26bDFcw6hbxwQ/K/T8zALG6ne4mPLS8/J3XU+Y7NLeGQQ6dK13qTI0/oKNzXIEALK0G1sYNbTja2WUrWCKVWakT9Ur4vHJq1Yb7+MJJtUWgBNacAzWQDKATQUmtrV7G5AFrD4ohqKkU0ce1kIO1qwa2tja1MsfRkhZF2tXtUg/T5RxFo5sLUalmjt3UhFEbxbV5I5Ecn398C73htWdktlWmGORNe4cba6tSSZqAZYWaot2OjLPJueLOLP3K7Vd6PmkGTeUeWlLuv4KVTtK5DCjTLmryxjmqS2ltzDK7COItSRhR/zp7jtA5DmTWKdqY4q9uvF5Jvc8ovEMRAdixVfeRl39mOYODJJlewVoqCE6htndcyQTRFVbkKErgMxZkjLjFBclrd1qJHeW9/UsmpIso6YHNomCkY5W5Czal/djRmA/wA228X0tw9XrkGRVa76ih1K437rzzkyI1vH7Fg9pH+3XG2GrUq1xp9RiJVliBlmf+svv8l8fKgL05GIsLn/AAppDHBcn6ZcLbRSCS6aVN5RDUhPyN+zK7jrBiSxbI5Ry7EZiRbKXlbriEyNTy7u8Vj6Sv1JAzUtpVpbhCvu1S1mmaleriTxnla+9zN0I9ZX+reMCooPpt49lTSjDZYpkVuxV6w28tCH/kLeohlH+lDyNXUyRJb6nDcSRPESnLHdnk7ZpmCi5lL1eHarn66ii3LvAHMnJ5SYQwgNKxG4DJeMCHv6r7RK+LHPX1RhMOy1UPcCXdEil5fl0Vr5Y0azmhtIILiSK51IwSSKE/D3EYXn5Iuypm5dYlOuwHzDGW8l6MzPl5LgyV12ep38vP0i0qpcfNfqO9I+0b26YnIi6xKRXDIYJitJI7NKY4jctJHczSGVo52VGkJDTsYmnZkknZ1MjGMSnp2sh+YknCT9U5aZzEZJJy0jwI5y3aCQRO3S9AUstQxfSopKWjT1NIBW/JdqMlE55KoxbnDi7JjmkaaTpb6RMLIWxLI3Ug80EGLx9plYnnw+P6+D2gH0n6qYY5SnA4hvurMrFWs7yVLm0nEsamieRPIms0Tis5p220+56lTxqK7UxuJoOQrHce7rPhWIbqVGdjvIDHjkgyW7s1u8Vp9t1y33UhKsbqQrC/TmlmhprlieZkX5LsklDrMwd6t4ZbiaeKSCWktLlrS6cSSAZojFI5QsxY3kmo6czCRmtbae5l7EGWZdqg4p/mbG7ed3luZ2nOPQS3na2cyGsmhnCO8bzSSSyUOR9GOMvTrtPNPujLMPakPlTTzAVNcinfJ3UW7Axwh+qIkhfeCm9n8K8W5o8rW7xfUTz4WTNxDVv7SHzu3UwriC8+WtXy3KNtraBe7ZkfNA1u5FsV70Tiveia6eaZKMe2tcJaffgeiyELVtAuNQjWOSiV2UpxRPo6ewVajQuXQr/ocIfyLib+rhAJN7tt+HLCzmvp4dEdnkVleDRbhoNRsPkxrumTXd22mSR22jreSX9hZzX1wNDlUanp1xYPpun3F+50SYxEl2KELxp/Iq0TSZdSq/0OeCHT7Z7y8uOHdj3cUlvMug3e78NdtSXQ5wmpaZPYraxX76PFpt1fxpw7IzNpVyky6JJ8vPoM0MFaVFDIls8Sz3e3r+haQxGzaM76xytE3EJipWxUL/AFFsJcE5LH0E97f2yBUD0W8O5xuJrb4UZrUR2cKD6YqifbTNmh7yHxxNcdW+DDZyUlW0a669tvzQotQFE0ByC1isVqMvTiv5I5GCbhzx47WbIFR3IAlk6kmwnttIlepBg92eWk4VdSwbTvUZ7NuVfAblwh/ItG/rLThqFDf2Uz3GiWFlc300GkSwXF9bRzcda5cyXeq1xjM73XB3nWOD/wB44LbZrk0jyyy/XwabKR+F9J064stR1UQprckm9eNf5FSWco02wtHhvdLtGe+1PSZTFxgManxlPI9zwr/IdVme41Kz+rhPTw35Nilki4TtLR7htWQfN8SwSrfzo9rwpVqjyW9x+sHUoe3HO3k22bOd0S7jCi9H3e0XAb7ZRmoxg7vFx6K+8L+IE30sYWmrGa2eQPpRfq1L3cY58NR7bKP25390IItXjSdOzR5ulLCRjdmlGK9621iscjTmuIbrw2XoOV5lRtjG4nvBrzXUG3stJUzJ93oJIyCSV3Xvi9+aNtrB58IfyO0uXs9R4l+WsbHSP45o6S3PDlho90s+t3BtOMtY0eeW5u7C8s04t/ceDP33g7944TTbrFN/C4I/xjQo9E1Z3dSj1xXpWo3OuXGk6lbw6aF1PTbHStRlt9DjZdMu9IvZU4x6f4jxWoOocLfyG8/y7D+K2rZ4Otf4dwv9N1xHubUbq31QWOq6VqyJVndtbxW1zHBNdS9adUyvMe8nheQdung7YT5DmKCAbpIo/D/bXT8TfQJHyajXcdv091suahk2UsmaHmtnJvYSYa7DPJKp3ctBGLBOchxXFVxiNZpFTlEI6njjWMMRWk3Rnhj8KMmgMdhNO4FalqoBuT1riQDqMCDyzWPpweS1toryRS5MLgH37QcettOPRfHR5KxU0WJoMwCOyNNPPMVYtJHLOJJ3kkdmZirMpsP8oPvBrc20Egvd3Tpy+YnpppmFhdG2ayvLhrrVZd9zf3013CSTRmkKglTQLbcsFZ/6TTJVig0eWKPWuILHUjqGj29xplt2JIyDvRSSyfo4wasFy6gbJm+qt4q7k52v3Y2xc8Viooyxj+lT5MPshpfJ24pzUkfnpJsn2BW91GTpcey1FKM0VIq5bbWtXHzF5QGaxUCZknffJWkXHQubb6gKHLNFqvr6K3W/1iWWrVSzB3CyY3N5JXbWKIwf/mOnxlKz4BoqahXMk7DHI+gKht2kUWExEi7T2wKGlmCTM/3dw5Z9GPG62t9kkhy/KNijxNEkUwAkKfT3qxWic0jYSkhkkRgVNdJFtUgjM59+VvfXsKyGSaGcLv8ASEfi1jxVoiu+oqs0Fad7tLgTZBzUjGpD55A4DkluQFKlJACMKlbW3RrQxX/LZabNBc1cGmnAjb66b3sE6l5bjCjlk1xNfdNGOeUf3adYNdyTDpNyBwdGuetbpWaJqSQKNR1dI6ubiSd8UjxhEcRhsq6VO+aALUikRsoSPYAu0mrG2MhaGJX6CtWCpEKx6c2ZKkj6cYHYsRZeyJSzw27fK24HWu/7vahwTfzbT3xKNnpCl+tm90GWkx06SQpRJZgH6ZQAHuj9j78oI3Ebgh6MmYGkjMt3jI95PtX7pkiiS8iMEnpWw8lgFt5UgtEkt3tf+2jYJkBqQ9Ralem7lGTbWuROgSutioyXf5RQJ4GgoU05U205pnAVJs1eSYMapMjAgMPPDttuuo/bNA1eSuserLdfMcrCFp7m2VV1RLGaVjox6Y0l6nsXRtJma0uY3DLuq9vY7dL/AFWaavqcwQNJJdgI0iAVN9Jb2RSXSBiXQxvGSzTKEbwTbkrWlPunmt06yWq41UBWJ/8Ax8mo8F5RjmBkqCp7ITtk3qLlZmikkbcfW3vQ8lbCYh7KWGE+/ICgMnb4cbeUbtT4x2iLEdyw3HuEn0nvVyKJzzHvqZZrnVmzd+iKibFPJ4mdmo7o5SclKjJJH0pcv5J7kiJpFVaS4CrPJurGTaR0iNPNeuJaCVNEKto/BhDSTJta6txRljjjeXzuBk4d29JHp7hFGoa5FFU15cTU5kbkzE1FI0T2N86XOkMZbMrXTGPllNX9lk2d4bV73U4wl/K886WpxFbbUSIQQyNukjOWnw9ImShO6CSrjosEWF7aZVAtTGpkcLJpcg68ciXN18kjLqHgtPH+DACj73Ptyt13Sy20id26s/6VvG8r3crZPOLGy1/yZEZLYknnnuNywq6g8uu3/QtsCmOWqO8kSNiWPoCmXaiCnzTSkVMd0tA+LQCpz4but18yvgfUScit3kRLmH2kuYnJkEjbVAuPaOYLUUymQqrPqU7wT6peTmLlFcTRD5+6pppXrFaMqbob/wDUb35RqXfTk6VtnzWPEoGLmFzcXsEvXsdObb0MuIfq1yXbGK/74rcHEarlU8dRgNPiQ2cDQXMzKyMCtaW4Sf5aKcwm2sluZo7iSvvrBzIPHKwA+cmtW+c9BVJDgg9gr5SbZyx47bRmjjY5PNcfLygCP0s1AV+SlKn/AEI5nRWOT6dsu57ry0KeLj35dNtoU7oIjhoziftUZKjaJPeLFSjwkZLWw8IuAQN8XinyQ/tBF1CyGGRJvN7cYudbn6o7SsZjsrjoOhs4S5y3LTcfOq+FgOWzRq5XcjQihaKz7PAhWrrEcd65mmBxWCA2TQOxvNRuUdnJrSQj2kCJZP8AUSniowRVi7RSyCkA2tDm5MCJUg3CRmL5was2Au3u4ppe8UqD5K+AWfsX3kwAFq2t1ddRiEcPYoLFRJ0uxJFEMsm/1Nx2+kFJXtUZOPUVtiWw3s4CpOctyWVdiYa6jACzLkXIw3ZbrlpDzh8ghcwDFMTh2ObWbMkpAVI0dPskwXLMFF7qUTz3Uyyp2fKqliCe6FtskUm6K1NKfqAojNbaVaxTeK1+42xJjDxvRkYp56J91yFY5oMoWK5VV/6yttU7aDE1PIhiVvL43p0oijb7q8Uoz145Y8KzKveKgnxb3UnVfumSGLSbVIZ9H1SGNtCSMFJRhuSHDb/92L+xTD6m8Nyi+9v7XpJ7vVsxDSHKSjstf7jSEC3kLC5bc/Zp4G2SMEugFMPpgY7lH1f8/wDmZRVv4nmYkQscQoCZBtq4uGDNhqPZH99+5FlH9zQAA84xl5QA2nHNpbHxCf1R7DkOVycLrErNOjEne9LjeRUqBaHg5+pvtHu5HUDtiI73eBUguPEo9m+6NNyWSotrqB306gUeQPL/xAAyEQACAgEDBAECBQIGAwAAAAAAAQIREBIgMAMEITFAIkEFEzJRgaHwFBVhcZHRYLLB/9oACAEDAQE/Af8AyNrk0+B46aRONE0tC+Ekmjq0vXxUVtrjQ3ivGEuC/A82yyI+J8cY6hqvgLat8fBN2uGHofwkVwUUUUUUaTSKVEnfwb2/be8dKCas6ip7kycr2ONcyHIQ8JCRpXCx/CrbeVFvEfY8qdKi7ESK3ISROV8lLNYSK5Eica+CuGHUSjQ9yymPe8aR70MvNiXNFHWj4463I8FH23Xui1l4UGyt14UvBLkQuJKyqzE6vofE1v8AZXDFDW2x4UqQ3wXtQ0KHix7Yrj6dE/ebJvxjTGHs6sEkmhD4Y+yVN+CSrCLw9lZhHxZL1vUb3Vwo8UOW1EeNOs1iWK/MdnV8RUeNsTolK+RTa9Dk373pj+KvYt9bK2slwwaXM8LCVj3rhlGuOsR9i3uRqNRqNRYoWtkl8BKzqQS4FhMbwiSSHwpDxfDGDY1ReEazUXmUjUyy8WWKYup4rY0NYRW6CtnUjS2p0SlY+REnexLD2XxohKkSfndYsS32KReyjSaTSNFZSQnRKdorjcKREayt6GJ8SIRQ/ey9ulabGsLEkPC3R4GeDxsR+USjXE5Mj6G/jv6aH74YjpmlZaNJpNBoNJpNBoKEiiiiihuheTSUMWEa4sk7478fCeH02o3lDq4/7D4ER2rFZrbGLJKsvDFholmPrbLCHh7l5ZPp6fuPmj7PzPGl7LYxDVbkLK5ItaTqPZIZDDJe+KIx74rydX3hFfDRISGtiFlD4KzqLLOmrJ+xlFDJPZRXwG7whv4lnTf1HUe2OGyEyU0KV8vTZMorEmPKPFfGRL1hC6S02P3h/AvCxJFMpiTI8ieEiQ2Se1YofwYj2QdOxyi+nUf3JKnsrxxadtkRZZXJBWycdOFIkyT3IsseEPmT3XtbzRW5PwPbH3m9z4IumTnqLRqQ5b72VwUVmSXwVEsb31tj7zYmWajUai8PgfM9y5096fge9Kx+MUVhZaNI4s0sosT4mrGuSxMS8fLvgT0kpXj1le8t0azULyOI4iFvsQkShSJLeunY9qlRZfPWaHvSsfAsNVhLLjY4GghEaGitiY8NlnRZ1H9RVolEe5dTx8aJGVCjYo+TqKvA98WPEOnFolHzusu8a/FCFh4iS8D22NljZZA+5r8EiXvgXofNo3IWpPwSbslLU8VfDqjXsk/24o7boc7GyyyxyOmtRPwXhERDGyXvesPFbtO2Ps0ty36n8hOhSLHI1jkOReVhSocrykJYsmx4WK2XmKHtTHtQ/hRi2NVy2WXuW32JZZe296Y+RiHlRse+MbSJqtnmlR1lVcUfZJVsSNI1wJEY7JMRJfMTFLgTpEnsU2hycuFFVijSRiNZcd0EadknQ8R8slGkdP2dXh0+B8L572IfEkUaUUUMsYiiSzQoi8F7JPGln6RyZZHyMcHmtmvC9Z07L+bQkUNiwiQs2SGihRKK2SwhsfvydX3sc7Vca9mn6bH73VxPmoSzZpKKxPCxWKK3vOsc7HssWHlooRTzZ0oqU1F/dneuUe66nRgvHqv2F+E3OMdXuTj/AEv+/uLsui4Smp/pr7fv/J1vwldG9c/u0v4Idh04Tjqn90v78+juewXTTblX6q/h0dtCPcdpLpP2vq/r5O67WPXhDq3piox/qztulGP5Eff6/wCSP4Q29Ll5pP8A5O67GPQhKcZXUtJ3/wBPeKv2X/qdX8NjCMnr9RUvX7ncfh0LnJP9NXS+zXv2f5VH81dFz8uv6kfw6HUv8uV17/u/J3HZdKHTlN/ZQ9L9/wCTvezXay03f/X74XBQolYZZ042SWybERHi+CXJeUSZCSSNQpD2f4rre9R/mHc3er/X7exdz1YppP37J951p/rkdX8U60/+fHheCfd9WaqT/tn506q/9B9512qcv9P4Id93Ea+r1/8ASHfdRL9R1e66vUTjKXhu/wCSXc9WSUWx9713dy9+P4J9z1ZtuUvYu76yaal5Qu46v7n+M60vE5Wv+jrdT8yV/b7f7FbUmx4is2WWWQkWPDGIR7JRpWNkXvluWxx+RGFwsUfp2Ie/o+/JJGkisN4vMXskMjiLOrNNDeE9rfG5X8FrNbIdR0qHNK0tieb2rbLbFCyySICKJPKexvNbK3xVko1sfE/KyvI1WVyoYsNjeVE0kYlbJkUIlLxlRNLy3t0mkXT+knCkPNZTG74VpcfKGJZsvHT9k998TYhEs6RYi6HheSfgbNRrLHhes0aR5WLo6U/pOp6HlbEVlI0jjWb8YiOW2+KtyGMQiWELCWLwnROXjNbFsY82ahiY3wIeUIltXxkMZHE8LgnuQvWx8v8A/8QAKhEAAgIABgMBAAEDBQAAAAAAAAECEQMQEiAwMRMhQFBBIlFgBDJhcYH/2gAIAQIBAT8B/wAykRYm9T+OP+Htid/jMX2WWjUjWa0a0asl98nRH7Fk5pDxDyHkPIOZrLLGyyEvf13urjYvhniUPEZJ2e9y2L0yDv6pRd/JfNiSGx8C2SMB/gvZfDQuRknbyfBqLzZg9/Y+Fr4L3Yk6RZe6s5CeagYcKeVt9EXwV8MuxfP/ACVuxH7Hw0NbEQeX+xezDdu97e1lclfc+iT98FFbEUIiLha/Ql0OPsayooSFCxYZ4zQeMcCs0Ji+BuiMr/EvYzxoeEhwrKiGGKCRWyh4Y8PNEXxMjK9rVkVX4jQtzSJqiKI9cDiOOSLFIUiy9zIxrkv6WLhv2J5YpFkJXwyQ9rdDmRbZTFexmr2J/h98U3TPI0eVknYiMqFM1nl9ms1GpGtDmahssssskyEdR6ieQUk9skR+9St1sjdPixNtmovLUajUWWWNi2JWRVIxG8osj18bFK+d9Cj7tcr6J95rYh72iGdmG8ppDIkevjfRH7WT7GLOWS30aCiiZEgSlRqvKC+di+WQtuIhL2RgSgeMnCjSVm97JIRdF2RIx+5jk7oXyYvQjDmWWNom96zvKSyZEihfc1ZX9Vi+TF6yRZqLvNcMnQpWMogiK/Prdi9FZMoSyrJcElZGFGiTPGyEK439t80+jS2aWeNiwmeNmg0GgrgQyPK/tr3zS6FKjUKdCxTVZqQmNDRW6s06E+Z5X9Ncz6JkYigLDKJGqiMrGMrYsqzUvYt98FfVfLJ+hs1URxRYp5UTxDURZe6hLKay6ZCe/T8zybov0LgrOUmhcLiTjWdljIiyrOhIoSykNkuzD9C+6SX8iXoXG0xcWJEoooo0WKBGJRQ0JEiOyTJMZCJHr7q+iUbPEaCMBYYoCjW6is2yTGxeyEeRi+5vlorlZKQ5HZhK+Vi+G+Bi2x55SocmhSvgbJSJSySIRpffXCvi1E5mqySuIpNEZXunKhzHLJGHHZ/JIj+izWahtlnZKNIg7RNeyMiMr2NknsivZBVleVbL/NbHItkUNDyiiS9GqjVeUJCrKUhyG9mFH3k81sS5G3f4DllWVjeeGPol2Jia/nJSPIaiyxiIois6K5WLY+jD9wUmef1dGuV1RHH1dIeI2uiGJZNuM9RCbi3Ek3/V/wCDxyGJqdGF7wxYrdeiOL1/yeb1dDxWu0RxG3X/AGYeJrV8VkpGooookJjyRhol0S7LySGXtSMNfAh7VloieKH9jQhQiuhYMUKCRpR44jwo/wBiWEmKCXs0I8cf7CgkaImlHjiuiKrhYyhREs5jE8oCJ9DJEP6nRGNIxIWNbV2Q/CcvdGr3yPOTyS97ZjEMw+8sToY0f6eNPOcfeV5Ij2L8KUbFHmY8o7ZDysXYujGfoYiEaWco2P1klZHDYoU+VsT/AAmRGNCiLZZJljySIGP2MwcP3ebka0Tj7FEjh1ss1Fkp0xSvfRXC74GL4ayZFZ3m8+iHvKeHqFhJCVZyfss7FSNdkc2hFGIvZBC/JWbI9bW8qzhGs7zfRLKzURRHZWTRRf5KyeUcmPY8kR2LOWyHYuCQus//xABPEAABAwEFBAYFCQUGBQQBBQABAAIRAwQQEiExEyBBUQUiMDJhcUBCgbHBFCNScnORobLRMzRTYuEVJDWCkpNDY4PC8FB0ovHDBiVEVID/2gAIAQEABj8C/wD8gCNdyptWYoGSO6NoOqsTntwz96dGk9jiEfeoR6vWxa7um9mskGnisAqODvFRGnYhZbs8N7CWyuqLsWEO+CIbp6aJXd3XMqMnqkhHqqu+o3uty8/QsoUdkOwbVjI+g1S4+rcZR7Zge1hH4hE6tBR8TuSSpaRhc8J9ITrqo3meaJLcp1TiOJ7DDdnuQEPmTh3ZRJYDknuwglMLcpCe1091YRmJTzIyCxRkpjI+jSpTnerHYB7eC2pxMPEJzaPU5+PaTx3iezG+1o1JVSzz80WYQIy3oQluuigtI9m64+hz2AaOKbRMgytg9vrYfFPaMwDvZLvHsA6JRq94VP2fhf4X56uKfgtTsZOXJFj+8Dnu5LCTlcfJSEfFOov7mvksGjW6C4eO/pvRjasJ7AM36NWmxpx6kqk/CAXjgp7LK+fQA+JTbfMtcJaPHfkarFMb3iXAJzD6hAbAVTZ1Dsx3i7geScLoui/qtJX7N33KXNI9naSg7kiDz7DJGthb8pj2woLh5xnfO4G8ytkRJ0lPpnhc0eKqtYO6DG4C8SE9tQS06eFznHkjOoN7drOznNCu61M2IOIRqn1OZ7PZNGpzKa0t6zeNzesIAz34zJ3toe87uqSsV8Rw7CFGFZKxMpeszESrHWdk+SCUC2MO/AuDRxQo2azh2WbsK27qWyeDBHa5KY3IOQGq+SPAFHRvghUdWaJbiA7KpVbHVIRrEjN2HS7ZY8HisbbayrW4ZKtZW1BjZ1slndnhz5o7gpMp0yBzCbRp0aOepw6IWRmElvecO0wu1Giy7x7CfFAuEgHRbX8EXNEAoybsKzvp/WVX66f5C4O5FPfHen0jPcnx3ondosI62DE3xVFzmHOV1Qmt5G/XsKPVDvApzKNNrKYfELqgBrmh2SZSeA5rO7PBMpmA1mgHYexTwTX8ig+y1CWxoF8/WlxPd7Wq7iBkmmeKc0aYk7co8zSHZWltMjakiBKw1YxbWYm54aM8KFKkx/yg94jgjUALXKboLMXistxrGCXErZU3A2ut3jyUnj6LFzXE6uhFvI3yYjREXGCIi4HY4qpAIz1TnuaRJ7fX0aFCi+m4ZFjYTMIwuaOtuvdxCaeJv0Wi0Wipmr1W55qoWuaRjyMqk2n1g2m0Ep3Y5hZXSxxapJnc2Xh2JnQ6rQlY/GUXc9wSdOyyMLNxN22YATELaGw08fNGoQATyv13Tb9malYjqNhOtFWhULieSxVaL2DxF1FjxIJVTBTgYtEWPEOHDfe6JcCIVN2HC46qkbO4vZUH3LBQcXAak874CDtkXGURBFz8WUBMI9YJrfomUXnjdnvUji0ATjjESj2g81gnLEArQKdlbga7WFbH1GZsEt8Lq1pLfnBUgFZXawsuyIDvZunyWLce+pTxOFTJV5psa6m3EC3dqVCzrjQJsjNaLurRaLRaLRTpfpuabp3gVjHNT/6M1rSyAI0T3uwYg7LJbKoW4fK6gf5k8h5hrsoWMcWC7FlG7IMIY3Fzk2nUOdUfcsL76Xmn0zUczC4xhVCsWw92RTgan7PVYQ7GHNBzTQfVEC8FQGjXeBRO67PMXjq8OahrUBhg+V8prm9V7nZKpT620x9f+ZdJRyur/ap/NFZKeyk9j/KnEQ07XRWoudHzf33aLRCQsI0u0Wl+nbn/ANGkDLsagn1hfTqO0aVUeNC6U1zNAwC5oj1t6QsT3ElN2jpwiBfT808YKfe5IGo6Y0VQkZvUnlCPgs47d+ShZY0xpa09UcFOQ8lmdyQse0OLmrRZ6rsO3bE+Kw7ORwITbC8g1qjsThyuOWoujfzQu7qxYbo3g00wYWQhcVotFotPRj/6JhmMpW1ByJhBwzgCEe2xDNYXtIG5Vc4AkaSnDeD26hFx1O4+YOWhQy0ubTxQXaKWnE0mO0cIBDuBRGAdZMlrvCAgHGS3dzF8hQK7481ie4k+PbCDlkq8n1TdAQzBuOzYTCwvEG/G70uF3T6TAElbWq2nZafOsY/BFszBi5tGz0zUqO0AUvtFnY7lmVir0w6l/EZmNyT5IUmuxZysIJjtMrw08SnDaS5hWG8t5rxUHsAnBvA53U5zXyil3DqORQdgmAC1Cn9KpPki4Rk6O1htR2SJcZJ1O4ECL3eXZytUC71ytmRBXksfFE87pQbdRo0uq3AHGOKYXtzAjFzuxuHomJ7w2UcFTEd/RP6p0vlHLU+iNp02lz3GABxTXOYy09K1GznpT/8APxWO1V3P8OA9l9Ks2lgdUGZOpufQrNDqbxDgq9lOezeW+g+d7DyT4aG4jmp8L8RQdyRO8HHQ34hTdCIcEwkwM/cnUKn7N+qOAyAAFKL8+9CIGl7Q05OWHsZnK/Dx5oVLXJxaAJ2xJY/hKg3HtWtwzh0TY7wKd577GVmuJZoQUymxuFjNEG8EAPQ81Tb4JqfHPdkIAHNQ/Nx7WeztPS1oHzdkZl5x+nvVW1Vj1qjp8vDcZs8jS6jhyvtUfy/lF7Xuc1gdpKeHx1ROqAPG9vjugIt4hPfyKBWWl8qVCMiIujsKR8Tc7aZta2U4tqhuF0AKlbvXcYKY3mnPDYwOw34BzntdFhg4YzyU3ilbMsIyKNSxWjFHBFrtR6BinNTcDvzz9FDahwkcUOsMQ4o8d7aP14Iz2sFs9m6z2aNpaamvIYv6L+8uq138c8IRd0e99OqNGPMtKcx4LXNMEHhdtrK+D6zTo5dbo9uLwqZKgKhFOhSxP2bNNOP3q2VAZG0gezK+mdWlgwp7K043NEZqnE9VsI4vZcBuyu6M09g0JuLeV7J0JQyEyUCnye92TafJ0hQ3Xj4qv9VHxKp0+TliGo0RD3FwO4HZzPaVnfyKzZ66pw8b6ewwse0ZjmhWqVA0cpVSo0QCfQ4vdN4bCCHpfWX7RqLsbMvRurZhAHeuoAeqXA/ffag0ROF33gblbpKv1bVaRhotOvh+u5ha7JYnmTeMtdFicwgb3lmp553E3jy3XDmjAy7HraOELqU3OHAqnZhrq7dgJjYz7JrecJzORi4Z6bmWSzO+7Lkjf7L5We46QhlnvbUjM3B2CUCGx6BCGJ4bKnUc0Tv5Fd4qJO51GypNRs8l1x2hafYVlextOoQ5res3mnjxT7BaH4WVXTTJ0DuVzrRaKgZTbqVWtZEbR2Q5DhcW2SzvqxqRoELX01XZVrDNlmZnmtrV6rG5U2DRo3gS1heXcUQRHgqckg8EGMxQDmTvZLPsowrSN0y6AECx+IbmFtZwCkmTugADs6bzOQEpzuZ3o8N9ufHNEXg3kxwVNezcI5qOW6GhNbcyUI9ACwctE2kOCeh4qd6VM5blMUx16mpXeP3p9kqZ5ZeCc3kbh4Kd4eKKwqb2bLIwiXanW7BRt1UNHA5+9YrVaKlWNMR0vdRoWipSZU72AxKL8sf1p3wKzCS05YU6oeKHgsM5LD6ygIeasnySg2ljDsUcdO0CBbqswhcdPainHHhdwTJjaDUt7Gd3COXZzu07Gx4YXz1jwT7JUeHxmHDiNwZaKdxhGbjqmmk2Ms1PNQs+y2hvj0IYajJOpQ+caSvNU8WkLBEAbsFETu2Z40uc7gGqoR9I72QUG5vlvCpWqYjGTU53M7gFDvlCz4sbm990cViGqw4WDyCiY4pjgQZcc+xyMFSh5qw/Vd8NwSx3nKLdwghdE4aTG1HUyajgM3aa3NWITChzerxKPhvxvYNOJTix4dDhfndi38hnE3sPNWp9amyoylQOThOe7TtdDDjZwdoU61V8OJ3Bug7FriZxJhP0clHZgJoj0XVZ3UsLtBmsYyfx7P5Las6fA8ltW2lhHJwVSnY3MbUeiDqN7VSd9uOm5xInI39QShjaRc/aB2I5AhfNY8Xje7H3XCEymxzjBnPcYarcTA4YhzCstaxMw0aoPGc7m0azZotaXv8AJMFmZho1GS0TOfG601bazFRot5xmiabcLC/qjkJVjptOzo02OdVqHgtkKFS2vGr9R+iFKpYjZcWQcRH4hNdTealmqdxx1HgUC4OkeKq2npC27BtJ3cmJRbT6PdXwjvO4/eUbPQovsdoPd4T8E+yVsyNCPWHNY+kW13157o7sKzf2pSe5ueywzkqgpWesKuA4O9rwWRUNKpWW2iaNWW5ZZ8FWs9MRSyczyN1or2ynjpthrBMZq0WXgx/V8uF1bpO1UcVZ07I4iPAJvmhbOmqhbj7tEZfesH9huLecCfenWjoYllVutEn/AMhEEQRfa5p/3pnddPAjJYAZfjzu22zPy3Y7WZ9sR5XYG945AKy0LNTiqWzUOKZTmWu07BrWYp5qBZqlsd9Lgti+xOsjnZB2g/BACpjo1P2bj7lBVgq2KlFpquG0eXZRnmthanOtdoDYcBoFgqdFupt+lg/QpvSfRlTa2Q6iZjxVnbbdoKDe/g1Vp/syk8NaPnS6ZOq/d6//AMv1QPRTHNo4M8XO+zWeu3FTeTI9irWWzNwU2luET4BbFtZrQM3nkFsKlJ9srN73rf0WGp0U6mOeD9CmWjoq0Oc97o2eLQe3Pcq2jpG3bBtIjqTErDS6PqWmPWI/Ur5PRovsloPd4T8E+y1s4za4esOfYun1bmDxQuCc70OOwzWIFZ9hExxVQtnTdJ36RbHdHFCeIurMpmKhKoitUxHly7NrDxVOntJ+Tet9XL3JzNYKt3Sru88Yafu95Vltneq2bJ/PkfhdWraVLUTHty9yb5qnZqZINoPWj6IvD6mb6JyPk6PduMqsMOY7EF0faYzew/A/FQWw6eC6P8nfDcp1md5jg4Kw9JU+7Ubh+I+N1gpDKtUqNqO/MfgFZukaXcrsgn3fgoGq6P6LZwEv9g/UprqgllAbTPnwRYTNGjLGDy1KAptqSXGc1RY9xiodk8E81ULRDazRU9vG8Uj3a7Cz26hWlmeE1MTfI5qhY9QX9by4o2Cfmths4/m1Vos0ZMf1fLgrOPVZNR3sVeDLafzY9n9VkpN1jtFZ3WY5uflIReOKpV6ZipssLD4k39JWGpmwDKf5gf0u6T+qPcd2yfWPuKrT9JnuC6RosqjaVACOY/8AJVSz1g7E08ePj2DarDDmGQV0daozqMPwPx7ED77m+F7U4cFl2uvbYYyUbwuz5J4nUJzvorHvU6kAnxTX4Wtgx1bw7HwQntqfmrVYHtGzc2Q4ceBVSgc3h+D2qwdD0+AxP9n9ZVu6Jq92o3EPcfgjZo+cD8EeOi6P6LZoxuI+zIfFDzVjIMdV3wuzVYD+b8y0Xyu0VBZbL9J2pWGpaatpd/KSfcurYrQ7zn9V0fgyEOj8EMRldH+TvgjU8NypS1qWX/tz9ys9njql0u8hmVsAerZ24fbxTm61bH/2/wBCrLTiWh+M+QzVSnqKIDP1Vvf4M+KxWavXNbM8V1ukLV97v0Ta4tVoxtcHAnFr9yo1LJU2jW04OUcUKY1KOGqx5HAKlXZrTcH/AHKydIU3w2q3DP4hW7pd/coswg/iUOkZ+c2u1/FWXpGl3K7I+I/BW/pN+lNuEe8/BOqOMucZKOzinRb3qjtFhtdvfaKg1DT+i/dLS72u/VNdYaZp2cvGBp+tdY/Nvxv6SJBza34qCIXSXkPcVxTco6t9k+sfcqlZ3dLmn8AnWyy1Cx4dLSE2h05Ymz/EaJH6hGv0L0gx4+g4z/8ASNC1UjTeOfHc+VV6gs1l+k7UrDUtNW0u/lJPuWVitLva79V0YGCG9aB4Q3sNbw46+harVRdDisrs9+Z7OOZRY3gct6j4I/W3G+A7ezOc84HOwOk813fm4+U/+e1Wh4MsYdm32Kz1p6uLC/yOSonD83U+f+7+qtBB6tP5sez+qHmrHJjqu+F9f/N+ZUaJJwPqNb+Ks1gp9ShgxFo48BdTs9PvVHABWBvIOHuQELo7yd8L2RyQ8labC/u1qcx5f0K6UttfSyTT+7X4KpXf3qji4qtYanctDNPEf0ldJ1qvdsgLJ/H3BVKztaji5V7O7/jU8vMK0U2kscx5g+HDcpp2zpZkRKJQd69kd7v6FWezDKra83e3M/C57NatjPu/oqFI5Otj8/I5+4Ic5VkoWWWbYNDiPESb6FF+ThgJHmZusR8W/G/pDPINb8UXldI+Q9xR7vUy0TCfoC+yeZ9yr0/oR+UXitZ6rqbxxaUOkKzGivR4+Mwb6NI6PeG/irLYKXUo4cRaOPAXMo0xL3uDQF0e3ljH5d1reZRGHRSS2MN4QAWqzPZ6rVd5a7gdcCCocqeY7yLDhi7rvhFzXEm/L0OcId5qYjw7RoqNxCDlzRtYZFdtIVMc8bhaqgO2dTc7aYu7c+vaqZqVC8t70YVUZTqh+AlSNQj09/xTZMI8/wD7Um6j0zUzqUbO5rj7/cnVHGXOMlN81YfJ3wvr/wCb8yD25OaZCpV7NWbStdIZtPDwP6qIoRz2iNor1mWvpGPm6Y0Z4rouv/EYXfeAqjnDRqoto1GstdDVruBjj5rNlEeO0UICdLrNaOAfDvI5FVaNLJ1tr4nfH4LHwlUbRxpvB9itdej3raWieeX6BaJtpoPwupdYFU3iqLNbw3T/AM1ChuweOYesVqtFCzs4mZVWhZq22psyD+ayvt3RlU9WvTn4H3ptlZ+zszA32/8AkKVXsFTuWmn+I/pKsfR1LuWelp+HwUodFV6uztNIdX2aFQ3YPH0saFu6atDHlubKDPWPxTrU5gYTXiBwzusXm34qQZu6S5wPcbqlCu4NZaBAJ0xKobGadSg8yJdBHgqXyzBNQdXC6dL7J9Y+4q1f5fyhOcLZsrU15GHXLyXUNCoOeOFNqrUaNPjBxFM6D6NcHtafnHAz/wCGUGG4PbqDIVKrQrNp2ukM2nhzB8PFRFCOe0RtForMtXSMfNU26M8V0TX/AIjHO/Bu60nQFO629JK6q6xWu/qu8jBWZ3o3KHi5VcJzxLJbQZ4eHNOeWEdtEH0PS6QYKFGpaarqf0C7K40G2iqKR1YHnCfZc9tOtUY1wzDXRKLntjLq3YcRjlN+HEY87+s4m/DiMcrg+m9zHDiDCwm32ojltnLPigCSYRD5HitpQe+mRoWugrC+32pw5Gqd3rOJWHxRLdFUh2bRkCU57jxhHkckMJ00UNt9qaPCq5fP2itV+u8ndkGEapPGFBzz+CDgYUkzcXfylANt1paIiBVKx1Hue48SZWGTHK6MRgcJQcdJR811XEX4KVttLG8m1SFirVX1Xc3um+QYUkypBgqG2+1NHhVKita69QfzVCbh5rOMRN2Km9zHcwYUHpC1EfbOUkyUAScrmsAmSsDB+KwVBB7DW6SsioK13JlRK17Rrh6pkJ1Ti7M3dV5Cg1DFwntCMI0uyXdPZ4y4NYNSsNnqhzhwRBua3mVUIAmicLfEb5dWMCFifaMk+sLT1W/y69tmj4Ixp2Vcs78j7lacfhHnvwbyzKNUSarGGdChTacgN6llrqjcGYs4n0V08AsgdE17DBlB76rGtEZIBmeHjvwDO8M0LjuCVrMaZdtrvS2m4+xZ03D2b83SsTzroOwmJzvaXTE5wmGnTqYh+Kc5ogG7GNVrwjsGguw56oMpWqhs2aN49tI5ogKey6phQSd6Spub4uhQApxCVOKd6Jv6rmzz9FkJkCXcUwxlqQtrDsPJEs03pDMxzUwB5X5qAjcLjc7Nul+Z7ExwXsndyO6x1Mx1lhrw9rsswnt5HeAVUcQ1S4ZKZPksgV3Ss92As+dxpVG4mO1WKjROIcyi48fShhB6zsvFEVGOYeREdpjOkwvPsIRDGOe7k0SoIg3NGHUbwjt8TeBgpxI60SOwkRKz7CRim4gOww2bqVWQ5tVNc39pOd0gIs5XlF/Hf07u64cwv8sdlS6vrJoaMgZKqEabwTjh710ld0LQLMKaZUH0hgR879Dksmm4cXG/o5nK0NU8cA3bLarODtXFoc7F3pE3ZiVA3AQMXWTDoSNN5tOm0ue4wAOKwPaWua6CDwRlwKdGuwPvCtf2zvfcyODYvAU+N7adNjnvdkGgZlFlRpa5pgg8O1qUicnK0xpgyU+g5pxGmyKIVkwjIA3tn6U+SqnhuHLiomFlu4UR2Y3BSDGOaOYUYGN+qNw72qhq1XeWeanssxuTuZghTRs9WoP5WEqKtJ7D/M2LsVKzVnjm1hKw1ab2Hk4RfABJWL5JXw89mVaGV25RmIUUAxlIaCFTqtEbRvBQ3XRYhY7QRz2ZWGo1zTyIhdGuDuua7ZCLpH7NuSmlZ6tT6rCV89QqU/rNhdeYWWkptOpUqOpM7jXEw3yukhwJ0Kikx9Q+AlS+yV2jmaZv6phQ1r6jvASsVWzVmDm5hG7QfhOClLiY8FbSGO/eH8P5iusCFU+wPvCtf2zvepZZK7h4UysNWm5h5OEXjCCT4Jw+TVy2ddmUWkQRrN1F+E4KUuJ9itkMd+2dw8Vm0i4+CF00rNWqD+VhK+doVKf1mkX/ADdmrP8AJhUVKb2H+YRdKqAj1DqhsaFSp9VpKmtZ6tMfzMIvOHvjgsMz2mSz45IllRmHxKp0BBDBCxUzhC61RZLLdkKDfAXWGSyGR7PRT2gv8FkpwrMdn8ofGI6LDVazCop93hcHbMuBTWU6f3c1heINzfNM6W6R61KhSw7P6ZnJYbJZ7PRpDuiJQ6O6WstF21ya4DKVaOkekPn6bXxZ6fP+q/u9Cz0mcBEr+zOlrLSJqdxw0J+BVayTIaeqeY4XNZ0V0XTY7D1nO5+8qYs0csH9VWdsW0rYwRl+HsRB4Lo+y0+85uZ+iOa+S2KzNtFsjrvdw8z8FIZZgOWA/qn2WtZKTahj5xvBWH7dqqdMdJjaiGso0fpFRZrPZ6LOAiUKHSlmovovyLmjTzCZVs37vXzaPonld0UeYb+S7ow2p4ZRoMFSp4jCth0PYaNKi3QuGvsXz1Kz1GcREL+2+j6YpvGdVoETznxFxFSW2elnUPwRsfQllohjMtodD+vmv7zRo1qfEAQUOm+imhrdarB7/O8OifNGyGy0KNNtMu+bVos7bJZyKVVzATPAqkKtGlT2cxgVT7A+8J9etRbauka7nVI4MBK6rLM0csJ/Vf2b0rZaeKp3XDQn4FVbITIaeqeY4XMZ0Z0WxtTCMTnZZ+8qYs0csH9VVa+iyjbqQ1H4exdZubHZtKNkdZaFFjaZd837FXszLJZ3CnULQTPBUdtRpU9lMYOM/wD1d4nW5vSPS7NraH9ykc48I5qKNChRZw4rDa7JQrM8Mk+pAGJxMBE1OjxWtmLqu8PgvmqdnpN5YZQ6O6Xs1E7XJjgMpVSzAk0+8wnkqWQzrs/ME7pe3mabaQpinHeMlYbJZbPQpjQESsHSNnpVKLsnFgzH6qlbrEALNX4DQHwu2g7/AAWJmh7QHjfkVn2E35BDJaLrNWi6rFkFp6KSioCDiFotFl2ITcOeFBoWGZup7IdbGeCpy31xwVbzub5hWKzjR2J5us5H8VvvVkoerDn3WRw1FZvvVM86A95v0KezCcD6ZnJWsDhXf71a+kqoHzLSxvkBKdVqOxPeZJuJgSrDLQPn26KjZ56tOlPtJv6Mqvzd1Py3dE+TPyXWRoMbZtNn4T8L+laZzbDvyXGrS6tS08frf0vt1gqZsMGPPIotOoMXBP8AsT7wrd/7h/5jdU+wPvCttR1VoiphGLkMlhJafJWZ7dRVafxVB/E0fib9EcnYTSMq2NH8d3vT/sD7wrZlPzz1ijIX2ZjxLWnGfZmn0p6lABg+O9SLGuxB4IgKzObmTSj8VSHEV2e8Kz0vAuhTdZXu9Qt95Hbwp7OLpi7NaXab+nandyWJyjdkb8rLTkhTpMaxzjEokPY5zR1hdjpd/GqbXPEF2eSrz9K5vmFYvqO+F1D7RvvVl+yPvusv2zfeqX2A95WGk6Ot1jyHNENsnyqszvOfnmvmbBZ2DhqjZ69Oi1gpl3VBVs+3f71bg3Xr/C8gHNWBsydu1H7Jt/Rn+T8pu6J8mfku6L82fkN/S31T+S6w2ltnZaG4WNLXeS/wiz/f/Rf4RZ/v/oup0XRb5P8A6Jz47xm9/wBifeFbv/cP/Mbqn2B94VqlkjaOd7JR81Q+0b71ZvsfimWWjlObnfRHNfJ22X5ba294uzj9F8zYLOxvDVCzVqdFrMBd1QVbftne9P8AsD7wrYR/Hd70W+N+f8Fyt73MdiFYrIRcGtEk5AJlp6Z+ftD9KWv4LDYui6FJvj/RNYKFmbJA0Ks32R96o4f4zPeFSb6woyPvvo+Y/Oe2r1/4cL5RapZT9UDV5UjT0PTs4WTJUxHY63ZrLtGNJiTqhTa9uHLqi6j9cKq6hSAcSW4rhZ56oMoPaGyE6q/V1zMQOR1Vi+o74XWf7RvvVlj+EfeswrL9s33ql9gPeVbOchMrA9WSHj6Lrq3SDxDXDZs8eatn27/erX0XVOVUYgOeUFVLPVGbDr4cDfYft2+9H7Jt/Rn+T8pu6J8mfku6L82fkKaLulvqn8l1To8Ebehk33t/RFjgWuBgg8L6YIjmUY0m4jnRd8FbWn+O4/eZuqfYH3hWyxh8Vn1XkHwnRQVQ+0b71ZvsfirX9LA2PvVfaTj2jsU85QnRVbeTNKMFPL71bft3e9Yf+S73hW0H+M7coVz3WnreRVS1AfN2lsF3Ir6SMKxYtNs1MxTh2Iw/ebqLGt+bY4PqHkArLH8I+9Wenw2zferMR/B+JU3UfMfnN2h7S1msCWCMlStVIQaXVfTHBA+iarPsWohrRkqdUcb5uA3DfqhuxdhaJK6wvHmneQuy32MLcgVZTY621DGEO6pHvuovcYa14J+9Wd1lqCs1tBwPVOs+Ko2yno8FphWOq49T9o7wAKslWi7E0s1WJtPGC7rCdQn1vlYsz6v7Rrurnzz4ra1ukHWyNGNMz9ypOq/3Xo+mxzWsA084Vpq0zLH1XOafCUyvReWVGGWlMZ0xS2Fdmjxp96xf26IP87U+lYKrrRajEPzMfBWWvVdhpsqtc48gjXstTaU9m0TBF9hsVKtir0sOJsHLK7o+zCptalJrcbYIjqrDs3NEaqxWOzV8dWk5uJuE5dUhNy0u6Qs9etgq1QcDcJM9VSWkIWiznwc06OHJbS1l1itJGZ0/HQqT06I+u1VqVka+12hzC1rznhPNMbh7v4om6la2ZlhzHMIWt1v+S1iOtJgnzlNNh6R+VVy/SREJ9a11dmw0i2YJzkclXrU3SHVXFp9qkqk9xgB4J+9UaljrbVracEwRx8U21Uxi4Ob9IL5U61/I67u/Jw+/Jbar0i61kaMaZn7lQxN+S2CmC0NHDLjCtVak7Ex9Ulp8FStbBOA5jmOKFrdb/ktYjrSYPtlA2LpI2quXaSIhOOsItTzlm2M1/Z/SjNvZ4gGJgckatn6UFHFwc/T71tK/SDrV/KHTP+lGpR6oD5Z4ckyj0wfk9oZ6+n3FYz01jEd0PajYOgaRpUz+0res5WWpZauPDTh+REFUHuMNbUaT96oVrJV2jQzCTBGc30ujxX/vIObMJ+lK6gJPgjTNSS5s6aBQ8Qezq0Y/aKm9oxB7Ic08VIGEcuwg+hyouaE/zVOb4UrOL81PZ4jOixtyzgidyXGT2o+oVbLI7v0nl7VUrsMkt2LD71YPs/QAE2k12ZzO51Vs84CbWHHVCpzMejZGOwk6R2FTKfmiha6tJxe4wAeCNSoZJujKUR62LsQh6Xkjdiac1JKhx03JQe8TKEXi/TclQL5Cw4cLeXoILnADAdU6TDaji0qjYaTpp0hOXMqwYXAxT35PAR2LQjuSwwVhLpVmkdVzIcPahGmOR5X47vM7hQ9AfP0Duc+weeVMp1O1YnUa+qwu7p7p5oFF4cMMzKcfHshvzvwEe1ndPnuMdsuzjcy1nfDmx96LeXokXB3PcyvxM1iFJ13astmoR1TyT2188A6hRZiJGAAXx6RNzQNRrvT43yxxCoScmNVNjnFxDuKLWiIVSjhlxEhPqPGTBfpv4bpRMpyJDTFxdxYfwT6zvIbzXtdiaVjeYPL0U4WkwmLNpG9F0BSexyC0uHzjMfjwRgz6I6lZsALW4jjMJzDq0wmz3s47UuPdbqg1lMtps3pjJAASSsbhSoTwqOz/AAXyiuaTqcxLXdtHaxw3QU5w4lGphBeIM+Chp/aGd2L83RuGEaZZmEer+KIDXM4koluibTOjuqVTsrHd3Ny1QlZlZG5zX9wJ7T3Rp6KHDTihVj5jvDzRLrs1lfMqAsTlHDsXumPFU3Ypnj6MFaJ02WX3qt9o7374jDi5HinZRvQ1xAUYznuho1KNk44Y9qfUqNn5O2R9bRVTt3iiHEU2AwAFsX2iq6nM4S4xdhVNuLvrAM9yExruWe7O7rCjtmMJycYKaymDs3aJuy7pbN4jcEcrgULjGTkXRksOIxvaZqEEKVLSMyuufnBp6KGjIcSjY3ZUYgFFh4KAtFJvhSVhb2RpOdBxSqdEOxOBn0e0Hhsviq32jvfdis1A7P6bsmqRUsxPLEf0WztdF1N3DkbhTo03VHng0Shis1JnLaPzRe3YVfBr/wBUaNem6m9urXC5nSLmjYPdhBlCrSpBlI6PqGJT7VVqUDTZrDk2zWYB1R0xJhPsVOg6pXYYc1vBS82en4F6NTZCswa7Mz+F+2d3WZrFZGVqtTvQArbVr0wwVgMInzR+Yp/7gT6L8nscWnzTKNppw94loaZlCvaGMpCMmudmrMy1U6IxZUyx3JCMPfU2aiGsJ79Q4ZUtfZneGIrZ2ug6meHI+1BOs9FjX1Cw4ZMJ9jo2dz6tN0PjQe1SX2YHliP6L+9UYadHjNqwWSg58anQD2qdpZp5Yj+iAtdEtB0cM2ncOIwsjPbMcdA5PknE0uNP2qlHq0wDvmOK7uU3Nv0Us0Wm53V1hC8b8lO7O4Fkp7FzWOgO1uG0MwFmhARvzWEdv83Tc5Q9pB8dwtDg2G4iVtGukeXbWhv/ACviq32jvesFT9hTGKp4+CdYOjHbCz0upiZli8uQW0ba64dz2hVbo3pCDaKYltTj9ZPo1BDmOLSvlNnw4sJbDtCpq22r5NOEfghUo2uqCOBdIPsVl6ZY0NqCA73EffdZBajFGm81X+IDinNs9V9nswyYxhjLxRpPtNZzDq0vJCofVf8AlT7N0cxrLVaTtKtTlKftLVXe/DJJeVTZVqvqWdzsLmvMx4hCrSAay0Nxx/NxucwaOWOz1n0nREtMK2C02ipVwNEYnTzRH9oWn/cKxvJc5xkk8V/bNobjqUaezos/mKr7a0vxuHUDTAHkqDazqj9kfXMwrTb7WPmKDsgdC7+ieLO91CzN0DDBPmsdO2V2n7Qqp0V0o1rquGWvHH+qq2Wp3qbo80z7NydYujYpVqp2teoNc1iNstGLntCrR0V0idt83LXHWEzofoz5ltMfOvb3pWMWu0ee0KtXRfSB2jw3qvOsfqCnMdq0wfQM47wTo0lUzzCwjRP3wjE63MAHDc0XcCkAAKCOwcNyFk4b0djF8oBPOet5A1U9noSOKJwvgX0fkVSMI6zRqtlaqZxtOTjuODNcBT6Q63WGJ3bWn7H4qt9o73q216DcVZ5cGeMDJfuLv9QX7i7/AFBU61eyup0sLmuMjkrYB9IH7wLg6lYquE8XdX3r92Z/uhVrNag0VGunIz613V9aW/e++h9V/wCVWwuPdIA+4LAacNI1Ls0V0e7jhd8Ny3/Ub8UUFY6E5dZ5CkGFSDnesE4h8Orzn5lVS5pw4brJVB0qtnyVN49eiJ+9N+zcrY8nSph/C7/ou+CtznabZyD8My+JVWONmn8QrUP+c/370eKJ3M2ySd6js2ycMuKovrMc06COKL+fZ+W82DELCcz2MqVPoEORL+9wUXzeQpPaVvs1aQB1cF9OtY3k5dYA6FFtqfNRzupz3C6k7CSIVQOAd1eSMUmgDUlOG+M+G7afsfiq32jverb8ncW1qZeRHOJX+IVV/iFVCOkqpRq2ioX1H6uKPTVtp7Sqf2Y5coRwV/k7Po0x8V1rfaT/ANQqpUrPc9zjq4ye/cz63/ffQ+q/8qthH8T4La7M4+OeSJXR3k74blv+o34o+aCsn2Z99zZ5qnDp2ZE+xyMuN1lpt1dWb71QbxFHP7ymfZuVtH/OKM6xKd9kVb8TQYtDgPvVIM6pOZVdzjJ2PxCtf2z/AH9n3QRCndp4smwqQ9VswonrYZ3ZbfCm4jeYaWkZpxqezs4lZIbkbkLDunEYARdoW72qntcTQDORBTmMoU2B2sX9VxCzM7tRzs24M019maBSGTvNE9pafsfiq32jven2OuQKVp0nTEnEMJszj82/4FSgynSxOPBjc1gd1c4M8FQ+S9c0Q2QP5cjcKFmplx4ng3zVazWd4eyiG058Q4Tcz63/AH30Pqv/ACq2fX+F/R3k74LK+3/Ub8UfNBWT7M+++0dC2o9WqCWfEfFOo125eq/g4XHpe2jZUaTSaePL/N5KtavVJhn1eCZ9m5W37Y3YuBpOVraTltne9ZlVvsfiFa/tn+++Fks+0ptwDqCE1zaTcQfC22IDhh3nQIaG3NPig46ty7DqmF1nE9lCxjsIlAomFN2HhvC7VDVCHH2+kP6s4hCe2JY/ULLsjVaJaNUcA0VWr8n22JuGMUJ9SIxOJuFntdJtspadY9b+qxHoFk/VasHRnRlGz+J/QJz3auMlHZRUpOMupuW2tHQQc88YaUbN0bZWWGkeLe9/RVuijRxCo/FtMWmnD2XN6H+T6Gdpj/mnS9ls2W1wg9WY1CrWvBs9oZwzMX2dps2x2M+vM7lciz7bagDvxCm6lUNn2OzbHfmbw9hLXDMEcFsOk7HTtbOfErHQ6CYH8DhaFs3RSofw2cfO4WvY7WGkYcUKtasGDavxYZmLhaRSFXqluHFGqq2iMO1eX4Z0m59cUNtiZhjFCq18OHaPLo5Sb/NNDMmwmE69mfBDxWz4TO/kHDLsNbtbtd0NB1Xz1RrPNF1NzXtHK4XQvBZFQjuaqOXZT6VgpiSsO1Zj5I03iCO0azDia8wQm0rIANpqSVgdrdmGx4rLLdYCMpRjtp3pUHtMOazpmLswDCm+dw+Gt8J86FDADAunju69hDStVmtV1VnkiCQTO5J0YJRzzGSGHrCMwsWmLNa7kon0Ezz9JfWZ3phbRuqDqneHaG0uINT1Aht2yXZ0/NHbTiRIdqsOUei4IWYi6L8BbOac5ndOnaFwq4fBS9zpqDIHlvAeG5Vzyd3bsju4XyI5KexaPpXRKhomSgHtzRLHQshKh1NykgjdfTnN7YCeKg60oClq5YJBw8e1jssln6Q+z1DE5hQ4Nwc5QZR4antcIrPA81L3Fx8e2c3PELnMIz4HknvAjCY3hnCAnIabrjPW0CZ9W8NH0VLzxhELFvNbGpUcG9UegHwUz7N4RM3a3MatD30J0WINGLczC7oXcC7oWVzagdDhotpam4anMcU5tkp9Zw7zkSeO+e3gLM5ek6rvO+9ZqM+7KcX1cGHwTn06zX4dbsJOFjRLitlTs5qji5y+VWU9Ti3cBFgqwV/h9ZZ2Csg61Wd9JrjDS7inWulZnvoNmXjw3BbH2d7aB0edE2hQYX1HaNHFf4fWX+H1vuXz9GpSPJ7Yv/w+sv8AD6yP/wC31c035VZ30sfdxcUKbNXJ+KwVcRIX+H1l/eLLWpfWYRf8u2Dvk/8AE4XO+SWd9XB3sPBf4fWX+H1l/h9ZQU6rZbM+q1mpbfTLuLk9ljoOqOGcDknUqgwuYYI5G5w8V/dbJVqDnGX3r93Z/uBE1LDVw829b3LNF9lsz6rWmCWqkadhqyGDTmhNhq7XaSUXOsFUACT25LjCx4teF7y7gnOJOS6hmFkIuy1BUN4KQmy46oXS1acEA8QbsnLXez3Ao4XhZcggYUAdq2k3TmsIYUQfST5Jp1imAq3kn8GBputb294mJXzpgRkVVo4xUApmerG5YHWOrsy8dbqg8Av3sf7bV+8j/QE1lrq42tMjqgL5PXP92r5GfVPNHZj+71etT8PC5tNwOwZ1qp8OSNmon+6WTIAaOcrIWtwkOPuKq2ezWjBTaGwMAPBT8qaf+mELH0vZ6RZU6uOMvaE19Cfk9Xug+qeSHmrH8jq7PaB2Lqg8l+9j/bC/ex/thUxbKu0FOcPVAVD7RvvVGnZK2Brqcnqg8V+9D/bC2fSFGnWpO1LRB/qmdLdHAChUjE1umehFzfrf/ku6QI4Yfiv3sf7YX72P9sL97H+2FJVutFScNN+Ix5IdI2WDZrRn1dA7+t3loqx/5J94Vs+3f71C/tbpmBTjEym73n9Fs+jmNs1EZAxLv0Cn+0K/3rBUrNrtAmHt+KrWl5hzzoOC6SqsObCXA/5VTdRtjA71gWhNHyxpqcYYEaRtQIdl+zG7O+cWUCVksvZu2vFqBktmMJxO5p1J3nvN3IcYUjRU2eG6EN4+SF8qPBYVCnssTKZIRp1Gw5McE6rUfAHhqnVIjPTt9JWbY7M4DE6rC52Xlc+hV/ZVcj4LFNKpR+tCriyHaPdkfAbnRvt9w3X9G2h396oCWOP4H4L5MaZ2uPBh4ym2Ci7++2kTUcOHP9E5rtHKyYJxYjr5FV/Jvuudl6qsNWp3/mz/APFDzXR/1X/C+QqH2jferN9l8b6uPOGuj/Vc363/AOS7pH/L8d3pUeDvyJ/Qduza5vzR8OXsVSy1tW6H6Q53VfsD7wrZ9u/3qjReJpjrv8gvkDD81Z9Rzdfacf8ACVacZ6uS6V8n/kvp55RKjmUWN0vzvha3YZhxOSccvIXU8Thk4mEdy3x3sKEHis8yo3WoXzCMBAxooi8eXYcO72ACHYQNVTNor7KG5NarMQZlmvNN2mijaOAB0C6hJ87p7VzcObuKLavfnLt9Spa4idywtszqQ2Yk4zHAL9rZP9Z/RdapZD/nP6JlO0bPE8YhgMi6naqOrDmOY5If/qWDAoY4j8fPgqlqrd55yHIcrrH9Y+4qv5N91zaNIO2frv4NCs/RNnMtoZu8MoAQ81ZPkzqQ2QM4zGsL9rZP9Z/RftbJ/rP6IWe0mmXlmPqHJUPtG+9Wb7H43AUaDgzjUcIaFS6Bsr8TgBtPAfqSsLBmm0BGPF/3r5xsLpAc8PxX7Wyf6z+i/a2T/Wf0VW0VKlmLKbS4w4z7rulPJ35EypSqFrmGWkcE23UG/wB9oDrNH4j4i6r9gfeFbPt3+9WqpGlMD7yrVUOrqrvfcTwVSWyKjMKMTmukaDIxVCWifFq/a2T/AFn9F+1sn+s/ojaateg1rGgHNN+fpRPBPaDO9N9MeKxuBDQTJRITncGpr/pbj2sAh4grNjW+KBDTGSqNZ353Nr/NC2lR2Bnv3NFm1ZtXdXdWi0Xduz3Z7DXdncp2t9fBtJCoVqzw5gEB3NWaozOmW9VDJVHvnqomHXHLtZeRPBOJqh7vROjjSqvZIM4XRwCaflVfMfxChitVoBI12hUVKz6p4FxmLhSMiizrVT4cl/ZWFnyPDscXDF+nBOpgfMv61I+HK6x/WPuKqUrZ0Vt6wiXwM8lNLoPreLWrY2KjTsdP+XNyLnGSdSh5qwCjVqMlr5wujkv3qv8A7hX71X/3CsVR7nnm4yqH2jfeqdIWWlWxU8Uu81/htm+9M6R6KtDmU4moG6x/RSTJKqAfwymNwu2mLTj31Qp1D86G9ZdI+Tfiv3mv/uFbT5VX0n9oUWm0ViDqC8oNLRpK6Unk78lwe4nYP6tUeHNDpGzAGzWjM4dA7+qq/YH3hWz7d/vVrp86YP4q00yM21Xe+7WBxQb6o0u6VIMEB35F+9V/9wof3qv/ALhTGbeoRgEjEVRbSdGfWTuOQ3Ml3SiDrwva7kj1jFz2OMByZTYZDeO801GTDe9iWK7NDmiavdD/AL1RrUydjwHJNvKzRy7eZ7FjjxKqN4t3LIwHRxVkPmrG36INzmHisIH3XH0I5adr439G+33BNGLMJrZnCLm02NLnOMADim2Sk4fLrR3nDhzPsudZapHy6z6OP4H2pzHtLXNMEHgrH9Y+4qv5N924PNdH/Uf8FCm6h9o33qzfY/G53RdoM0a/cn6XL2p9EfsndakfBPM/8MptXGdpi1/zqXmSukDGuH4qRhcP5SsPgAj5JnV9QLpOBwd+VQGhxKZTAbjHeIR6B6TgtqU5oGeHL2aqvZqo/wCEYdzEjNWjHHXqucPvVFzzDKnzbvb/AFXyprfmrRn/AJuN0ArO7pXyd+RTcC/kpCxu13Oq0SfBTWYMJ8EcspTiWhuXV7TW8Op6XGl62OUaVUTTchG5otN7JZa8d8GdSnvic8hv53MHJVD9LcDJyGiazGcLdAmMccm3OY7isI1uKDjr6A0DWU+kafW9Z0aegWBtjoGqWDrQRlkF+4P/ANQ/VfuD/wDU39U19rs5pNcYEkKp05burSpA7OfxPwVS1VOPdb9Ecrqdpp5gZPb9JvJU+m7H1qVUDaR+BVj+sfcVX8m+7cHmrF8joGrgDsUEZaL9wf8A6m/qg35A/wD1N/VNNss5pB/dkjNUPtG+9Wb7H43BzSQRmCEKjQPltD839VLcjomH+b/vutVNo9VvxWL5IS3j1giaVgfB8R+q/cX/AOpv6pp4gQV0pHJ35EXF4FT1fBSKoeqdoomLRY36jUBUOkIw2hjMDwPFWqeDyBd/ZPS5AqRDXk97ln9JE2UC1U+EZO+5R/Z1q/2iv3N1Mc6hhQV0lTYJe7EAPHAo+QPn6zf1X7g//U39UXusLwAJPWH67k3bWMgoXWzWTADEb88Oww3TdhvyKb1jqnAd5qrT9G43yVz3YRCCe85tdwWIRmePJHkc9yQh5dthmEWNJMmfQA9uRCc11QkHX0ANFufA8Av39/3D9F+/v+4fomstdodVa0yJATbHUtDjQbEMgRlfiPBGy0bS4WdwgsgR4pteg8sqN0cjXtNQ1Kh1cboQxmTyCL6RhzeC/f6n3D9F+/v+4fov39/3D9EwWy0OqhvdkBB7TBBkJr7XWNVzRAJvcbJXdSxd6OKfVqGXvMuK+Qbd3yb6HtlBbTo+0OYHxiAhR8uqgfVH6LCOkKh9g/Rfv9T7h+ikqpZ6FdzKVXvtHG7rJ1nfkyu3D7Vaa5qPp1HO2Q8Y4p9VxJLjM3hlG2PwD1XdYfiv2tL/AGgg0Wt7Ms8Aw3OZZLS6k1xkgAKT0g8ewfos7fU+4foix1ueQRByF8prRwF2DIt5Lq0WBSdwjkZTiNJvpsdxGSYD9G4NLCXKGTG7pfnpuN80XBVKre65t2q17CUTdh4oN5LO4IOdm9/NSG8MxzUNZHakoDDizTjtKQHASnUnRLdw12iWt1T6rR1G6m+N8mm0Yg/MrE7NrtCPRR1xEI7wTvNZXwPaqRa2Bnu08TO9xlEXywqCR7Bvh7dQVTaWBjWcOZ3QqGAZObdSb9LMp5d6qjZOhQibjTHemezkXAclJ5Xd8BzvwUB2LsHuwyIzUAlarVBw4LEU6m12RWq1ROJYite2w4gMIyTWs1HFZ9qVPij1S6rU8O6F15nx3NkBibUycELPRypHM+NwTvPeCqMHFya3WKiPoDXtptqOcdHIPwhr5zA3MQdM7wcsVM6pzqpz4C6BHczTmgDrJjY03RBzbpvTEb0b9nbybcz+UQqj9o1jssinU6dQnmmPEDGAU9m0b2s/d2Qxc0b8ll1fJAOUqLoyRFzwgPHs25ehSsAUr9o/71LiSdyoB+0fx5J9CuXH6DuywTlMrBwmbmtdpxTg+iNkdI1FzWkZEotZSjPXkshHZBjy5pHELZsxE64isV4jQXt8t01eAMINGpRaeHa6rK/NrbmklOO0Y7kBvMyjCIvCx46nlCDgIA0CPWy9AM8kOc3O/lEqALnc+F4un0UDl2M8VHYQFJ9Fa/ki/rOnRp4XNJJAbnKfTD6gBMl5GpThyPZz4KLg8QAdJOqLTqOwqWc6VG5eafXd/wAMfip32TOfJHe4zfHoWWac/ZnIKCCO0JuMcb59KDRxRaeHYZHh2J9JwDUhbGnZsFNvGE7FrPbUNiJaGYfJETijijHASgee8HDUFYaXrHE70p+U5LISpcMz2FW0+sOq1P656yNV3fp5HtI7KSLzPLdhYnkhbJr1MyoeI3DusJGhToZ1pme2i6VN2RC1BHozdm6CtntX4h3lLjJ7bIm5x8O0Iw7hci4aBQUbRpSHBHeqOdwCY8etcd15iclAY01Ci2tBf2FWkO9MwsLRmqjX5OqHdz9AEqpJ87zPK/Upx8bskXeKEclihQRvwsY1BT8u/ruSV1d3RZ7krCL3EeSwjS7S+eze9urSqUjrOEndyWbydwJ1TKBr4LwOY9AxNT3kaaJrx625LhK6szuVWNHBO2gyPBeZXyYfs0RvOZGTk1nBtx3anOFt5+cW3bmeO4E52Fud+JpgqdlTxc0RVEu4HdlYrpIOFOeMQ5dnN0YjHYNR8k/zTVHbAJj3WhrCSZlMrCu1wdp2OEaqTfAN0LrlwYiG6C5oNNrvNYqtFjcQ6vZYIymSm5adkCqjCAcbs0ynlLfQMM5J7XtnNBrRAHYYQiFn6C91QGIU9ZHE1xBRLdL2OnMuhZdmDcBigAZruw0dlAa0zzTS1oGcQjfkLs7z5IeVzvFbPtwsdVxFJmqa1rcNNvdF0neKO8KY4plKm6KbZ+9EeN22cCWt0HNdam7wRB19BdWxQ1qxtdib6DDhKxDQ9gI+gN2e1GNrZdpuAIwRruA3FvB14CLhw7DBfr2OTV43aLNZhZbxnWECVtGDMIcECNyd1xPDeZShzQNY4r5rFPjfkpO5G/jYYMQmio8YfJEuM3YWvcB5r9q771iOZWnoDmxIxaJwgbUnOOHoOLEAgJBjPsA4fRA9AjSLm+DRfkxxUbo8Lh5XyiOfoYhYp9ixPMrQLRexSLs0d6CtqzRbJ/YjyvMbmV0NUu3JcjuHBkBqVhNp6yFWcTDv06bQBUZSFSY4IWh4DgXimyfFVgNMZ7MitTc6dITKdIEP1eL3hz8NUuyy0VX5/G8+F2iwzDYklB1KpjHHtmjk2FpHodSeDdyH4gXnKOSFSn3XBGC4ki72K1P9YwAvGbx5qpp6Tmmk+qtNzVEFTvubcQUYWF2t57HJYnKG70BSVgbdiUeCefoqnSZk5/eWJGlqDcQOQ3ejhINN1HC9WCw0yMDH43Ecyq5/nKaRHW0lRvU61uY6pVqZimDwTLRZqkYtaZOYufVdWayqO5Kn5QKxdnvUqbs5GYaFaMWKQ0oilMHPP/0J0esIWdxY7InQr5zOodByG7gnJRu4qdNxbzCiqwtPjfiWLgs+cIjluwp7HNadtKzUc7zlmnZluaFNxvJAU4Vpu5i7kLs948rgfaiBxR8RCcI1CoPGYGqwp1Tg24+QuhCM51uGeix4ji5o+KsxByDU5zdN2VZrVTaXU3UgMs020vdhLjDWdiAHaKsZzLDvEsggaqXZdi3zVTcpudk1zoTmjgbzU+l2pqv0boOZW0JAqN18bs+SYPWznsKANfZ8cihjfjB7pm6FUpZRGSbT+iFkpO6CoHOezCy3T4I803x3fBSqfnuQQtozRYHrK7JFaXaLNQFLlkpO/gapWXKNx1CoMTHLFtXeS+T0hA5owsTrpUbrR9EReAgLqD3tJNQZrYUavVA4hYqz8V2ig75w5SI3nlr6efMoQ/E467pU7zQSOKA4Kk5zM2u6uaceZvjtsuzp1LNUa6R1gTEKjZmvDywZkb208Y7TPei9vNQnLaLPdi6l9bdhwW0ooNqbmizF2Q7GSoac1iNxPK7Mb0bkHinl3De2bRFcZg801mHFXeZ8kXCclZ2VKYe5kp1R+pvGIN7/AM1P0k/a9+c902auO93XcijQf1QzvnkERSbDG5Dx7EAcU2nT14lZgY515qcJi6YKjCVmswVkCgKkx4KrgmOCpM4MZCOIAt8QgWjIpxDW4m5TCyBTg5oPsVTE0GNMlkJWijCbmODWydck7Id3iFoVmCm4A6Y6y0K0K0KmDC7pTYDtpxTeqZK0NzLw8fShPHLRQBKLqtM4YT514KbwJ4o5z2AC03pvCYXNJxINHqqbo57h3KQ8bsW7mM11DktFmtL8t/JSVDdyos1mZuPPsJUD273yyroO74r5aw+DxyVJtN+bOs4I1Y6pdl47gAcctEXOMlOPBovzGiDafenJOo0qjTaGNG08bseIALvA7jSfWzF7Ceab5KQOMISQDHdCqNGidTyjEqQBTJ+jKqscHPxFUOsGRqCmgOyTyXeXgtnDnEZyn/VTah1YnqjEgDlxT3NbhBCqpvCmTmppHJp18FTaD5pypE6ZLPWHJpnNUncVTPHJNrg6KmZOeZI4oOaC2QZ8U6mZPW5J5pVpJGip58QqeExkqdYHRS45oDlfhUSgGmCjAdswF7IRy17BqIF2faUWhujZlA/SaCgTxuzUb7Lo3S55gBFvvUAjtM1Aum6fFOaBrvtZhByQB0lOGBQp9aewDcRgIjEYKDsWHDmSmV6Z+bOWH6O6xrtCVaWbINwjKEGDiV1SfAniqlQZun7k6uIdXd3RyQrznOfittRyx6t5IYjh6/JdV8ncZi0hEt0vDXgOA0QDQGgGQg/C0O5rqYScPJYsIQxNbkg+AHAwIQdhAc4arA6kHEDVB+z4Zjki8M11RDWhoKIwtM80afAmVs8DcKDHtDo0RIDZT8LG6JtOJDuC+S6PjVS9jcbViIAPgsBAc3kVAAAWzwtwoMLW4Qg0huWiFPgFs3AObwlMyGseSqU9k3L1kSGNBPELZ4W4U2nhbi0lNpxBGaJ3pBhOpknrdlpms9T2gzua1zQ6NFifqhdkFBnfHlfG5sWHqjVSE1xcUHA9n4LJdYrK6BzU78SpGqJAzKDolRGZPZxwuqEzhY2ckbg5pzCc3Lrapr+SD2ucYEBqecuvruNp8cU7rGkd0Qpa2Lm0aLC+o7Ro4p1Kqwse0wQeFzrW2i80GGHPjILEOQvlqzKp2d9pB+ba5kZ4QfErE6SX5yeK2VCm6o+CYHLdgoTxuitTNOqzg4aLaOPWKBfqBHYutLabtkxwa5/Io4pnjeKlNxa5uYIOiNSq9z3nUuPa5KN1oPDtI3sWaxHXfe/kNzO4xq7ILEeN0rYvOR03pvyUlZLNfyhZdkHXZsDvEoYeIuJ4ntLRnE07svQbJ9Y/lKsvSzR+2GzrfXb/AEUDMq3dFt//AItKltPtHOkrY0cExiJe7CAEWUOkOj7RWjKmyrmfJFrwQ4GCCm17RXs1jY/Nm3fBd7Ex3yqy2hr9DRqSqdfaUaFBtnpNNWs7C2cOnivlFO02a10qPfNF8lnsRbYKuzq4HZzwjNbChGPCXZ+CHyq22KyPOezq1Ot9wTBWwObUEsqMdLXDwThRDQ1gl9R5hrB4lPqWS12S2Gnm5lF8ujyQlYuCtHkz8ouqOBFOkzWo4w0KpWoVqFqp0837J3WaPEKnZqfeeeabTZ0jYto7RjqmqfQrMLKrDDmp21qWehSaGk1aj4bmJA81TsNC0Weu6po+m7qoOtdqsljxd1tepDj7Eyo51KrRqdyrSdiaVXdSf/dRVbjZzdwVX5NTEsqBp8ZWAdI9H7T6G1zVSi+GOp96U2tWtVmszXjE3auMkc4CbXdbrBsn9x+1yd5XPNbhovn6LRT0TsEYeHYuLnHMoiDuZj0PVZ77zzO8ac5MQvDhqE0k5jVZXZdhKcJ4Sj4dlpdGfiFplwUxunHp2VoqOYHhtOYVmrARjmR5doCsr7J9Y/lKt/RJ7z/nqH12/qEbXXHzNjYaz/ZoPvXTleoZfUNNx/1LZWWkajtTyHmmPd0l0dSe1wMfKBKdZ3DqPtIxDnxKtFZ59cho5AaC6y0iepTsrIHmFs/VqUajXeIwr/o1Pyprx6tJ5/8AinVahxPcZJVEuzwW1zW+AwyrDRo17NR2znVau1rBmLOAqFpFv6PGB4Ji1N04q0bFzTS2xLS3SFh+jorR5M/KLrDZ6VWgymLNtHB1UNJe7irLbX2qxYANnX/vAgtVf5Mw1cBcKYbxVIVrZYaDgMxUrhUpcHuNmplzh6xjVWWgT83TszCB4kKxfaK0VqhlzqhVua7SnXpub4Eq0YHhp+UNzJVrwVRtHvY17mnmsNGpJ81TZUf84+yN2n3KvbYNShXpgUMInghRtTS2pWtO0osdrhjM3dTgc1hp6gqHa9i4cMaOaOcJh166Pn6YDzO66oeAXy6kcnd4brW4snarVZdiKTVKIvlR2MqI4boDhwR7E4XROqa1zpDdOw9m4dyyfWP5SmWpnep1MSdRsjwf7RqfKDHCnwH3yumfKl+ZW2yWPO0mq1zmDV7E2vb6TrJZabgaj6ow+wcyqtqGezrNdHPIJ1t6OpOtVlrnG00xJbPAhMdarO+iH93GIlUf/a0vcmfZv/Kv+jU/Km+Nnef/AI3N/wDfn8io2SiW/LbGXYaZMbRh5LCOj7QPrMgIsOoMXVq1Cx1qlMhsODf5QnVq1irMpt1cW6Ki+icVps9DY1KXEjgQq9mqWOvTHeaXtgK1WKi7BbbRRmnnBOeioB1E0KbG/OVKmTWBUNi7FT+S08B5hU5//q0/crF9oq31z710l9rSVsZGloYrZ9vTVSqdGsVne3vOsbFYm9HWkWSnspe11XZuL+JTrZaf7w31qrau0jzuexo7+q2rWyeSdUiJU7vnfg4KURzCLWvznsiRw35O+VkjfS3W0ge8ixrzBv65I8k1zHa8LgCcxr2Ip0TJ4pmN3eTmj6SO5KnegLERksvTsu/618tJB8LhJmEQCYOqxMcWkcQprVqlSPpOlAuMnmUfk9pew/yOhE1ajnu5uMqXEnzUtJB8EwSR5J50LWcLsMnDyUgwsD7TWc3kXm/9tU/1FQ6q8jxcnOEyREhB1a0VajRwdUKFRp8o4KlTLqrgwcXSsySoJnhmpaSDdhBMHgsMmDwQYHZToqmYBIVjfXqAsykuPdT3VLPWq4iTja0uBVstlua6z0X2d1NrH5Go4+G7A7GL5uIu0UXkcwqk6nfjdCi7EnGboVNvIbhlOcNBkNwCMkTEXAcHKd443Zotp9UIvOaY5pbhac5WNp1N3suzujeAYM1s26cfHtC4NJAXVpuUbzWnRVG0nNLWju4dEfQhi0QqyC3gifG8OHBPw+tz4IgKZHYZXd/W6WNJUHW5lUky4whRJMkbmCjbLRTbybUICp1albGSTJqOklOLO7OXZhSViOlPMoWtgGsGNzO7XcaRzWZ3oG7N2d0O0vpN/m3J4J1Nhhztx3XwNHFVGtjIai+Qm89ySUQwyVie67CZ04IDBinmpKjLVd5QEcWRJhHjmszmVMKCOCgldVywlC1h2F+OF3wutruy3PdDQqtDGBUkOhVXh4OOnzTt6QnDCwYu9A7Asc0fs5mO0Zia9pjvBG7LndwPmpOqPUcgZ135Om5jZmeGeiIdrcyn9Eqk9ogiJTSAgvagqdCvLnd4RwlPpnh2c3ONUH57L2KpZaTXNLs8780PDspN0BBDaPDSRkoddCz3NTlqsrtqdANx2zEu4BF9qEE6XspN1cULOzGKLA6erqUYaYnKVinNaqBmofoUC03dY5ohphq5rCsAQz4JvkghkpOQJWRTcWgKl3dIWfLJNHByfLuGSAcC4lMqMyg8Vj4ppP8AFu6yHjnfC6mTuO6CqlpkYXMWJpU9v3jdIw/ei94G7Cm+JKmd7JxALJeeSGEZDTfjD2Hs3Wu5sEI+Q7Vs55ZKQcwpN/sWXYxeEcZgN4lNy0yulNUSoCxLDgeFkgTkE5w53ZuCLaRxuWM1X+UrrOcfO7NB7DBCx1ajiEx78zfMKQtjVBhBtNwxSsUypK0TqhRKJcEXFwyQBdGS1hNBzhN+CecebVg1JbqjjHBM6umiL4glfO9TkjsqrjBQa7gm0fWxoTdS+peG6k6Jza1LMekhrSVs8RhuW4/nwTE4OyOLn2TR3m4RIUh/VWs+gSQI8UTEXYYa7kSNFJ7LxvYGnQIm/PsJUbwBY4RyKGCQL25qZQPitkxjdJzWzeGZ8hfFOo5q/bOXWqOPtUqpUqDE2m3FHinmszaNf6qN4aOKYzkNzNNfi6oTn4dStpUCiFpktkLvandVECnEBEOOgRAPqrBGirvqaI0xSwkNyKMhdYlS7km1adVrXDgsT64eeQReRhyua1tzed9KPpBWq013uZRa77+x0KgjeJwgx43zvVKo8lnuTGcpj2+t2lQubPXC6oj0DCIjxCntYCncDoMHRRdn2Od+uW+E1FrmMcQ3Upjdm1scRx3mfSwFGRLXCCFtBNQ8GlE30557sIeCkhRcXIu4SgPFF3DEp4SinQiirRSccM8VUrvrU35Q0NOtwPNA+KEjvI/WQcOBzRaNCV1DmsXEBDFwF9J3d6ytFntFT5l3dPYsqYo65RA0gbxZTfRgjMypjJGpUfgYMpVDCQQW6892AjSkQTu4SJzQAyaNO0w8D2Zdy3o7WOKz3abDonEZie1y3MNxXVUlA8inVGg5haZ7pqu1jfa7kU09jsxqUxsTJUhnFCnA1Un6WVxgrzQy9ZVTg7ydwlU45IZcU0iB1kyO806qdetKeJiVLn6RkifVXgWoeV88EeXY7F1NrgDiCxkRlv0Kuxa5zgjVNFowOmEythAczIQsXisrweSnx9Nq+y4bvt9FfPLso7AyskWwFMboWG6Z3GjxRgcUzsc+CbmsOIwhIlU4gA3BBC49XgtUA7RNqDXEnAI3PM8UX4c03hDVly3f/8QAKxABAAICAQMDBQADAQEBAQAAAQARITFBEFFhIHGBMJGhsfBAwdHh8VCA/9oACAEBAAE/If8A+M6ifUF/3PRRILckr7Q6GrxKjc6mz05YW5kGArOnaEAQ0V6K3mUxXbPooCg+TErFA5wjbjt6BdJa6ihr05uyZoBpQqiKxqKYuXeJwfWQS0xAEl21H5pbHqKb7QBXL0i6QSBVluVkg8QLZZQUyX90Zyw4j/mahZeoRcdor0AAewdymKHgviCBdu9Q/wCDfDtyy5RVfSIwZfXvLiBa9oc+q30qUC6EdsCVmHE7as69F/RI9ZKXdQyhxE7zWejVSoNaBOfMaTbXhLnsfUURzDFQX7NwdCwetACKBt1uJBNk2C83Hq5C2o1gKXV5lmkp9FT2Tj1S4bRhx4hCuQQ5AVXNs7C5eS6KYObbtXBTZoXn/F2jRKml0w60cnjMZhmL7+gChZiGVKILN02MHbLN4fpbQDzLYH1YIujEW36KaFwtNetdKRBg8g4EN+9w0xMjmPSpUr4Iuc6cxNQQKfQT2vqutRV39C3UWqIJGD6G4BUQoU1SGRByY0jI2IPQTqJW+qRtUxfafPWvStIAcjzPEIuznohBLF8tdRVWgDWi4SnxreXYgMNzL0u2kYtmYUAqhqClvNIIbJqGBXBlM89+6XqaPi6HK6XBSPULa1ek3AIXMUoKdvQ0GGEUuOjbGD1EzOXtV4jCcmtWUYKlsfoIqFwVK0XUKhriPpvFfSxwBsYCReEiyVekC9DTG1mlZjWLbGXRygStVVEuWQtRKqiyC2tjsJly6em5VDSLubOr8QxHCfuJVreYfouY79PvpVTWWoxhbeg+g0RwY7mYy9O73jiwcf8ARG1tz0q4c7lD5L6oPuiWojlbTOClY9+hxN2CLVLWfb0KvPYczlAIOfEdx90de8Y/IHXJZojxGyMqZ9ipgWi8PpEswGTkZ+0QTodXRHmVvWvTk1C2XDBxU39CHEE6bDt5iFLZqTQ9CKm8DCO/XXw55e8OnSpzdHesTch46hzPAco7/QCIjNwCqOMhXWudnhqr8zUfpqUbYJdx7So9CvNqEbuk7o5twjcY6R36Lly4TMCJSXuIA6mMJQUY3fiCHpoxaAaAblTNuiQZFeEqLHx6OcBlzLUTwA7w5Er0faP0zt910icW5fH0FOTODM82HulFa4cLVdpbdl12nFWTiUvWrl/kuMh4FdPAx0vhMu5rPgV+Iyq8t0EzMCu1/wCQaGlR31qEu6TBT0W4mQP0hnp/wIEujC9ZmohOQKMejA+tY6CohZqWBKAbzmNAw3DMCN9ARnOOpW5x68bVyiIoFJ40GKWOb5GAyOW69CmrrH0XTaFoVibN+YBHCQUHZ6AwNS8wS9hjj9Aq6y1JclOwWqVTCuS2AczbGHKdpyEmuFiMm130wJxWBGRp7+h+dQFXAAAvkMa1lVa94wL4lVSvWSxLvjU29FSuiCTF37x3iLeDVxET3R1NmudmeLWUpepb7yoK02Qm/ASdpYTWJX1q8Tu0nOJXoBdFxAtGvSeiscRvb6KyoLJ4WG93gKOr8l37MuVQpwvf07cw0HM3HlsZTLdmeZPKnnRShTjNF+MRYHTyC5rYIZjxtGE5g2VuDuLmHZBPErNS7onignJBl5IQ7cb3lyY9mXJLux6GwS5G3h7wU19CqCzoTPGRZfETbOpebl+gKVpRbqL9AmWdeGfkgZa9zu6ul1wveXMbj3NOoFDirvqbiix92qa5B483BojCgU6fEw2CrTFxSO4iPpIIMcO0F7O1rs7g8vI93Mq4LqBoLYNXqJWpoAcMqMF8klqaWwKqVTi747YFtEyQlqq8Rlb0t6XVwA/EwaBYuO07vrqUyups+4jLTSom8xS0g4AIYBN5HTiIbwJpFxEaZStjyYSOHbt9LPKK09LpPKCLPgjETogumI2Z68tTCIVK9APBCThA70GrgP5Z5svIvx0OtVMG2hcjKCICTOWNSqhWrPCTs4HiLxGPUO+iApCAZm3pujhiq2co7O5v6/H1UIp+gbhF9Jcq+gCKS5Na62jF4EsDO7ErMbU3ffz0Vei1Z9BM8ypdB3LMxS97YgJtyPc66jqBh5kNkd2M+Q7xgVdmZLUxFbzNQFAR6eN2VoXLBH01eZA703H0BPoGJXQOl2tGGg+ZVp5Up1dI4blNYtuzKvqbDjumhUH2xtTG7kStdhYqZ5wWwjkI+K6U+gwpa+lJqWqrxFt6XxPOOSUY9oFUjAgF1FsONF1JpCCVZ7JoVAiAhB4zeBHiENxLGoIiCJgIER0JgYNwmAlQrpcn/wCHVypYawEafoCVFuDqgLmNS5i0Iri/IOgYe78ehF0GdxPN62C5Gwe0t0duAiwLZixOBwTggbe0AbwfZK81QtVhrJeSn0P0ieTtWy7yoFYOLMDdYmWhwsY1g3Y+/oZiUmmd4m+TKo8Moou85WKgK4DGWU1DaTx1AfEevF40xslZOIbgVGtF1BVcAWxbh5qXHY+ry6S52r7DMoAGV1c2NIOEQTWA4gTiU7Ssp6FUqCJ0Y9HoRYlzF1S6SP8AmV6s6oF9k3DQRqB4LzzGodu/o36ao0upT+G8krPUGqh2rlaAZ0a9Bh8dPBQRHGS3puXzjW4AoB95O3BQBKlmW1CoQLoW8kZZ+kQEseYAWLbJKMMoFsl7XHV3UeotQWwEwXK6XIR7wXVOIfIfKvoKRb9QVwXLcyumucbn+kXdjN7VyQFuZuAV1CGI3ao9afD0s4C4qDjggYMQysS1qUcdAhOldX1meCVE6MWJZBWjETQHMNOegsHeIHw1/ii3I0AZYZQs5uvyPmYqWrHME1RYX58EGPR4nu1LZo0Jl88nz1IfFI/dMfQrGsxGMuIlbfpvDiX1R48nvGo9DW4ICFl3N+g2qqXLO5UcnSfQRK6zGK/uQLaMQtAZx8R8qFoPtROWVjFKTSI8X5RD8p12+imt8dFCiOcOYKCNCMMTaR6GYRSoDxMRoFVHoCnj6YrHapS+WIDeUHtLqrMXAuO1ABNnmOlsI9KXtgJDSwjnLIczO0Kx0X0VxABUrOuUdur6HpfQdUxBIjSYIBxUvDt6BiCEqJcljdpcZR6KnshgOR/iEcUdlPEwlAGQf6Pz7I8z/F69rQ6zD9kANf8AvR/K2ckfG153DT9uogXMX6a27xWIc9FC24r0NGWEGcL65cxX5gqcrnll9QzdnppqZz65qM0E7yuUbR2jfweGYJaHviUF+4uUrcH3i42OnMYUQwwVFY7ei30EtM9MvZ7dShUIYwWS5Egd9iMdg10QB3PqC6QKFypkIDV/yfl/S9MSUuM7SgHqC2xOEbYGJrtMEqggj1XqdHoWX0EHEuByjOMJSny1CMPSW5aZEDBMp0/tLDH6YfclWe/0smgN/Mr8QtIMXhwPAY6uphj7pv8A3otTvAs+/UcgqmliBGnzDH4AshZ6Z03hLg9HmhqEK2z5gKlpH3lkahdg10IxAGu8ukULEMbYhJyWdLbMfQYe1ojiIlb8TDZf5y2aRPaDajH+0sbdusS7qo7589bJUQehuCw9tS59Bk0mobVTU2uC83QghuB2pcaCTyRKY/RzHtB1MS27m9ed3GRbelPcdTqLlCzO0pBK+kly+jElR6XFFixhYtSzamVq3RGd8KIyNMtjFF0CLgwztMY3vU5R+mg2lwbgo7fQsL6A0h1pooCvioP91vxQz+YG8L9hN7Ilcm0RsgysxCgWXZIGjO9T9IRal7CgrlsQ8qFvH/h0NxxdifHEvb+EiVkYbuVezX3Rj7FLF9DQGyeUPfvPd8/EMgn5IdaVrAETYC/tDf0Nw+Z4eM9ECgpK9eQsgsmLcBRZfGGHAf5C5Q6J+UWMPI9+rSKGStSiV9JiObVE9r+XMxTVv30GkZoKK6DBUbG00xGI+nWC1uYPVO5uO+A+gtHZ18xSbe3HQFWJVqhgQI/QYxYuiqOcLRydKvEZ56Ci6NMVthNKw0XKY+ZH2+hXQOfMfVS+gaKvKJbGI6mff13/AH1rZLHup6kqN2hh/PgERKqrt6EC1ToqMrPyy3QfBfunG4b9WQ7PwiKoYCeXOtzPUX6GIDI3AplnHrvRSKr2X6ZcJiC6EsF6LDVuYZZNsTGIQN5nc9a9pr7zyBQKCd41BXZ4i31zafZNkPu9H0Cc1KhuS8prVXQlkPGnQJeugxnQz6MhZqvE09Bvz1QR36gW+MQBqJZKBSV9NSpUYxj0pFJUhq4OuOXBzyuBLucS556XCa1yx6MMhP8A1kY3V7zc64K7z4j0DTlOLPCam0IYfLCiJgB6guMgR32JkAoMdbtvE4yptDIPa4qtBXvj56DYW0/R3Ys7MTgwPsdLGBDEt7rgnfmErhff9e87+oV/7D3fUxHOLxrx232QMUqUJ97sh9VrarKj1tor6OQlcFoCVCxXS1XEqYkJlgp3x5JsdBqcDJq4lcnL6WVlmbjqMF+gnFiA8TyLPSmr6kUS3pGDH0VrFVN7yPQHKYjhjNWPHMdI92MS9z6FOqVFez0E5zGBVaOgWaV95Suoyo+k9DGLoKKflzlqG6hu+ZjG8ViLJ1HCLMVjlHdk3aEhk9HxgBvw9EhE0bti0OQhuYUhe69V7TIuWDozuYjpabmj5rrcNDY5my6v3R3DupyBPbKoUX6LT2GiLoSxsj10E2K6zuMsGKpY+7El0TrtBX2TVX4YBFLupgL8IWa5ThYZIG5DbKJvIgvbrLphv39FkiV6B3idBZeZQQK3NEqe8AeddCFdr5VKYMlwAMbcwwKyzwE+gIjgxNI9QhPiF/SrJWI7fSzmoBYAtx8RSGQCrNY49AAxZX7xWXW1AvBqAAks9o8jgTNBvR8RWbHaMrV+gKogpp9BMJYJSFEOIsOBFfQxlQSpx1HqJ0SSD3hfE2EeFB4lKCOGrI6+CRxiik5twiw7wOI0DxOPoSrutfiB0DANVFsLUH9nS4vXYTG1D0tD2MFwxNnrUDcXyZWYBcESV0vSdJRLhBN0i+w8QetCPaV3iuMaiFl7R+7iCbdT092HcOgV3n4bqFTXSkIsycSW46avorojRxeIJFaMRFlzvpZKVR+JWXkcTCEC6NSwjWB6gpWp5v6iQQBY8EMg1nmqjA2qG9qqdTfXeXlKwHqFoTC+DbIkNxAjhFDthxfTn2fSfCsoLBKRlO6oooDQekLYK6nLaMVLWO2lI/ur9SbajVb6PJjMLDWZQEEzG/QDquh6GM6CwQxiXiBOEum5T4HHeEMTgd5fQ6i1uX094dse+5kbgj0SgskD+eBibWGOrm0cp6DRTj0AVIAuKuReiXfoICpztTMCO0cB28doQILiVE+k9jI3MplZcCrqcIwbZI7xet3xFvJk+0qR2S+Ckc+H8QYIogojVjB+UieD7igwLfh+elO7eYtm8eCZmwW+AQ4uoEVMe+GaMloufdT7CKtNCR9zHzFHD3R/GeZggWjBlOtBIYdNuXnARUeyA/w9oTC1Gy8ZV7StDJNhdCUCJ4Hxa3GmqgHgL0+0U9bKUK+XebsIqHT3LgDcQfFyPP7ic2BreD/t9EDLtPdXHx95jhvFvn+FdLHEKUM6ve2AsLq0tHO3WzoplfBK91t/3LzONHHPNZyvxFbIpEpOovj0FngNbGE35PSBeVPfwOyMEZUO4VqWi+uqMBvzcDC9dWmy3B3ltQzS38kPsQj24ufdUfJNh7Czja8xuSIP20BStkfBCeaLGg7DR7Xcu9TXa87I4ei6i4A8l4zkiNjoxrWK+ahCHatOuS+8/wDgwpMdS15t7+OtSfV6Xk8Sh6C01bc+WBSRj38Xee7HSj5yfCIFia6fklr1LIUWqYOIqblp4hKPTmhl02/JQQxoS0j/AF2lAnu9l4yr2lBC7QXQ9R0FpDO8rrOofiGC/flTqOxLZqPT49QvQrJjmcZHvA7xum5BDUWMXmKXFeOjI2qNy1xxWAX1Cg7zIZIt7mfUBZjsp0v0KtQFjqaDSdK8xMX02jsW1aYgvkOg6fyd0lYubzlYUj6F9SFojqKRpBjkf+iZOpVfeGfp13NYf1xCn3QTeH/s6drg7s6/gs/GRJ0TwBZ8qRgy2EoTLqflU5l0xVtcxEwi9kbhEwhxxg/aFGpl4cStbr/RN/1SKvdobgtbB8JMRN69m8JArMaM5TK+78QAC00EtvA1Pi/Z9oIllAw2r8s/EXCi/wAf9D/qZH0L9sBk56DT7NTDGA8sfkX89be18Af8PzOyBAfyzEjhbeOfwgfNPF/+eI2PN+XP4JP9LEDH5qX/AAH979o0tbSpbm2DBw1ly1t+UqCcoUXBVJxQv43HFVV2vPR2LtOhlfm0fWl5V7LNMowHNBZ+KQ5bfNf/AE6X6m9mm4RuEpUt9sX7fQJhPP59LpWIGJHH96FhnSBnCOY+i4sfQYp5mRTHG4rFrywru3PdFvEL85g976hcuc46gKvmWZU0JfpuOrpemvNQyr1jotTYohMa0EQZ0iBxWq6pCu3pZB7iNx8oI7m0OKmFkZ7YxFi6KRdm4/SER1rcte/In/wh5acc2qNRkaPh+UviM3bRfJ/0RDZx+7/tHr/TUn4bp+2xdc5mYqJjZlpftnwLZpgejLCw9w4PLMTttE/EPzBsYvdL+ZdKpo9iqS7mrzPef65sQUW30G0XKrcffvXsqfmnxEywv9xxLy0Qnln/AEPid27Hfl/q+Jfv8BXtAs0r77/J/EQZSa/72jXINb8+I9yRgbsMQsGyFn2NejZ5jCgtW6mI8XbmJ1Rz5XNaoTT/AOCw6wbQ8W/YPvNJi7O3JP8AUI67t8mT7vxA/wD1QkZkm3dW2Ilwo2D2DljTjXfl+xx95jTyyNx/eyZXy83Dcuic2/eNuhyApNbxK9pdk6PXdfZBcyBev9zvlrLwLxK+iiv6/aUdEoqnn/jc34FhjxZn5EygerQdx5OpME2sLD3Dt5Zhv8KJ+IfmLBqv4zOqH8bAhCh6ikdy55joEA5m9gQRshd4w2OZyLbNYvoFx6LJA5ys3uGG5RtKsQhomNjmK4Zgxb3lbalIqYYGMXM1dSy5eOwZbyQkXLK1SCo+sEXDftLpWB8PSQ9hsTBd3Ud9LIAIBSYj9Ag5KlSugiTJN8+Iqsf3UyC1CPifwQE4/u2X/R/nb/vxLSaD7WM/gfeZcFP3v2n4aM9jcZuMNx226v8ATLvAOeEEX+jSSjR7FdLgUKO61M4f8KEDz3P5Paak4DUcwTWXdlbjkS7etXfB/jiChVGvufwPuj821+VuUwKaWng+6MZoRPFtvsfeb16e63MLGTzXX2WeVOBPK+RiKXb1YKtFv6ZQKEWMQDZxVQdoYc6vUhyoncrK+1One3jvWZ+afEeGs+T/AKH3lAeSyIYGBTS/eZfQ5W0GxSn5hGCC6ZeiDU0R2xO4NgRG2KQbcFG9vUdYtl+cxptn79TTo+oxgLXUrDE8JmoIWGIxm6TeyCN9l4Eo0exXRzJRcqzk/c9gek1OAnI47Sl1H81MTx0/JhINEQwgSHMzBhnv6fd0k4dzyQA3DvjiGLTGLpFOhXTrpMXMrpcJL+YqgGK1C2w7O8dhVYxuFwzOJ+CJZWhOkhiLRkswitKxSGvrIdeN1DIgL00esnpzDE81YJRVmNLVYrVZjGJlt5cvjVFQIBRejpA1XObzK6Ih7g1EFKSxhscP3jr7/wARkRV2sNwBDyoFfmn7y10bd1bn4T0Tf3eMV+hbsjK6FO9bDdXkhNxfC/UdAWc0+75fif8A2RTNssGNyimNjsE8MEYtAJyFQWLhqUsKErPBUtpo/wDEaYhSt7FD+v3RuDCkKe01zyPtEmMVdwP3QDLl7SwQ8TtNyLTadq+0mSOBt4q/smAd5DD8H5g4XA0dS9Y3cRWqegwtTFn8cD7Rg8NDQsv4p8QfHi6jcZ5Xgf8AaMPBWnF4fj8orI3BtjWdvBOcYSJz4IqPwlzmw33Z3/47wshHqBj+KhuETWp/tzRdpoL2/wAMdwo7UqA1fvafacfW8ndfaHuQUwCn/fRy/NkLlemg1KeXfMr/AG6X7EGj2+A/X5hS2Yxhur5WTOSHk4lTG8oyeSecdwGqG8tQLcXwv1cWa2AyJt/1+JciKhRi1PQYw1BWMgqVl9VTcGFlSKjFVgilT1RPmGWJBeZSBgbmLczsxJhErEwkEeei4qZZB8BFTmHSiaBgkt1n5lpzsviGVo5DJA7aZfEVZ3C8q3EcpSw3M0wlrlxK6V0GSZxcEwHi/q2NTldJILnkSofcGRIKL6T+Opc1Pvx7mkI34t4PcEomKgcrMV7x/wBQzqGgL406Zj7ziB1bfUOj3bHTUwByPkgOzDaj9y2NXJXmIgTQXUIuyGEaYLKfcIuQdpj+fTSYDVtwcK7u+1QYqWpfyicRKklVFZmVXRau0ygo0obPNAj9wav5By+m2JdxqWYLzczVgyt9kFrJ7Opbku6304DaD3iaOmgn7jfYByflnzlyx0ThE5P1CmCqEuPiLzIbprqIC9Ej4ueQeB/nqSQjklySeVgpQaSeNOD/ANzxHIn8sR0E5P3QbMh03iMPkGnI+SeL6P8A0ipSbVyxQI0F10tNqqnIoC/KJkhH1cd0xoq0uDxBmJKHfEJFYp/3DTc3oM9lI1BZjeei1XWOlcvRYHoY3Mh1tLDaLIYCexB11bFhaOsOMTF30Z+ljl2PTRdRh7wmI0i2sRULZ/8AIj6wl6uCP3dyVwFlYhNUjUZ4jCDU2CG3mCul9SZsJDHMfAoUYgn3uMt2I+nh49Y1G70Ml1S5aGCYtv0WacjvCUagZYv0ppF5jqiwkmXcliA1sJUygZCd44fSzsf7pUA7wWjUyldg1N3ULiV9FuaaY7aS/TZguQCGYDbMokIhsv27Sx9sFPqVItHeBRT6LLmXMtKlugY5jEdQlpW5cIHS8xNqzwa6WqvoHQYqmeZQZnMzISzXQpsO5FoM7sWkswg1K2WuHFHrR21cx9GN7rh/uiVLO5iU+m+u78JhazzCUhcVfp2IUYi6dnQwJQxcs6vaV8x+pQgAclxBTlYrs93zH6rMdA+8WwM5lx9I7a27RpRO/VkNriOz56W1uxBbhLt7ygHBp4lAWd4+kAOBGExFqZ7Jt1NweupUyeu6NMc1kV5TNViCVkaDLiW3X1fpFJ3ieF3ljM09oj0TpI/iBBttQUXZqEKLhyNZGbgaFlVzmJGyVBU6kvjzH0GLguDjq9HUlzFpyQBpqlUu4uhglru0wQFf/gXCL1gl2bgusZFgZQnfS1L2Z33lch5x8PHTU3mjd/igFRPf0hF037xk15YjzLjWwvUQqcoZbxFfoX13Ll9QXiImzqZY49K0cSjou9AUDaMSObS9YRPQGRBg9hZ6eOmTRKiuBvU2l0pX4jJwNImSEQArbMm/QLQgnh9Qy4+rV7w4AMEErYeC0amA9eI6er4nJWy/UqV4lV8DcdQptYanaCMu5mCHjVQnwE7RWrLT0Woq8imCDiFcV0yxcsLgr0gNjFym3owpxQ7ax6Oyr5imCmaIFS+0vHdoobg3NvnFYCc2aoTEl1MRfBEYvl7jhuZz2K3Cmqn/AAmC4shYawv2mb8COQp9Iw6awOiv6rsPmap6klENkJj2DvXQcs5FHtcretTmLxFT7zG3O/2j1qBY2IJdTXxx0z0/ZU5Dm49RkEVlalVXJPZ6hA4HtToCYnmfSjYxYQZxUHb7c/5ff0unEXXKtXHSKpGSGIrjJgypOwR3vB6UcPoPoa/ea0UI9mUgqGPwMyHd/g0LSliTh76XNl7M46VBChkGKQbso9IwgG4UI50oeZUFfn0NGwjFwKJ4s6EfTUNVG0gojWQXAg6cyasRu8Fy7LywJMX5IMHeZosEFOk2c6URlS5iFCK5tM00mlUw0+uggqEwRUlAxGJoXM4EidW6c8lTzOwj8TxXJF+engLZJ5UWV+ZcuBXjQFsGp+Mf1LTvLZEJuCpdi5VQLKgiFooBfieHkv8AnFKq8KX5h4HwxmeIx3cyoK7/AKifmT/2lZ+wnGaNxsMUy9o4OmRwwJ3E6OvxPBdkP11BRbTx5p1+J40eT9elwpwYswz7pApGcyhzTdyuk/8Ah988z+QfqeWjFfnq0bDgFsbBNjFPxLUtUKY7lp7FmBMM+6RbQd93SszHcqC2plw0tgLN29ozyxACBX/VmepFned/qGFrQv7Qie5YvAeJDzd/+ZPNhCPz1y/f3Z4g1Lgz9Ri1UUVwPtlpbbgqa8nhh1ttwW4eJUVc7xgbsuo2y/UyDvFrniDBFNRRKwTuHIwyfjitpmW7Mw2RzKlSoQdUurECoagcwBqIZgPRzNEc76BUyalAVA0Q4JsxuDUUjJY84itIfHR2nF62l+jVKq2aDDtg2wLQYUnDtjtDFi7t9kRtPY9H4P8AcIoqle6Fc7cThSitB9w/EJKcsOxHT2RhvAyzlksd/hi5VBe9sPez9Srimj7DOewjFY75+UtfaG9XFnEUaCnj8jP3M6/2hjb2+Ry5XZ1CcUqk7SpsYuYGrUNCEcj+GkRIANTHK4NtDr7xLYqf74fUtypN1z84Ki6y4ds/IfiIiLjJ5SxIR9EgbA2PGRJbd8zPCtL0OFbbrll8cQfUbL+VK/Nwy2rC3Xhv/UG8QQF1RryckdUbi20w9vY+WLKlYMnNBn3GGbq52rw6+5GqEo6K5pwHZ89WvGiNaMGUgomkKrXMyIWAIhbnxLvbWTN139uh8S/zmit699uZab3gNiMN+ftQXnsIxpF4/LlQ3Mc6VoVz3yeY/mZ1/tMOMv5g8rSOpeGuCcKORgvGtE0iq+ZkWgwRc5nupc4N3BCcXg9ktYEJdlGybBy7lwTLCMEWH6/EzgmEu6+bJfL6koLboO0G/wB2hWGMt/YTxQgS+6wqOtgcBHT2SawhtF6v2yfEuC3YQNb3oyfPGJq+Jxh8UfiCs+ggctKnsnxzpxY+CfroNsXxfiN6cldvqJ5druC2eYESvdKscEPMJdQaCVmLeJkjIQomcQrshCQuBlBnbkHGOYjeXKBg4eCXG2lkD1cd3cuijU4JDJtlQx06kL4JSxxGVcskttDrU3KhhMtaJaziVAtmQHMHSCs5jj0wY61v0OuG5nkJbUXtl7VTkgZhXdV1WxC9asfnNbVdD+N3ixZvcgB+3oylIp9sVfwYd1a/10bWkz7YZClL1B9J8TfNpoIiSgGAB85ZPcZrbfdSPaRdyu+lS0cLlm8v3p22J8q/wEeiJKdvn6LH7pauTJF9ExkQPf8A8EO+asK07yr9epPKYLxf0EB6lL46Uh29LyYfuI+duwr7QkgS5WJBX2QAaY/HWH0n4mCgXi1sSazT9rpfRR2L5YuORVxKlyyYpp2/7VHUq54urX3fxH0CdC+0zbohdjChsV8P/ss3FoSyvg9+Wr/cdV0TJbS9g/4rpf1bacCXnRA8ysSulpMTLFKtl1dEXxDYR2UpaEryGahmMHfxBukh2IUySkwQGqmHUPSOQQroixxmWYRJswbdCtYmI+ZUm7MDlBVy5LhWm5SDMNU9AEjMmo4igaqo9L6i+YEI13qc2rfBgrxfJGUOoc43KySxdJBiIsiNER8EmZ/q5/e79H97s6YhP6vb0nnzVq+ueAtDql7FuB8BFqD6Kq+1TdMQyxO75n9bvgczLevZfqO+mNHshuv+jn83z6lLK9ET+z3dAfY4UFvOu51SSUVF3ihH6W17W+v5MPrhu9rGSIVG8p/I7J/R5xSBZDQ7jCTNWzyuPYEVotoqo+KlxN5vWVW3z1ePs5T/ALUzG2hDiK2+nvFB+Ihkj7jMsIFUiVH0Nqw3q1ngPY5VyuI5Rurf6BCMG8qt94yS/ZhSW7vmH/t4GCmv8D0wnOI92DTUa+wniEE6WoYMIwhmN6AxcDE0mk9sFgocglpU8J2UuuIDsQyFcTDoEhIo6FEEvlAVUELX34eoNYhuWg7dIo466ASrl6AlwEMIWdw78ugtKxfhyx9BDISArRAU/mFnW5c2VoyfePYNLO3KdIaB83LLzEalG19tdDyShbY3P53fo/hdkAgrxS6RD3IXY/44ckv7VY0493XI9DjOVTutfgPvP6XfD/Wb2jR+1R6d08v0EhsILFJfxfPQ9ClnHSYA0YzKDCf0e7poHIe4/kzCqxCZRs6ExOFqRBVhV0BriH3U2e/ZUP31H26Hme6wFApMT+x2T+jzm7r8Ja/9T9/IyXNDu2SD47P3m/soOiS1gLU/JCzpu+7forE4j7Yl/MF2QhyGf7IUQTL7SvbTgvde8/0B3J+YyojSGmmFX+dS/dWLCFOT/jHrpme5vr6CtEfH+0pQ7fTD+yRznEq79nR4SedIMIaldNJVcVjKehISlKYLxjgTNVQt2S3O0qGo9BVFZRLzUwlrALixJWqLIEw4aJAgIgW7nCQo7xLJe6gFHi4OpVOQ6CTIwgmJboHsEANI6ehH9t+5/b7dAxtI9yJs3GX1Lhi6avzBapQoKnYdLUwzsAlm/wASrJwIWpgJpITUBmgDHaolXmeB5thye/MWBi15dww9xDLxkKPgf2yj5p5LGEcsfExNZirTRlAYV4ZwzAnLwMns4iWpkrP+plcekDec4095gtGK0OXEtbnJwu9h0Im4CfS9gxzVdKghBuSjlK3AxBWbagsMEChsJW0iqKUp8zJuVbjbhRwd5Qnd0mZb+wSBlQnO+z7mZmIdhf8AqEhANCHJo+xNK5KsUIVbroN/Ju7CfaFtMK1TswU7kZCIJQVbcHeuYF405wVg9mP/AMopYqojpa7luJp2AQPml0bPAlMgGfVuz+7S0OlgJfJkfJAmeIdnsf2yjs+jQcEDuGDUwNm1LTjctffebA+0MqYEmrswXyQmRSqDO3B7cwqNRKDmZMumd9Ni7wFdK2zvDk/JEqLYJ9gbmYlG/sih/uWCsVbF3FKxYOF8vBfZielq7BPguNUe0s9m8/LB8X9kG6yEt1COwCFBfxpY1kO/UYyZ0me1VrzKMQLw4imL+uH/AGlxLZp7dVbVH1tk5TPapVCDSC4qDTIOOgEroWJmRZgoLybUVkIS4RGp2JedAHojUYqlGoj0GAGBlWU0loc3A1M5ykrK9GvTFQIHh9kQzXRamJjRhiu0qEEz8Gbcy5ZSt4nx/RSCLalV2u4dRlyPeX6N+llhi/XguawNOrzcfz+CMuX6Aez676UDtghCOHceK60e5jNcQqF8zyxDBph2gLOMLrUGYw2ajLl+u5fouXL663aNYtsrVc1Fady3qblu+3FzboNMWouPRi3gTmJYyz3cXEUqlRguFmrjkatWvEravoN+efA5qQXB0VQbcxNsy5uXgJTHIsYpxdAIM9AHaB0qheIt5l8xSrWnMClmoFMwpCK2TCd00jsShrpsaQ99QSBxCW6hNEqEhuSBS6gsmkocQV+0trcySZF4relXx4bjkAeQeq0p+ltLYVQHjlPilYfJqysckPF6UG6wR9TeOgd/SAuoib67/q7aiFVc8x62294guoPiWLqEGyKRdb90Y62CeaqDTcBTdt3t6A7wly7/AOAIC6Q6hDkWq9+PTXVRdrIe9opdPCSjVp7KOu0YMWIZNeIqrnqZJ3H0qgyheI8JTDgBb1LrbFNy88oKgLmbXRgmDDiFmWA8R56Q6HpM3czfEq6S8yufvDhO0udG3ebjsiygxLfMwIc6myFEEVN8SlziZWssZtV0e5hTcx7XrYUyh0KdaldGECtUxnwdMR+iNS8xY23x68ShjGotxZfwsdXklh7Oq1qgRLabX02LhHFFGozhrxMwUgOhrMel9mJz6W1lCq5/wG2pS8S1roQ1XW7x9IFOUvRchSlO01xQP5j+x7cMqYnU5KE9km9N1vvHbfPQNU2jv0m5XalLUvbTvERmbM94DgG0ppvrFdGs3eJ5IrqClOTMoLR4i1ktxLdHEBygXoXFKytsycc5IY1GuIW85eUi59Bx3LHQOI5NGocscu47kwJcgxU0y50hcwFx1ByYWyWW6I19CGmKu+hOWIRlQj4EsVwQir3vvH/CBWicZhgVdSouy67jUKEbe5MHf1MoDchT00ETefRohxS8pcsigDKwCMyP0AajEFHd3wh1D1K8emjLVxw+k+tF3UfR4Ebmk5GPyyFqDdiK6Y9Vb4lVHOhuPDlcVLEu/MoC9y0RxbRYEKA8sOkx0IWtEB6m4ItNXeUZrM1h2vS2KWZYYKJeoZhKkdq+8dg048SncKnPSBzAJC2nA1NxMkcMJLHQJtKlpr00T5Ue5LIoCm99k1LOjtL2WlsXKJAXsjbRkhEtC3aR6Wn0QShmFpgI72Iy4v8AiG0F/wChn8TugFU61Erb0yZyujprNkYFB3a7erKOLomRhYMcyuoj2tEHAOBPK0YaTT/csa2OA0Nd/MKCdLwe9dFEcwYglaTjNS/5lEGhKrqgDbL0h/NH0OB49PZYVd6+tdErh4gvKi+8Pb1xfPTbdRxKBgAzmG5aSd2YUI7DMqZrMv8AfEujvp4SMokZcy0JPZFtuCjY0xFaq9HQe0KXmKWERd3KKOL5iaJwEZ+TVsgrzHG4823MnSHXSWZgl6Pm5b0ZLlF5m+CGDoW6htOCFkb3095y6MPeKqWzmcqHUeGEGpTlyyEYzn6BKNFX5mbs1iPQInUhboofqE7zq/jP5ndKl4K1Xfmd/HQICHGrKc+ymGcyaSENT9ozGnGPsLZn8bwF+wjaCqoSG5hzIzd2mvhnE02fsNsP5o37y1izzDKkgAwW5YrOeYsd3QeYUSdwv4IOTNq8eeUSuhor+1KSGr1ju+JjKP1bMte8cNjMkwB3dBph7KYu6uPM/wCyFChqD4WoFy5xrJNQpVLzGbwXQezlJfi9hfsl+H2c+wMM4W7lF6IFK22xVRC2RrOgTzErINtdS7n3NfMU/wDsW1iGQD+64Xi9O+Cn69FoWuMSuNDv9QTKTcV/AWKUmKIDv/Io9L6XNpgdSgEeYGG5tGfamcYDDaymMCt8dontS01ZCijMzgNuYiD3gzF98GceYyo1FD7IZV0fdNMugYiLF3GzmBE94QqY6IlwYhcpcqIsydC5C1GYu8anHwBgEimAzKGwFdFErAakfbYyt39EhOIwLlnjOSX49wInQl04kdiXaCaTCoM/UE+8n4z+J3QCB0vhx838XOUfsqmG36IRE262fuDTXcZcHuHfe5UcY+RqZGrgLB7/AIYhpfHfiEPBdj3SwxCJ0+y/Yaw3D+iF0lR8RUh5Be5H64lDl7MV4Wf3O6InDUt0Hz+vmVlBrm9jtDj+Vu+LHVS3OQNAa/0fnp56iJnWy+TtHLQ96l/+IdK7g6shS1LljMS4XLXf9ouFo8t/HBOV/C5HzCAeyiu3wP3EPbVAu6M/ECArdn/SYqZZTXk7HxubT1bs4fkpiuz+yUvVcl0Dz+ipfYt3f7nlfhq9IvcURgs6NpWXF9+V8x7sLxl/e5l5WLJYF9hmBfTfeGvUMWECg8fRBjXA9ol7UgC779470EmoquI+rmd5XhbLLCBTGK9AmBgmkMpl09wJRIDBcrXWbmDZAnQFVUylB+Z99OkYtTCFSEAVOcxRiwlYhSpHuGqC45YiEBvOPKBmEly8vPOIUro0MOw1EyoY3GE4dLArp+ltG1RmnaA1h5ahpBD94S2qWVeBTFjertN+o7Vgx3V1H4lDiZPWo36fxn6z+53R2I4MKwr92Kbf5/M/g/8AcQMLHYcNPepgjH5qn9wF1OACDo/hD+x/cwNQKAJd9AqkTadlv8R6f2O6Is/EAizx6/G4KV3TuHe4H49Nl2Pdn50xr8gYD/cJqRyTHFLHvnmKROtfl/8ARKGgzPL0pVUvcafws2hs9wj9T+f2lhnC9gSpe1OGz7xe/Ql7A0fqOBkoXaalVM94EC0fu+o87TlAI0vodxIMwKCUnU6V8JYd5YQJ2YjUVW1LeoVRNgdSPRT4oEeIww0YgsQWN/lHvjdcsSINwzqURO7M22dplyzC4RQQXMarGzb0nplt9FZ6BVkl3HJBZKroWMRc1PE81gIUBxMEhC0Q2dkUKRAXL2Ziz6ZvDOrhsZegM1GXMu6cG8kE8QlcDn0GY0driOHF2kbm8S9CCJ3j6tfkl68k/GfrP4ndDXZruUif2n/IdN/t/wAjMs7MY/EYCRz3FEPPnOXk17ju+CVMJoRXyz0BpTCrcT3vT+Pz6/2O6P2A/SUqnC5GpiyrVgsP4qX9Dj81Pyup1Miils7jMHlP9wSWa30LZQfwgUbH7Ll/B7T5PzCjpQHkP2kbWFhNlongKirqWWBy/pd/WtvoDnzgebjIuep0vDv++KfCCK03qSYdStZQJjq4HcQ3petNUuCyYEsQTEOcMYJW87o8xDmDkj56t5YvLMorKZSaxPCnEwKiCyZmKgq3MwJhJRauUHM2ekEmiiBbqeSIgPUC4KKYFd5XBEs18MS5lhIoqJE47R6I/RI/q7gElJK1THbepc/CAyxP7mL0I2YABUjawoN+THY2vr1MGCo9Sfwn6z+Z3Qt5AtQ0fI19o9j6JgPxJ+Y6exuCwXYuL7SgzzgIoEvM9csH5iRDQdeLuuIvsQP/AGF9P4/Pr/Y7o6X+4RtuXFZ/ipVT0OPzU/K6nDBW5R5sxef+o4fLEe+H/XTG2gMsZ9guKFZWHgY/6+Z/B7dG4kvZUD2w/UZhesIoLGp+Tl/S7+uwS27UxSgnv6rVVwWCGkdCEx1nyZYEXOLuLYRXl1H0HmJsri18SoKGiMUQse50WXvHj7TKaTNCU4vsjH3iGJmZ5YHeXxYhhtlbmRlLkJ4FHEUg3K6RhdbhVDLbGmZSckE5xTiBcjtEUrjolWO5TH5R10tMy/HS5puOgzBALFjxGe87Cqi9KJuH6QMWPqFstGFAbwzWs1JJ8Lx9K1qdOJlerbCIFfWPN3p7TtQTerbhABEpip2vP3TyJM1V3KxY+A/cTLMo7rcHRdkwvceGVuRrnn35gJoppw8UBGKYdZ5qsM/LnpW2H/kl8b6qMKW2ew3T3jK3e3Ct9TaUCzarwVrpXQBO+aV+HvHb3MVIwnNyptN9jqhEbCld4RrKtT3BKfxKzHnAn34my3u78nP66KUMxcvmmOvlO4OL6IYS57LN09pzGFkzXVxhhdrx5G9PaeWg15DX5ldEuUVtcFGoKV3nk796jv1Ogx2nq6QcLmdeUrp/3I5bY9ErfTuSw4jUfRQodLYJzPAlIJmRDMvRhyjCF6KouZlZKX3kzSb5YWHcdm4AnLEDmDkYhLuBoE2w5NrNRNHAVLcJz0Xpp0SCspEDTCd2xueo547jDOnvMhGCvUaitn/C1YlzMy3FpyhlFH6WNLPDghRLlPaYp4izMlanijmECKeggH/5elO0vEA0YVA39GtLhV89BkdHVoHv1VqIzYE+mFsw7KuCXDTcnQ4ANPEUFjwddKasv0N3PwRlF8blm+JWFA6WswQJZvpdSXb8QHCGkQqulga29Vqd5TdpyquoTa9zkS4alIrQYJF7ozKLFS/mCcw3mXpZPym9aYXqAmBS/DLrn4S6hByyvGZlZUYZfMygvKz0zcCdkHugpPiXHUL6ixHGpLUQlfAYVRP8hpo8/YnvsRAhCrrf1CzEVZqX6EugH3crEWE4Q0CjxMlQe3ptQXgi23FTFv1PofNhK0suqm0/d0ErRroRtuG13omXF22/pshOIIwuacs5VQGozfTYC6Kda1vVwkUaKe3SzsLiK1tgott9KbsB5Q6xROfTj8xaUJ4gpijcql2vvU2IL7xM5cENaq5Y7m2jpg5qHtBjVPEuZGZlveW7zeyw8xDhbZCn7njzMjl1SOW2arYKTiR6cyzmULDKOGJiEEs3+YGY2AY3LxGsHKYdJxWywguyp3Hky/xyUMf3MGyA1wSqprhdsHqC4legYIESqIxfyrX1TQd2ouEA74x0wDIuKuvGsfT/ALnMrA1l6aKQjBCp7KPv0xEJVKA4j2QEic80wa+A16irZIiB3+kgLCb5+gPrudgthmu1h6qi5uaGmIrGmKtqiruWIyWk2XgWw0mGZuKbxAJUDZ0miWWgwsqmgSr2j9JoGW4jaJeiBSMa54d0aLKtiQ9y+WqyXKC4NFXiIC0AZjBqGpaAhubOrT1LLoozmPeJRxHuBDiZ/wAYnKamKMGoOCMcoNgjK2gjybBuM+3NOTc2RH5nKbpG6gz1UvCxo195/wDAP+xNUL3Yf9j3aAGUApCqocvRVtNpCvUWStbnKf8AwD/sSW/GH/c96SL/AD0BUDbBiz7B/wBgbf4D/sa6XbNH/ZiO29huJpWoAbXggphCAZo94/8AgH/ZnTu5H3ldEAr7R7lfvoCwae41+p/8A/7P/gH/AGf/AAD/ALGQKTDHEVRLpq43z0Z2q+0sOct5aopVVXBhItvtCORWZXsPX72IMar4f+8asGzAflHaBE4Zh/4DDHzrRBj7oOKtwF1XvG+WRDAfMfrV6QfeAEBtgcR6Wh48RoLhzLBTFdvec4PfoAeAT3lPCFMMtSQ1YQbkSScEvVeZPbgI0LUExDs1xiUZk6gxqu+jE4E0lzUJkXeA6aR1Gh3nIv4h2pgYdZal8ZW5uzZKzFmCLE06SzBg+8qNutMsbeXui/f9oyCkww0/44w7Xugwys78QMXAV8ZlhzcrjGx0HsRA2C8DBo4a0R6HQhQKPYVVuf0H+oU7v77Qz9VlB+IFVtONpPZw/wDkaw51/L4/qumjAR/FuvvAnAewi/Y0fMN0Be8jmKMIsLshReA0/qa1wO172vcmxRrLS3ft2n4KU+9yCsd+7P6H/U/of9QmtjoLM69or/uwh+2jzGxzAm7v57RAalVKe2vZHQRwn7EcV0/r8ujdmDPtIlP4fafwP+p/A/6iPuW2BQ8VW0G4DyFuSzjxt9+hkN2790ahtlf3++V7bW49rPA64DleIe5sI0fxiWFd4rMlRArr2ZiG7mvA0EohVK0lyV8HW799S95KpIHbUFgKzaJ7RBrrtK5csfSFy7CE+yU8HEIsba8maal+iABbYA/dKDCwwb6olC7jnp+VNXQB4Wt/5hpkGCZH2MznzXVPip+RMVM4mLJMTASGFkrM0OTF4jLyNGoujKpuN5DxHJe6Ajkajw8xFYvpXEoI4TsxhQ2hczKxdm524FwtLoX8s0jPEz9Qiin7JSUt3IMx9Yy0+ydXcWkVugdNUbl/KFc6wuY7zhqFcyehPw/Q9oVGrtsf/ZGtH0eWqh/Lmyvt/p8styqMwpvRLF/f7egK2LgpGo1vY7VVz8F6CU5iEbv4E/N/v0awl7aFv4xjH8fl0/G/WVb9/RbfMF+7NnOyPOx/5MlS6ccA9+pL+d3yy4Ue+avlo+YVpkVaU/0Y+/QmoO2e0tRZHy6m5glfrA1lWjFM13K6G4C261HdBgQ1wDpApw3Z6KjApycTJjv1NqI17XYhCmnMyK0G2DVMjTEpr0flQujoYKCsLsqihdw29ubiJsgSiZcnWmZCpRuVOG8QqalekbABR+umOLgpemYW4kvzFZvmYKQuktEtZj6H2jZAYLU8DzLovYoy9s8xUOBCmDcvhUKzFCTH1VOizHbC5xkTsJuj9X/60WLhTTuPQiB3O+2qh7dMai9oj2faNRdchPMfC7SOG2veWovlFr9UMN3BjiHt1Ffz+2W7SpAtKffd/ELaApbufJVf3n4aMG/f7CqHt1RoxGqCjRU5Dsz+N2T8p+8pjTklkDvfPxDpXCOjOfkVHl6lwjF5fOfbRED3SfaV1eg8Z1Zt9AtqLbRAJUh4OcwIaoUbS/7YJTT0Jf3++Ds132/+ETu0/wAuiWFDbLyjoT9w/vRWY6gR9LpL+/TGUOhjzwij3rk8zWGCqlYgBn0HQCgb4itXo1G1c2dvOYqE6BWIg6PzHsir18dcsR3emsAHdYQwZLqV1cjHrZkjVuPS/pK1qakqLtVpbf6Zy0ljE3Rp9pxjAl0+3RDWo/AikygWg3LijhVbnvhF53GqJ3iqq6LJF7wergL++v0gqSlKyV2ie9Ghe0yknYl/kQjywqC0kzmeCDY+oEqJF2iRQ4Do9K+mZlSuehH8eQLe3CNtP5YX9FWn+YvQ0sUPnpjIAH9W6+8fgcPDUlbN6f4s19uqpNxs+yFbe0fF8KH+4hpChwDw6PgiwFWjas/FRNJyFavGJl/y+8/if9zGn6sqvmf3uyYuNFbNK1AiE+H/AMi2FTDPhzsVuozci1XLEJWpAQY1/wAzGDFHkdp/N7Tk8395mvOnufmCFbIhPvD+rGRHUVVHQwxWH7Pcf9jyg7hZ+2336Mv7/fKLHF+3/qKqA6fd0AS0TgjombIRGkZ/if8Acy7d/OY5cdmw+5N+lace87nuPRoCwRn7EYpFH3RG2VPIq41a86Xpg3hmuYik102vouCmosgRhjjUdNVbifMwLiiLts7RSiXaPDUTeSV4fEHE8R4Oig+yb4WS98pa1HQOyUcQpYoS44zKMzAx1GbLJiWvxKYKShvMB3LR4zNN9N2xhAOKZgbZc9FGy0upeRoAjBfbprouji2biEoBYwbIaCCvqDL62MpNfwhz9Kt5mqm4sZ0E/BjoOBhpg09BfQ0Rt8nRKGBXYX6ND7y2VzDRLuLX2Bh85jRibRGzoq/r9sVpeOv4qA55H8T3mJxeOn9rsn5T9+hKr9NRFPsH5hBLmvL49zUpuiUMu5uuedv9Rc3urcCigAPfEsE5zZU951e1R2Iz4yxoVfOmcQSYiae47TLfWYvej30f+S7lj9qPlEpYWOy6gzbzvBp+kcYjkaBgf7+ei6gMGyx0KI2x8RjUMNxOBQGJre1Of4r0ZM+ZtFlzim0HKDxDNonvxD9MIoVdL0qvmDGxMvmZmSUhu32Ki/Ibx7QbDHHU2Vym4TENKlRo0Q5gjroMAjMrKc/si56Wso6RnCUaJUc3FLjyzNTNbm9EOiL6jR0PKZYg03uMoa1HqtsuxHtb2ojUnQQrJpK6MUOqh1uUPmsRAws1f1xccLaAS/swdXwPryPIy0GVW2Ya6SgW69KLfhnAkK/ns8y1kvV2nXRfEjyDcUk/IL/4vnoq/v8Ab0JUP2X7jxp8GWO3w9AGou3AvzEsMN6Z/K7J+Y/fonV7DI94nRxm6GT2P59o1R3p5Sf75hHdmuAA8tQBCmn/ALx1jNM7YfeDLQGXkio8IHrqkn3QhetlMUaentBhhDS2sFHxpInfroXoUoBSsdjgPzL2VyQB5X+pbd8BQMcAn3z+Ij7hpl1K92VAg3ZW9AAUUZNIQ9V+LpVn3cuC64AjAix3gpUWjgir0ElwV1QLMtRKXyWdAiHorqaOfMFtY3ig03AvOScXobIJkkA84k+IgzHhdpjom2uITFi2FpbZuJ2GWyigj3AxXXpubz7KmZrDlGBdhXRm1c1DMUcUvx0DorfoJYJgIwzFOCUmoCCug6a5negHxB6BbN/omJhZsZy4Mc/4AocKDj+3XdurBiQU/BCBsKwcNEplS44WPeKYFWmXkRB72WzFcwrhgAtoo10QBtjWTlvBLuci0oxo6bcT8+AVoKveiUSmTskqKwwKN8HVd+QwOGtyzPNQLXbiXh0GypX2L3FTdmDi1SrJrZLy5JYkAw56bMzpatsudpQKuU7O07ypW1QO4w9gz8JgEI/gyj33pbV314kEpD/SFVQO272t9sy0W1AQW/JDAD5mo8B0zJZsG8fiPS9uyDekf36fJzE1UO9RCAe3orWZD4zYiw6Ey5bV2blaqToCobs1BqIU23nrx0xVH3m01WDpcC0uECMUbzKXBF4zRgbIrnzXmBLzCs3lepup3jG5n3MfonWlEV5iC4K8kbqLY2rpdl5h2GYU0TLbCrxBHA038erNme6mlqBiYZYYQ7gHiR1r3ZdjHB+MRhJTTiPW9WteIaTlIyoJZrj1GwQEignaNVmAzDBSnaJ/hBHTys4lMWrly8V6CN+YqjC9qowMXO3otdiM1QHnPpDwc8oHhHrcyeNkqzfBEVu/Qwu57ouyXhgIA0+5H0czVxQAvajuIVyhZWdy8/QCKY3fJEJiyhQ1NZSkvKfEXpfqFNKdDnM0ESlO0R2WiGtpSEL0xZU0lYI7nV16a9RwdTE2MbkgSjF3G1x5tdzgALmUkIvUiJtZUUu2ohAd5cdArL6hhc236B0vmLUgBMYnme+bPjx6ajwxahYSuZtR9pK4eTxDNt4TiZYzfJ7xRv8Ay9DPaQ7d4Pu2d0dyTBvMyY9aNBRWpEJYxfJPypUqx6CwifSpDwNFRypI1I9Ey1c32HbrXVCuGBV0yfeFmwxcs2mYy1l3ii1aVmNBl6CaLBl2IlF2+gjd0G+/qru6U3TH0bEdXh6ISqkz2jzIiIUVwY1CCIwGhlpLru4KZd+Yr9NsnJ9kZF29K9S6wNK8UfaDVq+uXdhZ3mrkNijvMCSGZaVQWFxBAMyLOZagu2bym2Zb6QxRssBQKOt+olk7Ka8Th5iiWrSUpIKpj2GIIAcxS2Ty4pepDSXEU1g0jtjUcxmK2Yi979VTChIUq/aeY2V7s8j32Ec7J7xBTOJe+oR6CcHw7e80gBH6BHv1x25rpA8hgu1ddLhsJorPTaEpO3qSrSkMyN54hM2lERkWqaly/SnhuPpGpwmtcXF6DdjjWegCAXtlnZ6SMpD92lRxGDOri2pdXEgWkdgloAPNx31r6j81Cap0DY5gxsY79BGixD7uhsG7LhHtdqlSoBy9Ig3FN3FNpc0TNyy5f0CP2gj3PrdccnMb/wAYisraGARszU0hLHUSO9uAu6O0u/TXU6HJGKr13LhMT3fJ3JRsg0MKWuWDnoo4mmWgEDAukJt9K6DWRETbA3UC4VHaBGxkp6ESt8FekB/qg1LF8KD3yxW1v1EQb3+yGhO/QL9FbeTqroDNQKPScwNIaj1I9aUVeIlhLty1wOE6m5z8etOkwM6z0MHBTHpZVV1W4OfU7+kLalLdGvTuUVEoVt16yaW6MqzwxJoS3LMblqiclCi+fUbz9Q2L9JdNxUrOTMQfHbe8bXq64/SvpkJg0JU78zxfPKe8wjGqvQAuZW8TGOBJZbHz0fXb31FvfQ5Y+oLiVDDEyfSxa4wxGaslhWpLTM1636KhixZxcV4KnMTlD2dxj0WSbvXqGY3f7vQRwfRZaMscpK346s5MJj02fEEyx3ITuXaZ2HiIa/Al7q64ntAU+XHt6BOiDclLU3SHk1HqLURQX0smQmmieOWoVLS0g4psE+fFRR2XPS3AObYrdhVnWzDpCPQR66lPoGMyOmpfYRkRahNr6LRPohUI8MuaQyzMZ7wa9Bj0PQisDRzF9Ahsj1dwwCwWrSmLSljklhQGfLtAQFF4PVZIVUneGFNDPv0cLt6VFCxpmyyzxNlTmtHoGZmqs9c6mM2ykyT9q1Aq0ND4j1v0e8eps59WWI7Hv9A3EaOM/eXxg3Zj0J2bRLvpgqoqDztQh6zDUoI0R7TjGWVWMUUfKOegIu3o1DkYIMyCKqlIPUmFkxC2HmW7R6WQu0pNTswI2IIHFGCEHOZtWpdpiMIrYXiKV9hv5hFb7S4HmEqhTHZrorB6iJR0pl4mKAyhj6FBVJpgbnt2+gBNLLgjBcl+EQdJ2Gvr7QJcuLRwTMk0IIcBYryeh5QVUssC9FkDaG5ThtFbFr8UKOF7Xv3hBGwcPqamNFyk4W189KwvfptVBaKqXh7MaRlzHtHr+VE8iB4e/UPWdMprx7cxK1NXEetL21iVLcYl78ddMg/hF4A5cv0iMDgxwrSLX+B6dAQQVKql3maKuCb3CSuOSHc1C1qMCmVXpPULQNumU3PA12mIowDcrCCGdxV1KYsiX2IyLouo7WEKW9XFIYdTX2g2niYTrk5e0spsovpdGG7iz8wQz7/SufF7zEr1hvzxH1CUjPCMGqGbcTZIuuz/AIFlZG0rcqwUOGcYnnoCqSvQT2MApb1YxXJfqVjfpUOWFEumK2UmFVQgaTjoQeySrgIy9sXj6W0YhR0K3Me6DN2c+knKsNkEBxKBY+3QJv2VVlTmYpVQykJkHulewn7khkmMhlVuaS28Q1xEGiGmvQR9JrMzewjXb2JgDdU4I2MHxKRAyoJxLE6lJZ30Gal610pnuuHsTFcbTmmWY1tLPfoO1+eU4hcDggtIGn6Iy/WoudSsqM7hHoIKvD9UiNcVKWYnS/QQFNH+n0cVzuWPd9NKBm0JK9kxRGECZdq2JhTAzNOuUd9LWcGSPTOtTWJD6ri/Y6CmmW7vokWj7SywlEqBaGD9vmYFgsBFAJXSWuhaghM+IINWE5AVFzya+3lmLVsl5LRshhaj1ioK67RN5Y56i0SGJeohct7iUXeja5gxDFZM4VwrAj5hqcyi++O2+q4eelldNy1Q4HO2NlZjHEuGgjQQSW2E57xyrRK+gHRUqV1XLPftuN+sI4I9CDH1DcJ1CG2EGQNjpfUAFH4B/gIs8F3FaOE4hLjFBO2Iw26uEwQce0taPzHoRKZSOzoCDt6kK7VHPo4a/wAPz9xHEARqzKgWtszPJBHAiCwuMnQOZgiIXCVsJcdDZ8B0DkNMRluMRyy1FETWpYCXksHEJsRUxHoW6lQnum2IuvaJNguXtzPRECyiUuPOZKrZ7hPCAMzDRKC0zNgcR6pnc3RM68cfMFgRs6Ux6krjL+TbJKSYG25MIZQr+8tE9IS7iNE3GqOBebh9V7Drx02hje5VIdtRRyjNImJoZCzRMkXq2z00rMYfVcwA5EJYOHH+H5WB95dz36EeCqUeEV9HK78yoGQp0TmbvdLR0reJgr1ebqkAo5Y+8E8Sn/GVUFxAcCBJaKIWUArHi4Yyx67lxk4dy2lZlTSoStgaxFWZWiwzZg0vDAqFtdkbigOGUyYQrybMTiJsInRvJFuX8ShV4gVqVIGUcUacQKuuYrRdQi3c3KNy6CLCVFpotjgNg0w2TVJiPtPCKw2UckFHY3LjD7sjZE7gR+Izcro2qivfEaJSxhs/1C/n7hlWF2bnn4Zj6BzArphFd0rzIAqoSZVEa8wjbpSb+eg56VQmOlPQe7AYi1DVRAd+1vQbkeY42fSVi/oWuq+k4REqdC5hfaZSnaq2Vqq8Sl1mIhcSw7VKVutpL+G76k4luZZdVGJdLiynVQDA0xG02qVF0vkmY9q9LANstwauvoI6mQNEBMLgyEViBozDuJUZeY0rRGnOLGsuo1hZTJjvUCqFMz10mcXEGkQBfgGopi62y/CIwNUaScabqXC6Smawy4RFQXMRSvMs1FwxkBNEtXpCaCiUrMCNpLCsYQ1GAt1C2mMIMDlfzFTNpDbjM+YLLDS7TmcQjFd7mEG3zBoOf0dKCAtlGXnorknh4gAFDVsxXJtyVlwod51mMbbqoyosLhOcNEulcNDMj4xtO8W+pfQR9YawMYl6NEqjWGqLVNvRqZhnqbCDCZrX36Wq66OJKJ5nM3HQ3B2oweY/UGXyhAa4WHZ0Cr1bD3gJ1R+gGFIK7jFCh3lWRhoHM9mA4vvDy8wOlzcUta+kmuG44HC/WVwyKSyTVPukzFqIbuJqFGJ4cATkQNoqlhLPFIMoEeJSybTQbj3CWjV0lDAxLGLjIwAbUrEMi5l/V3ASyVJwblDDcTC0XtC3GWYFwxTMq6lQE0CUGpVxqE9AE3aJnLMd1HIpB60wbvtFzDNwNjFgPdKB746V/ZL2wpgXK6stooRb6eYWp3BFIKL969lO4+xBRYUzTQcGg6Z0aOorCk2enBdNQhcVrHtH0MBeoCuxQrrMdKZiHUfR+gQanPVU3ABB3voUBcXp77amWJXuR0cWPVY2wfVtwi/6l9HPopq/QRiwOn8xKsi6zPHQUbIAtLFVtz0HXa5BGn6FL8SpiAjsiBxlCbJ3MI2mbbMGqlk1HMuY1DUEOrxGR2lJNTw1MBM0VI2GdbHT8JDhDKb9B2RGM/dqUIT3hqncJIGgu5gLgVywoqOBg7zLOWdkgQ6ERBqNrcIURlsjyQsXL0bgYpamZuwhMHGr31xrpwxGmj0HsBUyMNT363LhGhE/6yKQ2jxljEO43OzMlyN8yoI4DgihELYW/hxLlr2veJ6Aun/MQjNhddyDgyz9vSS3vLx0XYlRKlBF15Y7pk4Gk/ICoJoWdku9Q5geKmEwe0TWAdWTab2JTtPNHUAAXoWMstq6QP3A4+W5OQgkQdHeeHkhzi5bKq7EHJgJcHncoY3FaReCLJazioM0V9pnyEO0MsDOI1WTJ2ZlrObxEqEuhIjykjDRuyYgigybxBdJ8TIxnNTFeD2m1U4I1GNoVStT/wCFEVSIyhvD++vnYPGIUx5A5YunQQhQbMp/db8SNd8daEQzqf7h9C3BTmZXQ7ThTEHjB6DC5GPMvxPfSmB7K7QT2nMat2jTzhhb1agONgDECVCc5u9eu88amh7SlqCAMkOujuJaEZo6hlQjpwhhFZNSnQlXABGGJ25pbOKCFlSpJFYW4KYRUExiXvSse8pOxNPvCsDYjDoFy0rowDZDzRbfu9QO1PR7pS1sNnapzenIczBYo/3dDFCQDReo+BNrCiLYYmVB5lkVuxBeb0p3ga8MGzL2jh5j3rCszIHtvQKNUgiydNJQbhbuH/eZRsQd1jad52pqDVc8fJOLrMmzMbAXl78SkN0vdHGtNdmYVsUU+8HaBWj4mFoxY7KjjTR8T+byRP8AJfun8R2q8v7I8hm69qOnDafed7+3KbAtv2mfC0X3LDAz8oApN0/iLiI/SM3Bug2VqL5l1S1rPOoZWBcOWZ+0x9qNwq5hT7KciGydkfpMqp224hl3sv3jMuzDDUrF1e/H3jJCnNxlNdV7VpcwckhPLkJiKUWu/MVY1ByaFxY+o21EgVmPVaniI/lMEMwhTtFliJvBgnMNpcbPQHHmZiKbIdUQysNBL0hG9pb8iOwXLG2KbLNsuPSzwQdAVEO3RUGGG1BLVgXiLiDKB1alWzB0uopmCJgMvMOcMvM5l6hbm7VUW8Qy2twaZcL1oncveXnWyi6BrB9GggT2KgMIXlMy8hOceIr9wNL9pcdw6cMwZ4vacXN6lUKu9fY+yXyvn8IsoVfsy0lzSMLguvaMWwrOUye9qvQL6woX2gu1x68k6nZ8ylSQBpnaHGm5T6oq90C4ebTNMafb6v8A7ES2IRgFgIuGJJDpeJRkKXuJTYMMtwHkQrM11dOUCIyHxtb3/wBiOHubslvMKyODtMSF2d/9hLNWu18Q+ETJavtPvkSn8zunzuidl4Je6t1zDToaKcTjLwplbNwGo7nPZMeQ2OEpFIj2mG1G1LcU2RrIWVTVDiWINFMyjZSiUyVb0r0XoLuQrgQ/QVNyqgPYy0LNlylmUM90dXLDPQYYneMrei7Rmb/vCxxpPEuNdA+IcHUpiobOeMRqAZ5hBmWcRQjOWMIzUQKi68WSx5irMZfvEdmfnsuSiSoSvMtkYzLpwQ6FrADcygC4qSFQPliihuEzQ+ZbAgpqXe7voaKdDWrICahOCnJMIK8MRYbGJbPjpjoA11uXLhFt7lddAF2LtSsBiEL1c5lJBLGOzRmG5yje6nJm0ablf41xL6ODqov0KZrUdzHJqq6Oj2i2xTW89K6U6YHKxi/knhpfiM6JYqXQpl+uY/5GgMVgBZ8Q0+8FqiIY5vTbH0ASVcvFrh9OYqss1GxZGyVLXzD/ADYHoU9vS48QNJoiK0IDxcSyYjnsOVFerdovTCOrD6Rt7I970BoneEAB2dF9IIRSmZgR37TCXR6igxBnMLS+jGVz6OAjLsZzCkXyjwvQYS1+xMCPTxFokLqEpWVWItNyq+lHW64l5QjMFdBgnEgKtChtZ1GMCZI8UALy6ZO2kbW36KsSniG5eBlCvQSidHA4lw1TCHRXiX1CJUfSMEHMhnfRefnK2+l5i+frNAClrVxi/P6Q2ajQHMwR3pz+C4JiKLAgbVZYuC1u7JKX5jPVAUibIJv9Pe4Baij3PQa7mydzhQIU7q7QwKr97qgah6Ee9O0+0zA4ZbBb8yl/zBke4NfM+RAmuUplMz3xIajL2A5sFntBb2EtMrQ66MMj54dr5YPUNh3SA15gwjWLB52zxNC19hqvzL96BxAtnCa1Bq2nARoJ+5bt4uvEdQi6Ad6Ch7y2+2Vfa+H3ihKknPM1xFeoNeUNvY8wIksVTbtdVfzCRHU8Zgtak8cKHlmcPu1fZ0qNw+cfIC7d5tKvr2+gQm0EUJVVBzEzBOiVFtwSjO+lgmol6yxFl+rTBjGAlhs4gVS5lcL3l7cpuPQilfFE0l/PaWIo4m490cXzADhqO+jgol3OxJQWVGOWccczOMnIyllEYSS2jnEzeYyAwM+i2XpCUBw6LarYYLGPclBXhECRUvpWL6EoOGPeXp6yBizZAd7gPrJ9xuMd+q7XjqQrXO4UGp6Gj3M38kH8YmIZE8v7VIkpi+W8qlhgwHdOAhmL1oo+IDJZ7BAPnMV033pqD46Ld8DXYv6+0uzcU+Q1+J/V5R84QvhRFKbtqxKJXnAUfeCXruDOTsCCet5V8PtczDdS7G8MqcCz7uqjeVzYBR24uEgMoVRSefaXYOVG+H2qILHQG/iO5rnswcudRRvYTsP6+0/A/pjy2arxeD4Il4pZ5A/iI7N8TwCQ4s59sTDTl1DymRLlSkvcDmFUKxqqgDE4IitPA66V+5nZwRFCtau8ptQ49SjZ0JZvFcQ1qZw4C1igJat14iUiKK+mqZloNpGZjv6CoTRlXPSdJkqLpKYqc2EsdfcGgqDpdNzXJdDX4QMeh0yQPz5mYtjFC4KqNQBCzAkZhMMpuLXMCPxhYc76G4Spg5UIL1CPVBuEarx2PpFUarvmK08x9ZClq6pyRCGs7RfWwd93UlYVd6j2H0VOI1DvTk+TEAiB8Qv75fHRN11RtFNHeniaYGFA6HKaxDYcJcCw+0TVflQO4Iy4LJkKbxvnpD/X7ps/rKfwavHifxu2XnqIEu9to8Qc07oXy4lUtpU3k6ZfYpDQQYa3VEAc7JK++nAZJZPLAdIh5kXukx/4fvSr+pnkyz2WmMCqqZ/E/pn9vun8/uzug997i1SqbtXMWR8B2sZRXi3JsvZqohaeo+RdnQUryQ0jvJySbrtMwaL3Ez1EZB8uolfNtnG4hWmihZlBvwlYRATGkaWamKLdJXDguZe6fUbjGjEE1qdzBBRuBkxMJMSzmQuUjdRKx0+NXBRDrHzJl8Q+DcdUj4qkVKuy2RYRpJU8xwiBXsQhRAgB0IIYq0Q2SteEsjPCieylDJ462qoMpZYNL6C2VS7jmkY7ld7YjFRpzGclepdIt+ipUr0X0Jsek9PMjX7OoUi0qmXMmKKLdEAq0BwwJoElJBSHRev3iFLMpbHddwi/E56kSvzLgWqtXPO6lTKLANjaoJq0YqqzNo9zl5YvvDSEaR1PPnuPtfoeUs2xElKmuSqhyrVQPyzDjgycJQTU3BlPiCi26IJwplk12h0q0jSRVbdwy5Kthl5Ra22GIOLXQ4ZZlTbhw+5SDgjpYQIrik8THTtouA8e/peU09yLfUYqm+hBQEroMxaXhI9NU2rrpAZUUiGqGPQX3yEMdqgOpLdBOVktC+0x5iwEAOhHlArdhLmGdRXaIPc1MRaYcSxRHoI7Utwu86WOhnrWtlB0LgjLw7UxFO2CYjFccApxLN+Umtd+5xlkMntOQVY1eVl7TG0WoZiORqWRtRzAGEOZYHQ2KxGqGvHMyrg5d3Q7TBj6zc3UQSIVCZTkIyozH0E2InMBCNcaDswBRr1i2pqW7/R5Z3VHZ3GWZ5Lt13nK5eK1g0wOSAaheLiFvsc/QSvkVGi6LHZ0OexY5Ohs6FoC0PEy8YH4mKOz0ph7/wAh8GZqC6oPdlPq0PH07u45gmCcjm+0KUFCNduiqcRMwruaSjCLvq24Q+UerLEWW9mi5gOVzQpKsEBzJgU5jvubUGGI6ZF2mJpxMKTzCLhgHaawazKEbgz9tZqIrehjAg+Uc9pczSNDmPRg2EBo4lMWOoXUunos0Ny9XAiBPuSkdZMCoBeah1sdmNeh2SMUWwDJQFlMdiA7UFzWWimklqiJ2LhWzroni9yR29nE4mXXylTKHPVMRuo9CAc14PTuQYKjiLcQGIJXCifnR9LnuIzBWlSs2fUTs4wc67xgRPobRBqCrSw170oSGp226XQUPAjhrU2qxtMEdGibeomNgxiq10IFQXAx9096Bm+nmAfvKljC7iRMkCcT86YgoHyi2auYwL2Bjtl6e46+kbjJURVF/i9RqNAV65NREQ7Oj4pTEStJqxnBFb1t60BCpZpuJfMZ5SYh7vWlFq4mz0awODLlzNBxDpGWTKXTEb0tjbRwo0veYiEC4uYOMgngHXx0SpwG2ZoUFqq3GcPzEKVr1ExQ+AV5O8IJMI4RwwRVeGStqEqe8wja3C8ZJBWs7d5qVSmDRxkomIauB52Lm6ikhyjWqJPR3Im/FYz5LrEO+PWoIAZcc9HN2ogZp7zLDg06vwGEro49K0+GOgK75qqijL1uWi2x9Iy/WTFWL3goIWCjPirqfRWMShLGBqWq6DTCNZgwLdFepFQHqXBqaNHXlNvUAKGuYrbquhLe/Umh8I9b46LFUG79tid3437fSHXg4pBQVqK0CTOlrFQs5XGZN90EqozH0Aupt8EVlIEsuZaBmZmyZXv/AOEKYgG0AmbI2XuZFdHgFy6gV92mmGPKuJf2hywd1wNbj5MHmAYYxWiWd/eA8TM/NmMoeyNR1kgSnW8zscNvaElTIwS9cPxAp6zxCLPBqXwSntG6YdEaLIVjlCuprERnlgAFFbljGlAQDcZXKTMBiJigFqyxfNxigDE4Ghs6majWLRcN2j8dtHMMmqyjFohhLgLNhHWcbV4is1DtnYn4zoSvsqFsgVjfpGCqrY3i/Qr6BuLyZzH1cOuZPVBk0BdoRsovl9oeIho5Ry3oNRTt9JMyhnbuzMMBsSle/ENYPs/wFY+ctNwgAF100TOYfbFDKv0RbKu9oyypphSNfkmc7uE0JYjRIW2PpLIQ6BLhoXLoJdUVRdwgWtQdI/AwYHYscjuUVUBLoQ5TcQBeEqK4ikq3HKiLfSvE7DLSoHfdoVRbcddyHdwlNBT2U8TNqrPXIMqoPOSAxRUoTftJep2u8SzLWGpTIviFTQR6mAhny7hd1zMGZZwihRisqyVFxmY4KimcSJKwKnbeuIO7zu1GUYozEPtOP2nmFxANoyzij8yv8V8sa0RC2zTcoyEj0t4czmG45M6/ZK9QJ8dfRvhVLUB9NuInihaBsjDca+oRlKKe8SxWvUhKdlUg2BRv4ivf6YP/ANVYuY9a+uSkzteyWarPb6lIuiKvgm6IevLeZd5otNw8ibSoAoPTUEKbuOKLcJruIZgnsYaYqG4QFEjs5m+I9zMVxvmI5uDBmW5avc9InCFh95ZrE8Jl5+GMXPIjfVBfuxJWjc2CLiY1jMSCsaQiDESCmIZuiaSKJsxggIgkscB2yw2bRuFt1Ls+dTuZrMQ1y9phMxadR8yOwKZe0tyxCrwiG7IqYysjM21vWb4MSZ3sTV1R3HHQay0IuCpsE5l/QAtuYFwUuvP0QGrEjR2KF9vS8feUgu62tS8VQQ/qrU5l+i0HlK9AkrXBB0G6nkjhTqRnnL1MQUaH1AGHJafTMxjb1MZ5iwXt9MLh1NoVmcW1WpbR6cSZnw3EgWXGaBCxcRKH0tZUbtLXMLGEyS/pR2iC2ayDaykTKzGJhmI8TyurVjUTAoPtBWhfQEDRzkod6E6vVKy6JTPJNjLQTkmkwMoj4RU6IoyhozHZVo/Dq0ztA6JZa942OYxAa1lTmsBYuL61xDI6C6hGs3wlhOsVFoUz7c6GSimQh7eaCYMcg7yyxckJXuOhCl7G4Qb7dBaorhF4R+iFLbB4YlMSMHpNw3NywFmGQk6XUDTX2SxmnshVjqxO1cEVTTY5b/zP7PPQQDkIbA4eqoMzvzSP0wZlTInuQDMeh0MAlKNXI6r6UJSJLmBIBaeEQqscCoRSWZNQBcuC8R8gQxgQQg4GbegWPmAhVJU/NiM78ePQJ3SCH9VIiOe0a8sXQ2ldDHeozIBlih1BjSLzMRsQEoQ1UYKXLPvUMGu8wjqOLgahXGDNYGiNk1rictjB5pHnI3PmoLqsEpxaN3LeO6VGDTaZJfbolVeIbn//2gAMAwEAAgADAAAAEPPPPPPPPPPPPPPPPPPPPPPPPNPPPPPPPPPOPNPPMMMNPPPPPPPPPPPPOOPPMMPPPPPPPPPPPPPPDDCGQDCCBOSSAPRIBCNIDarFIpDBGDDDGPPARUDPZhkiRDDADDDBDAKD2JFW8DDDCAMDCAxADDKV9PAnEvRbARSVHfPPBQbIHPEH2RGNrAtOMzLGHPDY1XmGPPFEOI3ZMDLLOF7AcNPAgIPPDPEefdXQHHMaQIbSHbDUc/PPLgnPfWTZMJIfL3PDDKCAcPOPOXYWPMEJdEPIdZ8/d4/bS8+bGafPPHdSTE3PPPJHjxfXBWViPdPR2aNnYNEPXYc/JgU5YP3DKVCfOCDVOHNBds7G+JWhcV/2AljODfPPKBPPPPPMMOGRlfPPLjf6VIJGBUjhquIfPPOKYaaIPFSYKXPJdGqSbJwZsFCAc7d5o312/wDjzzzzzzzzzzRiu/TFb3DzzwUmA8dIzzUFNfqzzbw0zCaQL4HzzzGDMW82A/zh+fDq0scefUd+EynEHzyRzzzwrATfTgXjBHyi1VGFGmTTy/8Atr8Ztp8841BybMcB54hcYFtY3IycooJPjrvnvAryV8ABhx5kUww8K8k4tcap5k40c5U1pM0Q1Fp5Ul4H988UYVsWU4FxEuvJQLs2LTQAKyxJPfIYN/8A5TGuYOYHODSFMH4yjzrINXDGAYFaFEkUUZWPODxqccMPAQzLBOCYBOERbHFE0+ljH5iWS+Z9LlJjVCn0BHQCJBfSdanV7PHrKMCJGXdELyvBNzkeMNzNYeyWY2PNC5PWIUVPPJCJv0iMvGwwi4B1R5+e+EoEIXBfQfjbXPO3OYmbFLdSYJPEAADMmch0kCLZdVxPXvKODGSAObdZPKz2JJmoE+6vso2qT5ia6cEY/PMwvZSUcc1ZOLaNJPWMCJSRFO5RWHCNOlcFSL7HPDHDf/dANKBFJZzonNob6rAFjGT1ZfLr/CTfPHHAyGXSpXAYfJRcPLKUPPPLHntPCC/ipObPTbRPPMSNLPB8HnKWvKI8te4hzBGLUGAm/MoEpgkR0acbshIjOeGVSIOeZoGuKKBKNFPJP9afbUIXOTfPEQVvPAypvPEWQWG/6fUBXZITCvbn+9kkJ1j4eSPMZyylyIEPRdWSwKdMxaAXbMHBZeUBZZLRnDHCF4kIFPPPPLLgoyPQkS2gwSNM/Jfp6c4/6IWoDKCyrMNMfCGcQCHPjFPUVWbGKVXF1GEEcTFYIHIYO2NEPPPPHHYuyX9XMwpvHOhd72c/KiK2gDSL/Md4lt9mNScVQAZdGR0D/KIJaOHvLINdWV/oZCI4OwqXfPLA+5K2pmKHDMFBWzTdgQH21kKYFXzfIQEfLLaDCAvKEWLAXN1lTdEIPH9PDDHLLXDf1CGM7pVTeMNtXluqEvPgMeVgHKcvs9bO6SBWZJrPbzPPPPDHHPKOPXQHEvBaSSMfI3dOOPKILK5fPJfEKKNrFGKG7wM33e+wZtdSZQM1HbQviXsjLCtiBEJHNPPPPPB6MAVdGAAPKSEWmi5aIbdKJ7HPPPMPXxHJKbULwnGMgc6MJ+X6pvvT5EkzXFvHPD3/AEDqjnzz3yj+BxAThihWCTE1SfhRemyzwR33UXRUS3SjAp3JpM+9OCYnH1bQSS7+fQi9r3zzzj1gxzEDTzyF22hTDUWyijwFXzyjGkTX1rzGmTRW3wGMoyQw6rDH7M2ksDT1uZdMBSeU8uUl/wA88sYtM8EoB888ogiUg5h5coQoxIY4YBE8t88oai1ANhko7YglVlbIiDpzvyVCxBlrH7GaamlM08888888xQwVwN0sR2U8sIBscf0INIMJIFR004vPcYMp9sAUtMDIKqkmFzRXVf7DTESgUQ5EjV888888Mw88lVUa6HwwVYMlu5ozlEYsssYBk4cY3hhw9d8tZWrcf9gNz/60MX1QiB0R4XyG0h4ZHw8888u7U88s5z1JFBAAxkhgw0ojc1/8IRN91EoOHUlOM0ZBApx4Ep/csGSrZ6Zk3HE0/wDD62z2bCPPPPKMkXVPPDGNCUSLGOADqJddfITgHAV1ECLKUdazVKqGbXPGEp0urHnU52mTQhQ0ml0TayJfXPONPPPMC2PPPPHbCAUFBCCYbVXeKF5UAnTJJEPQSLAHCUQbDWTSePjy+Iq6WMBCPZEW5eIT2MiY1DHePPFEI4ZWfPPOAVZeOJp/9+fb0TzdCfJbBEPYayeTHGTdbVPIWQUoBAyLrY2GHBymOVYvHVXnMJi/PCH1OMPfPPLBUU7LBFbCUKKfZB4GRVLEVmCH2uoYfHKYVlcePveUqBRjPPAaPPLafivld5BeXH/PPNE8/TUDPPDQGg/MTnMANTCTLPJXlPBZNJJGV2dEMOVbKWGYGfwkeg4feM+/GZ1nwYyVr8ZNWPPKA4LCLIOKfPLDCLUoJXCVFnWfLIZEPI4dC0dh/FFOIfPPMBSruvVAgy/aHFPXCKUS1YAT7xO7NPPIYBc4L8TPMPPPWqDPKVFTXPPPFXmJp0fCXCVPPDDXPPJVvTvirVjIUmcU7irP4FBCMwh9n5iwWIKG4uDrCPaGXfLDDFMJONPPPOOMAFHABKFSeVPOFPPJbPXC9dxYkNx1u3QKLfkJ96SpKvLq5YfCoKYaafHHXOKNMX/B5PyR8dOJNJRVHeOKAZMPdPMUUWyIs18HAI8JllJWIP3fvQm57aSujsZSHSCFA11Lx1lDBc0ox5voge5gBp9RMHmuBvIIWCBWeAGKy3FtP0pUcj19PI2jk1fJycZzXicAXBbPLOS932KM+xSkfvPiB6P7j/QJtCNvfAC0tgfELAVLHpj36Cri7WuhQxuURTXlH4xVrEOSUTASdPZI5LDciN9/KPHJKDIJZaHcGO3QlXJPTO/WGfOPL2ncMdTfvKDTzmEqU5DmiGd5iQah3MdLbNJEJHHNNMIM4UfLNIAeEGLQBI9JADHAUXDHajF9dLOxpyMNpBfeJb9Q4qR44Sx4dYfOLj13CTloqmdeVPCKfqfIQPIFEeXPMJDGBbDPPCIGaBPVAxPPPLYxPYSV5GD63Lc+Ww1lK9QXjm9YPeo0TpegG6TVfODZhfCbdNLFHfpV6RMPEdNPMNTLECJNHPPONGdWmgfPEIGRs60V3PYiheSHTQ68q+c9+3bQcbf/ACzwi1WhfsDwUn0DVzxzywNzzzzjDxXVVzzzUlsT4o9x44zvc9gu5E3ZpVj6yp8SK3HO9DRbbrUvzzyIKHyMJ8ODz1wDzzzzzzzzzyBxyGHzzzyGMACBx7yH6IGL8EAGCNyID+F3/wD+dAD9cdj/APnnQv/EACYRAAMAAwEBAAMAAgEFAAAAAAABERAhMSBBMFFhcZGhQGCBwdH/2gAIAQMBAT8Q/wCzp4mX+KEwlRCX4YMhDKTDD2LaodclslGp+VNDEKyehIfhTzCeHhaxhomhiQw/KGteGjKDI2xoo0TxoRvB1hNrhYuQdXZ0T3CCTysbJ43OPyiYUGx4uINGfB9GlB4NsZPDURFMJUhMPo+XHwFdL7flPMyehBJpjw02RkZRQnLLLKNVS3CQ1PCND77pR4V4Q5nMISRMxfmIghDfiDNDEEqxqbylSEJh5pHhoxDUwdTRBrEzA0iISRoa8Jo6xS/mSog17JqkQRPYVXLphuNHs2ehMPz2IOjnuEsJjYmN5SbJGOGEiuio+7Ei5m3yvFOlmJ+W5tj8Qh9HBiVwThcpNiEeELR1iZotsRwSE3cL4mHSexUVBCHShYS8X8NiI4X8OnvIGg4oypB4UIpCZUexNfBjQYgqHA/CcGrQmKcNE3Xp4bbzBNizCH30hnA8SNB29sINCVJ60eJhPK1mlxcUdNVxBibWLViNSbB+6SG7hDOj6FQSPzV0+iOCwsXLxGIIJQ1Q1jrGxErOCD8kwysYhJsarwRhOjbxMNyYk7CrZYvmSnMR5og/Kx2P9JHSG68XHQsWblYmWitveTE0RpjmR9/4F3FlEMRB5bwmUL6hj15eYLGjq2JHbD+tfLxNNHWKXCbw/VxX+/PMS6H3KyhMQYjFiwenQhu4eLho3LL4mF4WFIRdEEqE8BJmazBkoN10pMI+YWxa1PzPMEGxKG1BkxDmEIYgSiQVCKDGNYJhFyhspBYmbIIah+LiYvTIlMJXBBDTwkyHcogiWG78LDzwTgKEPHTXgrFWWLgybjYuCFhqCkGixAguh+mkYmyzcOake/KYTOeXj86gtaE/Q2V4obohrKRH4WimJl6wkJY2J0brYy6J4lHhCg/cKhXEGGjFBBDBiGUPeofJleaNiQ0IYpDvSN00J56Gt4+ebbER0ZPCG8tBrbFjZTaK8Jj/AKwhbEqc4qJMniiF0oTKUeYIhsNMPuVrHa6VEH5uFBg0ZiGki4TjG2xD8JlLi5hMw4f5d2XVw/SVJmxUQgIQhjVnZMwboTiYSCnI6GHGURlhuhNi0RSdNR/SikGNTxPEJ/SfpeEhdIEIF9ytexeLdF3eJ66GEriCUwhGPoxBCwxvAosG4NXsVEQiEJjbXMMqpvFxEUwgmxa0dYZXldA1U4af6ImvD9oeEThjSU8+jdeU51saiV5TXjokuU8vuaJiQsVN6wnB8P5KozEMNcr5uGgyZpl4QyyoZaLUwtY4IQeJ7XS+pTGqLMmTPQ5xCEvpMoJD4aKH9iC12LNBBK+iRMaIiN1kWKEH6vhHzDE2toY1eHjpRDxMUjJier4oghBXEU6SMjwQhCLs+YUKXY0IhBDG8oSkzvQlZoN7JDbxToTZhGhkJ7eFhvwtjOhk9Bz4Km9jUXRUoQiEfRqfjmE9jpjejsTo5qrE1YDRbL5mGLCRoEr0f06IdKeag1slK5RjUzM38LrHcLWxYW2NRh7INF4oZCYRTVw8LQtDo0IhQVMgmFilEyjEho0xxMbgqbwXY35bR0TBrm+UxvflDXiA3R+FKX8G67n4LaixBO0Nl3yjkIuXhwiiQbuYLD4MWIaKbYTsMpFuYfo8QuU2hu+UqjojC2xZaZPUylR6ymN4a1RKlBT5lYRYP6wvA2NjRCRrgikwXBPLysGxv8SEqhSYmWGxv8VzAeyE8RzXFLi2ITh4VDgUJpKQqVkLZGpZCbIQhSjeERER+544mBLoa2JVbH3CY8zxS+J+G5B8xMwSLKimsSrNINt5kPCbCocNIM1wTpomh6KNzBLw2TCQJ5RJb5Uakyt3CQ0NYo16SorVzaVNHClxMJieBI5hKjUEyo0aGQndYkH2i0LfhKRqwaMRS4GuZUIT2LmDeuLrzYMUYSH5SGpjQ34cwkTLQSjX7GszgYt2glHm4WiLN2I2hilCdHp4uVAyig1SSNV4IJsUNR9E8qMlbwRN7EuhIpHvBJ+AnopcXEJhC1/uKPLlB8sSv6MY2JmrKOkILYxO+Aui5mGsJlHonlItx3ZHBBKfpEJsRKVhKxNiwakBsIQmehJQQgmY1PKZqjUeLjmNh+t7PohiGWCVpMbuEhNouFwWeFK83KaHiG8RTZH7ELJoMViZsNbH8j+8TNcGNo1eIJfOyssKeruCbN4Yhm30SF8PxfCZwo2US1I4BEykTNKUrKGxQ3fLQbyhITw2PENnt4QxP0uJDXzSlHiCcGomzQSpCyCx5nhVAhteFKizZ0T8IuLhLsWTCRKJfRKx6w8vNiBIMXB1gtIPQhi/AmMSINeoTDFobohMGJ1Ddeb4amFFlHLY4rwmNCSg/CVwchtvogmP2iEWMlWJ4mELfRpOCUG3kNWJtCOAkFXQiT17ghdGaM3mZXRJQSZuEy+UhIRI8mP0UviDKK1sSBL8ENDYTZyQ1snzC4KsEh2hPRRssLbE7ZtjmK6fsYmxBVoeFY1CC6cQboioZCh6ebK5+NDEW4Q0d/ClRWRIRDgzYng4wkQQRNUbRMITwYmstobG2MXCnQZbLFLmUYnC3Dwky6xyHdBxVlEEWIqzcoSjyie2QT40VQ2cwQ0EOJ7NkMZS1saMgSKXD4NwekFUWlCnZuykIVhBJhbHITvguhuGoWMboY7EhP8Aw2averGkijX29dW3f6J1lcjaag5bv9OJ+hv5qL52zUX8ToxhSoP60u91VtJRPf8ABM0bmiadSb/aLHzehOdnSfHwLbdfV1RRslmkpHxxMkv6g4iMDiXWL+cW2/sKQ0sVuaRLT/8Al4NGgai1HkW9tf6e/wCV7JnNqWK1bf8AyKuarfrtN/8Al/76LEzbrRaeTr2rf0Pze9IJINpfj6v3vhJbTlk3FtSvzSdluhM79sRJppPiejS5++a2+eaEElKbcqvW9/ufo3NracUbpNdOb1P5k3RwYh4SonZrIHoZQZUlIaEoNj4UOjgQgwnfTY0RdlKMhCeE4IN3HQppJDBRpRCdHruG8bo2iTeq0uJuX/kSovb8fwb51/sndTppFtrab0N22OuvnZLzTmqtlHiaRsqR/ZW/m/8APR2ZfX8/ymtX7IJCrCSfxx7a5Xf6JDDUUakbS5xEQn6mlr6+ffv7FxNvn6+bS5xPi4h2h0Frf7c6UJpKLlS/Vln8v84bsuE2ltOLnEP+Nqk+bSkT/wBL/Q/poj1VObnz5eCVnTvF1qN802v0WVMia0quFzU+P4adYSVOtIok/wDGDxccgTeLCSRYMvGgxcN+kfCnGPY8FMLMp+076a+zQ0Ualc3xfCQ/FJ6ohl7Eqmx7whKfBdl1RvxCoKb0MSQ+khvykMSE0diViIMUUimFNYeGzQNjEhrCEyjGRTM8TwmPwtsalhb8kEcL/wBj7gZPA/1jmHfCMdFti5htjY8JPE0GxmyJM6Eo2SGtjFgpRsSNtrZMEhoSwmHlIqwHhCfr1MrTH4EE4IHeBlwlrD9qoSh9l0ISLMpShoWVHDENaGd4NCcD3hjQsDcK4bF3Cf6bCHqjYD7HhXhERjDWF5T2LYHRQahSJB4OlsPXlODeVAmX0lRaQ5jxmyG3B4Q1RaLSG6EfASCjFOOw2yiiDKbGyyQ6TG6hgxxR0nGr9+hh4W1s6LJm9aM+ynlQN38CfolRDjBaxId4SmiJg5izqKhiGwtDEhdDy2hsqDYajEUEhrC8dHA/F2PosP8A6Aj55R2cYdCOhnYh9EPgs8DF0Y+e1wPDwvCHhH//xAAoEQEBAQACAwEAAgICAQUAAAABABEQISAwMUFAUWGBofDRUGBxkbH/2gAIAQIBAT8Q/wDd48pCdIwMPtzwVmur6c9Lxk+D/C3h5eQ5e7CzLP42B/JGeDH3063hv8TfHS0sTxGOSAsmwz1b7TxYOHXUtPM5beX2trbc4jv6lci7au93ltltD5/C3z2SeSF7gybbfJtR69h4MRwlfZZs1bbbZZeDNIx794SB9CNEeS5bvqOMx6c8BDC0e7rDtnH0gzkfvgsm9e+/fJ5HzhB9jyJv8PYyWEiMko4TxBAecLf1es/grHIfBsjjRjo9GHlt987xt8qdd8GHJdiDwBGK3bNtruJkHaZUfzg8jFlk3yH2KPvPNfQ+hfjyPydi6njbeD7b3fsTewIILqbDMu80vjzw8RsY9iGAPDOWPN9zxRMyeQtCe7bF7+Wz27wO2wjnByzz2s8M533bzkm+hYfa4xMu47teByxwduFzb3ZLifXhvrb6Jn7WO/UxxnpQQ7yBMlvtkwvzTGoU14AicojSxd4GUuw+jJ4SrPHBfj9qbBnOW+WetbZ6hhznGSiJWz3PJtvj9iSCTJR0lv7LLxEtPAaQLbZ9X1MepiT1tHq+Ocst8NuLTj6lIB6GwhBwPMT8vjxf9ni0YtIfTk/f4b4/t/qPT8y2aWv7L9Tnml8dWoFgPBlf0214zXAnzaEP1PxIz94zbeV3rgHqXv2HoFB+cs1/8kehn3JwWTOltthWy3atRDnvC27w16oDCyl2mcP2wsImPWsNvizPRvm00Wa/TwAOGHzhHrhtk/Z3eP3zkDYWE29QdsknHEJk7uBsIZ7G+iBnC9W+OejPJiXIfD45Ash4bOcnPAI02LrwefJM+5V1bFit08bx1b73uDOPiFvhtvvGkUPFB2BmFqaQ5Z/lGCbBhB1H2PkHcGWbHri6/Y4gdWkGcsrvGc55vL6lhC0vj3b4n2HaGdsD9sWLFAvUsmtkjBBy3Imj9glxkX3bEMl3ww43gnr3seDDCGafhdjeM43v1L3HhnfAvXUguv7CPkv9cOy6iyyyOFixcUvBWzPRlnC/xU2OvAOV83tA54jXMOBqws4Y3xyGcLIwMpyRz3CP1s2sT6U+jfA889Wdye4PRlnhbOr/ABQt+0kPy3LtF1nrjfAId8F1HtHmnr31OvU2W3mH7jbL9QQYhaWnC8x4DbpHdnAF9ucnEerZ9jHbfXvjE3dgSCCQyCrBwEzGOBfeD19nM23nbyeJ45w69y2nhvi28t9I8ZO74QnIX6TArOmfLsSWWSQbE7rJGNxtI28/rf4AeQ2TuH6nGpqb6GHH4k1N884JNg4DnE1N2O3WPkxLJ4O5CyWHEVi+JafxM53yyQQOsAM430oejYId+OeCbzOhGvsL8gDuz+eCJwjIq+L/AEQGZ79A2x694Yss5eMP2zOc8w9G+PyyiXK2EEXxZllkxIYB85yOH+u7rMgD5yuW+GFn9cLJee8PCfwwPseoskMmAODq3wfFYWXd+0JAUGeKeO2w2HnlnL5Pi3lZLfAdXZ6es4Zcs3UJ3HB5y3nCUJH7LrbMcbbxvqPXvinpJrDwwgD54O+hck2Vpd8QjjEOd5T4kyZt2+rbuDLJ6hWJzqXnnDHm3f8AAz3onthaeVP7w6EODOakHq/ZzsATrLb3dTsx2zPpEyyI8G85/wCjY29pa2USeai6SB3PTZM0fZeD8bS2/du/yTtBDg5bxg7flp6ulyPLeN/jacG7asyOnCpPcI9+cUZF70s+DU2L44bsIcE7br45Pzgb7PVsstlzgzRJE+t+7OF+BskV9b+/1/q6H9A//bLM+B/Zcgf1v+zYH+Hr/i+iFX/ido6/62ENDpUP9f8AmUkZptrs/t//AGcDjVPv6TAE/Wa/p+fJez1N/wCLF6t/7/XUUB+/r+pOhn/n+vUkhlRr7HeDl1eBbAwWwO59oRxDOmwSVvAN3bt2WJyenI4TSCfYMEkHAzg+WdXRkVRT5fEZfY/3/mT6Ls3P8wDof5k7v1KaH/WbAdhn+oF0P8weZ8QQB8lhE6Zf8voGNj/zb4rDwoqyluvhy/IXQuyfl2YdS733Y3uKAgwvwSjjxl+xn5xfPqHfA531b55HEpx47xndnh3htu23Z+1lnI6vmF8SztHyWTO27bqxJZ6vjPD6isOHlngGeO+weM8knXjmPGRwTLGN0L6iPXj88Ho4OPZlm+wsrkQ9ckI6hkmqCCJiWHZc8sC3fRnkHfO/wVLYaSbbQzlcnV0RvqPUG3ddCe4u1rpZnXAjlpdpt3IuzCfDnpYeHQM6g2ON5dRl309n2PnG+I6vn+A9sA5dHgVZ6J7HTsu8MKACBX2IPiJcJ1cd1I9szubZNpDuWykT63Q5fQttpyHfpPey7iZf1yLkpb3aybOYk3qRbxt2s3j7Q7Z6brO+rR6jhk8ZyB+2JBDw+D4M8H8lm+o4P2+OPi+r8n7F8R8vriT8j5yb7Z+8fvM/I8Hl8Im//8QAKhABAAICAgICAgIDAQEBAQEAAQARITFBURBhcYEgkaGxMMHw0eHxQHD/2gAIAQEAAT8Q/wD9Gx//ACnkLj+JKlSpUqP/APWeMfjUolR//txMTExMTEDMzNQhNTExMTExMTExMeKhzCx/eExMTD0sbjOcj+YEAzYMReDEGIsbbgAgxeJiMGV4zSrMOOoQpKtQ/kFwkAVFYF6uYmJiZdRKf3MNf/p4xA9xAktIPgNsHK3dVAn1AVdjhdRM6mPCkC1wETSQmGyMyKTZ4xMTEoKL6RsVorPzH+CpNhLGAMZU4L9wm7RC+SYmJiYmJiG2quWWnaNNA0OblOqiKbqnUAOJiMDgIJzG5kUMrxiYlcduJnFMiP8AcGUDpLn7lQVi43YWxiT0mBpiOYDjziYmJiYmJiYmJiYmJiYmJiYmJiYmPFXqU9PjQLAe0p4EHCLj+Yk6fzcxMQLlhtylgY0kEiUQSLv+YPpJRFjRpz9wl4KmJiYmJiYmJiYmPOJiYmIAQSrSLHugkSVMTExMTExMTEoGbG/zF5RPo1k+l/OZVXqV+AMsLCVmpTOfF5mXl8k09uPLmP3ZgWFJVyXMDK8gcEfFwYVbXVxb81NeMypgzObKQ1g6tFeU4Ym08g55i+Cch3HzALyFGAVmfMHEuEx3z6lnJbDWn8B8bzhCPp+lVA2jTW1w4/N0srE4WWnvr4il0lj7l3ZZL5Za4EZRpL13CHxFAR8XFthKI7Hpj5wRfSNRmlFtypCdky/UJ3onY7g+InWEeISUWOzDDJBKWO6i0xhXF9QXXNSinUTMr8vUr86/CobJ3BSAFohrAAo8kp1VQ7cAnGP5BEiRyzuLfggyFviLTnvk5IYGZFluzqGOqwaP/uPP+CnqUw43q5WFQAUvbH8Ki0cUW4WNYqr3HxUr8bK5HAXHWV9VzK/HiKAAG/mHg0gGD2+SWjCC36mDKlpaVJt1HSgKRdfqCR2xQy4Oo7mZUsfmtEcTiEHN9R2wStJELVvb+YXiJlpGEUTtmSgU+oRxLYrVW11HwQe7qHawniiNJMikHRrd/EyTSS7BnMZoXFVBGMIHQDYmyAIE7Fsc5cyswbFBf4B0wJDklFguTPcXvqcsEa1ZiptV34Ie0lOBZWxaobwS01wwgiy29fgT2RoaiZiIo+odMKC6i5ZVBlX57X1DEsfou5nIcTdHv3Lbb95o4P33OYbRb08gQgOGvxIsJg2mGO/wIgcXL9foG9zeXR18kYQ6WJtNky/BuoRMZX7OIt+L8i0IJEevIaKcRo7AKo5DiLCQtPuNjne4vzJZiqvBcZZE+ZQCoRa6ihChh6/IIQWnZFz5NfkwyChWI7hIhaQ9iaolLI/RF2E+ZX4MtzQ2MKGVQaVzGTEbV7hblsK2YmQA4a1BWpUU3ADQuX9QeSwWEyt8uYxhEKcDshm17KqMQALcsAgAdnMEXGlH9eOI4FzyqEebAagSt7bB/M6f4BpIGHmn1LlgWfpCim3dtGJUVsAKO4R/GmJ0i2Ju4gSbPI1WHFCsh/6XGpFLavM5gKtqkVbpD8+AzHHxj8rGalpUOyVlqSDRLGcy9qHDu2BcKFgu0d+UYHavp9RHJVIdFPXEAL56lfCBC+WBizlVfTsjuG4+Kovh9j2QppEVyWvaUdZuoXiP4sK5mO/DqWgnwc0epWfuEueIYYuYio0ZKRpb5NX+IoDV4lT8Vyx2lr/+VK8BbFAUKWY38Q1xoKZ7xazm1htUIFbSNXibmLlBlm1TZX54sX4LgGmDSGUwrIZlmgcTM3RxiIDaIvJFIBgBtwd/uJmVKlSvAIlUX+IoEpIClkB8xSfdXU7tlDiIapX0iVu4/wCE1DrOiVVhdK0lrqs6qBMJU5g2mlugiZmBzI6YO5z7JePUMvD6mCI7l+LS9VLR2TvONo2jfCwih9MOYSTFiyqcsyUblxuPH1OR8i8sNi1ab3HcbBEBY1AMxu+srwR7rKFye40ult7lQy9DAtVU/U2j/ira3od7/wBS5eOLwNVHmX+IZh3tci6AuEsEVwOIm32Rf/ihGKh/N/MKKqsJZvqWvzK+LhqsWjdQA9B4qLagtxODKvX5iuqljhvJAU8b2YwcRzgAR003F6BQOOWL+FtRbg1jNdQU8EtgxzH/ABCOQ/fkW9w/wh9wKnDX4C93PZBnT1T1G2PgaYd1cnFxb+/EMqjqaUpljTrW2XWbV9ylww3GGxZWIrV/Aj4oZfcAXuyKQGBrkN/cJLc4pFtHESey9oemNkIKgG2OYOl4nxmU9MR6f153xBSsOX4gpas1EhbuP3B4RoX2CVW9uynF1zNvPMPaVj87gGge6LYfjKVsC6gQxUjRmY5q0qO4OpDhqFLc3cAFUy9ZuBmmItjv8TxFIl5IOUuFKkZIpWZZDmHG4i3DgjCICxTbGNyx+txXb8xQSrS7mLlLaB2Zx1xBtXr8BgiG+XXUrKWlKDeNHUey1zs7YKYioS+iGQbS2YGvzGSKKF1u4ZOjBAFKqnL3n8BeV/wtl1pVQZoQvHqKjcDYXH8ZjiipprDLTTDmCTBxBF5nYTkyGVs/EDHEH2OoQalsZd7XhBVWAwDITXq+ojz/AJCLGlHyQoyrnGohjlnHuL6YiNJHfh2kXQQUEtKYY/g65i+BlAt2sL09w3R22rHyj4UpuUCCg/EepdE9TIsGoSuon6EbabBill8C25HzOXz9SvROScoL4QYNUzNVM/8AzoPr9DD/AORGm/vqWhnqpQtUi0XZdw1oYtZgkvJq2lDOYcKKqzPpMWAMnU3AIHL1lqCb/qZBp8xJ/oluh+oJDfqFsZEyAp+opRW+4hDVLVcTIralr4EsQ2hBjLuC9br/AFGVFI0n+A9yQNkz5q1B+sUlSzO9wANLlHyHrEbAdHqK3/gdMrTbF0S6zTba578U+UFXgPMbNLKVeySiKtlQrqLLlAE6uOqlXli+BYPc3Ky2C1b/ABFgctvB69ZgqwKxlzaXqATTlX8kaVt9wcO5wE8pJT8goAqF0VtrmNuKVpb+hd6g6Mc6ej/MUl2Mu+VevFRgT6AtYguh0PVmA6qryPJLrQKvUasiSqzdRMckvKNNRJMlfbWPjEOEGkatiGFrgISpC6+4DnZXV8y1ttBBmCrf3DNyhHbXRWUojKbfF6qGUFKla3+FNXxK9wF1LdT1TSU+LN4H8xHuQApRZGIwMOCGUL+px6JQtJentLrpEW0XUdBSNMYQjPRLY1x6oRKj+JAtCBxr4OaLzCO/KGOf3S3w2G83zHKsQ/rwgDB0MCPUx7NHslx37ArpjGFRaWLxRAOYooZpqK2RvpslgP7CMCn5qXlrXxM42lGQ+oFvE9REHjV1xGCLPRDC0gLWcmsJmzM6EPZB4R+pxB+pVUfqcYH1OG/iKLQ/UBSdVLwUYoZcYQQwgKPMtIXEdXFW2yr3/gsly/xXRj/ht7lvctmkSGb/AFN7j+SoPTCZnK+w5cxcGsgDsqX5fBoH5ubRBGkj6gdeF1KdTcz4txdqLUruIMVFsrXEd+RGj0RZLqAeTfBL05jTY5R8N1DiAH82nwQiIKzH4YbSBWzAzK2pFJYH79yhJrx5sxV/1AmAAFWDB1BQMQMBdwI0ieARBDUYcBnp2drNvJB7locBgJyOIrz5C0DmbIGUYLeJk0S4Dq4pdS99wtAqbtcNsOqh69xblR6pZC/TcRxndo4o3D4S8RtepmMp0cLZWVVm8ymaMb+JQJmmud5iCTTMPEbiQcKQFhhUMTEV9xfwC9HgWIw2FlSo+HbVNVA69l1HsW1huZM68AusxAliwLTdRTMAcroIpgspz/qLDpLjoFWuYvIeCky8lwJQ/UKBTHUE9IdVT4joOLwAKfqCTn4nfEt8/qHOIkqBcBAnEsXzOmMXpUIUrUSr+pSh/HqKzd34fBH/ABEr/wDjEMQdONT2m4JQhE2P+CgokWzGMMoPzqrglwd9d0tkchDUrAzDeZVIq1yXBHfkwFfK4gRSUGW2X3GrgBZkDUv8qgz0IIWDVXGOFs/1YXcHFThidQgAAnARwh3HNJVlUK6FEKkccQZqHaA2XFR8FzaP+G1lRFS1Q+C4m0EHouXJF2pFnM9fEmVEzbwCqgwHmhXUW/HEegqw2MzzXUOA9vMpJnxBRvcc4NAqTiGQlakmafcTbBCKxeF5iz7NQ9ekDBuGIv45aqar1dYloToS0NgeWovVDc5R6mGUw7ruo7JgI6vmZuGws5lR1KhBBzqKNooTH+ITAu7IvcQDNSl5JeDPthQpfUwKEMAD6hBVamhm84QsxceqPqR9CYcEM9VDyqqIZW4GIIVUVPgaIGyZkHEIU5eCCv8A+upaVErwECGgbCS8C3+IpVXSW2Fv9yrMrLUNbNe4Z5ZdDF/4LarNSkZdS8QcmJ15gZbmubTAKXHREYELfBWhMAVQPAUvHqMWOofHsfuO4plPa9yyUlvbNwLB3C0WvR1PhOPOzEOUehxL3VZ6jPP9rNsJ8BHhaRlACY5j/gqOmGCcMv2M0XGWQOo+QN2Pajee4QaY/sMHr4nOEqODEaAiymerjl4ACeg0kBFKizE3ANYv5juXlNLEVuWMfwFCJ4CJaI9JBDyRGjcG3s/uU5GiFoafxCY7NXi81UqrxUkAgXovuXVAiuzEFsdplMYIqvcnTGFLCdBKbd40FU9ahxiorUBYB6CFQIENMI7gVzKPBI4mkfA51K1EzGoBNSxxA68VYmEvpAZcbLNYSb5ioRkBTz4cnaqMCjkfMY//AMYYdLlHQBtgzS+XF0H6BOZ0HiilnpqWbjporJ1ynQcqgS5GALe6Cn6uEDpb2tFgV4oXx+BIFrPgVKVxg6t6M2UathiJLVzH88+MwQhWV9EcQmlhj6OP7lB7l/g/iL6Es0BKDBsFLOZmCQnQS9f/ALMrGh/5OSAi78V7/ElZIT/cMZbod+85IPcNu92LGmwabKN5jL5lrL3QA3ZzuCE0DhRb/SqjpCQV+j/EfzNwtqcicyy2FuUFQFDOb61dfEOUBC1TzFqgDgKjMHpcw4OL+/IRLbj5uO/8XAi4elNxoA6gV5gC38bHMfLADyHTMMSCq5GMtRZyuYCXru9xWYiu0VADrXuK3OuYn3Jkc7L6gzLWRZ9vLDc3gpVIMAIVghFR/EIdQ91Ko9R8FzLikNx0RpxH0/mD1/MCtQHUFbZknkjLGpS24GpbpnBgb8IrctDbteIW8PiC6hshhqGYmefHKVhqLcHJvXrwkfyCP+KzmEhKgHasbLrNabStDZZSDSWq2RWej4CwfV9rL4n1Y3I9AWQVqwUafHgYAB4Qr6TY8IMQGEPbP5KP342hLLPEGElzmVicfiQLxzHhoF1DwvH9kdloLbqG5qJD9kuRj7KzEILs9L5ju57mlCWDgcQzcDTuo1wtzn8QlXS6/dSqhbBeZYz7U2hinuhSQGALr5QZRvvxlw/EFBNVsoCKjVqqKRw4VGEoy/cRcgp+vAWIYPCyfc1UtKsL3+GKrx5uZscAKWivgQZ3AhMoGGb4PiH01Tf7hs2sPJ4MwVshfUcQ2aqYv5kSVBjEXbUMwqlnvMVsQ0Tir+kwEbNv2x3OPA5ituEHPNSt7hjWMmwXavuZPCXVxDGgARo1BBiHKCbMqOJwS7Yvg1UdRV4GswblcgLxSpYI9Vu9y6yWorYykYXjN+F5lkP6Wrhs78nLEYrZWoYgyOYKZqXLlxfxNzP6ggAGf8CpUGItulgXsKPYi8TEtn9EA9EW22G4KzVe5Z5LJyBY10Gx9PXghlC8Zh9WsJ2s8by0Kf8AFJ1M0wgwRRTK4XLGk9eohBzH1EuYFjm4zOxr8DVaqt8sa7AHim4t6H38v/JWOmo/EyEuK/UfByqrrSKbvQMX1M0KUSkfTQ21GyBsq7dRY/iQH2V+NkZH6E/lKLo0Q01C5ko8lwn1CUFjyyF/iUZQcVuUJSemAlM4d5I78BEX0jSqB/qK8yiKg9R1liuWSOa3gpe/8FMQLaLmny1NFNh8yg84UcnhZzMJCCftca44j3jvkijXCuRm0L8Ed/iYZoFyjIzjwlWNMNxkbuLFgC3dkRm0tffhlbxWO/AUWrDcRGkp8I6Nx67rVWiVMYCUMV+oAzcNS1TbysLlIGWEcZjlzKpdiNe4tFl0oDVQOo68qe4w4tBRfcIF7bMG/JV4l7LjgGVCs0/Vy+EO/T1DV3l8LlzHjFfiRWhas1PRHdP8A2KCviV3WoEAnJQ50fu7o3CF6CLJ6xx8r6jHZ2OnYWvDadnMFqNVJIh2IkqlQys6u8ov0iJw7lZOMrD3S0PVsCpdSJRw2WxQbAYcKlmmkSbgOrpq7ZawKBdjI+biLXJMjVp6u4MAtW6it/zLFFMoajaBQd7xxAAcL+G1gEhmhUQatl/mK6XNbeED8IEsGlVPbEdwl6wJp6O5aJHayZymQgf6MBYoQ6paO4LMbQ1FHEfxNkAJUwHTu4CmstVoVTzM8DUtnNxBd5K6uKIKvEObS2yYToRV/wBv6i7gWrvg/Ny5eILYIDV+4QNpixQQlQIe5fqK6i/kEqCQCRe7Kr3NohverTPcYaK118pcJQEG6eY6jFALcrBVmXmfqZYR+rX4SVLBMFoNQWD4qWigYZh0AB1HzfEfHuMZxYPBDR0HPmrhygF8DqcxytwuLl+UaCupSAsu4YQtQisVuXiMTETwTMExRzHPqF2mxMAlCo8AsSgIFy0uY2EWLBzImoApbi4sveLXiKqwWrgnqDQ7Fi3GBA9Sowz4ViLLU6QZfB4uENQYiPnXhSwOG5SIOw4hzESOMN+j+/CXAwpCaWj7VfGZZcw6cMikCtPbb/kNRiwKjart8Luc90ha/cTtsboG3xLTETuFQqeLlqr6m/wI6Hm+W0oIs/zjt3yQi27f6j4NJakQxmPl6jKLQp0/+SuhYoaIAJx5C/ASDyYl50UcVeoBKVtqXYssYsLum7/uW8x8VAJtmzXXuIAgKj+ZY5W4hQOFjMKKlN6j+OszKrcDqb0ysPaNQwKG1O4mkLmcMlXfgilmTaqP/txhb7m+fJAqJO5cchCcL1CBEBqniVBmF1soVRtZZMlLFC8x7UHE5j4JtUB7GJBTEfy34IKWjaPS9hUO4Ct5BOIADDbCJspeJlB8JdwtSmPgGWi6j2hrwWJniNEvMhOFgWoVFyjgLA3FHKzSWWBjlIzLNxU1eYBS4ZRbiIia9RN6YqqXpjxctQtkC6hvyMxPFCjocO5kC8LOURx5yl9w0ybw20ziitwjUZrsbi2r+FRlgcbiTuCGgG4rLwg+ongfbjcZrCEaoQdUwnNsfGwcFSj0rmWdx5dUdvAbTQGWZ9YNaYQ9gD7vxSjAArS8aHniFascuFKOLj3R5YxrEpUn+Wjso0AfgMotRzhVwWVg+7hzDIerqUdXISu74qWtTWzXd8SrZXinp8K7AXwyyWUD4l1LjrxbVeSAB7IBBcvcs6x5jcuEEZMDUuUwGa2At/UXoNsUnxMQ6PCKxpgokMHCIAC1LWX4JyQVhqNvzFJQU8MV7gCha6iq53H8SVo+BzrLTKwvyxhoLIiYfAmXCix3cVNRDUaufBucxgCywvFYYyFjuqvqJVVVYShIM23vqW7FTDMaq1Kq4eYlPTNhpvUA4Clr4hGEL5ABsuqhDCbDdR3448BGtC4E607IVdFS/s0B7TO0NjDEbm8dzJgRMQl+KjhEqJfMcOT1lAYYnVHMdZoG64VY6IN6qsjk043L7TOeZnYxM0Zcqy8y+0zEQeNREi31Geoy6ODKIyRuLkbq1SwBD92DiPuDP01M6TgqtZBolOT8xc/gbgiBo+pQTULPUd0Np7o0SkQEB+QqPh/Fw7ouyEWdnMfyh/4A9TRRR6JvtMX/ACTBMYy9BcqW/wA0y07ZWFyJTaYSWwIhX+7K/cV0SgoXW4g0+Cc0DDDnpZ6Lgs2aNEcxBexsjlxcL2xMERZWzkgorwdjCNWATssgx0o8iyWdW/fipUCE1EVMDErwFYSm8TmYWuxMMzU5NywwHVOYZTa69yo6DpsoB2R12BQZUmzgKcjcGl1kp2n5itt3K/LKAExaaiAoJqKueVz4BeiJythe0uP48zUYVLJCqcnUwRt6iIZhBbxGX4FJI7UytKizMUrP4FtKytiZybTPgg03DO5vf6fEAgFdBgjCDq+A8Sw+sNEjFm6OV7ikw7bldQM3XJwJfwgAXo1Hfg3DAq+ojBSYjvx6gzHY/DcLDAxCoRzZGj1GA1WKlr8NoBgdSmIhlN5Z81whmIxTuMbZhl4lIBWzOeJkIKDC46LlnYLXdW8ENTYg5WiWNsq7IAcCLAUtXFhptOo9S2xLi6Rmw9RFZBvXNNxloJ0XFKK9tESK2h9Wg03MsxkL8G5xK9R8FGx48Zo1GBEQEpjV3IUeiZm4XLmBdwLrhcBoYTQTkl9pUCE+dUOLLu+IDpAnAGg0hJ9Bq4OKtYVTlgsZ9MCFq0wFCsTZ5SOJdS8eOcwVzISmiZZiaaXln/O7J/ze5BeIZFNd1AtqLUJpgqWYZRg3UNkMMfuLOIks7rHIot/ggXFalOgulwvURvBGNQD1FcLQVWvmI0sJRU5gOLRbsGMF4ly5biAq55qOaVoLfuU/gRAYNEG4RuQE7E2jL1HMWsMVTcrbgKiuK36BX+pUR4lNXKhCUwLVx06aqmSZ38ROobB2wjQdL+YOsKDWqglhSxtNTXlOr3BCAEaRdIwfBjYGoSrR7VVfFMpfCAE0uZcVNuoKgF6DpjWDQlj5jB3bmltx/A9mlK+peQXUd+DcQPZBDZZKq3ZKJMBEoUL8FwApJvFZSsxQKgzAx3FFmV+IQq40t1GdT4o5SiFGnq5nB8yitVxK0i0I1BaUDte4q2445W5bFqqJkTZlGtluo0eWYFlt9SpgxKiW0LtU8eoYDXrl8fMuGkPiXYM2BGh5GoQvMC2V4NweWCBwsaqxtlZiApaKL8Pk7ihRF7xKAXZUOjmJRZEfyuKCZphCIJlA+ALGa9xwQBVCJCDDCT+Ytci8wJRag+EzeXQkEikZjJdjEUQCx3IiXMgoG6iyEWUFFiJerE2GACUCKwaiDaGVSKShafnmPscZZS1juiiBLnOzkAoLwFgArQZGt3KEbyI+Yi5GtLybWfIV2x1nABTLWMLWQUC8FQqkQXFfMq9rrLYXAoMjG5YGEiB6zL9IBZRLUW1wPamhruYQHrmYJ7pE4ROImvDojEwYpzYrEKLCAwkLg3vUz5sgB2brWG5zuHDFEN4cZHKMQ2rC6VUISgCgjVuWgc9eAppQStpDgTXtGBBMtaslu88u7gLFqZVklKIKb12BARgKou/VRBxZ/CvhL11y7rkn7cufo8kL6NoUTCJSXWVetxOELcBpE4b48oeWI1/ktWdXJDe1cXFJT0xC/Uspu/L4c36O8xZuqnwz/RD+UiXW9cFqkhYeK1AvdjqEALYDkjpxBWaUXJjdNjkIzxhA3FBdR7o7Y3IaCC8HiljZhG6Mgk3FMtXP9TbCgDpL4MsILizTIIH9kLzA+NsIDs1fofiGCJ29nI9oZG7zQb2rWsQKd0Pq4FZq9BDIvHGt+KQOOI7sxmtV5MWxRUGyhMhqP9UTJRlK5GZdwzdwfJOA79EXuEHkPjBt7A1zFe6lMBq1P+DMgulFMAFMAVu/Uq9qgMCi3U2lSwTENhctpkGBssikz4rN4F/SKVYC1RfUd3Bc1HrOAK5gavInCJmr8P4JNbj83KBdW1G1YJe71G7jVV2X9QPWf6gYqAJqk7PcFqBVGAJXwC+IMsqYIv1Xlxyt3B7l42RBUgzFSwBbYmBOZEMz3g4jobJKzcsu2BFbFdswLCHcCa4DU4aKpW4iXtmI41mZgI78FVtVEQtb2NRHaV7ZYkTR0Si+DR+9xSoTmLayKViaRgxW4R2wEl2SlC0uYwyPMSKi1fqWEZcX2GI60H4Yr3Cf0ICjsFm8AC2Dge5mlCWairLYKcxbHyTpApJoZtwawnsP4YBzRNdDmHoTluWn0pdf1ijWkuBXr2ov7iZqV7SGWA+r9szhf8JF3HV7VMfAb2WSw0iJ3FAN+o3WEXC8v5PhLqkuCYTXqJkK5uFfdLSMH9kw33zJKC/T+yXFWWYE3ZSXPpZU4qTKzoC+gh4tBMfSH9S783H0/wCBH1DbmOMWlxVvim4hgDdGMZ8ifEq+CEWq4CY3gJwFl6UfMWYTuCAv3wkt9MwGAezW+gcRa/IUBelwGMHyIp/Ko+XtlXekFBZR8r4CFfpF62H7ZBWIXbgoH6UfUFhSEe/9Yp9kxWQ6sZ40t3H2RPcI9tdJQK1+wh7tn7mfE5g1Xr7SsYsLBs+4r+sVOCJLFrXZF3YJe5T9yj0FTmKjB8n2FHxEJoqLU7V5YLUvsAixADoo+SsFeISSvwba0uON1LHj6ANkHsneYsxguRXA7NrO4NS1Uh+A03UW2LKJik4J9kyVru8AfTLmP5cIx9N1zXXhUBU5e8Qi5oIIwkvWIQRkXvEx0KicRW4mfUfFK8A1K3czuZfXAIjc3BA6+4MfTuF4s+I2W/YjbN/3FJlHMLDHhFYbDE9ssNxd7lrmeTASsQvQbcxl5uDGcTrO5qXVMz6m85l8ezfUNlE4BvO5cvPO+rhyfimszFEBqtw5ub/6R8AoKDuWOVqpxAUoqmx+oyrmiB/+zdKUWPMFS1xLmNiW5PAlbvpqbD+TcVu/xNR8m0vExcCAnAsOZb8Fi4TkHOMWcBOCkD2w7B2WDkxDdRNlGL+LxdMdt8MWKMMPgUXSjXK3/c/53ZExI4fcktrAfZmteKvxLGjNHB2QkpBRdg7qX04KV9uQ25g6EzL3B65humg+3zNWiWmU06r/AFG1u7mBfRURXgBWsyo6q31E7WZDRaawR3Arf4EWLwTiK1aGBL4F/wCpCLWLOv1FlPlIIkOmv/tQ5Ra+t0wY6W/+ENuC6aF36UH3DdgMLKn90QR8QU0K2v0lTZgKG15JDhqMV036jC1eBJE2yEdKd+kygLhJXpwWhi8/qWBHJlg2xyCwGtC/YJ9ymkKKxKfr+VUdqyaClL7ofYlgHyUWlcIvwlTSTmwEe2mSnF+ULHD51+415H7WR92syB/s0LrZrzQgYtLIr9LEFtWrHTItouqL7yJo26Ng2vYFt3Mx8woyGA5Bf7IKoQlvEKVU19x2OuaSfTDYdygAnjFxcDAKq3yP2sVwoJsF0/iZIFXVYWJoJhWHIzOTISEpFOb2EA0BpmdiPUP7eYS6KVPANhuxf4mPAtqDbCFEe1IGO4Orltt6iG0aD7RuLlih9IMewrUepfRUQJYKX4fJ8RCyqg+quAgAXk8bQlRKa6DbKJmruKzICgNMWso2xbRqHfhrC8cYVOZj3DdoArw1cv72RlWfVxqEh8y8A59wfq9s11he49/2xsIXFswEckwqCnMWwCtqSol71FTsA3H2JENI9wL0Gs5jdkA4txiZzByy4FtzMN1N3wX+GY1GPkaoxaAUluwbfxdNwpllinTLKWKg891NkukmDboqFjMaq/mJqWy2P4C+IyEXsirlobqIyhREyI1UxMLlIqr8JfUtIhQLLAXn1P3KNxXGzcT0/vR3ozq2D8WfRGv0l1dlX7/WzkwiDQa19n9z/rdkKBSYq7bm+14CKjkdTvItbqRd22CPP4WNNZyDtByLo1b6Itw4DJruofq7+oeWFx3Q/wCorBxw6mTzxHBYe1xZgxdyhmEnbmGkBaa7qZCr6YbhPajJjzNDFvt0vtEluBy5fyxfV6mjq09/oT375tR+6+0QNb/bbVP5iUFW7ml/Z/UIxeblv0BP/wCRklRVlvc5gAgZZUVZx2HbC4Mq7ExkNmSP9TeseoG1YhLVfQP3kHNy4nZOY7DK2nMFSn4S/ELjbUm6vEQqB1uYznEvVkbFVUB3Uo1oylajsx+pufMeM2hjcJW3cJY/EnG3UAQ1ldGoZ9gh7YAFKMByTIEiwq8eabR23HLGdZhW3ZlsMMbl1vfA8J2NjNOKpqR9FHBddR61G2Cpfwe3VKP4Z1FOgSw4Uhq0eCO5unAIMH9wbvmnOUi2+ahqWftGUd0wvCmoVXFF70BUVBDCsEIgsqu0HNVDK9i+ZTV06tiJRLN3DRSwxhtzLQY7mXcptBgrCZ4cxoAOW4sTrdsZYPGYhIWoJd79xPLr3F1l9Zg5LvdMPS0q8zZHXl6XiKzCNtHRBP6gKOBeYgvBLBdKCy4pLTELEFGyuOo7lucaXKobhUrUNiE6b6qOpUCO5UPC/kQJYwdl1UWoknKS4+M9yrJtEJX4FgKyaAb9jUMSlHSNdslgN65hB+4Id26TgHiURvMBczFgiBAowta1uMSv/CGGA/oIks8TSI2P7mW9LQBeP0CuoSyyotV2rGlhp7iAqw1WEXiyj3Mg5E/tZh/xZJcekx5PcrcKnVd8ZK/CPYiP7CbzIQvSs2ilZl7QKX0Fr/Ki38TF4MlwijQroUsBawcAuIKMhX7lrC4VULxj3AvSbFEV1oQCJYe65CNF8qBf4i0hXVc0zEm4UeoFTRD6jPL1ujkPsfqG+YsChQ9KX3mHZnnTLVKffJ/Mk+4JICet/E3kfbAdU85HuKwu7bbInIiiciw8lwpc7JU227BnkQCClBTuiSAOYJdkf+ghvWgCuQ8CGOofYGk3LuIFDUt6LSuqFji7H/xDzCFYIp4x+wIQGfJfMuHD77Yr7/SilZgNgC+w4UELbfMEZ7XWuPVWyZvfYwvpUopw4D4jv9EblkODRrAGFqsS+kISjDfLazy3NfzK2W+09wY3C1hmU1KvuYIPjsV/9Ubb5hAU5pVKcALHdOZfQmrWVAFOVCLZWtR8TmU0DbQGmr88MWNYvK7CYe3CXpS4c6FMaijiz9oCYlVbVEZUKP2hErAQ59OMwGCq9FzA3pMr33GUSmesTSII/sjy/Db1AbBYD/KGa0bW+VH9EzECCQKNhnNTVg2xmyCqs6jq1huBbBVBTLz4DoGPkvb2K1GxcW24MQTw3K4VxbfqJUZ2mQ9Mtw4F4B/uN1ZaIN6Du5ph+5RtjjY/c/8A0IIqpUXVE7YWn0MAszBBMjH7i+9dRVUMU5i2EZWsZ7GQdQzcjkmQRU44inrEjFSuocMJVDirISI4O4zUD8mQEB1GilW4aNmkOCSAlYf4gfbFrEMiFszrviLHUSMJxLi4UGKbqwb7gkWxA9SvxNS8xb8Erw5gu44KguSpTePAqoLmqysss2dxhhfidInMRP4pwjYl/wCkbMRK7lg3Q2ujZHnc1E/NusilrEA6yPrC+oaPt/caGg0lT615vRhZQvrULlXYlIue6On78qSFsO31rx/FTqyoSLa+FRHVTT+whbblXMPAFMp8B1EEDWn8VMTjpACrsGGWegs6RpFzuWx8fJjOnxcvdCh7wR1tYLugD/UC29I01gXqDmIAA72X1C2pqs2mAk+eNH9Q8xUKD0E0Il2Ah+yP4cAftL9kohFyrUl7jSg84iWgH2xRgsKCq4SIk/al+2cQVFskaRFCPcqNsLlFOCkyG6+bJFYYyw7OXdahuB05mwfFqligALvOYibgghBD5u3zXgYG+aLr0AEDjhQWnVpfOkFSIn2R1uUpX7YiQLSifCQmYGCx9EXLff60Ql1S9BCA0AF2oh2qimIskY6n8K87JBItZSlgT4lOm2sp2ruGyamU+BxKeZV0w23cdMRsQW+ZqeNZhOyKOvwCXSbLeHiLWB1BkEEIuRcrnsDXFYlpFq+IGvJgCYpC33B1tw5h3YW7lTpgRTc29z0zl2VXKzOabq86j4IFbam4r4IOALcaRuX6lo0rtg68jIxS6bUrLCibViJLjhY/I7Quy7mbDzuWNmK6lrAiMDTENn8Sy01EozHc6PTccuMm81Ehg6+IFYmgnYfzATCU/m64mQuIi6gyrKS5vg9zPEfYY7is1kPcGWOJlpK4Ut/VxoEDZBZ9pQi58OfCgUKRUmGLlzc6Fj4J2TxhddzB4JU4lquZFRy/iREJh7nfYAK9RK5Rr0ZqOpoGviMitv5mpzKhxrBhbNMdEQ+NuPqKOYv4IJwLickGxgZgWXKJgzhZ/dzX3W5QBX6gMgrQaXiAUvTUxL6lnjJE4kdwAygYfFzOMvUcW7SYWXVdy7YrnbHw/gHH5kHSuzfqDyhiluXiPkHvjBbhglFNvb8R1tGT5hCmQ6MLeOYdK1au7bA9E2xfJCvW3TUAhINnHkUH3GwStVBdscmi9wS1TF1ONpahvmPSlDLKwLKE3ZafCHLOAFAvvmNSpBwlRlTRLj4MeC+ARlog1qh60n7glGmCZpgllhnJLuOoIf6jjvQBApAXnEUil9S9striXpTiDjErDbE3Ee2KLUbajMFNwjqN1tIbv4RELVtYqKAS4Omonngl09aLWB/qKwYHhH1Ak7uA3wsEI2bXpuueZQag/WRjTjjosq/5jQQXEoHuEmI/gMpKg1DGsbyy4yY7uErKijuHh14JzAtieDxYgPsdImdsHecXiMxQuw/xOEQptuJxaF4Y54jvybjMxcDvGQtVsINWAodR+gBHHSoRTd0bp38ynSuqf1AqrzETyRFAqnqJbXbMmmAgArbUVo6lrW235T6SpGPv8SWlpXqj+WpGr6l2/bc2vUxcV45HJKukVDIKqofJb2V+Jo8qikJscZ3URF1VoIadTmW2zSaAbYQhBDxPbr+jHTGJFrcoQLHBHAMU8Qo0pLUqo7PionSC1pNM9OkY68ZTE3hiClOvJK3LvD1KsaPYSO4XEhAlAnA7IHU9tnqIsrnEpuN2OZXtnUQS+kMsUcMQL0XfEce2JOByErNVDpINH9kMKxcYi3U3EGAqQ+2pdS45MUgR9bAZhSFvoOoIhfxDLes1F5KrpUSo+CUDMo4HUAg3gFY6gAu4nnGFEeo+3mMB+JWUJQcRWF3FlhKleSDUXW2fONupzDEpKTeoJaETwMHcMDrEdhzKxoTRfcs07lZjQUDSjoAyvojVY1YdNIMqvwpq/F3Ep4ieCKLjIrvccZ2Z/UfJuDVJcKIWriJlsOlMWFCoAvdBQyZjWJLhDYjpiyDBgkS7zzGKOfNQnGhYSq+XzOZb3L80axFO4vxJkbyP7hxvACmrFl32KbXf2l90x+RBXx3ZVYrW0yo3nwWX+BjlEKDTLrhXRYB4mRmeQeGBdQ1KjV1uPQEgsKwTcuMFjcPU92NwFQLfcT1bpvcxKYqDDcZRgDHUw0WKmKZYciWkrw+MDWhYGNIWHdzJPfn1FItY3rMNiySz/MYQSAsaL+EL8NgIwYNOYSq71B3UYBWpVQMLC3MciB0Cbbj63hPdQGjyyhWkjJVyMtckahCBlR/SNFd0+0u0qei5i5u7zHJE2hCHHXolmpRsEem92I6YIleCoOKtlGZUZYY0O4Cy1hkYjHJTKly5cfF+LlzmG4xhBcOiCjr4j4IkV3FfMNk8ujr+paJTIacSz9uQBMV/Ebyel7gyhVuAdpuECEkXdAa8wviWNkQ61it8GikVgU8+C3YqyR6D7FweCZlOXnCCm0Fe38R3+FxQy3X1AZVcBCiLqHVAciIicQUsQIyi6LIVWIO7cxNZ6jqHYOzwwXKHV9RWxVULrqOwkqF7INJ6pnQMq9RljHXVIORHh/E4/Ij/AEv7lE9HAgGf1cwcOEjYjB+4jnk3+VxV5jLl/lcuDQufBcEi0lVuzUsxq4q9RVV7ny5Yhg3cbIkWRV02F/EdOdhzmJpxEKuoIiH61KCF4iiptDxKjSGmnww5llzRmiVjDImLIQF0qL8C4KZct/Aqoxe4wItHcuzmLDj7j0GZUDcuPFRe5ioXJUQ+Y1qlFY4mcQUEzROxUD4g2JpCJwq8w0rWNVMWNQASvcs0eKYuW+SOW/dLdYbGXlkcfcd+L8EuEZLuKitxiCA6+RmIUsgidN8IgCros8Lhm2iF2IumVfc/ct4q2E3DiOoO1bwCUwCjFn7QCoeUtLX0BgiKSonZ6WR9BmMUQ0n+ZGLsLRAXZTkYIpoooUyvLFyPLEXWyMas7Js0N2zGVFsCvmLy/qIfgDGdRO5MY8/KYYyfUDrIoEa3kJBxOaBPb9ghSFBYEVZaBrgHS4rPpgKMIorqEQYD1a7F3GWyP0aDG5zaglby0lNXCBnsmmIx04z+AsbHQqCBvLSIhfkLmcATkoDwGx9QKNYDDo4i92lS+3xcd5YF7ol+Brnz3B9FyfpADHHhOgOcH0GWPGcuyosIcdS1g9I5IGwf/keZwd3ALpehHCStGE+KFLi19v3KHs1MS/0CJW9pwgy4/cNuBY8HdhUdDxBRT7ARIDBLQWJ6d2Ul+YLNa6AQo5HcQcIKZtYgHXiDT8yjBIsXC8hJrHXIWsgJT1CKp0Cvm59oXqYs0PRH/HkQVWIFgpS4pbhDLzgQc5laRrRR6iXMk1YsA2cvaA5DQA5qBI25uplZgqR4hWE3FBmFcFahZo3C5Qcx5LITaDiF1q9E5EpRTYiWF0gD2mJb/wCUOQJXQzC3EaHgMyoUVi7H6hD9Icshp1Kw0lwhthOIjWpdZIjgGN6ITFQlQ73L9jC7TNCzoVEDaKGlhO7Nm2UqZh5gOorXG7UTNRLZn7CO4blitHn6lE6ixTckrjEKLLAZOmbhRR1Bty4GTcWnqIW+ta3CJI+hZIMsH/fwhQyH2bKwcTRu3AwawNOzQpocAjyrUV0aYVqoSmsG47AKONijEJszgNGqRY3hU4aH6EQhOUAC4JpC7ArHIQk7AZHu1PsYwK0DaPMTwWTuRdhFSwuFFNfOb9X/ALJX9+xVRRUUCNlr9K7VntBpJfssJIXpA65UOYxZZ5Yl6lFuysCrTl7YmCxXVtv5iBpxKAaCraCzRZRSAF+MoWRQuSp4Vr0EtqESgegVxb/AEBlZSXKs8lkKa71NdatBKO56BTRAs9hsfcVyWkDawNTJJbqK9Etl3Q1movdF8BMZtL7Secx/6Vl+goPtTGGNCACG0jTkc4lfV6EODmBo7OihV4Bd1Gzifp8Jhk5V1pKYAVaCXLI/sfUodpqVqq4xRYTDWUpgXDWRpWIjT6amLvBkjWOFLjiM8xCu2ilpaAVGmWsN2dU8DWYFJFrqhrooWFKCJs3KV4CuXziA6GjNQvIaQuQSschzUdk9iuaafYylLLzHINDNAWUS1KI4AL3X6d/7JewQW0u7XKjIWfhlA2kusDXViMxlKMkSxqs+OCKD1AqQaUvEqd6vb5eR1Sq7ZtCABUR01LLtVoDNsFnANtlgwBnpO91TOlDt22W1oQaa4K/ls2PRFeBJ7dQYBdARJz7ZMKc4Nm5KzF6ZcbjpyPoJe0RQr5QrcozRRdxWzHpjlyoR5y5l3Tlt09kOZyw84OaINMK4JRYnQSXYfghPnCEOEIvgc5h+N9v9IcoaFVhCEXqNVoeV+p3lV2+T9x/xiNsjLGNSwtR7hRpZpLvu4dC0SptPKZeJQisTapeigbVrMrNFzSc1MQFbxiM0xdJKvG94hihtqIiCiNVFOIUIizghmQNNR3MngICFB1iXhjAVC1hthkLwkxIPURV+DqpS2MstV3FgEmBqUGxltHPURBMjEAjFYIcDLqFwOYCAIYqPjZxZCuBkI/7dB6gtaNRJTzZhVUQ0W3MA4PcTd0buJTGCVAiAXnxtKMVA2l1eWBJexgZtmag1RoIBtBoiAPcKX87G8M+JFzHK5jQaBVVxFmf87pH5hVe8L+NQ64NiUQyovhgUv0L9s5l7QJ1ACSJOUM/gJniF+6lSiPSZvlNoyaVV5YS6GgxRNprhNaK/Q36iDIftda/b4BQ6sN1mNBog8sYC8OS9wjygt1cYZS+9i380Rc+MSdR4KLL7IUy/cQm33QpcrUcpWoThtBoOfe7KPTmLbufcYy6rAYd7/hlS4nd5SP8AUJgTSvw9hMobcGvm3R0o/dYRtN0pT8xMbycJKzEGaxrv8/weMsJv45MF8q9WIi6uzH3LLMSPFtX8+GqCcSvMiS0QNKxGjLQcNgAIoH0gRboDuDFbhaH4wmi4iOI27hfuYv4hcz3HIAUSi8VcpsmLChA3/wBxEifoA0Ru4FGGpXwH7Sg610EFGrh+xSemD/jHiztWXH/EHqXI5U+9wkjnqAGjiVyh6jSlVDO4RxEC+JVmlQJgXmCrGPiGihV5mfvuXGRURCEqEWoYmfgP1GdGmaiTTb6Rn+9DNmUxB9YgcfLiFKKuorRxmACEtoKmUYIJpKl6vMLCAWCAuZoOmXLkzk6gwgIrALo8OI5CYhcT9yuox7lT2EqKktcpxDj+RiGTAcVOhidKgayVtuhupagu2d3N2XNK48G56T5hxFsLC4kabA8HMGlxJpVf7j64aJc0pq5MQ6VjISrbP4hVg2qRc5h8Zw3fBCuXDy/6sM+x4/f9rtFReiDwZYLykbdK6OXQHKkzesPtc0XQ4XOZYVWVB+j+IamcmYYWpVLicCOnuL1SU4f5TPDmEoQx0mhPmV4izTYFcT/pdeBsn8vwAtUKuTxfrzFL46lZuKHwOWSjXLP/AM/H/wCfgu8AkadNRegpBvIav7nuL+KuJEQQyMG3epQYUDeKvHgV/KzBIibdJcc1YByoczBUtC5Lo63tJeY/blKnRdH8SoO0J4a0Ay46n/C7QolNRFRDSkHp6ml4f7istrcZSlFhXlt4+hhngmMIEfioREG8MsNU3Av1BtSgDlVCWkpFpQW8DsC8tGrWLZoQuqaQ12/MXTZRVAUvqwRFS2Wqt5XXTV1hv9yoy1DspYj0qpyeCPMqJiVK/wAK1gOk4ocB1z5FtDljm1KHLV4LlZNYICHqHiZswIYmIviP/cW0nTuUSO42FFzLDT6jywb9TjqPiVd6csqFl9yrQN7ldrKL9H3KGQWUCi+iLekOYzMFYmTAlpxHgIVZCNlSgClKD1GOEWHcI6K4NR9TfPgDe8saIF4lnRiN8EQcBOZl8xUH+4BaMhjkiqQ4giT9RK1bEROIdrzcyFCYyWD+tTZlYuI78G2Pm6GsnMICGrgaWn3Lc1GYiuvVI+dQbAh0FiVtiAmCjK5uXcFSmszhzXYj/uLrqQGiv9SrDmZw7UhQLdpfUzTDX3KmO3DN7pHUKEx9pVP+6jrOZsQZ7ljnmZMJVpdGo/QgeX0ii9xJipgN25a6HqNbhRgtw90HHs2MrW8NZgHDqM3N/wDkn/a68Np/LgDxC5fx45k1BsTNwIFg4fGVaRiDhqVKlvQMnplJsSiVIOkcV42MXKYEUcl7ZV8Auy8eD6znHJ/QGELmHHI/gPmx1cqT+4pxF6JUPDz4lfysxf8A2Z/WX/WNI3zzsl83M3QFItS8kV/buVIU9ZDlvpm7/wAWhzDORRB+hiuhpJWFD9iMtjNwGYkhdR+sW+CDeRqng+KhHlGAsBw32g1mWK+IcVvON6/zUXydb9TxfL69RENoK/UyzNGIUXtADlfTEp/nAdZdkVt83/6jpz4c8TGdFm2ob8Ea2K+iFSy5K6jATNrY7nqV+Zub2y/ssPhahBWG2Kouq2ytgKCY4lQevChZQRZ/Eeg6gm+5gWOc6lo1LlE1PiCCFoghAKhiBUvSpad4oRKcy9IwWvtDVIV4I0GiEknbkPlXULdCusWhQEcwIGiEWy3g4DAYiuNRk16AD1ADy1AIbMoRGcKioiwty7rV4jkcokAXuPkyfcUlbi7IMvNpBFOWXD2IxjWkEtRFARH9eHTMF/1SPL/1WI7YHCmxKSAN6W7W7ixuEFJ0hD1/OVwba6JYPARxDY06jMLIfW0LRnQxOJcDiCrGM4hSoiAJdy2wsdqyt/UsIVzRkbB5JjZB6iWZrQPZnEHewFRNF1Zc8xu1QnQzSDfoINusEi5bsAAQOOVzqqFhQIJYjSDAUBRyH9jpHCKMOOD77N0Xab7O5bITfUtvf/iPtonsK6AXYwLPEA2wVQWgK0dCwJZgMCopmL68AWvMWbiNxzSFShhfDQXF7KwFWGFjuoaoRdCd6XlAqBhdwpFtR7RC9oDUKnIWlgyDKQOw0WwuDNqZa6ij9CJkckAERbdayUBwkpLIbzpH0r/UrTuA4AEac2z0wvLFxZS3DMAiDi/DC7rCBK32nPDTxDgJdWKAVBi3JWWiXtdfPbahw55OOnBvqyjURrJVYgm/PYoZdJhMMWa+08sxXHdbAtGdDH9DJrupDhNQ1LjqKWXhwI8IjMkIEorEdDLmsxkBg0DjYv0HuKKkuILWtoAIF9sDQb1yVUBLOwYfl1Rqk2eLTnhqVvVtaoBUCi3IGWo6wnWZlVDfLlqIxgCvJr+IGKKrqGKlzExsJo+dLyXCOjeKGyKYFXgjjFKwwUoqkZwO/YPcRtwxQsTdIV3qCMoLisAcQUtOr1dDMrBBqre/9C4XFoNLwuUw0NKATDxUVMW05yWTBUH1sS0Z0MPCeKBgGaHFRnModOhQOz5QxlKhLEG2DKtopsr2cQmeajm2nxTKIVdwU/mMKMJabLlgdQ2xFV9fUbvF0xeCBTncatw7zGVv3Go9QnbDOCQTJziOCswBSLM2Im+IAU6lbYj5DMYFCL9Ii5IrbmmYedQAiLgbmAMuUuwId6LfUbZrBGHgjLrEFQrg+Ym9FS6gF5uo8jFXF1Cdp7Y12m7Kv7mcouKZTMkNmSPj8BaX6ihqmB6Yc3i41RjNkjM3LzQIbI2CjwQsHW9pH5e7ZFLs8oIjkYzdMN5YuZct/G2WirvwbIqb/nEAPBZvdp3zGqBtau3B1SpHa93/AHBYi7wp9xTvyblL7NRUdsW/JLpindv3DcuHaUELvqlWRpepUl9SvBpmErFHLHGtaLfZCSlnKLS/ibGAadF3Fb2xVloiDtqAGDBeptLdy0v8rfEtzmcxZct7loveDSqoycm15lRAMkcRVFs8zBtiruMugMXiZA06KLjUVt7z4QEaTJADEKh7dy/KLBRwraGg7j0OMBl8E9Mt+OV4OA9T9o0iBZkXx8xYQKlsB/7ACyzGa/La2gc+4FJ4f1F+qJ+0IMQUw2lmI1KSkGjHZLcC0gMCAmoUrZg4VKzVxBkj0AxArVy1iK+IobhoLDULZCWRBwlaLizS+yoWOiOYchCdboY5xTanLEQXPjcQhuWC2YhkSrrokf8AoozVZhCg3R1ASWYICCMZ1A5mZVBp9SoJ8JVMMwkXTFzzSwcqrl26bjMrdy6lhaiAsR2RJsez5fBK9yvcrM6C4lsqJX+A3DmIaYvGLY+As2Zx9SlXoiRTjHMPoQWloQ0xlR/A3EAAQjuxXj68MUFfUdwp9w8Njxti0CXNSgYUHEdtxYTDaK5Kmfv1Iz/EYqyRDL+eZnOdBZkKNWyzqVaqbGb7iCNjZCUQmenEd+US2iw7l07vZ1H/ACmpfuHzHzIMeahdhe5eabih3+FksGu6lQirB8nBZK533pqtdeomc4nVcP3mckUNfDLNGwS2FijG9CoKU5jLY6EGcEx4+pUYxqmWq3Q/qUHvE5eIUbQZWrQuBMRMb3FPdhEHAxLOuVG5txWgZqUVDzwC6zlIj/E7lKuLhUDWSpZzKQVFTGUkORoxMQQ2NSwJRQqfMu+M/iFlAQzICxRi0lxtA5iUPqoApi24zANRrO/mKgtDV+cwG2OupQCHeGIM7g4Ll8ikaxLnxFOlrHCUEXbWNTNTVyk8rwxY137jOZQQaL3UcKKK8BcEsXVwW1Mz5IA39xV0K1rzNP8AAR1ZY/M5rb3dxVtV+4hBLTGbi3+JuZwoKXoSxHQLQOcb8VDt8ENthy+YMuX09WS8P/5Fu3QcrHzzLbFECoivzGpWhgq7ow0sFC6TCbRjhl6QFB3HDmUufKKi7q5V4KtH/HXjjxbKwquoIDXuYEvuAzXa7MV/iIgCYvNUTF8P0ezSrZCGxnO7X+4e+cLEqqBuYdN3DUHJrYa9wW/HS54B9wzirTU5lGUHuMUnMrM5h4uB9wCrJ2wkRYFKj69GYhDQNUyxQbKmJSWtb9TKXWG1RXauYxbcrM/xKEqvqKaDMtARvlgqNUFF0dwNCtjYpiYyJI1coKsRgp0QVwwL1AqY7Y7RKsDmECuNws7mUGaK9wJti7p1CFNTuI1oU5iMO48YpYLtCJY7gWgJfmAbkdsZndH8pKiiLMFxZGGS24iNZ4ajdKdJQLII8C18wo1HuKpSvuCkyMXGTXq2XcZioOiAzaF8CNigesyjEfiGm4QxW2l3Nd1AgWqLfyi//iNAq6CO5mwpVgg22ku/XqssKnqyMNyOmWoUApvJ4PBuIlYcxxqXL8m8wwGSI36PcrbBMnG17Yx2VuXHwgZ1ByrYpiNjeXKGgAyq8QTWWWp7sHpzF2f1KJQXD9RZcsaIoleSWobB3E/BTxcniGwG6ZfgcS1IO/C/yw62R4eybvm2WXoV9MJuhv2zfykFo5D3TDNWsBxxc5xhlA3AAjLTPelxOrqZUjA1pk/mJjQ0OSG4hQGYHuhCK1sgnyNgVg5h1IoMi15EgkW24Rsr3MtSKOI14/VDj4pCJadRTrP0VFi1RFMjIUsUZZFL6i4JnFM2SvF8koRTPXBcmKlBWn3BWjcVufcYauVqhUShHDWuNIzIViLY8XLErmom6bZUjdx2osoqepcXzMCIEd+0aIwB2rHTbGHJhmplXDq7mztx6EKtiozjdVwZkY4bEbLhiYBDon3Gt2RZ5pnMvXkxFeZx+JuVuIBgpaeQloHQDDTqOmANB+orHcfNSv8AKq0mXb6ZUvocYMn8+DQBUvfp3FSWvPgYLq4lbWpDcZTZby2qYooxif4ea8G8xA1WJVsBtIUXsjUrlcr+Cqgp9qwvRCaal/6lN4pglifIXPYMbL4CUQEthas56oh1ojWiATV0ufbOY9NNqavUsqQG4PZzGT1LNbYgFbFR334JG0AO1ggZsFdvBh4NTKi2vkhBUF0X3FInYafFSv8AETbrtbtqHCKF01TRz1UJKyStspf8RlK3RyxAIaM1AZaAf6jFovEC0OYJubIQVmYkwHyjYlhv7m0GGZQpzDntUXai5fxEAyBc2HEZlVrmoTQGRI1Wtq2ziKTtCfUNUbdnsqBMkMcQb2iB6TXnBQubjxXtX8Fym0+5jMM2sLDKVAszM7cd5wVCqi4iAG4R8JaVGMBcAF7I7JvLga2ldAJcSmH9kFJedg8twZI2xHg/NyxNwdLhlyCcEzba+oYRZ0xdVVBVl06ipaDMYWGVWXCDhqNSrax/DHgmLUA4b6VVT6jmiVMAeBh8Isrj4GfAMeYlFRE/xrMMtEAzzETIs1MkwI9hsNg9GoBqe0k/FtJcXwUAbbwfDjmOvTUdLH8cQWOzy0a+RD4aYDc9t7ugB/Msk8A/4eOkwwWDuCzWAluNzMj+9dA72Qh7qnuKzqQ4gANqjmLZkKBuA0MLYFoUUvKOSEeogaS9N5+lmIzl3NpAz4GpcRdeBtAXQ4alDnSnSZECyFrySoLYn3AiQ05g5qVPc/MFyMgEiswljmAfu6Q1hnlwDcfQU0qsqgOjpbOoPh1bQaCK5XbGhsDKhszXUwLgkItZj7AVGxDyX6af6gy/iEH3c+hgUlSAN1m5RsBwoOAvMpgY1aEslgaVzxcxGmxJ+FKRNrtvouZ6o+oopYYLGrgPjbwRGEl7XxojhSnGdYV1yp9R8EQFuvZK1QMHb/GFzUCxZQpiuBXOhtmz6drMc9JakGUW0HBf/Zt4FVXhg1G3MVF6YtPkUrIkUPEsa18R0fkhQo4ahoS4dQChQOyZu6e0LUPHUSdP6iFMssavHKOVA1odukSO4uJwKqBSy0THlGWVzxvF3G4Rtg7sipSwcI6YYGCFWcS0uk4iqvxLJqa9x1p3EvDUUtUawmpoN3MlzVxhYS4lQI61iU6SxVp1ECyK0sz6iZtDVsOIc1AsjQMcxJKbg6iAGk5i9V+4phiI8Y8RCip58a/PaZcykCzKWAgWDLQxPU5w/wD2VMCG0hiU82Gz7ijrlXW5zFtjEwf8e0uy6B+4x3GqLXIqbKJ4ebdIORYmjsANKIYLV3VTGloFPt2+4BiIkBwg04KUAdsXR0rOX8kpQ5GC+Ai0gZ2QAxuG+oVH7uCywvVhiD8TZlwFOs7ajLhe4qL7gO/xzaXC59D3L6GnlYKFVKcq09xiVpw0IqBRBPiZEwU2Ec3zReF00OBmrtHk2pzeIF0j0Q1PLQRaFSbq6S8cxyIA6wBOm/kXh+jF74izXMlEVJxYfqWSNKDVkv4fqUfRJ83zHmkzQRHlVW5Xc8ICID3Vl9ndVb+PQDmwx85XlZWs8KcFaW1dH6i+286AYc0GuUdJFrMzU6McXdED3uUpesy+xo/dyzog0ozVizd4C7MN5d2pKNh+kD5iWF9vxjBMXDbbTpBd8lNrN6yX/kaSpjVU0zkCkZ30SgHOqPehplbOAUTfqy7ueyUCaNtglyBGyJem6IjXpC/kfNsW5iZiDuGHSqfwCJ5IhEH9gtlVAsodXKDLP5lH+pZtY56oWCsUTT5m/nMNzmMFAld/MyqFiqP1MG+pkKGLylsF1LSIoViZ4VzZDiI7iVU0Ki/Ut58irGumUhYaVH/0EIuiZFe4KxXDXEIzWVSiUbITKVKWo1VDQat5ag5FNoAqpyMClRWi3GNPbHYS6iOIFMxxSQxwyjRYbIJVAVqWf0lYbhuvbLEXlNNaqZVNwtCi8x+SpitwFuIqaWPsiOSW1XzGxKx/wi41irR1yZkYoYxeoWQF4YAXrhCouC2vu9pKsQHrstzx+oKcubFQILZLooLz6l6UFNmtOgYpgXGVlCEyR/KppVlkcea8U3IlPGWC4S99W0XF6C5VzvjbatcjCEIjVZB0WA//AEJRyha4AlAcWSbsVY+I8uiIxgK8isMXliZi7GHAEPux9zJ8uajcoNtGB1/9l5chCs3w+YufmPZOYm2c3fFn9w8DUd/8eY4TC/ln8Z/cKLjqHCLz8WD5Y8QrEplZUuikdkIfaKBKafdBDnEa+SJLS1F2M/sEEaveYt/Qhsz/AJMv5aboQPqparqVmgPluC1WQnA/0AlGjxxGnUMMQhoVJDAoA+Dz14Ny3wCPidOg8HhYhkalY3FLIpHiLfkKcxMbPaHUCkLQK7dPWY594Dg0E2Zf3HxSC3qbSI7huBspzLXmGcS5R5fd0VMF9TIgDCsAt9RKQGYfKBtIuhg0mr4hmdrqDNM1iBd0VHtTzwwzn90os1fMJSypklrKixwVKLDUbOm6O4nKeZg/5JgEcsPXJWYjkiPwSlMsStEKibzAIwBhdxr7ywQRuItibmFcxS61sub1LKZDuK2Sw+ohDVkzoj1Kwl9INDLdRyKC+IRLMxUcNR0S8xf8UdAXZ6g/ihRse/mK4UH4nUp4H4XkuCIxumdv48XcOZZ4YYW29yrZbTUMcbmZdKYGdHcoho4a+pt+JuUeymgu2bp5Ev38kwVs8XGchZXEbJyjG1XK44ujATMlKwCNVoA+pgN05CnDgctm6ObzeQIo4wLfYnxEnONt7f3Fj/zjQFycRcz+Cm+XNdVjU6a2zmSt6yinUEegg6uMZtjCW+f+X3P/AAO2fwn9z/g9ZcCCzLoLMyuPldkMhWqBFO5ULyXpl5giQNF0Zn6LfqCnoweSD9T/AJXWI1v+hMtlbVrMQuMN9xUcJet0t8hF8iCBTBVnMWFZ1/Bvl1bIxKhK8ngg5eGkM4qlV/A6jnRLQZqyqTvHV7fc9WddlXX6gtUdw3COIldzXJpGJDc2wmougUA5ffx7hiU4G7L5zHXtPBrIlrFiKhbcEZDkIxsfgScpYAmYNQhpu4mbRiLcUMIYPCMaqLhbQlsuVhhUJwOoC2qaF0wKrW4IKN9RKBfE9gTKbjhNTmJG6oqUo71DZZkP9wGWa5JYBpz9Spi9oZmMANzmW4av1FipW+l4Zbckaei+Y/J8ZiBynplXYW1F+dAHcVllRwm021BGSv8AAR0wCDSNq2MxvdEL9/xBUBZujiA7l0A83F/qJH/FjX7l7MMecQFZgj1vqGoj8xOPD0MpAsLH8biUKuFzFb4q4c/FPahYPOGWQl4Bnyhr/EVzYnarNULOQUsFIDzUopUeYugC8xSKrSshbvpKj8SFad02g48nzGFHiCpFasvOoDrboFY4TT7sC/yKnC1xHc/gpvlzT2aMUSq7Zp9TCN1GOG0to+f+X3P/AAO2fwn9z/o9YSiVZi7ya7HCgRXn0uZWNa63sOGA3CHKLIWsHWAXa2ayHA/fBydKFvan/O6x1/yZJY+9b+IPVFX5W3FOLDMBeaQCi+Dry8vkqcECZeommXCzT8R2l6FRw1L8HjlldS2HbDI4a/AXAdm1eVsay+ruFu4VQ1Uej9cxR8EYJwvM5CeYHLHaxoTOOBS6ElrAQBjLT8+KzjK+kfKIUXMwgHEwEra1ERbptF6mpeg0fEZxSMspuHfk9M7H83OyHUo1gBGo2ZOvURTKZiqrMpABM71MqeAweS3EWmYAvuMUAdFzHc2exOBJUEhyM3NoFXwjoEUUSXGtRuYTVXqbRxzKBa56iZiGXpCymmd9S1odkKZSjfD6lkWArtMQCP8AhNxSYYnuXL/EAETUClU5jJAlNrcgXv5mkTVOjqcfmTmYdEJZwu0jnRtdAfM47C65yF3Cqjv6R2yKXzVxU2QnM8QnkwAOl+4rvttK7d9fuoUYoBX6I/a+IHBShQoWOMrB60TFWq2a6LyIFjRHD4FXovKB22kcwAqylJrDFgvSQr91AyDI2TdNo5zORGqVyp9/8nlUbiayHQrLUM6GjVgpgXro8ErO8Jxz8T57lS2+IywjWJ3+Lr+OpjqrGurZgy6RlbCtmItbVr34IXiq8RsCZEeYMZXsxFW8/sjeYawDgC/QjHGgRVNX5r1j0i23H7GLBqF9CuoYVJiqzoL+aPAMTaRloaOFcy6yxClJTQurq6IriHNbjNmMnCq5iOBOnuCousLogmIxUnoENU3C0g3C0ZcRKYtKvA4/AJcGChoZgirZUIqwXgPcZvYfWai+usfwqNTIu5tKzURVgwltIU5rcwyqG5V1titYMvE4ldvkl7oKg5hUtwSxVnzLBYiYHPuFqG9QSSL+pcEReQZVmMHKAVcLWkAzJ3BjoULoNsUaDwnUvjkpPqVRV9xQLriUwq24HVwOSU4As/cLS8yZXmEYKbgJWXUCIC4XfUUXQChhausyjmYglxKw0NK6i8rMaS7hqUjpLZc4iUmf6gQNGHN8RthKlDaql6bg6AmpcRWYe4cDPy/4ri4/NtS7OAO2JRWG++poxIeBWy/8BuEZUKXacsIpxIFt7RlnShvfuOYL2lwUwV5vXzCR2YCWy5cTeJZjtGvQGuoTWrQ6IK0MdUFb/Alx8G5jjYtOYTW7devBgF1PgjKlFoQJb6l1D65RLe4q/hcuXflgDK6lFfrvNTWmCZuNVld+paKZxOR6kzA9iCqMBFthFlNqbNkTM5gC1cqrlUoctSl4hsFtYenU2cVUNeLoEPFXC8IM/dwaZUU6qdQm1m4a+aXEs1DcxRpKlZK1HKrvxUqJjUz5ViKpTAzCA1LBwkRDVpKWGoVmW5d6YtSsq1jGRYu1QGqFa38zK1pgVyngMyOVFd8Iq1XsoAepd646BUjJqyZdfUXNg9wECr3K8oEe0t5qCmK5L0TUFhy3ZzDQ3KN6wRafmUrB0ROU4RjK/eYAuDX5jUajuKrY2m4cLmwbiTYvSFjGyWJLlm5Xay18eHf4Gv8A+EC5l3a2g6I7arAMlPYwwiWaNNXKjiOX8KlfgFyv3a2V2nENVYoaOy8cUczTr0u+q9VAjxgGdRSnNTuxbKPSvx2hZYdMdltlKkbbxUrwFwPkabjBlQqbZihzShziVOa1SrhFFMukPA0F0dajOIOzZrZElMplP5pXSrId/JRpoj5xRciXljtbt5xU1L8ER4rcYzmVKbos7LgnsEDVufqOJoUqa5lwybWAEFBiMtwu4qyGuA24Yqx8AqDVo2vglRgAjaG6isWm3Yy/HFMHRVV66gOFFw/DMsPQrK4BgIAeefUuNNquYu5HLx8S9Ca4ZXE+VhZccvMzv60aNUypqx6h2pYNgFvhLQHH6uJ9UUJiptLor6OnTEixVdxmkMoYBzy7qIyoiFSP2FRApGI0qBbdIkKoayJ9oYyZWkhFWMvYqJshC3DKPHEdKuDU7jiDUBs7IEmGGncXEUFWxwR//kJvDf5c4xm4SlNDhH4lA3TdHJG3EZTKYEqMqI6z+C64lVeBoB6hgaAsIEZb+aQI+PWZ+0XeHJ2FsTMLSAGYQ5v5iiCetXhz91MHzfgquAbb1REUuYGI+RhFq+gLllE6Hk7Ny2IBaXUOUokbUzPvQpW36lkJaLOfcGBiL5fD5zFDAJ3bDnJUK0HCGAryGSJx+F+UGyW/iRrTUAaAcC2HbE+KXmIvMMFVighYUGoHcGRIKWTFsYvlGDr0PkhaQtgKKriGnzR79Q0EyLaOBo4maAyohTjcTut9RFUVpJSMHkIhgelRRDIphr3FLl9xAhYcIEv9KCwHqWvmJ2sYslKrWZiUxLR7jo2y8TxHkFkGdytIDZ7lBIwJYupY/iNn5lqemLvqEBqJ5ltA3Nj3F7isGLIyhRouWiiWrisK7Zp8HdYhrzmpUj/NUr8iKiAnTBvplqgcUtV5ldN9u2GT1BmeULXKjGKqkNcywIwgsHccPLQKhsdVmZqFkj731ALR34Ep81Kix+kIyGKyzohAQUoAC6KXjMGiAAfKDZRlxrMRNngFaIIWyoLpFtt8Y9xoNqywFBfoX68cmLAdh+i0f1Mu5PihcpNwGrSg7YIQEsYjQsGyJhDCsn7zA6WCgZEQUuhIGjs8hAPlqGv1Q6ILARXGRGtl1fPwin9y3Xg2PEBd+e9K1uZI9vCgNrZWm7fryyZIlySdFoPCNMRTw4NRV2tZolTVrMU8QI9DoU6ETH/nyIWymLT9zZJj9Cj2IkauzYViDbbV6rcAdUYw9YL+riBSLyB8xo7iSdtkHtI1RqQpHpOJX6JlK7ptM0kpDQHou77RBfEc6M3wu5UzoJAqvwINR81cr8alSoENAQh3OIsy9cf+TOE52YWhGDAOdrAHm4gjwI6qptyuLFz+dE0l8FEbtNsUG6xNkJG7UuPmFWODc3a4lpruHcatGhJnMdgRVtqNC4SNJF5tPREyo+II2r8m4GXWDMpgFqD8Zj+m1iiGglTEtUaMCoaZuIkvJ3ABHcU6BUCkgW+0RkmYvEPIMrhl6Sr5QUiZnIKgLSvF+Iy2WLQEcztQuZqwPmNl9hY4E3H1QLfBZD9Eoq4tt6FRaKjv/JxAXRfimV+I1FlAC0i2KzagVYGIRmVroGUqNuJarTB7mVQzBVBkxwRDQqhTjUNkSVHYvAIOoGBg1nxt9P8AUZaJmjTpa268ASgUd1w8mdtApbAuO43K3ybl3yv4kWG4C0mM9/bSvb2iU7hYNOOwcB7cOi3EPC40B5iuI+IXMuEEl6f+0Q7UrTKEdrC4Jz6+aEfDBl9QywK7sYxzN9ZgoFyy0RTmrG6t/wC52Q8MVfB+C1XB35Bgylwcs69Bem4lriM+7q0G5YawEEqk6a2K59HNbdyPQvuJqQxxNg5GloKVWSczd5k2xeKZKukcmkgpGyGsI0Ma+W5O1bYH1o1LCDmi36gQ30hFypiqxxdOoy+Vg/EZwUn5joQ71sB/TUpBeA5/d3TsssboHStvIwNODoDXcfFpuhH6CosR8wqqwED7bilQ1KYLFF0Bna5lgfqDlynGwxDbqnN70vSob6/fjjgu5Xme7YCWdFjWuTH6lRILJMGnCeRGBFGBfqBzEEOBcFgnLbdQGluCtRaHuo2iKTZFYvMVXPhaZXq42Zb6l2LxLUaEpaqqhVYjvwRACkWolK5Xb53+CQWD1FSlKzLvhYoXtgj4IB3aBUeL5A3z1HDCU1fLL/cLvbDo0itcqi6coAbcA0cxkW50y/o3UYIXzqVCB5mFK5hoGGqaL3KNYhKrF5iSy44hx1CpBD6S6NsbVH0Cl2dTEkt5mSbVbJYBzLBncVG5b8ISmpXKXlLrWXVUpgxVgs+5dcpQNFQS5ZUArUD30AqrNB1LpFwGiiKOyssoQnMTEf8AFlDQ+tC5QjZFgRBDVjBX5EpZmW3O4cCAAIANFM0+7WnrBGUMVHWFxSAlNAKXpuz/AFAFqCBr5LNm/wBzFzGbfT/Xi1UBiS1ec67m/pxGClef6UdsyyOn0Sd3iWUuRgFC7AP17LlZgBGURsi4HgUVxee7QjwIujI/UE4L2U3buzOOp/2Oyf8AY68SD0qiXPYCkS3ljPuEmyQAZVZ0Y58OJu+fDANyoMuw+39xhKhW0NDcG/yxdhdx8YnCHZlSon9Yfps4/AjnAsoxYGy9QGd2A4IrjuB0xl3BmKktvDwGOoBeMmeNcT/odpes8QbjKGIb6nTaNzVQlzhYniii/ZGKgwERFsF1FtlRrSrVc0oaU/XgUmSQG8LX8RpRyA0DOCImXEGE72lIZ4IjSFV8XEhF9JcscopbIVLAuxzxL68O2XUtrdQ1GRbGnxmAw0+ysyvgf1MBDdg2wGWUSwg2q+MMtUy9MRLnPT1qKUh8kTqAssO67WPgiMsShzEQ2F0LNazUY21mYszyS54XDkge7YoxOVyspf8A2IuauOZKqJTtajfOU4xLw5gNYMN1NLEJICsGgNblKIh5iU0hkNnr3AWpDK+1KtlFwlssLwp8SjGOnqPA2oWznMCsoqwPcZQBzxMIByRj/i2ITTqWZtMhwN4XTENTZc3/AMFstlwfABQB6USShUwd3Faqqvjb6ZYS6hIQ2W268fi8FYG73F9ZBuHAqrs6gonRmq8pMF6gx6aeIhEBG1NSnX4tN4uU+MFsPHrDHtt58OdlXBY9Zag7Y00FPU2tKaaGVrjMIFrmLavRpPSZ/wDBkho8ebU5i3u648vn1b1EauKi74uonYxrtRdWyWcC/Ut3Wa7tP0ssM2KPaca6yHAM7I1MregvaxbgxDFyb+JbjOrV4fiLWBXtWnNxNuZn5o02Q6gkWjlJUoxxEFJs/aIc3jKhEmQVA4i69p/IraxmCkwj5o81KUa6vJT7/rFJsq/V/FeFCK4pgvUBOXut8P1AVT2rzGhVyhuyBQsXhjPzPUBfngVCgLmgbEyjqZurZaA3GTU9c4/+fhmwFQ6UDl7jKbW2EACB3q6ZjVgs8sX7mzYj9swxXB9qibbFmy1NxZzEArSbhA9H3CSjkeJZwBHBLMzHAtI2ch7ls3fgMy40BRxq7hOAWal9QqKsor4msdTMwQYJ2KiAojC4GxkeIGh0c1H67dx/qMlLfFGgD3UxEqzr6DtE4lkqYuXCiAsFMZNSgfrEFS2Iir1AkG5uFLXfUN8ojLQglNdZmO1gjyS4hSOtWI9Rsy1al4bauN6GFlWINLx90939JSS0FRV6qU4vyfUpUBVKC4DoKOutQVcv1Hqiy7qYKe4/4nkjhj3hPdQItCxdXqNWwQFl5Vflcuc+BbEWZ4i6wxGbfT/UNUgqsUXYuVEF5xXaQ4OhgUIaijbQUNgpQ9Rc5hQtYfg6Pbh0W4gDyZRT9XD929TcipmblPbl6tz5tNDWKkRkDih9R7fBBV8q0/UcKvpZUHPmzpI6HDJJtVcqubn/ADOyNMGGHq3Yus77l4AXXiHBpyCAC0LS1lx78YrXBEyDqpYouFCGkD9MAPrR3QVpaYMW3iPYouUcqrtjUd1BbKhdF0I0yD+sxxmBNjkPuokYURBGkmKzGIgqbVTogh/JyMhGiRpjWZGzZCqAVDiHNfBNpASbYTtz7Kcw8xEAi5FYqwe6dQeMeZVkQu14v/eYmpLsxV/FQZZsduD6jsg0aUo7Zcery4BIiZE7PAxRUUfuhsXcMrssacg56mHhQ4bs+EXbZu2JtlSog2p0XMOPy4btIPJ2hyTI5jSYlWvCBa3N1KXUW9wjOoZqDcYkeXSxbXqa8i1c2CrKxFCYpBTIVe4J6VPpuWGiy8TQnWA5eiP+KtGCjr5iNHzHmAEcMFo79ywElXEBQ5g5hwd7SwDIYIEIBWR1v6RW8fqcNh6iDSDGgiKFqykDAK4lhRmUVOVxmKwT5tSlbivVwBO+RGxinUQAD1iU6S7BQTNtGK1qI0RlRalNkzdWredy6K3qoSXjFHmYU4gYC/H3uK4Sgx8wzlSiNNxgw7iRLAoWJNY9NDEClqAQVYxthH3H/ESmLZcLYwgWrQRRYG1aShh/i5KitxU0G/cYbQGSufmM2+n+vDrbBTotb/mOLCwHCrcWEaSS0qA7VqI+vIWCheh+e+DHAoRu7zcoztIA0K9B9b0hpFqpKkOxE8WlTdR79r0irKg/7OSHWpgfcUTJTQxK5Z1d8/iyZ8hKSuAvGlXQ7ZysbS9hPba+B5jXxazIlMKahypVuHgZzaMXcvRRS7+4LSZJ+6KuVWjlJ9asRpWP9MqqqKct4JFBYswWs8xC3+kLAHC5TiNXpE4Q1CATi+A6H6bOI3yti0ctLkBiooiegDXq4o4JWwwv20e9uoiRcSLQ5hbKNFRgjWCHtUbKQEt7jQGxuBlM0oo1G6NkxzjEVuJUhWiO44huZfrdZY4i7CCYNxUSwH21EKh95otuUg+o+M/ndbJSA6DLzEFyD8JY4z409wTUK7UzHfCt60TgUfyzmOKTfwmJmAm4dINmIEVloDHBVu2LW7I/EBXxDFZvqERWSGfAepTdtgxsJLK5hLq6JTV5JS5cxCCiKfzq8zn68YNQUG5EEQIqrDL1zMWWJCte2FgoFkyMyykPf71DTmkO3wRjarpruAOltdkNgqNxcGgagWGrQXqaPELwVqCoi11zKTDOl0y8+KJuP4BbET/CSpjCgwcqzHPNgPDSl4/xDLixm30/1CMCVQDardOuoEhlzMvOIXgdTLTM6ldzQ2WmBOW8PKeQjF8tBrXwZXlV58Y/Yx4H3Vk6QZbWkzgQCnF46gdswt48Vz48C5ib1o/1oduG8K5Kt8HUbZzFBaIyiTtQEF1VZvuYzKrS+DD0VACbAmkcy0VdkC1PqicYHKAZgglJwiS56WKmcmiZfywEcIb2f/GN1RBQS+mW+FSjBd7hAdqkaozxyxkRGKsADmHFYsaHnDnqJgG0Ei/MRbQmI37D/wAgdBYXXyJaK9vslMQDx4o/3BoYaajzEpTGpn97SN6Ns2zDAX2m+jUQ0F0KPwhTNnqPm4KFel6jsaYmcEkGoF4yoZgH9engcfC56QKv0GYQYFzLwHpXfxAzKHr8vJ9Q1UL6OX3hacow/AU5CkCCUvgAC7aiKnfipT42ocxR8wSoikAtlQIFZhY9Wx/tCyBuBLKWpSDiDCIVTL8lETDfuNUa9SkqEG/cEv3sL8dy/cSr4gLXqoInAIpDVyivBzCNb5BlhqCZ4l+XepcKz8w7dLEtbzCyKO41RpEAWB0+5nWqM2cY7gAQrYrEtVKzgAlxyaa+4osMQDaZZRYHO5nnsPlirhjjMHEc+BccEHBbiEbKupUGoCClGuS9QlKIiZHSWSBSgFSjCsHuBeJXipiYKp/gI1xoIwi6eIM/UPB0wFtRw/5SA7/rIKD6+f35vOCw5S4OIPuQBBRwKHS7zuWRRC+FLh+jFSeoScMiCq4dtlMYAIUVUnBNKZOYDnQAACgGADXgWLSghDVmQy4Y1RUwzv8A+QHUjAmZeRwzF89yGARVuj9RcBz7RY/SEbt9HXtMHL4zKJx1AJbASy2neWbA+LNdAAt6ItS1j223ZXcN3Qr+4AjZsbMhtW67hU4LG0RitTaawplr5jJ2rawxyBnsZRLwwkawCheYww4p3Sy0o+YBGUITTCcrgCNXhrlg4AtBBUhi1Vx4tMRaTAcToA09CEVRn5gBkUZmekU+mNJVVbV5lDb6isLycBMqxVVbh2wyA4w3KwjQpMdWC9wOIG4Qw+48UNR2LYOSUN6CSIJ+4ZEWILoYls4lwAAtr5DmGRkPoeNphIHRuUZ7GAkCiHywjI1o/vS8SF9mRqEYoiMRPSGUQAA0RlkBmPBBzp3BpZgLfUovVUN+5aoMUOUiBDjmxZSKBQPuZT1xBd3VxDo7dkgotXVzIrD5nMYefjuOq3LMCQXuJiSXcqbQ5YqrUEQxGOLYL1KsuAo9Ete2OJyCcprBImEZwAIMVLh8IDsNLHfnPgtEsKTAaqR1kp+J0ZSKnKiWOoFAmlKuhvn6nf1aTGIvkFbrennyKmIxyCvtB3XzKCAFjC1a1Fo1qn8TUB/SkJw5CqrtYwd7dGDOZenJJm8V5x/ip1EDg/UpxNiHGkDVh6j9iVChVsVsa6/AUBguYzSqt/MuVsZrmWc8y1dIExidQ3KuMO5Asx8hbHzxGIrmqP1D7QP5hBgN6cj+BlbfrGq+owVVteY+CG2bIjII5x3C1uM5EZb4Irs2/cWZfgIwwLAf3LukaUtAz48Udcgsb+oomk2rOoiB/LaO7hAKtqWTeeywKNgcwtNRTzTUS3K/M5vwvEuM48O2x6ZdrmIwNlzKkZjCqiaWvhc3F0sF/ibVLIPMl5K9xorF1V4PAZjuHjFgEFWXplW1jmXKYjZZTGNC+LlJ6hTuphWEoJHyB08CZ/atzAQkbddTfcp7OR7lww9QQpYICUsuXbFI5aiy5WKlZfcQ42JR5ubx3Oc6CzUJ9zJmqhmnYuXFQEBpmhR1HyEE6g2zFS8DhUeKY9zArhjQgVNw3bCFXDwqq5lpqh/KF8VyQDmv+0OAEtb29tx8BcKNkZg5/SE5O8hvcXleYFYwFf3K6kpPxNT+QRzJKmUq6ItgZt7MT+XmTAFhZKHBBLULKOZRH/AREvlKAiEhhPsQZhsiEUsLgUdzBSmMMyxvHzEnURGn+CVY/Q4rlEk8ecwqtAy6mIinkPWKpQ3lHBDNba0atjUfCzAc5hi4OHaWvuVL8huKQbav9RzK8Eo6ma6tV1cbY1xU28HjP5iZizOv4xHcI19Ju7ytxZUZfl3lIWVZ1TTE9w2qH0hpr9RfCVas4uAIAOnMsXb4vxf5G5SJtQPLuMXaKvbCFtDDDcuFuCOPF6G0JgjVIcf/AFACysp+5U1LIFOUsCXSR09/SrhiUmsoFdNZzDoY85iaswu4nFNue5WjxxcFFb7lu9BK3FpKHTbUeWPY1FPcW3wy/Aw3EdK206uM+oKGO5pvwsj4C+5TAx2Yf1HpUIFFBGoigPBcK30QaghUJ6AXljNaFumIiBkeplhVWGQfWFZTL8sS05lRlHmHBw2Bd6SOrhHDWziIPi1L6iT+JFJGkZeiSSdJFAd27R2QjK7s2/kLSVR2NWYDfyEO0suPiP7NRcudRJftdQlTjWDcwf8AAqd1F2TXq24SIDlEtUGqh1FOj56jhgqiaQQcHnyEUqGs7Yy4kgrGemotEY63Z1FBEAdrHKHWLL8WxHzccsyGJg1+BLLEgB6jiWIvoS5huWFlUvI93FzCxPPQRLMNJVb7vUd+RlCJxOhsU3wzKXDwmckBccXNs7GaUK3fqUAHbh0S1SGx/iLLx8T5SsRh5fI+CcQih8wB4YNciXGVsRbBpc6mJrR5XZOY4aIKs3eWIpyXLLgiVidTKAipBQ9FQhXEwwHwyhu2WtKcMTWF+4haqxa3N7nqYBk9y0eEWXiZ/HaKuFJhfvai/kLXsmGNS2Qin4ER3Qw1HICEjRAJ9SZrDcY10YiiPeHMUwWJvUcoksfFzmDq6jiX0zSUjFxAVrqZ0W/lcGRTFqFga39gfqF9QDWNEEIFqvx6j4kpbQRkCTHqD2wyiBXF0/gH5EyKEL8koAwVs3URIEYGaMurFw9qQHSeFUNoCgV68VDNwI1hYy4zUhhEBplwB/cRsql8vglRPG2rmE8yhHpCGIDC97m4aSOvBuDa2xOqxHf1DcQFoblS4rSyoLqO/JLK7llBiDLfF+LxWZz49epFswYGKDfGIp2SpMdwgsHcFk4BcfxI5aruWmVorfqJmUXVnOrivcC2pcL4HM1Dcet8FRAwx+L5nUz4Dw784pUHhGmfwISdnL2zM4rpssY8fmIQcBWmyMJKrbMw21LwhtnBb9xmA8QOCqNy5Rqob1wiAuGlypUfBMT1prsiMSoS2CiTSh/hJg3EGNwvm49lSEWfqC7RtppGU8wy1F0Dc3uPgj+I+F3GpVqmy8Rase6N2gmmyw5Ew6I3wEuQDZXHqPmksCUMVgxe7ZeyHmWQ4HxN4QJUfFQJEV6eoytKsCO/BBHxb5Z0CsRI4TcSCbIhgX1H8DELG1q3DtWgA2zJu0wBFaoLdHHkpFvwajQpsbFs1CpbnHDZXUSIHohWxcpbCUN0xqu1eAiR/FHSrgIk+sT58XFSMNAVuPi2EBKNAR4MRLu3cb8BwoBTWQmBHLmNIuUNVLuo3AYVTLS1EluatxMScXRuIeCx6iZqVEWQs031DGw0+34CrRNXKVxinUszFLbRdV3CDQ2eXHYwiwpx4ZBUQaYuYbJKAvhKQGJSUwliAAbl2jKD6R5DA1mP2qrgwxdWGQIoGKH56lHgFl4qbeoK4jJfEYahq5qPyIJ1EuICRl+IaPQunfcGpztgAdF8vxPc8gLHc3KYUWZ+IgfncGo1dsogMUtrcNK1aaNwKIWUBVXuO/FROkysbIK8vgbmdqqGly95wLqbQgRAmeX1BXA5Ml6xL+QhdPqHHnUvD/aAGawcEfwJnLlxEy60NuKNUeOFhtj+A5sxoziMWM4RPb+pmoUVB0VNmceAoAtYg2wbKzKnEq6Rrpbo5j+iF1FX3HAid4LXN2vAxFqwWzxHgUAKbxKsXqLKlPhKrNRUdq38b8myMo8SUXRTDEbYKbAaA7m25cY6AT5YqOZWhgFcXUZC0qNyzCxFkMYFrjmoahk/S4yoBneyCMql0jEAHaRKiRvqBg7rXk1BUdp8QzyhJZ8Rpgla6zePwIbNyDUtfdj8IK0JjCerhAS+ZWW4r7NQ7mcTQwqOrfRzHJ9EuHHLLKYqbCZN6gLlLANjih5uNW3B28mIAsFU7Le7lIUq5a5URqsxQDrYylwIphDj8hbA4ThUNLghalsxZX8Swy/A5jNXWGxhoFzOYrtmZzL0xRO4XzVeLLD5YziPftDv9OPD+Vy5cuX4xAI+Ql2yFcq8Jw4maaAvllz1gN9k9RhuPAV0IRDiM9RhCB+x05paSEsgBjbMiR6JZFcW5ihTBvQP2wBpPxNzmwd2U3hjb0J5VefDGIpUX8DY1QLbuWgq0zAOE/qZSgPdPw1HWqLmXHEoHPIJefCq9Ui/dRVe4OfY1fFIsvlWBF98+ohYGlPUDZV1Gc2eKIYLXeEwroyMv/AMweFJQxKCOaZe67mWy5uEcbGPSt+pUO0LHMBkyf1ECCsv6hc3BP8AMyoYI2RUUhAlTcWlBdNRspuPrzc0i2y/IQjLQphmWjEtTSPC+xj7nqVAdQkbHqHgsdwyWZJlSX1MFsI2cWEv4AwcCvcRkjzFbgxcCBT2RVhOeDFrgs4iq1UqLq0gf3jcqamIczVhr1O7knr5Q5Yq3XUt7ir+RuAaVU3VMKg2JM22Wj+JtHfkgLHepZtqGnEQXK7lE4FnQ1/MXQK9OHJUSP8AiJWZT1ASM6tJUsaWNAGsCMz8k2cu/wCo+AtqWhLdJ4ahHnBsLqAvBtQwMvVJq1ZrTL9/nmZgN1MLAYwlSomrpl00/wDssuWdkAEOrFj3GUXgZUIoe5U5YnADb9TJ5ufjcJUqNyo+WXwGoOlxrNrnn34abmIh8I5Uhok129sY7/MGLGI2NhjcYoXAwjn7nuALoeEdCxzIheCYasoKBX1Bap6hCF1kjkxVInLcVObwzMKMTcvaF2QqzDZDwBZzx+IyZzcVkU/gbwRAMOYleTLiOCBGxGqjBrXzu+ZlDJJ6Af7iCi3qkUmYNRRVQErWb1BN+UKYIk26lMbN5l7YvBGVmXSwuZ4nYQ9aSlHzMXOOyouC95hrfk3Lfi5OnMLj4mfcFMw8ETGoHYn+FCKSMqVKgQGMQRHR3L0xCPYcFM3zLiQI2Hccty2P+LeV2ULTW44Sr6HhNypcYjLUl4Zb5WR6g2Uf5U2x8cSnSm3YwlT2EuWy/Uf8DdpNa6gDTsljxbXc2m8BwFvUN8AxXgjHVowKlbYltfgy1L520DNOpooFnHs8BmsDKtXQEQHKWVnMWZf4iBDmCE2c5fcWbwH0xUpQ+Yt8fnT1E4saURCtQeVsXRKOjiXjM88peEALfiXu5cymkP5ieMv5hcgsHWIDAt3ghOaSkyHOGd3/AOxWi1XCdAW1tIrFNTqAZaOZfJWpXrINs48w2yLgmfBEAYeSEnyeIAYERUFw6JiVPa24fyaaV2OJRp1KjFQ2zYl1NEt1ZiUVTYISphvoQal0iUGlaiKtsvxnQulfEWOSdOIncbi2HZLy7oEdQ3qEVAFsaj0jY+tQCUOnpy55pQ/aXYj0EZU7mPyNxExLe5YlquW3UrxHoYK2q4f5gLmrHoffmb3BLBX41H8tUKIgTIUV/qWn2lu2YhXJ4P4FDKQw49iMfF/4a9eDxR5C2ahRtgUU4ir1CJg018vglIvQiEbLDiFCEGr7fUb3Fa3AqESjmK/qghhGa/QX5qMICOFfsQ6JoV0x3K//AIKzCWBdUZfiIScK1NbqHbgK9sRizdqF9E6i1cMc6YwjaCn7gXZjdwWF9JRg+sRYGzM2+AgovI07lgreYzDwMwECCmca4RM+cZLuX8E4hrRuCKku0WXBBQXNpzClBX1BUOlL23NHtjBCgj73AYOkkcUUe4IAutEtaqu03Ala91FbeMYtOyUc646gpDTUBuwc3MKvAFyyzTiU6m/ZNsp1HkCrI3pbCzQxXyINdfqCihAco456mbNeEUwpj4lBHuaP5leQd6A4PQQQQAGgvBNEUwlSnyEZdRzs/EZbE+olsEDDhlLpUEXMhZlnonU5uOrS6may9iVEEaIftAsvkg2hqXSwgWA6goc+ALxg8PioAi8s1dzZ/EhB5gJ9zcANSCouyP4Ef8lO21cappMArbH14C0VLQAVFU03xcHIMgMgxb2sMyNiFHUYxbpv4ioBGS7LlOmox3YpfzHcdSuQGRfzHNUz7OWoFYmIbGe/FZlwV5ZzLj+NfnUCBFp6hwreoPphOa3HPQbqGZKm+EoZFcx5l4q4MMj2ZdlSmUk1DzF1DkIKZbjlNMyX1AIpWe5d7NgRAfUyhyFkdMlAoqEz4D4hRLuPTylbNZVEaf8AczalcQQEbt+otSJXKODTAg31K4V+o7dMXTHoAGMErrHSVsF9w6I/GAugqAbpHto7izAq24tE30wWkWtWsJKZRwxTowPqacuE1bdf7j++CjR/9lG5JCP6qXJDKTDzAIoHPtFxQHAljjU7+JkDSdlPb4uXU7utUV9VIKEQYT5QhvQT6xXqgKJpgqcyoc5ILTmpTMUt8C63L+oQu31jUp3r3Ml3zhVl+ziC4wNUuVTzcZTaU7juYrd0wRd60mnI7lXmbcXdfqEpFS5sMVXhhMN6gcB+mGXHfMFNfkan1P3BLpg3HwESJ4NxBWWbJX+EYjY74FH/AFESlhWCXKM43fh/eoqzuSQnK/MUF1NF4IpoNC8QQzC0R2Q2v2IAdPfjDhf7EZc2uCFgPcvDdFlPQy8w51KHP7jCLOTJwXqXAmG9u5VKxFUyy7bW27zKj5AlUoDmUhxnTnqevyqKgVWUODXkgJZ3qBU1Er4hEYLl8uQcsJGRctrdX+4BYZOpSAfcpXbM2zhi4tBiHYwQW2x/ZFrOhhpUMGdxgfEydTA1WmphKLGslxGalFqzshw6RPQuZHFWVFFmYKQhGslNEGyQifxSvJTzZAblrBGpC9tIKtA4gevpOpW61MtxxGKqvRPgI5rj5j9XqM8g4mPBRKWMFXbFyFRZyQRksnBb/wAlyOSHFw8KAU6Ir/ESIGQvQizRRgMN87LjT0xAaC6j2Bw/1iwOKb/qa7UOaDqaj6rAXdPUAraxwYrc3HrlFWCUVYDkf9zHOBfUyuFuYMRh1DiIGMbTuZfLNBgVRk1Fl157GYPRuKoFoEWfRqBHztGu7dXI/MWDy3u7uJcfBKprQ7lCl2m7WiG9yUzd+BFmwcxka08g7VIu9S61Qw6h3mo0LKbpgP3Dx3N2by+ppZp/hqMpR9wbU03cLcWcFfnX4G5XlzhTwHxFjFcBx/ZFv5JsUE9jEWq1EpoarP5kvW44NhhB9RpGaM28PEyY4jKr4hd7Z3F2L9zF01M5c/8Aj6gaoBPyS407Xv8AFAsGvplG79lj78Pg8DQIAqjLNYPUBoeZ8BS4palZzKWwXMJTTUEGC9xQ2o5lYqBUvqMWDJe4PWpa7Iin6ZQFQQI6jOXqGsEX7iMBiiupm9H2Ll6XZcuGIVlXMfMI7wQB0EAKChF3ARwMQ4CmORDQYYao4jaMDBUlH4iTa2Wyoca2tJnIeAgOg26gMZxCAC4goBCTL3GsuOoyvct3kImpxpzGQVW4vMVv6gprqG4U81LZ4CMLYWTOTpT1cSuRmtXnTKo2BasUEY0IKY0deHNBbQVvpJqJpL1eP3OfDHaUHZGW4ShEEgvEvVFwkvSgiovBocIbddwxWY4aYQTaSNCsHE5g5iWqwvXzEePpCkYkfJzE5rEVLjo2kTajFWqj5aXVszA11CRZ/iADXlAq0VxHa+Aie4F0tQp7iMqoKdPlSFiNlSswGvaOWUoFdXIH/sogIc6VfMLfWOYBvjZBSEoHtYz7jhS+Dqble5XvyTnwngLhhuGYWt1CoGllU+IxcTsvkLiQRh0yvAXKE5yyuStj2QiUyAVdGUwklJFQS7bjtFO1fGNHCEVAicP4XPuOWB7hHSZDiKqO2l+IfcCOFftMM1BkuOWcIZQXfcMBm6ZmJzqWx2nUqdRqvklQAUriA8YK/cdFAC0RFuIasQH4+CfAjMDHYSiOzUu2LCblUVcEKgqVtls1UFNQICckAe21B1Al0oXW4gGvtDpCmLHtmJQXW9QM0xmzUbh0KjQy8Kl8LGsBL0mYJazDeUyRxLSlxh+0wkChMMVUpFgUaqt9saIU4K5jH7ggtxHY7BtUtqvA6w34GXitxkZUIN0oPlMQH+6EjjB5GUq1iW7PhyTMrWKN33/DLmYHF8DuIKxhRlQ9GIWmBgAKA+CI4vwsgAIWtNQ98G4oYwrHcrMDOYtjFLvgPpgNHXXZo83xBrZVKacpuVKlR04nPaLaqpO4VVl+ZahIYTC90ZdGHUzybAGlzjkd/UHrXajr9wlTDouDgOmi2l6jAF1W2xoHsWEhHZQgMYwN0qIfcAMMzYnbXdTLCQ56MnzLx4QKLu4RAQEKXctzyys88Gim/wCyD8LLUIbMnawEB2Ua/UKVcE0rW6uBMxsm3ar4J6o4iw67xss+onEMoOyDYqk0nJ6ZQAVU2u8Yz1C3BOmgMJZBWAruWsH7/CL9RNabCsPrHfUKih2ck0N4DU+Y6lY5BNTVJKU6H5iJdosb0kMmDcCZ1j4qvcC0IiaXQP8Af3EEE10XzKbhsSmEHtR8ssf1gBt/cEQSmP2DK3m7FxFN7HFysd0o4BM/zFujT3ZccMINSFk0oZju4ZfaPmmVDwvShS3Z+hEyCDhGihUG9QaiGKiItEy0UqM+dQGGEcxXMCxivcrUvym+GVxopiJQgASEuA5axBF2PISjKEtRmyO3oyR0DqK5cygB1f1C1TURZo1XMY7VKPYuZYgAb9QIMsmCAwJsHPMAaaRJyoQQAvuCYKxOA/7QIodwWE9qmUqMyzGTMEuZSK3W4+7bLLoaOo6Je4yHUFsCw1v1mB2pIXSMQvXZZ4mPrH9zCtD0Y8NoxFiIbKjFZj40gjAQhkufwG4+I2ZYi3rQjokXGWpjrENqLfVvF18HEaGQvDlp6n84vA1RrDBdnTEwPaLWXGgZoIBSmEAXYIibuCWRBgfKywx1YWvDJZMMoKB4glAfFmHjHxtF8DyQNhrXaXVyqIfMZSiMJ4L3BeifpQwDPpzGv4/mBUJHLNytH8QLcQwuD0fbEG0wCAYBnELi5g0qcL6i6LCHIhKvvbL9PCpQKFW/H6hAMNNzVpzf+5TWYT2r+rIlvJQtvI+VGMxGnmNntaz/ADK/dmXZFl6Qfbb6iWgt69wpqBjcMrb5/wBynJnQtwUrhYSqGlLrqGFMBtru7TbiHw84BdvPESdgoNFr33iUEFE9qI1QQLdXjn7jHJrQKaD+Wb/QLYtbp7jRKyX7OdxTiyiucAv7JZWC0rKmH738Qvc8gTZUpzCuyJFA3jqaxsEI5MPmiCPUmwiOK2Vx1AG7l1d3DhIWQCifuGN4Cy3/AAfEfYxeTc0fDX2+DccCxKHhKlhoaH3FqILRpoM1EApC1ltdzlSOJosf9RKXAjtCsdTKE4i3HfjDIRLrDRmJuCqle8uyIqiuZXwNrSVKAbY3Cr9y0o8RqrYApYVn+cZC2KibGOXbNDpgRuzLhl0Mejmizkj4KyPU5k22Q+2EYxOLO4/QHEtLWIA1dRCLBq+YszmM0OaxaHi56Mu+ockOFm4by59xF6IVlBUZYBValab6Vwuq6CoapUKSFtxpUS9jVSgwRqIGsxhCKNrU1iO42XEv0l9kC2FDzGzWWMrmDFUt9BcataAXCV3GOpqWlIkbcljAiO+lEyU7g+DCDmoWypo2HCy8vS6loaAQdFf3+RuYsyAWvED3DS9F2jL9ONB2VyuCvcPq1woOUnvcbXMqB56suPZ1CetIqEFKe5SpQ+HuMCgEAVtfyiJCDYz0ZiQkeA7t2Qx8utVyPZA3EPuIuNxAXowRlY2kXhGcQ1DL0kWraP5ljwqvqjy7dEieumz5nCYVIvNuW7zcDcECJprS1qCe0QV2BdJ6lzgobYu85v8ATG8l6hjp+hBb3tRBy2K3Hv8AsSwtjQtC9x5FZrQyWOKxDXdo0rf81UqAgUaH2QVLsEpLsLXXohuFsBYLuik5BggAqObCv/P0R6gcHNcZv4E4VR0HViWRMsVsA0AaAggHau918+zKPOGHI1luByYOvoRwTQuKTE4f5SwElK3w2stKNnIfCZiCglErTQqrXqBi01WU1m4rhTxFe7gd50kH+XqHeu91v/n+4MZnAF+kbmJhjCCshn3tuVo5g4c3DNGhBY7oui9YgJVNQKLpM+2PxgoURvnBrqNxBJui8Pq8sCsd1XdQFaIoa5iJK8EzHSUkGSwNt61N/FwlRqPjm0Zoyg5dfULJ5K76ldiolFsqSsY4gDIhlXI1HgWairRajlBnAQy1C/MGVIG0RLWH+0qsrXI6+IWR9dGiKBTiXA3A3De9wEoMNKglgrDNRdTS2NYie9D3NptC9kEsQMR8r6gAWBhMbAfTNsS0cAbfUsRiqPJBmuyR8CsF4qFySNuYFLdwKpVxC5gGoZDGDT4ivUiOxdal80hH/KKVAcMa6pvJDXpdG0vcluJbLZiG0hnjIil3OZfi5cNwlMGkCh8yzMLGHtSbZeYimx7I8xe7XeIIIFBb6nMJlwR8s5MleKhTzoG2W7JsYvuMQtECA0W6gBJMFZC9XzGFwGC4Y3NK6hfbGDLWuxp/i4lDzAGU5eviO40UKw+5aTkjlB9x4m+FYpKjaMufDD47IwZbigFalvXPhb+LQgVA+BfqI7pTU4TwS8+6EW7X+whtmv2ADMZLrmIqpTqD6K4a1DVSKGtTPK04i95elQ6ipWWxByq5VY4tSA0byPBNvwqi8L98SvwZoPTUs1pSmtwvxCMhK+EfuXDQxuHyRAKs9xwlVM3Ghyxv8QyKAc+c2/8Akt6ACd17hlGB7jRZgcOpDNImRl+qzH+1zCK1w85W2tRN5KnHm8xb8kNAVsvEYU493+DBMgYQNUKbi0zKG0sdcSnVVKCq+IyXtiDFxcWLMuDBQ0aghvbDhWpYI2qBdB1HxLBYpYObbop3DZVUxjDhKk7lgzabSuFhj7YaH3LmjV4BBHuBUBrcCl1K/CWzmJBTJeWO5aZuuzuCgou2h6iE+tMx2vEO6I1bYLqiy4m4IwWFGYCuJdkb6ZgCocRfmZblZFARL5ghBgq2NGxbZz4qBHfk3FS1wHMyp1GbiLL4gOVglg+P3MkTHuJC/wAQrmcx07MQh4gXhlSCJCWy3wAad4razB2xMwExottQELpC+Rsl1zGu1RezFfwPJ5vxmdo7CJ+9Q+/X4hPUEpENanQe2G26tNhWfmn80YYBWX2sKLNWzLntzlAcbRDTUEJqQ4RGGvCl+6+eJAlHPOegWMG02ZgIBT8XZRbQoWrLh6UrgXzg3lDj5pR3ahSm6nKMY3yblfKJQCZFCqDByw0II8II5lExRlvbTRTSHdYsaSzudHS62YAvgytOMMeifYTCsXynwcBHtpVHlOJj4SohAHM81wZovZ2QTIhXqqG+FlfDVOlODgUuAoFgZ4tprat7eIek2lzM4TCJSJhG5QLWljui0LRUpftqEKzCJsVyS7pil2hfJWEFxvwgoLYoIdAd9M25lMBgNgVeesYgwlm5fSzAhamiYFnFjry7YijFA1kLsTCVkeRGJLTfAaCmeANzXCEeBacr6cjuVWYdx2Wi2cSyjwjlpqbeDeEtg/wZoTKVAlfBHJbtU4OX6mQDc3Y/BFDSS8gGbSEGKIZQ0YlplQ5NSkFM9xztXuKtxuV4fIzMvcG16hp3HVGpUWnEwZDQOIhFjRcLRGAxsRCeKZyjubRdYgPxB15gohRrRAv0dQKUzVvbUHzXC8YZiZMi74jLeBQoAciQ8AFHs5iWH8w0FuKtbfcsDLG6WKZbviLKCiHk7hOKhFoXKnQNM3QkeVdEGdleCZlT4mdyvBmVIrDLBxblBuJUIihJpg10AqqSqml3cXVXjqZJb0eKQFejTAGf/mYsa/A1EFpSyWuZyKKiqQf9zWiOTahTgSaMTFv43vsfwchVXpFuVqtf3+HFmAX11a+1YQMl1Ad55XDmmMLI7t6/uN8viA9tHtKSvcN51KC0lRGgA0hH6PuKCEjShHAAx3bzLjXuf8A0u3C/SJj9LUsDksP1N04LgVOlQf1FYyHayqvyxDBmumDocqmNIVGQDMjPA1EaqCWgUDkWK5uAxwh30UYQGsdQnEPgC3+/DI2dS0FwhylygweshqI3BE99DOn2CNZ0dbIA60NqB3OP6URYAN16uVjYQ4kOBBTyVDiBE6Nc7QF9QmQWWbQUGB6AA4AifUvkA86uh9QNY3BJVbWM/pTaCm/5BYyDSCivj4l1P20QV905l0N9DxUlqxjcGBoNl32UILq9y1ZhsB2RzKwcMFsNG7iMkz+AXiXtmN+vJXO2r1VQ6jYb3Kci3BommmTWwyJxwUHxcE2SmJU4alDEcFLWsqVVYsNpJXcfxJfvcrAaqIKMXL1KzuE1ZnTSKmFTARUXvUq/RircYVLX2olZOPxOYElqGnljNZqWBvfoNW+4/wCY78KJR4HBaDhKepOIdb7gW3M/elAB2x6oBiCOlxRNwObFIF6ApWxC6DXtFmeUzzt1/EvKgCsNhvPgLlDnzIDGX3GtKDqCr6IBpzHLKltV4pEs0oe0IZwtP3NvzxYWAyTkun7gQwRtFbalhHcr8UZUf6POxLVQH0e4xVs24leCtYvARTVBWKqtnqxfMUgwGqAr1UfTiB0LugFCdV0TsTlR8cx1djbWMdQUA5bZwF1hQ/ZY+4/svjVWsoTJqubI9Ti2IDlwqmU5n/U6zOsXpmGHWem9N3EU06gdLAZKXujG6DD5a+SJWrXyEawe1hugzAWI0mHJsm8ELPs1bCn0ifUFNxUJQFeMofcVN+8C5I60o+43U5NeVGsNR2cMACjSVo5N+pc+zVwHJENC1cEuZOgU0VTqwJYGqsbSTVUAeHBLVwK50P8A5MJtQv3Hewg4Zd45mpoNv/U5hjSWGzqVawYCUqBOpBQg4tKIYYcqFIZrUBoLvU3OQniKvGhT/EqQNl4fNwF5gRqcH0rwQRAr1Zv5iwtvzC2auhLCt+qwenUyWtsTTVdRuZAi6jbcav6gOjSEXKqXiXEyC1rwErmSBt04v8SPCJcA4sgKwCUbC3HgEqYh1A2yr0GoJIDBCA1LYgTX8MZKwnik1uVD8x4IUuYdy6JXYS1OaTluP2MdzmMVQlrIztkHXQs41RSVYGVOWuYMOYMLYUtLluHUcxG7jJYJcMqzbtTYHuW8lK4CuLl70yB8NQAm97gZjhjU4XdTEhjiA4gOWVK8IaBmUEg0Idvui6hEGEhqZgDgLG0viaIuY+FLdRUrzG/AXNfBXTEmoNFS0G4LYhYVErf4JDHMTxcLsrdyhAQ489yPjdhNA+EiltcwgHUaPoL0ZcSkr9qU5LNP3Gedb7uxMk3i6q+Fmo9/FRSu1+JboNuYrtFwQHU/ZFLAQ6AlAaM8EJDwg2h3kiQLoRIjixumIm6uasUJxWKmuUmGrv1Vhq/cSEdoCuxNQkAlAedWpFuDTZP+6/3NiU0nyLTHlWuV8EyStBmZU6EIlH0hlawia+pcSINHdKxyyFdUNBej1Hf3Q9XCzwR9h2sjsTJESKm1drBuUE3YaU01KFLLgQ0ppSHVgWiF0pzVxZwENFzqB902SDK6GvqXZGGnEZKwo41xDKAbXg9lNlGP3HGpfjMW7ngsdK1a3ryhqUhSfMIGyMye4AazVQMLsDhJm9zUyyvqKpDGi5piXvFxCYoCyWLMxeGUw2zlrUq1UC7c2xbfAt8A6tIkBg3OEWRPoa6iAonUIzViPeWU3FLam4alMrWYSrFtxwK2rWGxnEVzcs7XAdlAHzLDpSZSIhbmGLOawxiwDb6DmDaJ+oMWNQbixjoz+SG4JxhjQGA8FQttzp7lM1HMwAYPBYJSyi2kKAyF8sowW+xgctK2u+0tkdQFr/0liuqpKTMWlWZ9y6HOFa0seTEukOnqbN4sG8naKngjrolCWKNWxVFq5ibNHs5X+5VXnPLyS8VuMctECg4m0v8AC4S0EbRIUqF0ZgfnvldhiNAYR4m0d/gtYBlOokypgAD7bhFocfhmOvFfAqsckpVGKZrnw/nRyX3V6h0qIGXHJHa238pTcr1ERqslpuHyhuzlgCDiFNOf9w/UPaEj+JuMEdj2dRAWiuOpQSQjRo9x21LoqoFYqRNNsYbiDnSq0JreRwLYGB7EP9QtQ2xPKVA29oMPgAQlgQnwxYqV7i0DJbjhGP8AgNwyjjgqZc3kUjFC8yo3fod5PzOYC64gUEGqLYwgyoweBuB2XFRXmLDc00rfcVc27b8VKgH8QXZj4hlz4hYorDUzVk3UZFw7THgrgsxCPaNqXDXqWs1nEPCp5hlsSxubMQWX1BfFcln1F5hOYAERSaJqoOuBW3iFSTKpwX/MVpa8+LidlQYXNWR4QhONY8hJdY+4zFIIzDRQxG7uACr/AIghdwEBDKs5HIAlyyXSzalEYxFy2oQgNy1cyNFAyQVqQmzJCCy2gcENqfRBC32HuVVRkt6l91yGnqVrVniPmzbuCHKtdYqadO+WUqJtZWynbDfE3yLuv9CYULU7q+ZgRxuNW1uO4MwNdB3H4BFZL8XBZe7BCW/6j60EaVD/AGS1tALm8d+RqYDFEmFWyoTWTX+47bvzcuX4IIM7U7Mrmb65lpFPcT8KhE9RBZ1Kj1NAr+u5QrWkX3mZ7A23DUJadppuGBoluFmn5j8m2xWAv9y3M5uyq1AGDZ+IZmUay+2MQpLRLdTKAdVoOhpe5chV22fMNzgqOFOEJVoK/DEIBqgWW5fcRc6pczxBJQcVCE4FxemBsadpizCl9AtfqP8AhxhFbDEwsAjQMQaR1LkQm2PAfohJolIwNwcXGXCrFSkYyi9Sr4FQ8iW7VeLZqy0QzmI3HJyrUoNWItKpG8AHUCgVEgRp1d3irhDLZb4TuXULUyxVejiICFw31HeN9QjvMC3lWBrNS5OJaMmPqBx0vcdtIQmcowBiVH/2MWFszdDmq2M3ValroVqOOI1LE+pkZAcaOX9XEbNqQLtPMsKoK4i234leF5HNMuFYcw65cpDSaB6GFgMRGIFs3rBZmN0SnuI5L2svDC8upZwBXyjI4Bo2rFCoKLjcooSuTDCwydMFX8gYxVZFKlLJ13MG3AvFW6gSIWR6SnmWkFhEtBNBS0uYglSP+OozKnZLyMLUxPCNZIpr6Za4DxBW/cjsxHwnOrqMq+obGThgVb1zQhz5IQdEFYQb2BqiMFkAtcEi74KxX+FRDTLZzuPf5KBE0iqvqJYZWpR11ikqVlY0LLhRXuMI9RKiKuiKDqtL09QLLag/xcYRlsBqHMMaRc2UwUbGmIKVrzvi/qJkZct0DlZR8qC5PCxWmqt/AhuIm85ZgLsOo+ARVq6uOW4biqpf2xpviVCyCj0QfcR2xATYiQ23FfoD+7i30RQdhxHf+G9HqBgGCXIrDA7u0gl4QiPVmpfgVrGMagLKL7l8ptPaNzaFpjtt/icoWxkQ8lkCiimdTIJiMwWY0I7hiBtX9ysUaugNPcpyBdAmmGEQAa6jnVBdVAdAKJQE2tCEv6YyVlgBxzcE7uot3XcuoP0IgXOU+9OIIWNdwf6WqCJcXIqt9x2/KHg3rEtjZy6Ptm8zMNaMViMOu3UjU9m5raJLlUHltsfxL/D4qP8Ar6KLY4YpfrYpF816xGlrTOYcR9dP1AZF6Gb4OmoT638I4VqP8xcoQW0y6xVpGWUB/wDKMNQrnxBCLHNHcKW0DExmEQKIrM2EAbB4qZSAva2ele6c3BcXRfAuJ4odYMXG/pyUfURWyLeGzhhtY319pc0NAAx2CgyuJvf+3wLaMRSaKUebxBf7N3pfGvwJRSSlTBo4iCokz1H3+FwFdRUfFfhcWGU9xZSjZwdwm0VEqU2/xGora8+DcLiqoZS5qX/sIpRdoumag0pyVLE2hR8S5asUfU34/MuX5wb6hwi6gDseyUFtgGsqUIU7Dv8AC4sX8SXLhl3UU5HwtwHuMzAg0QacQg6Wvsk4js3tXdx/OmOAGWDUxthcOWVBsBujEZrXiry0TBGEIc4irj7gKXRLVa558XyR2S+okEYxFpFqZo4mgVWpW7QgGNQ1BsNTQ1EwnK9sMiCl7b7g9I0u1jFN9VKVGNOswGom9wDWdX3AhYQvVfmLeEaXmMLRvSuKiz7zHAS7EplyFRYDbuW7RHQcvVwwkUkA2w+ogShSF6zryNdOA9sb6IBfdQUYjiPMWaMxAGm2C28VIV1PiVe7pWIsyIsPEQO7ZKi3fERl6vp1KQ1wJzVBYY/FxBdRpjo5RyBihtYg5QPi4K0g2TEZoLOIyU4xpc/UstEab97gcVtU49Is1XRatGJSiGYF91A2o7USU3yEWo/cErAmPMAxx1c5DWzgRGwDMBfEJVFgd28JS5VnqoX+BHwQzLdlqusS1pF09SvJCkNnUypQoBV3UDd1BpKmmHT3Kx5qVE6FucKNd0L3GM2jb8za1cw6ABcKqOKUntnf4X+JQ6+GA8qILkxDmQ0faLf+bBnA0cMogIKtBRElQ1H8xolAbzM4IcY46QHJKsdRYZJQJXFGGNY+45NjREyMbtNp1EjHDOWVIp5qO4+CObyyhc0TTyp2WS2M/iCLoG1iQQFObEGCjiOKoQfLXqWm0Co6bbUEHROCrOGWKmq8/JN9GNDolwI8Ogaw/Edx1DmFwq6x3CkVADVF3+o6SSzvkicVHHFd/EwWF9DRb5TcAHowyFF8R2LSjcjKCZIVFP8ARoRQq16hl0VVajIm/Ed+s46VGiVDO9kw0UttcRIqZjccelXTMW0oNHEUy25k0R/RB2mzLoVmGdlPxK46f4VacEU1yqC4q5SVq1S6gRbFWZ1BMSBW49kpz8WbdQZoeXdD6jgmNOqZSobpfNSny2KwtzFTRCsMV7zVRba8twII3AAvKy3xpXYaP+DbMsxSacNAxWjLcRD/ALjXEfBuULgoZYnUVTK6AjvWANhTBxnyRyo7Y9kb9A513LaiUeCXGnR7hduIOy4htNjUYzaBw5hSFbion1B7i2f467pOwmo/4rkTnwuVHyQUbYeBhA40uolR/wABuXAI4HBuUoEublQaHCLQwDU2nUI0Nr0LjLqRUNiwmU1GSSgyjCMfPE4Xhdw60ioJsMyxcL0v51Mw0MDuAgwsMk4SNxrxzDsS40QoWR2wSLdado6gEnQbhEGkeEVFESrl4Y/zGEsr3CiKVnEUAcF9Dc5j5kBuQQNaHmLUO0JZc39lSgFfuDRCBUAutTPIpT8TMujUJULDXOYCAr1u4g82PZ3CkCt2UCLJray5HmfEU1JB2EMHda2mGpUqnADXNS0zVKaLljTmb59RiwI1vMrq/WwtxSQHhpM8Ddp2uCEICBkJTMYshmNQYVRF1uL3k3HEE3zc8NvCGllQKiF0f4MGOEGiim4PDQ6MY8PgjoTIPNwkOg1M9zKHmXXs/U6+rgZBGgWCkWUDqPgUcASs6tLbtIrFtbjGENRjx/8AzsJqSQ/cHRkDyx2wf6Y7XVgXur8H/CLEHlxOMu5nLpbHEbWbS6j4mt5xC6DBq4Mm8xpgY5Fj5vEFAtTPTMT4ZUhmEP6JaWc1CFFYhHIuNo5hsJxr9wgUKNekLq2VyqFFm03KhquIKVeOGEBLSf7hFUz+JRqmEftDE1LrD/cwY5hN7KPi4SgE5vTHvtYI3uJf4PECsBcNE0Y9bxkMaZuUXqLVMSPCXy3DQgMrdwWtUi8dkL2vzErNORAAEwn3CUebYsy1Cy9xAwwLaxCFQ66JmbkzVsrbczmhYBagL/EYaRQ1GBLgbhZhQ74goycW5RKj7hxGEu1bds7ZLV65gUULZFXyn//Z)"
      ],
      "metadata": {
        "id": "SHQE5-OGn320"
      }
    }
  ]
}